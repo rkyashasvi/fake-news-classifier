{
 "cells": [
  {
   "cell_type": "code",
   "execution_count": 3,
   "metadata": {},
   "outputs": [
    {
     "data": {
      "text/html": [
       "<div>\n",
       "<style scoped>\n",
       "    .dataframe tbody tr th:only-of-type {\n",
       "        vertical-align: middle;\n",
       "    }\n",
       "\n",
       "    .dataframe tbody tr th {\n",
       "        vertical-align: top;\n",
       "    }\n",
       "\n",
       "    .dataframe thead th {\n",
       "        text-align: right;\n",
       "    }\n",
       "</style>\n",
       "<table border=\"1\" class=\"dataframe\">\n",
       "  <thead>\n",
       "    <tr style=\"text-align: right;\">\n",
       "      <th></th>\n",
       "      <th>title</th>\n",
       "      <th>text</th>\n",
       "      <th>label</th>\n",
       "    </tr>\n",
       "    <tr>\n",
       "      <th>Unnamed: 0</th>\n",
       "      <th></th>\n",
       "      <th></th>\n",
       "      <th></th>\n",
       "    </tr>\n",
       "  </thead>\n",
       "  <tbody>\n",
       "    <tr>\n",
       "      <th>8476</th>\n",
       "      <td>You Can Smell Hillary’s Fear</td>\n",
       "      <td>Daniel Greenfield, a Shillman Journalism Fello...</td>\n",
       "      <td>FAKE</td>\n",
       "    </tr>\n",
       "    <tr>\n",
       "      <th>10294</th>\n",
       "      <td>Watch The Exact Moment Paul Ryan Committed Pol...</td>\n",
       "      <td>Google Pinterest Digg Linkedin Reddit Stumbleu...</td>\n",
       "      <td>FAKE</td>\n",
       "    </tr>\n",
       "    <tr>\n",
       "      <th>3608</th>\n",
       "      <td>Kerry to go to Paris in gesture of sympathy</td>\n",
       "      <td>U.S. Secretary of State John F. Kerry said Mon...</td>\n",
       "      <td>REAL</td>\n",
       "    </tr>\n",
       "    <tr>\n",
       "      <th>10142</th>\n",
       "      <td>Bernie supporters on Twitter erupt in anger ag...</td>\n",
       "      <td>— Kaydee King (@KaydeeKing) November 9, 2016 T...</td>\n",
       "      <td>FAKE</td>\n",
       "    </tr>\n",
       "    <tr>\n",
       "      <th>875</th>\n",
       "      <td>The Battle of New York: Why This Primary Matters</td>\n",
       "      <td>It's primary day in New York and front-runners...</td>\n",
       "      <td>REAL</td>\n",
       "    </tr>\n",
       "  </tbody>\n",
       "</table>\n",
       "</div>"
      ],
      "text/plain": [
       "                                                        title  \\\n",
       "Unnamed: 0                                                      \n",
       "8476                             You Can Smell Hillary’s Fear   \n",
       "10294       Watch The Exact Moment Paul Ryan Committed Pol...   \n",
       "3608              Kerry to go to Paris in gesture of sympathy   \n",
       "10142       Bernie supporters on Twitter erupt in anger ag...   \n",
       "875          The Battle of New York: Why This Primary Matters   \n",
       "\n",
       "                                                         text label  \n",
       "Unnamed: 0                                                           \n",
       "8476        Daniel Greenfield, a Shillman Journalism Fello...  FAKE  \n",
       "10294       Google Pinterest Digg Linkedin Reddit Stumbleu...  FAKE  \n",
       "3608        U.S. Secretary of State John F. Kerry said Mon...  REAL  \n",
       "10142       — Kaydee King (@KaydeeKing) November 9, 2016 T...  FAKE  \n",
       "875         It's primary day in New York and front-runners...  REAL  "
      ]
     },
     "execution_count": 3,
     "metadata": {},
     "output_type": "execute_result"
    }
   ],
   "source": [
    "import pandas as pd\n",
    "from sklearn.model_selection import train_test_split\n",
    "import numpy as np\n",
    "import matplotlib.pyplot as plt\n",
    "\n",
    "data = pd.read_csv('fake_or_real_news.csv')\n",
    "data = data.set_index(\"Unnamed: 0\")\n",
    "data.head()"
   ]
  },
  {
   "cell_type": "code",
   "execution_count": 4,
   "metadata": {},
   "outputs": [
    {
     "data": {
      "text/plain": [
       "(6335, 3)"
      ]
     },
     "execution_count": 4,
     "metadata": {},
     "output_type": "execute_result"
    }
   ],
   "source": [
    "data.shape"
   ]
  },
  {
   "cell_type": "code",
   "execution_count": 5,
   "metadata": {
    "collapsed": true
   },
   "outputs": [],
   "source": [
    "y = data.copy()"
   ]
  },
  {
   "cell_type": "code",
   "execution_count": 6,
   "metadata": {},
   "outputs": [
    {
     "data": {
      "text/html": [
       "<div>\n",
       "<style scoped>\n",
       "    .dataframe tbody tr th:only-of-type {\n",
       "        vertical-align: middle;\n",
       "    }\n",
       "\n",
       "    .dataframe tbody tr th {\n",
       "        vertical-align: top;\n",
       "    }\n",
       "\n",
       "    .dataframe thead th {\n",
       "        text-align: right;\n",
       "    }\n",
       "</style>\n",
       "<table border=\"1\" class=\"dataframe\">\n",
       "  <thead>\n",
       "    <tr style=\"text-align: right;\">\n",
       "      <th></th>\n",
       "      <th>title</th>\n",
       "      <th>text</th>\n",
       "      <th>label</th>\n",
       "    </tr>\n",
       "    <tr>\n",
       "      <th>Unnamed: 0</th>\n",
       "      <th></th>\n",
       "      <th></th>\n",
       "      <th></th>\n",
       "    </tr>\n",
       "  </thead>\n",
       "  <tbody>\n",
       "    <tr>\n",
       "      <th>8476</th>\n",
       "      <td>You Can Smell Hillary’s Fear</td>\n",
       "      <td>Daniel Greenfield, a Shillman Journalism Fello...</td>\n",
       "      <td>FAKE</td>\n",
       "    </tr>\n",
       "    <tr>\n",
       "      <th>10294</th>\n",
       "      <td>Watch The Exact Moment Paul Ryan Committed Pol...</td>\n",
       "      <td>Google Pinterest Digg Linkedin Reddit Stumbleu...</td>\n",
       "      <td>FAKE</td>\n",
       "    </tr>\n",
       "    <tr>\n",
       "      <th>3608</th>\n",
       "      <td>Kerry to go to Paris in gesture of sympathy</td>\n",
       "      <td>U.S. Secretary of State John F. Kerry said Mon...</td>\n",
       "      <td>REAL</td>\n",
       "    </tr>\n",
       "    <tr>\n",
       "      <th>10142</th>\n",
       "      <td>Bernie supporters on Twitter erupt in anger ag...</td>\n",
       "      <td>— Kaydee King (@KaydeeKing) November 9, 2016 T...</td>\n",
       "      <td>FAKE</td>\n",
       "    </tr>\n",
       "    <tr>\n",
       "      <th>875</th>\n",
       "      <td>The Battle of New York: Why This Primary Matters</td>\n",
       "      <td>It's primary day in New York and front-runners...</td>\n",
       "      <td>REAL</td>\n",
       "    </tr>\n",
       "  </tbody>\n",
       "</table>\n",
       "</div>"
      ],
      "text/plain": [
       "                                                        title  \\\n",
       "Unnamed: 0                                                      \n",
       "8476                             You Can Smell Hillary’s Fear   \n",
       "10294       Watch The Exact Moment Paul Ryan Committed Pol...   \n",
       "3608              Kerry to go to Paris in gesture of sympathy   \n",
       "10142       Bernie supporters on Twitter erupt in anger ag...   \n",
       "875          The Battle of New York: Why This Primary Matters   \n",
       "\n",
       "                                                         text label  \n",
       "Unnamed: 0                                                           \n",
       "8476        Daniel Greenfield, a Shillman Journalism Fello...  FAKE  \n",
       "10294       Google Pinterest Digg Linkedin Reddit Stumbleu...  FAKE  \n",
       "3608        U.S. Secretary of State John F. Kerry said Mon...  REAL  \n",
       "10142       — Kaydee King (@KaydeeKing) November 9, 2016 T...  FAKE  \n",
       "875         It's primary day in New York and front-runners...  REAL  "
      ]
     },
     "execution_count": 6,
     "metadata": {},
     "output_type": "execute_result"
    }
   ],
   "source": [
    "y.drop(\"label\",axis=1)\n",
    "y.head()"
   ]
  },
  {
   "cell_type": "code",
   "execution_count": 7,
   "metadata": {
    "collapsed": true
   },
   "outputs": [],
   "source": [
    "y['text'] = y['text'].apply(lambda x: ''.join([\" \" if ord(i) < 32 or (ord(i) > 32 and ord(i) < 65) or (ord(i) > 90 and ord(i) < 97) or ord(i) > 122 else i for i in x]))\n",
    "y['title'] = y['title'].apply(lambda x: ''.join([\" \" if ord(i) < 32 or (ord(i) > 32 and ord(i) < 65) or (ord(i) > 90 and ord(i) < 97) or ord(i) > 122 else i for i in x]))\n",
    "\n",
    "#filter out numbers and special characters"
   ]
  },
  {
   "cell_type": "code",
   "execution_count": 8,
   "metadata": {},
   "outputs": [
    {
     "data": {
      "text/html": [
       "<div>\n",
       "<style scoped>\n",
       "    .dataframe tbody tr th:only-of-type {\n",
       "        vertical-align: middle;\n",
       "    }\n",
       "\n",
       "    .dataframe tbody tr th {\n",
       "        vertical-align: top;\n",
       "    }\n",
       "\n",
       "    .dataframe thead th {\n",
       "        text-align: right;\n",
       "    }\n",
       "</style>\n",
       "<table border=\"1\" class=\"dataframe\">\n",
       "  <thead>\n",
       "    <tr style=\"text-align: right;\">\n",
       "      <th></th>\n",
       "      <th>title</th>\n",
       "      <th>text</th>\n",
       "      <th>label</th>\n",
       "    </tr>\n",
       "    <tr>\n",
       "      <th>Unnamed: 0</th>\n",
       "      <th></th>\n",
       "      <th></th>\n",
       "      <th></th>\n",
       "    </tr>\n",
       "  </thead>\n",
       "  <tbody>\n",
       "    <tr>\n",
       "      <th>8476</th>\n",
       "      <td>you can smell hillary s fear</td>\n",
       "      <td>daniel greenfield  a shillman journalism fello...</td>\n",
       "      <td>fake</td>\n",
       "    </tr>\n",
       "    <tr>\n",
       "      <th>10294</th>\n",
       "      <td>watch the exact moment paul ryan committed pol...</td>\n",
       "      <td>google pinterest digg linkedin reddit stumbleu...</td>\n",
       "      <td>fake</td>\n",
       "    </tr>\n",
       "    <tr>\n",
       "      <th>3608</th>\n",
       "      <td>kerry to go to paris in gesture of sympathy</td>\n",
       "      <td>u s  secretary of state john f  kerry said mon...</td>\n",
       "      <td>real</td>\n",
       "    </tr>\n",
       "    <tr>\n",
       "      <th>10142</th>\n",
       "      <td>bernie supporters on twitter erupt in anger ag...</td>\n",
       "      <td>kaydee king   kaydeeking  november         t...</td>\n",
       "      <td>fake</td>\n",
       "    </tr>\n",
       "    <tr>\n",
       "      <th>875</th>\n",
       "      <td>the battle of new york  why this primary matters</td>\n",
       "      <td>it s primary day in new york and front runners...</td>\n",
       "      <td>real</td>\n",
       "    </tr>\n",
       "  </tbody>\n",
       "</table>\n",
       "</div>"
      ],
      "text/plain": [
       "                                                        title  \\\n",
       "Unnamed: 0                                                      \n",
       "8476                             you can smell hillary s fear   \n",
       "10294       watch the exact moment paul ryan committed pol...   \n",
       "3608              kerry to go to paris in gesture of sympathy   \n",
       "10142       bernie supporters on twitter erupt in anger ag...   \n",
       "875          the battle of new york  why this primary matters   \n",
       "\n",
       "                                                         text label  \n",
       "Unnamed: 0                                                           \n",
       "8476        daniel greenfield  a shillman journalism fello...  fake  \n",
       "10294       google pinterest digg linkedin reddit stumbleu...  fake  \n",
       "3608        u s  secretary of state john f  kerry said mon...  real  \n",
       "10142         kaydee king   kaydeeking  november         t...  fake  \n",
       "875         it s primary day in new york and front runners...  real  "
      ]
     },
     "execution_count": 8,
     "metadata": {},
     "output_type": "execute_result"
    }
   ],
   "source": [
    "y['text'] = y['text'].str.lower()\n",
    "y['title'] = y['title'].str.lower()\n",
    "y['label'] = y['label'].str.lower()\n",
    "y.head()"
   ]
  },
  {
   "cell_type": "code",
   "execution_count": 13,
   "metadata": {},
   "outputs": [
    {
     "name": "stdout",
     "output_type": "stream",
     "text": [
      "[nltk_data] Downloading package stopwords to\n",
      "[nltk_data]     /Users/mazhang/nltk_data...\n",
      "[nltk_data]   Package stopwords is already up-to-date!\n"
     ]
    }
   ],
   "source": [
    "import nltk\n",
    "from nltk.corpus import stopwords\n",
    "nltk.download('stopwords') # You may need to run this first\n",
    "stop_array = (stopwords.words('english'))\n",
    "#set(stopwords.words('english'))\n",
    "\n",
    "# Remove stop words\n",
    "y['text'] = y['text'].apply(lambda row: ' '.join([\" \" if word in stop_array else word for word in row.split()]))\n",
    "y['title'] = y['title'].apply(lambda row: ' '.join([\" \" if word in stop_array else word for word in row.split()]))"
   ]
  },
  {
   "cell_type": "code",
   "execution_count": 24,
   "metadata": {},
   "outputs": [
    {
     "name": "stdout",
     "output_type": "stream",
     "text": [
      "[nltk_data] Downloading package words to /Users/mazhang/nltk_data...\n",
      "[nltk_data]   Package words is already up-to-date!\n"
     ]
    },
    {
     "data": {
      "text/html": [
       "<div>\n",
       "<style scoped>\n",
       "    .dataframe tbody tr th:only-of-type {\n",
       "        vertical-align: middle;\n",
       "    }\n",
       "\n",
       "    .dataframe tbody tr th {\n",
       "        vertical-align: top;\n",
       "    }\n",
       "\n",
       "    .dataframe thead th {\n",
       "        text-align: right;\n",
       "    }\n",
       "</style>\n",
       "<table border=\"1\" class=\"dataframe\">\n",
       "  <thead>\n",
       "    <tr style=\"text-align: right;\">\n",
       "      <th></th>\n",
       "      <th>title</th>\n",
       "      <th>text</th>\n",
       "      <th>label</th>\n",
       "    </tr>\n",
       "    <tr>\n",
       "      <th>Unnamed: 0</th>\n",
       "      <th></th>\n",
       "      <th></th>\n",
       "      <th></th>\n",
       "    </tr>\n",
       "  </thead>\n",
       "  <tbody>\n",
       "    <tr>\n",
       "      <th>8476</th>\n",
       "      <td>smell   fear</td>\n",
       "      <td>journalism fellow freedom center new yor...</td>\n",
       "      <td>fake</td>\n",
       "    </tr>\n",
       "    <tr>\n",
       "      <th>10294</th>\n",
       "      <td>watch exact moment       political suicide tru...</td>\n",
       "      <td>print delicious pocket   two funda...</td>\n",
       "      <td>fake</td>\n",
       "    </tr>\n",
       "    <tr>\n",
       "      <th>3608</th>\n",
       "      <td>kerry go   gesture sympathy</td>\n",
       "      <td>u secretary state   f kerry said   stop   late...</td>\n",
       "      <td>real</td>\n",
       "    </tr>\n",
       "    <tr>\n",
       "      <th>10142</th>\n",
       "      <td>twitter erupt anger   tried warn</td>\n",
       "      <td>king     lesson tonight     time   start lis...</td>\n",
       "      <td>fake</td>\n",
       "    </tr>\n",
       "    <tr>\n",
       "      <th>875</th>\n",
       "      <td>battle new york primary</td>\n",
       "      <td>primary day new york front         trump leadi...</td>\n",
       "      <td>real</td>\n",
       "    </tr>\n",
       "  </tbody>\n",
       "</table>\n",
       "</div>"
      ],
      "text/plain": [
       "                                                        title  \\\n",
       "Unnamed: 0                                                      \n",
       "8476                                             smell   fear   \n",
       "10294       watch exact moment       political suicide tru...   \n",
       "3608                              kerry go   gesture sympathy   \n",
       "10142                        twitter erupt anger   tried warn   \n",
       "875                                 battle new york primary     \n",
       "\n",
       "                                                         text label  \n",
       "Unnamed: 0                                                           \n",
       "8476              journalism fellow freedom center new yor...  fake  \n",
       "10294                   print delicious pocket   two funda...  fake  \n",
       "3608        u secretary state   f kerry said   stop   late...  real  \n",
       "10142         king     lesson tonight     time   start lis...  fake  \n",
       "875         primary day new york front         trump leadi...  real  "
      ]
     },
     "execution_count": 24,
     "metadata": {},
     "output_type": "execute_result"
    }
   ],
   "source": [
    "# Delete all non-English words. This is a problem because it also deletes names not in the corpus\n",
    "# Could keep as an option to see if it increases accuracy\n",
    "from nltk.corpus import words\n",
    "nltk.download('words')\n",
    "\n",
    "opt = y.copy()\n",
    "words = set(words.words())\n",
    "opt['text'] = opt['text'].apply(lambda row: ' '.join([\" \" if w not in words else w for w in row.split()]))\n",
    "opt['title'] = opt['title'].apply(lambda row: ' '.join([\" \" if w not in words else w for w in row.split()]))\n",
    "opt.head()"
   ]
  },
  {
   "cell_type": "code",
   "execution_count": 25,
   "metadata": {},
   "outputs": [
    {
     "data": {
      "text/html": [
       "<div>\n",
       "<style scoped>\n",
       "    .dataframe tbody tr th:only-of-type {\n",
       "        vertical-align: middle;\n",
       "    }\n",
       "\n",
       "    .dataframe tbody tr th {\n",
       "        vertical-align: top;\n",
       "    }\n",
       "\n",
       "    .dataframe thead th {\n",
       "        text-align: right;\n",
       "    }\n",
       "</style>\n",
       "<table border=\"1\" class=\"dataframe\">\n",
       "  <thead>\n",
       "    <tr style=\"text-align: right;\">\n",
       "      <th></th>\n",
       "      <th>title</th>\n",
       "      <th>text</th>\n",
       "      <th>label</th>\n",
       "    </tr>\n",
       "    <tr>\n",
       "      <th>Unnamed: 0</th>\n",
       "      <th></th>\n",
       "      <th></th>\n",
       "      <th></th>\n",
       "    </tr>\n",
       "  </thead>\n",
       "  <tbody>\n",
       "    <tr>\n",
       "      <th>8476</th>\n",
       "      <td>smell   fear</td>\n",
       "      <td>journalism fellow freedom center new yor...</td>\n",
       "      <td>fake</td>\n",
       "    </tr>\n",
       "    <tr>\n",
       "      <th>10294</th>\n",
       "      <td>watch exact moment       political suicide tru...</td>\n",
       "      <td>print delicious pocket   two funda...</td>\n",
       "      <td>fake</td>\n",
       "    </tr>\n",
       "    <tr>\n",
       "      <th>3608</th>\n",
       "      <td>kerry go   gesture sympathy</td>\n",
       "      <td>u secretary state   f kerry said   stop   late...</td>\n",
       "      <td>real</td>\n",
       "    </tr>\n",
       "    <tr>\n",
       "      <th>10142</th>\n",
       "      <td>twitter erupt anger   tried warn</td>\n",
       "      <td>king     lesson tonight     time   start lis...</td>\n",
       "      <td>fake</td>\n",
       "    </tr>\n",
       "    <tr>\n",
       "      <th>875</th>\n",
       "      <td>battle new york primary</td>\n",
       "      <td>primary day new york front         trump leadi...</td>\n",
       "      <td>real</td>\n",
       "    </tr>\n",
       "  </tbody>\n",
       "</table>\n",
       "</div>"
      ],
      "text/plain": [
       "                                                        title  \\\n",
       "Unnamed: 0                                                      \n",
       "8476                                             smell   fear   \n",
       "10294       watch exact moment       political suicide tru...   \n",
       "3608                              kerry go   gesture sympathy   \n",
       "10142                        twitter erupt anger   tried warn   \n",
       "875                                 battle new york primary     \n",
       "\n",
       "                                                         text label  \n",
       "Unnamed: 0                                                           \n",
       "8476              journalism fellow freedom center new yor...  fake  \n",
       "10294                   print delicious pocket   two funda...  fake  \n",
       "3608        u secretary state   f kerry said   stop   late...  real  \n",
       "10142         king     lesson tonight     time   start lis...  fake  \n",
       "875         primary day new york front         trump leadi...  real  "
      ]
     },
     "execution_count": 25,
     "metadata": {},
     "output_type": "execute_result"
    }
   ],
   "source": [
    "opt.head()\n",
    "# TODO: Might need to lemmatize words before vectorizing them"
   ]
  },
  {
   "cell_type": "code",
   "execution_count": 26,
   "metadata": {
    "collapsed": true
   },
   "outputs": [],
   "source": [
    "y2 = y.copy()\n",
    "# With text\n",
    "X_train, X_test, y_train, y_test = train_test_split(y['text'], y2, test_size=0.33, random_state=53)\n",
    "\n",
    "# With headlines\n",
    "X_train2, X_test2, y_train2, y_test2 = train_test_split(y['title'], y2, test_size=0.33, random_state=53)"
   ]
  },
  {
   "cell_type": "code",
   "execution_count": 57,
   "metadata": {
    "collapsed": true
   },
   "outputs": [],
   "source": [
    "# Use tf-idf and count vectorizer to find most relevant words in corpus\n",
    "# TfidfVectorizer should remove stop words and words that appear in more than 70% of the articles\n",
    "\n",
    "# Vectorizers have an ngram range! Check if bigrams will improve accuracy\n",
    "from sklearn.feature_extraction.text import CountVectorizer\n",
    "count_vectorizer = CountVectorizer(stop_words='english') # already gets rid of stop words\n",
    "count_train = count_vectorizer.fit_transform(X_train) \n",
    "count_test = count_vectorizer.transform(X_test)\n",
    "\n",
    "from sklearn.feature_extraction.text import TfidfVectorizer\n",
    "tfidf_vectorizer = TfidfVectorizer(stop_words='english', max_df=0.7) \n",
    "tfidf_train = tfidf_vectorizer.fit_transform(X_train)  \n",
    "tfidf_test = tfidf_vectorizer.transform(X_test)"
   ]
  },
  {
   "cell_type": "code",
   "execution_count": 60,
   "metadata": {
    "collapsed": true
   },
   "outputs": [],
   "source": [
    "tfidf_vectorizer_bi = TfidfVectorizer(stop_words='english', max_df=0.7, ngram_range=(1,2)) \n",
    "tfidf_train_bi = tfidf_vectorizer_bi.fit_transform(X_train)  \n",
    "tfidf_test_bi = tfidf_vectorizer_bi.transform(X_test)"
   ]
  },
  {
   "cell_type": "code",
   "execution_count": 28,
   "metadata": {},
   "outputs": [
    {
     "name": "stdout",
     "output_type": "stream",
     "text": [
      "['zweiter', 'zwick', 'zwicker', 'zwischenmenschlicher', 'zwvgl', 'zxua', 'zxycmwjdxj', 'zybvwqhlbctginctv', 'zyzs', 'zz']\n",
      "['aa', 'aaa', 'aaas', 'aab', 'aadmi', 'aaeeb', 'aahing', 'aaib', 'aaingr', 'aalia']\n"
     ]
    }
   ],
   "source": [
    "print(tfidf_vectorizer.get_feature_names()[-10:])\n",
    "print(count_vectorizer.get_feature_names()[:10])"
   ]
  },
  {
   "cell_type": "code",
   "execution_count": 29,
   "metadata": {},
   "outputs": [
    {
     "data": {
      "text/html": [
       "<div>\n",
       "<style scoped>\n",
       "    .dataframe tbody tr th:only-of-type {\n",
       "        vertical-align: middle;\n",
       "    }\n",
       "\n",
       "    .dataframe tbody tr th {\n",
       "        vertical-align: top;\n",
       "    }\n",
       "\n",
       "    .dataframe thead th {\n",
       "        text-align: right;\n",
       "    }\n",
       "</style>\n",
       "<table border=\"1\" class=\"dataframe\">\n",
       "  <thead>\n",
       "    <tr style=\"text-align: right;\">\n",
       "      <th></th>\n",
       "      <th>aa</th>\n",
       "      <th>aaa</th>\n",
       "      <th>aaas</th>\n",
       "      <th>aab</th>\n",
       "      <th>aadmi</th>\n",
       "      <th>aaeeb</th>\n",
       "      <th>aahing</th>\n",
       "      <th>aaib</th>\n",
       "      <th>aaingr</th>\n",
       "      <th>aalia</th>\n",
       "      <th>...</th>\n",
       "      <th>zweiter</th>\n",
       "      <th>zwick</th>\n",
       "      <th>zwicker</th>\n",
       "      <th>zwischenmenschlicher</th>\n",
       "      <th>zwvgl</th>\n",
       "      <th>zxua</th>\n",
       "      <th>zxycmwjdxj</th>\n",
       "      <th>zybvwqhlbctginctv</th>\n",
       "      <th>zyzs</th>\n",
       "      <th>zz</th>\n",
       "    </tr>\n",
       "  </thead>\n",
       "  <tbody>\n",
       "    <tr>\n",
       "      <th>0</th>\n",
       "      <td>0</td>\n",
       "      <td>0</td>\n",
       "      <td>0</td>\n",
       "      <td>0</td>\n",
       "      <td>0</td>\n",
       "      <td>0</td>\n",
       "      <td>0</td>\n",
       "      <td>0</td>\n",
       "      <td>0</td>\n",
       "      <td>0</td>\n",
       "      <td>...</td>\n",
       "      <td>0</td>\n",
       "      <td>0</td>\n",
       "      <td>0</td>\n",
       "      <td>0</td>\n",
       "      <td>0</td>\n",
       "      <td>0</td>\n",
       "      <td>0</td>\n",
       "      <td>0</td>\n",
       "      <td>0</td>\n",
       "      <td>0</td>\n",
       "    </tr>\n",
       "    <tr>\n",
       "      <th>1</th>\n",
       "      <td>0</td>\n",
       "      <td>0</td>\n",
       "      <td>0</td>\n",
       "      <td>0</td>\n",
       "      <td>0</td>\n",
       "      <td>0</td>\n",
       "      <td>0</td>\n",
       "      <td>0</td>\n",
       "      <td>0</td>\n",
       "      <td>0</td>\n",
       "      <td>...</td>\n",
       "      <td>0</td>\n",
       "      <td>0</td>\n",
       "      <td>0</td>\n",
       "      <td>0</td>\n",
       "      <td>0</td>\n",
       "      <td>0</td>\n",
       "      <td>0</td>\n",
       "      <td>0</td>\n",
       "      <td>0</td>\n",
       "      <td>0</td>\n",
       "    </tr>\n",
       "    <tr>\n",
       "      <th>2</th>\n",
       "      <td>0</td>\n",
       "      <td>0</td>\n",
       "      <td>0</td>\n",
       "      <td>0</td>\n",
       "      <td>0</td>\n",
       "      <td>0</td>\n",
       "      <td>0</td>\n",
       "      <td>0</td>\n",
       "      <td>0</td>\n",
       "      <td>0</td>\n",
       "      <td>...</td>\n",
       "      <td>0</td>\n",
       "      <td>0</td>\n",
       "      <td>0</td>\n",
       "      <td>0</td>\n",
       "      <td>0</td>\n",
       "      <td>0</td>\n",
       "      <td>0</td>\n",
       "      <td>0</td>\n",
       "      <td>0</td>\n",
       "      <td>0</td>\n",
       "    </tr>\n",
       "    <tr>\n",
       "      <th>3</th>\n",
       "      <td>0</td>\n",
       "      <td>0</td>\n",
       "      <td>0</td>\n",
       "      <td>0</td>\n",
       "      <td>0</td>\n",
       "      <td>0</td>\n",
       "      <td>0</td>\n",
       "      <td>0</td>\n",
       "      <td>0</td>\n",
       "      <td>0</td>\n",
       "      <td>...</td>\n",
       "      <td>0</td>\n",
       "      <td>0</td>\n",
       "      <td>0</td>\n",
       "      <td>0</td>\n",
       "      <td>0</td>\n",
       "      <td>0</td>\n",
       "      <td>0</td>\n",
       "      <td>0</td>\n",
       "      <td>0</td>\n",
       "      <td>0</td>\n",
       "    </tr>\n",
       "    <tr>\n",
       "      <th>4</th>\n",
       "      <td>0</td>\n",
       "      <td>0</td>\n",
       "      <td>0</td>\n",
       "      <td>0</td>\n",
       "      <td>0</td>\n",
       "      <td>0</td>\n",
       "      <td>0</td>\n",
       "      <td>0</td>\n",
       "      <td>0</td>\n",
       "      <td>0</td>\n",
       "      <td>...</td>\n",
       "      <td>0</td>\n",
       "      <td>0</td>\n",
       "      <td>0</td>\n",
       "      <td>0</td>\n",
       "      <td>0</td>\n",
       "      <td>0</td>\n",
       "      <td>0</td>\n",
       "      <td>0</td>\n",
       "      <td>0</td>\n",
       "      <td>0</td>\n",
       "    </tr>\n",
       "  </tbody>\n",
       "</table>\n",
       "<p>5 rows × 55040 columns</p>\n",
       "</div>"
      ],
      "text/plain": [
       "   aa  aaa  aaas  aab  aadmi  aaeeb  aahing  aaib  aaingr  aalia ...  zweiter  \\\n",
       "0   0    0     0    0      0      0       0     0       0      0 ...        0   \n",
       "1   0    0     0    0      0      0       0     0       0      0 ...        0   \n",
       "2   0    0     0    0      0      0       0     0       0      0 ...        0   \n",
       "3   0    0     0    0      0      0       0     0       0      0 ...        0   \n",
       "4   0    0     0    0      0      0       0     0       0      0 ...        0   \n",
       "\n",
       "   zwick  zwicker  zwischenmenschlicher  zwvgl  zxua  zxycmwjdxj  \\\n",
       "0      0        0                     0      0     0           0   \n",
       "1      0        0                     0      0     0           0   \n",
       "2      0        0                     0      0     0           0   \n",
       "3      0        0                     0      0     0           0   \n",
       "4      0        0                     0      0     0           0   \n",
       "\n",
       "   zybvwqhlbctginctv  zyzs  zz  \n",
       "0                  0     0   0  \n",
       "1                  0     0   0  \n",
       "2                  0     0   0  \n",
       "3                  0     0   0  \n",
       "4                  0     0   0  \n",
       "\n",
       "[5 rows x 55040 columns]"
      ]
     },
     "execution_count": 29,
     "metadata": {},
     "output_type": "execute_result"
    }
   ],
   "source": [
    "count_df = pd.DataFrame(count_train.A, columns=count_vectorizer.get_feature_names())\n",
    "count_df.head()"
   ]
  },
  {
   "cell_type": "code",
   "execution_count": 30,
   "metadata": {},
   "outputs": [
    {
     "data": {
      "text/html": [
       "<div>\n",
       "<style scoped>\n",
       "    .dataframe tbody tr th:only-of-type {\n",
       "        vertical-align: middle;\n",
       "    }\n",
       "\n",
       "    .dataframe tbody tr th {\n",
       "        vertical-align: top;\n",
       "    }\n",
       "\n",
       "    .dataframe thead th {\n",
       "        text-align: right;\n",
       "    }\n",
       "</style>\n",
       "<table border=\"1\" class=\"dataframe\">\n",
       "  <thead>\n",
       "    <tr style=\"text-align: right;\">\n",
       "      <th></th>\n",
       "      <th>aa</th>\n",
       "      <th>aaa</th>\n",
       "      <th>aaas</th>\n",
       "      <th>aab</th>\n",
       "      <th>aadmi</th>\n",
       "      <th>aaeeb</th>\n",
       "      <th>aahing</th>\n",
       "      <th>aaib</th>\n",
       "      <th>aaingr</th>\n",
       "      <th>aalia</th>\n",
       "      <th>...</th>\n",
       "      <th>zweiter</th>\n",
       "      <th>zwick</th>\n",
       "      <th>zwicker</th>\n",
       "      <th>zwischenmenschlicher</th>\n",
       "      <th>zwvgl</th>\n",
       "      <th>zxua</th>\n",
       "      <th>zxycmwjdxj</th>\n",
       "      <th>zybvwqhlbctginctv</th>\n",
       "      <th>zyzs</th>\n",
       "      <th>zz</th>\n",
       "    </tr>\n",
       "  </thead>\n",
       "  <tbody>\n",
       "    <tr>\n",
       "      <th>count</th>\n",
       "      <td>4244.000000</td>\n",
       "      <td>4244.000000</td>\n",
       "      <td>4244.000000</td>\n",
       "      <td>4244.000000</td>\n",
       "      <td>4244.000000</td>\n",
       "      <td>4244.000000</td>\n",
       "      <td>4244.000000</td>\n",
       "      <td>4244.000000</td>\n",
       "      <td>4244.000000</td>\n",
       "      <td>4244.000000</td>\n",
       "      <td>...</td>\n",
       "      <td>4244.000000</td>\n",
       "      <td>4244.000000</td>\n",
       "      <td>4244.000000</td>\n",
       "      <td>4244.000000</td>\n",
       "      <td>4244.000000</td>\n",
       "      <td>4244.000000</td>\n",
       "      <td>4244.000000</td>\n",
       "      <td>4244.000000</td>\n",
       "      <td>4244.000000</td>\n",
       "      <td>4244.000000</td>\n",
       "    </tr>\n",
       "    <tr>\n",
       "      <th>mean</th>\n",
       "      <td>0.002828</td>\n",
       "      <td>0.000707</td>\n",
       "      <td>0.000236</td>\n",
       "      <td>0.002121</td>\n",
       "      <td>0.000236</td>\n",
       "      <td>0.001178</td>\n",
       "      <td>0.000236</td>\n",
       "      <td>0.000236</td>\n",
       "      <td>0.000236</td>\n",
       "      <td>0.000236</td>\n",
       "      <td>...</td>\n",
       "      <td>0.000236</td>\n",
       "      <td>0.001414</td>\n",
       "      <td>0.000236</td>\n",
       "      <td>0.000236</td>\n",
       "      <td>0.000236</td>\n",
       "      <td>0.000236</td>\n",
       "      <td>0.000236</td>\n",
       "      <td>0.000236</td>\n",
       "      <td>0.000236</td>\n",
       "      <td>0.000236</td>\n",
       "    </tr>\n",
       "    <tr>\n",
       "      <th>std</th>\n",
       "      <td>0.086798</td>\n",
       "      <td>0.026581</td>\n",
       "      <td>0.015350</td>\n",
       "      <td>0.109614</td>\n",
       "      <td>0.015350</td>\n",
       "      <td>0.076751</td>\n",
       "      <td>0.015350</td>\n",
       "      <td>0.015350</td>\n",
       "      <td>0.015350</td>\n",
       "      <td>0.015350</td>\n",
       "      <td>...</td>\n",
       "      <td>0.015350</td>\n",
       "      <td>0.057424</td>\n",
       "      <td>0.015350</td>\n",
       "      <td>0.015350</td>\n",
       "      <td>0.015350</td>\n",
       "      <td>0.015350</td>\n",
       "      <td>0.015350</td>\n",
       "      <td>0.015350</td>\n",
       "      <td>0.015350</td>\n",
       "      <td>0.015350</td>\n",
       "    </tr>\n",
       "    <tr>\n",
       "      <th>min</th>\n",
       "      <td>0.000000</td>\n",
       "      <td>0.000000</td>\n",
       "      <td>0.000000</td>\n",
       "      <td>0.000000</td>\n",
       "      <td>0.000000</td>\n",
       "      <td>0.000000</td>\n",
       "      <td>0.000000</td>\n",
       "      <td>0.000000</td>\n",
       "      <td>0.000000</td>\n",
       "      <td>0.000000</td>\n",
       "      <td>...</td>\n",
       "      <td>0.000000</td>\n",
       "      <td>0.000000</td>\n",
       "      <td>0.000000</td>\n",
       "      <td>0.000000</td>\n",
       "      <td>0.000000</td>\n",
       "      <td>0.000000</td>\n",
       "      <td>0.000000</td>\n",
       "      <td>0.000000</td>\n",
       "      <td>0.000000</td>\n",
       "      <td>0.000000</td>\n",
       "    </tr>\n",
       "    <tr>\n",
       "      <th>25%</th>\n",
       "      <td>0.000000</td>\n",
       "      <td>0.000000</td>\n",
       "      <td>0.000000</td>\n",
       "      <td>0.000000</td>\n",
       "      <td>0.000000</td>\n",
       "      <td>0.000000</td>\n",
       "      <td>0.000000</td>\n",
       "      <td>0.000000</td>\n",
       "      <td>0.000000</td>\n",
       "      <td>0.000000</td>\n",
       "      <td>...</td>\n",
       "      <td>0.000000</td>\n",
       "      <td>0.000000</td>\n",
       "      <td>0.000000</td>\n",
       "      <td>0.000000</td>\n",
       "      <td>0.000000</td>\n",
       "      <td>0.000000</td>\n",
       "      <td>0.000000</td>\n",
       "      <td>0.000000</td>\n",
       "      <td>0.000000</td>\n",
       "      <td>0.000000</td>\n",
       "    </tr>\n",
       "    <tr>\n",
       "      <th>50%</th>\n",
       "      <td>0.000000</td>\n",
       "      <td>0.000000</td>\n",
       "      <td>0.000000</td>\n",
       "      <td>0.000000</td>\n",
       "      <td>0.000000</td>\n",
       "      <td>0.000000</td>\n",
       "      <td>0.000000</td>\n",
       "      <td>0.000000</td>\n",
       "      <td>0.000000</td>\n",
       "      <td>0.000000</td>\n",
       "      <td>...</td>\n",
       "      <td>0.000000</td>\n",
       "      <td>0.000000</td>\n",
       "      <td>0.000000</td>\n",
       "      <td>0.000000</td>\n",
       "      <td>0.000000</td>\n",
       "      <td>0.000000</td>\n",
       "      <td>0.000000</td>\n",
       "      <td>0.000000</td>\n",
       "      <td>0.000000</td>\n",
       "      <td>0.000000</td>\n",
       "    </tr>\n",
       "    <tr>\n",
       "      <th>75%</th>\n",
       "      <td>0.000000</td>\n",
       "      <td>0.000000</td>\n",
       "      <td>0.000000</td>\n",
       "      <td>0.000000</td>\n",
       "      <td>0.000000</td>\n",
       "      <td>0.000000</td>\n",
       "      <td>0.000000</td>\n",
       "      <td>0.000000</td>\n",
       "      <td>0.000000</td>\n",
       "      <td>0.000000</td>\n",
       "      <td>...</td>\n",
       "      <td>0.000000</td>\n",
       "      <td>0.000000</td>\n",
       "      <td>0.000000</td>\n",
       "      <td>0.000000</td>\n",
       "      <td>0.000000</td>\n",
       "      <td>0.000000</td>\n",
       "      <td>0.000000</td>\n",
       "      <td>0.000000</td>\n",
       "      <td>0.000000</td>\n",
       "      <td>0.000000</td>\n",
       "    </tr>\n",
       "    <tr>\n",
       "      <th>max</th>\n",
       "      <td>5.000000</td>\n",
       "      <td>1.000000</td>\n",
       "      <td>1.000000</td>\n",
       "      <td>7.000000</td>\n",
       "      <td>1.000000</td>\n",
       "      <td>5.000000</td>\n",
       "      <td>1.000000</td>\n",
       "      <td>1.000000</td>\n",
       "      <td>1.000000</td>\n",
       "      <td>1.000000</td>\n",
       "      <td>...</td>\n",
       "      <td>1.000000</td>\n",
       "      <td>3.000000</td>\n",
       "      <td>1.000000</td>\n",
       "      <td>1.000000</td>\n",
       "      <td>1.000000</td>\n",
       "      <td>1.000000</td>\n",
       "      <td>1.000000</td>\n",
       "      <td>1.000000</td>\n",
       "      <td>1.000000</td>\n",
       "      <td>1.000000</td>\n",
       "    </tr>\n",
       "  </tbody>\n",
       "</table>\n",
       "<p>8 rows × 55040 columns</p>\n",
       "</div>"
      ],
      "text/plain": [
       "                aa          aaa         aaas          aab        aadmi  \\\n",
       "count  4244.000000  4244.000000  4244.000000  4244.000000  4244.000000   \n",
       "mean      0.002828     0.000707     0.000236     0.002121     0.000236   \n",
       "std       0.086798     0.026581     0.015350     0.109614     0.015350   \n",
       "min       0.000000     0.000000     0.000000     0.000000     0.000000   \n",
       "25%       0.000000     0.000000     0.000000     0.000000     0.000000   \n",
       "50%       0.000000     0.000000     0.000000     0.000000     0.000000   \n",
       "75%       0.000000     0.000000     0.000000     0.000000     0.000000   \n",
       "max       5.000000     1.000000     1.000000     7.000000     1.000000   \n",
       "\n",
       "             aaeeb       aahing         aaib       aaingr        aalia  \\\n",
       "count  4244.000000  4244.000000  4244.000000  4244.000000  4244.000000   \n",
       "mean      0.001178     0.000236     0.000236     0.000236     0.000236   \n",
       "std       0.076751     0.015350     0.015350     0.015350     0.015350   \n",
       "min       0.000000     0.000000     0.000000     0.000000     0.000000   \n",
       "25%       0.000000     0.000000     0.000000     0.000000     0.000000   \n",
       "50%       0.000000     0.000000     0.000000     0.000000     0.000000   \n",
       "75%       0.000000     0.000000     0.000000     0.000000     0.000000   \n",
       "max       5.000000     1.000000     1.000000     1.000000     1.000000   \n",
       "\n",
       "          ...           zweiter        zwick      zwicker  \\\n",
       "count     ...       4244.000000  4244.000000  4244.000000   \n",
       "mean      ...          0.000236     0.001414     0.000236   \n",
       "std       ...          0.015350     0.057424     0.015350   \n",
       "min       ...          0.000000     0.000000     0.000000   \n",
       "25%       ...          0.000000     0.000000     0.000000   \n",
       "50%       ...          0.000000     0.000000     0.000000   \n",
       "75%       ...          0.000000     0.000000     0.000000   \n",
       "max       ...          1.000000     3.000000     1.000000   \n",
       "\n",
       "       zwischenmenschlicher        zwvgl         zxua   zxycmwjdxj  \\\n",
       "count           4244.000000  4244.000000  4244.000000  4244.000000   \n",
       "mean               0.000236     0.000236     0.000236     0.000236   \n",
       "std                0.015350     0.015350     0.015350     0.015350   \n",
       "min                0.000000     0.000000     0.000000     0.000000   \n",
       "25%                0.000000     0.000000     0.000000     0.000000   \n",
       "50%                0.000000     0.000000     0.000000     0.000000   \n",
       "75%                0.000000     0.000000     0.000000     0.000000   \n",
       "max                1.000000     1.000000     1.000000     1.000000   \n",
       "\n",
       "       zybvwqhlbctginctv         zyzs           zz  \n",
       "count        4244.000000  4244.000000  4244.000000  \n",
       "mean            0.000236     0.000236     0.000236  \n",
       "std             0.015350     0.015350     0.015350  \n",
       "min             0.000000     0.000000     0.000000  \n",
       "25%             0.000000     0.000000     0.000000  \n",
       "50%             0.000000     0.000000     0.000000  \n",
       "75%             0.000000     0.000000     0.000000  \n",
       "max             1.000000     1.000000     1.000000  \n",
       "\n",
       "[8 rows x 55040 columns]"
      ]
     },
     "execution_count": 30,
     "metadata": {},
     "output_type": "execute_result"
    }
   ],
   "source": [
    "count_df.describe()"
   ]
  },
  {
   "cell_type": "code",
   "execution_count": 31,
   "metadata": {},
   "outputs": [
    {
     "data": {
      "text/html": [
       "<div>\n",
       "<style scoped>\n",
       "    .dataframe tbody tr th:only-of-type {\n",
       "        vertical-align: middle;\n",
       "    }\n",
       "\n",
       "    .dataframe tbody tr th {\n",
       "        vertical-align: top;\n",
       "    }\n",
       "\n",
       "    .dataframe thead th {\n",
       "        text-align: right;\n",
       "    }\n",
       "</style>\n",
       "<table border=\"1\" class=\"dataframe\">\n",
       "  <thead>\n",
       "    <tr style=\"text-align: right;\">\n",
       "      <th></th>\n",
       "      <th>aa</th>\n",
       "      <th>aaa</th>\n",
       "      <th>aaas</th>\n",
       "      <th>aab</th>\n",
       "      <th>aadmi</th>\n",
       "      <th>aaeeb</th>\n",
       "      <th>aahing</th>\n",
       "      <th>aaib</th>\n",
       "      <th>aaingr</th>\n",
       "      <th>aalia</th>\n",
       "      <th>...</th>\n",
       "      <th>zweiter</th>\n",
       "      <th>zwick</th>\n",
       "      <th>zwicker</th>\n",
       "      <th>zwischenmenschlicher</th>\n",
       "      <th>zwvgl</th>\n",
       "      <th>zxua</th>\n",
       "      <th>zxycmwjdxj</th>\n",
       "      <th>zybvwqhlbctginctv</th>\n",
       "      <th>zyzs</th>\n",
       "      <th>zz</th>\n",
       "    </tr>\n",
       "  </thead>\n",
       "  <tbody>\n",
       "    <tr>\n",
       "      <th>count</th>\n",
       "      <td>4244.000000</td>\n",
       "      <td>4244.000000</td>\n",
       "      <td>4244.000000</td>\n",
       "      <td>4244.000000</td>\n",
       "      <td>4244.000000</td>\n",
       "      <td>4244.000000</td>\n",
       "      <td>4244.000000</td>\n",
       "      <td>4244.000000</td>\n",
       "      <td>4244.000000</td>\n",
       "      <td>4244.000000</td>\n",
       "      <td>...</td>\n",
       "      <td>4244.000000</td>\n",
       "      <td>4244.000000</td>\n",
       "      <td>4244.000000</td>\n",
       "      <td>4244.000000</td>\n",
       "      <td>4244.000000</td>\n",
       "      <td>4244.000000</td>\n",
       "      <td>4244.000000</td>\n",
       "      <td>4244.000000</td>\n",
       "      <td>4244.000000</td>\n",
       "      <td>4244.000000</td>\n",
       "    </tr>\n",
       "    <tr>\n",
       "      <th>mean</th>\n",
       "      <td>0.000141</td>\n",
       "      <td>0.000033</td>\n",
       "      <td>0.000005</td>\n",
       "      <td>0.000128</td>\n",
       "      <td>0.000015</td>\n",
       "      <td>0.000021</td>\n",
       "      <td>0.000011</td>\n",
       "      <td>0.000013</td>\n",
       "      <td>0.000009</td>\n",
       "      <td>0.000016</td>\n",
       "      <td>...</td>\n",
       "      <td>0.000010</td>\n",
       "      <td>0.000046</td>\n",
       "      <td>0.000006</td>\n",
       "      <td>0.000010</td>\n",
       "      <td>0.000009</td>\n",
       "      <td>0.000009</td>\n",
       "      <td>0.000014</td>\n",
       "      <td>0.000009</td>\n",
       "      <td>0.000009</td>\n",
       "      <td>0.000009</td>\n",
       "    </tr>\n",
       "    <tr>\n",
       "      <th>std</th>\n",
       "      <td>0.003542</td>\n",
       "      <td>0.001356</td>\n",
       "      <td>0.000295</td>\n",
       "      <td>0.005607</td>\n",
       "      <td>0.000966</td>\n",
       "      <td>0.001377</td>\n",
       "      <td>0.000726</td>\n",
       "      <td>0.000854</td>\n",
       "      <td>0.000556</td>\n",
       "      <td>0.001073</td>\n",
       "      <td>...</td>\n",
       "      <td>0.000674</td>\n",
       "      <td>0.002005</td>\n",
       "      <td>0.000367</td>\n",
       "      <td>0.000674</td>\n",
       "      <td>0.000556</td>\n",
       "      <td>0.000556</td>\n",
       "      <td>0.000938</td>\n",
       "      <td>0.000556</td>\n",
       "      <td>0.000587</td>\n",
       "      <td>0.000556</td>\n",
       "    </tr>\n",
       "    <tr>\n",
       "      <th>min</th>\n",
       "      <td>0.000000</td>\n",
       "      <td>0.000000</td>\n",
       "      <td>0.000000</td>\n",
       "      <td>0.000000</td>\n",
       "      <td>0.000000</td>\n",
       "      <td>0.000000</td>\n",
       "      <td>0.000000</td>\n",
       "      <td>0.000000</td>\n",
       "      <td>0.000000</td>\n",
       "      <td>0.000000</td>\n",
       "      <td>...</td>\n",
       "      <td>0.000000</td>\n",
       "      <td>0.000000</td>\n",
       "      <td>0.000000</td>\n",
       "      <td>0.000000</td>\n",
       "      <td>0.000000</td>\n",
       "      <td>0.000000</td>\n",
       "      <td>0.000000</td>\n",
       "      <td>0.000000</td>\n",
       "      <td>0.000000</td>\n",
       "      <td>0.000000</td>\n",
       "    </tr>\n",
       "    <tr>\n",
       "      <th>25%</th>\n",
       "      <td>0.000000</td>\n",
       "      <td>0.000000</td>\n",
       "      <td>0.000000</td>\n",
       "      <td>0.000000</td>\n",
       "      <td>0.000000</td>\n",
       "      <td>0.000000</td>\n",
       "      <td>0.000000</td>\n",
       "      <td>0.000000</td>\n",
       "      <td>0.000000</td>\n",
       "      <td>0.000000</td>\n",
       "      <td>...</td>\n",
       "      <td>0.000000</td>\n",
       "      <td>0.000000</td>\n",
       "      <td>0.000000</td>\n",
       "      <td>0.000000</td>\n",
       "      <td>0.000000</td>\n",
       "      <td>0.000000</td>\n",
       "      <td>0.000000</td>\n",
       "      <td>0.000000</td>\n",
       "      <td>0.000000</td>\n",
       "      <td>0.000000</td>\n",
       "    </tr>\n",
       "    <tr>\n",
       "      <th>50%</th>\n",
       "      <td>0.000000</td>\n",
       "      <td>0.000000</td>\n",
       "      <td>0.000000</td>\n",
       "      <td>0.000000</td>\n",
       "      <td>0.000000</td>\n",
       "      <td>0.000000</td>\n",
       "      <td>0.000000</td>\n",
       "      <td>0.000000</td>\n",
       "      <td>0.000000</td>\n",
       "      <td>0.000000</td>\n",
       "      <td>...</td>\n",
       "      <td>0.000000</td>\n",
       "      <td>0.000000</td>\n",
       "      <td>0.000000</td>\n",
       "      <td>0.000000</td>\n",
       "      <td>0.000000</td>\n",
       "      <td>0.000000</td>\n",
       "      <td>0.000000</td>\n",
       "      <td>0.000000</td>\n",
       "      <td>0.000000</td>\n",
       "      <td>0.000000</td>\n",
       "    </tr>\n",
       "    <tr>\n",
       "      <th>75%</th>\n",
       "      <td>0.000000</td>\n",
       "      <td>0.000000</td>\n",
       "      <td>0.000000</td>\n",
       "      <td>0.000000</td>\n",
       "      <td>0.000000</td>\n",
       "      <td>0.000000</td>\n",
       "      <td>0.000000</td>\n",
       "      <td>0.000000</td>\n",
       "      <td>0.000000</td>\n",
       "      <td>0.000000</td>\n",
       "      <td>...</td>\n",
       "      <td>0.000000</td>\n",
       "      <td>0.000000</td>\n",
       "      <td>0.000000</td>\n",
       "      <td>0.000000</td>\n",
       "      <td>0.000000</td>\n",
       "      <td>0.000000</td>\n",
       "      <td>0.000000</td>\n",
       "      <td>0.000000</td>\n",
       "      <td>0.000000</td>\n",
       "      <td>0.000000</td>\n",
       "    </tr>\n",
       "    <tr>\n",
       "      <th>max</th>\n",
       "      <td>0.100145</td>\n",
       "      <td>0.068200</td>\n",
       "      <td>0.019221</td>\n",
       "      <td>0.330476</td>\n",
       "      <td>0.062928</td>\n",
       "      <td>0.089688</td>\n",
       "      <td>0.047298</td>\n",
       "      <td>0.055611</td>\n",
       "      <td>0.036212</td>\n",
       "      <td>0.069874</td>\n",
       "      <td>...</td>\n",
       "      <td>0.043893</td>\n",
       "      <td>0.112800</td>\n",
       "      <td>0.023886</td>\n",
       "      <td>0.043893</td>\n",
       "      <td>0.036212</td>\n",
       "      <td>0.036212</td>\n",
       "      <td>0.061085</td>\n",
       "      <td>0.036212</td>\n",
       "      <td>0.038261</td>\n",
       "      <td>0.036212</td>\n",
       "    </tr>\n",
       "  </tbody>\n",
       "</table>\n",
       "<p>8 rows × 55040 columns</p>\n",
       "</div>"
      ],
      "text/plain": [
       "                aa          aaa         aaas          aab        aadmi  \\\n",
       "count  4244.000000  4244.000000  4244.000000  4244.000000  4244.000000   \n",
       "mean      0.000141     0.000033     0.000005     0.000128     0.000015   \n",
       "std       0.003542     0.001356     0.000295     0.005607     0.000966   \n",
       "min       0.000000     0.000000     0.000000     0.000000     0.000000   \n",
       "25%       0.000000     0.000000     0.000000     0.000000     0.000000   \n",
       "50%       0.000000     0.000000     0.000000     0.000000     0.000000   \n",
       "75%       0.000000     0.000000     0.000000     0.000000     0.000000   \n",
       "max       0.100145     0.068200     0.019221     0.330476     0.062928   \n",
       "\n",
       "             aaeeb       aahing         aaib       aaingr        aalia  \\\n",
       "count  4244.000000  4244.000000  4244.000000  4244.000000  4244.000000   \n",
       "mean      0.000021     0.000011     0.000013     0.000009     0.000016   \n",
       "std       0.001377     0.000726     0.000854     0.000556     0.001073   \n",
       "min       0.000000     0.000000     0.000000     0.000000     0.000000   \n",
       "25%       0.000000     0.000000     0.000000     0.000000     0.000000   \n",
       "50%       0.000000     0.000000     0.000000     0.000000     0.000000   \n",
       "75%       0.000000     0.000000     0.000000     0.000000     0.000000   \n",
       "max       0.089688     0.047298     0.055611     0.036212     0.069874   \n",
       "\n",
       "          ...           zweiter        zwick      zwicker  \\\n",
       "count     ...       4244.000000  4244.000000  4244.000000   \n",
       "mean      ...          0.000010     0.000046     0.000006   \n",
       "std       ...          0.000674     0.002005     0.000367   \n",
       "min       ...          0.000000     0.000000     0.000000   \n",
       "25%       ...          0.000000     0.000000     0.000000   \n",
       "50%       ...          0.000000     0.000000     0.000000   \n",
       "75%       ...          0.000000     0.000000     0.000000   \n",
       "max       ...          0.043893     0.112800     0.023886   \n",
       "\n",
       "       zwischenmenschlicher        zwvgl         zxua   zxycmwjdxj  \\\n",
       "count           4244.000000  4244.000000  4244.000000  4244.000000   \n",
       "mean               0.000010     0.000009     0.000009     0.000014   \n",
       "std                0.000674     0.000556     0.000556     0.000938   \n",
       "min                0.000000     0.000000     0.000000     0.000000   \n",
       "25%                0.000000     0.000000     0.000000     0.000000   \n",
       "50%                0.000000     0.000000     0.000000     0.000000   \n",
       "75%                0.000000     0.000000     0.000000     0.000000   \n",
       "max                0.043893     0.036212     0.036212     0.061085   \n",
       "\n",
       "       zybvwqhlbctginctv         zyzs           zz  \n",
       "count        4244.000000  4244.000000  4244.000000  \n",
       "mean            0.000009     0.000009     0.000009  \n",
       "std             0.000556     0.000587     0.000556  \n",
       "min             0.000000     0.000000     0.000000  \n",
       "25%             0.000000     0.000000     0.000000  \n",
       "50%             0.000000     0.000000     0.000000  \n",
       "75%             0.000000     0.000000     0.000000  \n",
       "max             0.036212     0.038261     0.036212  \n",
       "\n",
       "[8 rows x 55040 columns]"
      ]
     },
     "execution_count": 31,
     "metadata": {},
     "output_type": "execute_result"
    }
   ],
   "source": [
    "tfidf_df = pd.DataFrame(tfidf_train.A, columns=tfidf_vectorizer.get_feature_names())\n",
    "tfidf_df.describe()"
   ]
  },
  {
   "cell_type": "code",
   "execution_count": 32,
   "metadata": {},
   "outputs": [
    {
     "name": "stdout",
     "output_type": "stream",
     "text": [
      "False\n"
     ]
    }
   ],
   "source": [
    "print(count_df.equals(tfidf_df)) # check if the vectorizers extracted different tokens"
   ]
  },
  {
   "cell_type": "code",
   "execution_count": 33,
   "metadata": {},
   "outputs": [
    {
     "name": "stdout",
     "output_type": "stream",
     "text": [
      "accuracy:   0.859\n"
     ]
    }
   ],
   "source": [
    "from sklearn.naive_bayes import MultinomialNB\n",
    "from sklearn.metrics import accuracy_score\n",
    "# MultinomialNB\n",
    "multi_nb = MultinomialNB()\n",
    "np.shape(tfidf_train)\n",
    "np.shape(y_train)\n",
    "multi_nb.fit(tfidf_train, y_train['label'])\n",
    "pred = multi_nb.predict(tfidf_test)\n",
    "score = accuracy_score(y_test['label'], pred)\n",
    "print(\"accuracy:   %0.3f\" % score) # Multinomial Naive Bayes accuracy: 0.859"
   ]
  },
  {
   "cell_type": "code",
   "execution_count": 34,
   "metadata": {
    "collapsed": true
   },
   "outputs": [],
   "source": [
    "# Use a confusion matrix to compare accuracy\n",
    "from sklearn.metrics import confusion_matrix\n",
    "cm = confusion_matrix(y_test['label'], pred, labels=['fake', 'real'])"
   ]
  },
  {
   "cell_type": "code",
   "execution_count": 35,
   "metadata": {
    "collapsed": true
   },
   "outputs": [],
   "source": [
    "import itertools\n",
    "def plot_confusion_matrix(cm, classes,\n",
    "                          normalize=False,\n",
    "                          title='Confusion matrix',\n",
    "                          cmap=plt.cm.Blues):\n",
    "    \"\"\"\n",
    "    See full source and example: \n",
    "    http://scikit-learn.org/stable/auto_examples/model_selection/plot_confusion_matrix.html\n",
    "    \n",
    "    This function prints and plots the confusion matrix.\n",
    "    Normalization can be applied by setting `normalize=True`.\n",
    "    \"\"\"\n",
    "    plt.imshow(cm, interpolation='nearest', cmap=cmap)\n",
    "    plt.title(title)\n",
    "    plt.colorbar()\n",
    "    tick_marks = np.arange(len(classes))\n",
    "    plt.xticks(tick_marks, classes, rotation=45)\n",
    "    plt.yticks(tick_marks, classes)\n",
    "\n",
    "    if normalize:\n",
    "        cm = cm.astype('float') / cm.sum(axis=1)[:, np.newaxis]\n",
    "        print(\"Normalized confusion matrix\")\n",
    "    else:\n",
    "        print('Confusion matrix, without normalization')\n",
    "\n",
    "    thresh = cm.max() / 2.\n",
    "    for i, j in itertools.product(range(cm.shape[0]), range(cm.shape[1])):\n",
    "        plt.text(j, i, cm[i, j],\n",
    "                 horizontalalignment=\"center\",\n",
    "                 color=\"white\" if cm[i, j] > thresh else \"black\")\n",
    "\n",
    "    plt.tight_layout()\n",
    "    plt.ylabel('True label')\n",
    "    plt.xlabel('Predicted label')"
   ]
  },
  {
   "cell_type": "code",
   "execution_count": 36,
   "metadata": {},
   "outputs": [
    {
     "name": "stdout",
     "output_type": "stream",
     "text": [
      "Confusion matrix, without normalization\n"
     ]
    },
    {
     "data": {
      "image/png": "[encoded data removed]",
      "text/plain": [
       "<Figure size 432x288 with 2 Axes>"
      ]
     },
     "metadata": {},
     "output_type": "display_data"
    }
   ],
   "source": [
    "plot_confusion_matrix(cm, classes=['fake', 'real'])\n",
    "plt.show()"
   ]
  },
  {
   "cell_type": "code",
   "execution_count": 37,
   "metadata": {},
   "outputs": [
    {
     "name": "stdout",
     "output_type": "stream",
     "text": [
      "accuracy:   0.859\n"
     ]
    }
   ],
   "source": [
    "count_multi_nb = MultinomialNB()\n",
    "count_multi_nb.fit(count_train,y_train['label'])\n",
    "c_pred = count_multi_nb.predict(count_test)\n",
    "c_score = accuracy_score(y_test['label'],pred)\n",
    "print(\"accuracy:   %0.3f\" % c_score)\n",
    "# this isn't outperforming tf-idf for some reason"
   ]
  },
  {
   "cell_type": "code",
   "execution_count": 38,
   "metadata": {},
   "outputs": [
    {
     "name": "stderr",
     "output_type": "stream",
     "text": [
      "/Users/mazhang/anaconda3/lib/python3.6/site-packages/sklearn/linear_model/stochastic_gradient.py:117: DeprecationWarning: n_iter parameter is deprecated in 0.19 and will be removed in 0.21. Use max_iter and tol instead.\n",
      "  DeprecationWarning)\n"
     ]
    },
    {
     "name": "stdout",
     "output_type": "stream",
     "text": [
      "accuracy:   0.933\n",
      "Confusion matrix, without normalization\n"
     ]
    },
    {
     "data": {
      "image/png": "[encoded data removed]",
      "text/plain": [
       "<Figure size 432x288 with 2 Axes>"
      ]
     },
     "metadata": {},
     "output_type": "display_data"
    }
   ],
   "source": [
    "from sklearn.linear_model import PassiveAggressiveClassifier\n",
    "linear_clf = PassiveAggressiveClassifier(n_iter=50)\n",
    "linear_clf.fit(tfidf_train, y_train['label'])\n",
    "pred = linear_clf.predict(tfidf_test)\n",
    "linear_score = accuracy_score(y_test['label'], pred)\n",
    "print(\"accuracy:   %0.3f\" % linear_score)\n",
    "linear_cm = confusion_matrix(y_test['label'], pred, labels=['fake', 'real'])\n",
    "plot_confusion_matrix(linear_cm, classes=['fake', 'real'])\n",
    "plt.show()"
   ]
  },
  {
   "cell_type": "code",
   "execution_count": 61,
   "metadata": {},
   "outputs": [
    {
     "name": "stderr",
     "output_type": "stream",
     "text": [
      "/Users/mazhang/anaconda3/lib/python3.6/site-packages/sklearn/linear_model/stochastic_gradient.py:117: DeprecationWarning: n_iter parameter is deprecated in 0.19 and will be removed in 0.21. Use max_iter and tol instead.\n",
      "  DeprecationWarning)\n"
     ]
    },
    {
     "name": "stdout",
     "output_type": "stream",
     "text": [
      "accuracy:   0.939\n",
      "Confusion matrix, without normalization\n"
     ]
    },
    {
     "data": {
      "image/png": "[encoded data removed]",
      "text/plain": [
       "<Figure size 432x288 with 2 Axes>"
      ]
     },
     "metadata": {},
     "output_type": "display_data"
    }
   ],
   "source": [
    "from sklearn.linear_model import PassiveAggressiveClassifier\n",
    "linear_clf = PassiveAggressiveClassifier(n_iter=50)\n",
    "linear_clf.fit(tfidf_train_bi, y_train['label'])\n",
    "pred = linear_clf.predict(tfidf_test_bi)\n",
    "linear_score = accuracy_score(y_test['label'], pred)\n",
    "print(\"accuracy:   %0.3f\" % linear_score)\n",
    "linear_cm = confusion_matrix(y_test['label'], pred, labels=['fake', 'real'])\n",
    "plot_confusion_matrix(linear_cm, classes=['fake', 'real'])\n",
    "plt.show()"
   ]
  },
  {
   "cell_type": "code",
   "execution_count": 39,
   "metadata": {},
   "outputs": [
    {
     "name": "stdout",
     "output_type": "stream",
     "text": [
      "Alpha: 0.00 Score: 0.87661\n"
     ]
    },
    {
     "name": "stderr",
     "output_type": "stream",
     "text": [
      "/Users/mazhang/anaconda3/lib/python3.6/site-packages/sklearn/naive_bayes.py:472: UserWarning: alpha too small will result in numeric errors, setting alpha = 1.0e-10\n",
      "  'setting alpha = %.1e' % _ALPHA_MIN)\n"
     ]
    },
    {
     "name": "stdout",
     "output_type": "stream",
     "text": [
      "Alpha: 0.10 Score: 0.89718\n",
      "Alpha: 0.20 Score: 0.89240\n",
      "Alpha: 0.30 Score: 0.88905\n",
      "Alpha: 0.40 Score: 0.88666\n",
      "Alpha: 0.50 Score: 0.88140\n",
      "Alpha: 0.60 Score: 0.87709\n",
      "Alpha: 0.70 Score: 0.87040\n",
      "Alpha: 0.80 Score: 0.86514\n",
      "Alpha: 0.90 Score: 0.86131\n"
     ]
    }
   ],
   "source": [
    "clf = MultinomialNB(alpha=0.1)\n",
    "last_score = 0\n",
    "for alpha in np.arange(0,1,.1):\n",
    "    nb_classifier = MultinomialNB(alpha=alpha)\n",
    "    nb_classifier.fit(tfidf_train, y_train['label'])\n",
    "    pred = nb_classifier.predict(tfidf_test)\n",
    "    score = accuracy_score(y_test['label'], pred)\n",
    "    if score > last_score:\n",
    "        clf = nb_classifier\n",
    "    print(\"Alpha: {:.2f} Score: {:.5f}\".format(alpha, score))"
   ]
  },
  {
   "cell_type": "code",
   "execution_count": 40,
   "metadata": {
    "collapsed": true
   },
   "outputs": [],
   "source": [
    "def most_informative(vectorizer, classifier, n=100):\n",
    "    class_labels = classifier.classes_\n",
    "    feature_names = vectorizer.get_feature_names()\n",
    "    topn_class1 = sorted(zip(classifier.coef_[0], feature_names))[:n]\n",
    "    topn_class2 = sorted(zip(classifier.coef_[0], feature_names))[-n:]\n",
    "    for coef,feat in topn_class1:\n",
    "        print(class_labels[0],coef,feat)    \n",
    "    print()\n",
    "    for coef,feat in reversed(topn_class2):\n",
    "        print(class_labels[1],coef,feat)"
   ]
  },
  {
   "cell_type": "code",
   "execution_count": 41,
   "metadata": {},
   "outputs": [
    {
     "name": "stdout",
     "output_type": "stream",
     "text": [
      "fake -5.376287071835493 october\n",
      "fake -4.180549880676156 hillary\n",
      "fake -3.3933825244388216 share\n",
      "fake -3.2992924420450613 november\n",
      "fake -2.9800909987973916 article\n",
      "fake -2.752171408279145 oct\n",
      "fake -2.5040456022259816 print\n",
      "fake -2.3269706576736895 email\n",
      "fake -2.2085798278143574 advertisement\n",
      "fake -2.1771679063388376 source\n",
      "fake -2.166241296092138 mosul\n",
      "fake -2.138209247499677 nov\n",
      "fake -2.092640989366086 podesta\n",
      "fake -2.0892245119647215 election\n",
      "fake -2.0883320279841775 war\n",
      "fake -2.0050205940056625 snip\n",
      "fake -2.002879088801259 wikileaks\n",
      "fake -1.97769305690291 establishment\n",
      "fake -1.9523535150783016 com\n",
      "fake -1.938618157418353 jewish\n",
      "fake -1.8813008860294615 corporate\n",
      "fake -1.8237701531620703 photo\n",
      "fake -1.7780097206368153 th\n",
      "fake -1.7696852286125944 ayotte\n",
      "fake -1.7242804344528047 pipeline\n",
      "fake -1.6777418640636064 entire\n",
      "fake -1.6660115931485753 donald\n",
      "fake -1.6546707294465735 reuters\n",
      "fake -1.6403617222075706 dr\n",
      "fake -1.6274190180895776 daesh\n",
      "\n",
      "real 4.7227185916047905 said\n",
      "real 2.6889107326395916 says\n",
      "real 2.585014970524626 friday\n",
      "real 2.5840423605206957 tuesday\n",
      "real 2.415572072513804 jobs\n",
      "real 2.4121007986940803 cruz\n",
      "real 2.220918369570213 islamic\n",
      "real 2.19039198030031 conservative\n",
      "real 2.003308950768997 gop\n",
      "real 1.9877289464772636 continue\n",
      "real 1.9845058333645103 presumptive\n",
      "real 1.9655813891652918 convention\n",
      "real 1.9279028554990563 march\n",
      "real 1.918309326637433 deal\n",
      "real 1.9121352590609866 sunday\n",
      "real 1.9076195740516133 monday\n",
      "real 1.8671790312305483 attacks\n",
      "real 1.8626111563220358 attack\n",
      "real 1.849427688634908 paris\n",
      "real 1.8384438837668933 recounts\n",
      "real 1.8350662660716581 sen\n",
      "real 1.7931304578976228 candidates\n",
      "real 1.7892023353452837 marriage\n",
      "real 1.7819175046440079 campaign\n",
      "real 1.7740280127606554 fox\n",
      "real 1.737400679683355 reform\n",
      "real 1.7326797562703895 say\n",
      "real 1.7004841353643065 conservatives\n",
      "real 1.6522213368775265 debate\n",
      "real 1.647636478847503 group\n"
     ]
    }
   ],
   "source": [
    "most_informative(tfidf_vectorizer,linear_clf,n=30)"
   ]
  },
  {
   "cell_type": "code",
   "execution_count": 42,
   "metadata": {},
   "outputs": [
    {
     "data": {
      "text/plain": [
       "[(-6.217829630710521, 'trump'),\n",
       " (-6.456655526108935, 'said'),\n",
       " (-6.6130755955398675, 'clinton'),\n",
       " (-7.000155002312522, 'obama'),\n",
       " (-7.106517990098555, 'sanders'),\n",
       " (-7.174732553936943, 'president'),\n",
       " (-7.229376134911667, 'campaign'),\n",
       " (-7.247530955461162, 'republican'),\n",
       " (-7.302173890576507, 'state'),\n",
       " (-7.30328589038156, 'cruz'),\n",
       " (-7.338998469390379, 'party'),\n",
       " (-7.406591947405525, 'new'),\n",
       " (-7.437086945717752, 'people'),\n",
       " (-7.496550052461004, 'percent'),\n",
       " (-7.515244735335175, 'bush'),\n",
       " (-7.539405668232934, 'republicans'),\n",
       " (-7.545348625818594, 'house'),\n",
       " (-7.591834612522435, 'voters'),\n",
       " (-7.60908197321694, 'rubio'),\n",
       " (-7.634394742602616, 'states')]"
      ]
     },
     "execution_count": 42,
     "metadata": {},
     "output_type": "execute_result"
    }
   ],
   "source": [
    "# Most real\n",
    "feature_names = tfidf_vectorizer.get_feature_names()\n",
    "sorted(zip(clf.coef_[0], feature_names), reverse=True)[:20] # zip coefficients and sort them"
   ]
  },
  {
   "cell_type": "code",
   "execution_count": 43,
   "metadata": {},
   "outputs": [
    {
     "data": {
      "text/plain": [
       "[(-11.320426046643918, 'aa'),\n",
       " (-11.320426046643918, 'aaas'),\n",
       " (-11.320426046643918, 'aab'),\n",
       " (-11.320426046643918, 'aadmi'),\n",
       " (-11.320426046643918, 'aaeeb'),\n",
       " (-11.320426046643918, 'aaib'),\n",
       " (-11.320426046643918, 'aaingr'),\n",
       " (-11.320426046643918, 'aaluijqn'),\n",
       " (-11.320426046643918, 'aam'),\n",
       " (-11.320426046643918, 'aamon'),\n",
       " (-11.320426046643918, 'aaojejptcy'),\n",
       " (-11.320426046643918, 'aap'),\n",
       " (-11.320426046643918, 'aau'),\n",
       " (-11.320426046643918, 'ab'),\n",
       " (-11.320426046643918, 'aba'),\n",
       " (-11.320426046643918, 'abandonnig'),\n",
       " (-11.320426046643918, 'abate'),\n",
       " (-11.320426046643918, 'abay'),\n",
       " (-11.320426046643918, 'abbar'),\n",
       " (-11.320426046643918, 'abbot')]"
      ]
     },
     "execution_count": 43,
     "metadata": {},
     "output_type": "execute_result"
    }
   ],
   "source": [
    "# Most fake\n",
    "sorted(zip(clf.coef_[0], feature_names))[:20]"
   ]
  },
  {
   "cell_type": "code",
   "execution_count": 44,
   "metadata": {
    "collapsed": true
   },
   "outputs": [],
   "source": [
    "tokens_with_weights = sorted(list(zip(feature_names, clf.coef_[0])))"
   ]
  },
  {
   "cell_type": "code",
   "execution_count": 45,
   "metadata": {},
   "outputs": [
    {
     "name": "stderr",
     "output_type": "stream",
     "text": [
      "/Users/mazhang/anaconda3/lib/python3.6/site-packages/sklearn/feature_extraction/hashing.py:94: DeprecationWarning: the option non_negative=True has been deprecated in 0.19 and will be removed in version 0.21.\n",
      "  \" in version 0.21.\", DeprecationWarning)\n",
      "/Users/mazhang/anaconda3/lib/python3.6/site-packages/sklearn/feature_extraction/hashing.py:94: DeprecationWarning: the option non_negative=True has been deprecated in 0.19 and will be removed in version 0.21.\n",
      "  \" in version 0.21.\", DeprecationWarning)\n",
      "/Users/mazhang/anaconda3/lib/python3.6/site-packages/sklearn/feature_extraction/hashing.py:94: DeprecationWarning: the option non_negative=True has been deprecated in 0.19 and will be removed in version 0.21.\n",
      "  \" in version 0.21.\", DeprecationWarning)\n"
     ]
    }
   ],
   "source": [
    "from sklearn.feature_extraction.text import HashingVectorizer\n",
    "hash_vectorizer = HashingVectorizer(stop_words='english', non_negative=True)\n",
    "hash_train = hash_vectorizer.fit_transform(X_train)\n",
    "hash_test = hash_vectorizer.transform(X_test)"
   ]
  },
  {
   "cell_type": "code",
   "execution_count": 46,
   "metadata": {},
   "outputs": [
    {
     "name": "stdout",
     "output_type": "stream",
     "text": [
      "accuracy:   0.901\n",
      "Confusion matrix, without normalization\n"
     ]
    },
    {
     "data": {
      "image/png": "[encoded data removed]",
      "text/plain": [
       "<Figure size 432x288 with 2 Axes>"
      ]
     },
     "metadata": {},
     "output_type": "display_data"
    }
   ],
   "source": [
    "clf = MultinomialNB(alpha=.01)\n",
    "clf.fit(hash_train, y_train['label'])\n",
    "pred = clf.predict(hash_test)\n",
    "score = accuracy_score(y_test['label'], pred)\n",
    "print(\"accuracy:   %0.3f\" % score)\n",
    "cm = confusion_matrix(y_test['label'], pred, labels=['fake', 'real'])\n",
    "plot_confusion_matrix(cm, classes=['fake', 'real'])\n",
    "plt.show()"
   ]
  },
  {
   "cell_type": "code",
   "execution_count": 47,
   "metadata": {
    "collapsed": true
   },
   "outputs": [],
   "source": [
    "# defining fake news with simple bag-of-words or TF-IDF vectors is an oversimplified approach"
   ]
  },
  {
   "cell_type": "code",
   "execution_count": 48,
   "metadata": {
    "collapsed": true
   },
   "outputs": [],
   "source": [
    "# look up how to make an ROC curve"
   ]
  },
  {
   "cell_type": "code",
   "execution_count": 49,
   "metadata": {
    "collapsed": true
   },
   "outputs": [],
   "source": [
    "# TODO: Other types of Naive Bayes, Logistic Regression, and KNN"
   ]
  },
  {
   "cell_type": "code",
   "execution_count": 50,
   "metadata": {},
   "outputs": [
    {
     "name": "stdout",
     "output_type": "stream",
     "text": [
      "accuracy:   0.911\n",
      "Confusion matrix, without normalization\n"
     ]
    },
    {
     "data": {
      "image/png": "[encoded data removed]",
      "text/plain": [
       "<Figure size 432x288 with 2 Axes>"
      ]
     },
     "metadata": {},
     "output_type": "display_data"
    }
   ],
   "source": [
    "from sklearn.linear_model import LogisticRegression\n",
    "logistic_clf = LogisticRegression()\n",
    "logistic_clf.fit(tfidf_train, y_train['label'])\n",
    "pred = logistic_clf.predict(tfidf_test)\n",
    "logistic_score = accuracy_score(y_test['label'], pred)\n",
    "print(\"accuracy:   %0.3f\" % logistic_score)\n",
    "logistic_cm = confusion_matrix(y_test['label'], pred, labels=['fake', 'real'])\n",
    "plot_confusion_matrix(logistic_cm, classes=['fake', 'real'])\n",
    "plt.show()"
   ]
  },
  {
   "cell_type": "code",
   "execution_count": 56,
   "metadata": {},
   "outputs": [
    {
     "name": "stdout",
     "output_type": "stream",
     "text": [
      "accuracy:   0.549\n",
      "Confusion matrix, without normalization\n"
     ]
    },
    {
     "data": {
      "image/png": "[encoded data removed]",
      "text/plain": [
       "<Figure size 432x288 with 2 Axes>"
      ]
     },
     "metadata": {},
     "output_type": "display_data"
    }
   ],
   "source": [
    "from sklearn.neighbors import KNeighborsClassifier\n",
    "knn_clf = KNeighborsClassifier()\n",
    "knn_clf.fit(tfidf_train, y_train['label'])\n",
    "pred = knn_clf.predict(tfidf_test)\n",
    "knn_score = accuracy_score(y_test['label'], pred)\n",
    "print(\"accuracy:   %0.3f\" % knn_score)\n",
    "knn_cm = confusion_matrix(y_test['label'], pred, labels=['fake', 'real'])\n",
    "plot_confusion_matrix(knn_cm, classes=['fake', 'real'])\n",
    "plt.show()"
   ]
  },
  {
   "cell_type": "code",
   "execution_count": 51,
   "metadata": {
    "collapsed": true
   },
   "outputs": [],
   "source": [
    "# Visualizations of fake news categories\n",
    "# Features most associated with the different fake news categories\n",
    "# Domain names, sentiment analysis"
   ]
  },
  {
   "cell_type": "code",
   "execution_count": 52,
   "metadata": {
    "collapsed": true
   },
   "outputs": [],
   "source": [
    "dict_sample = y['text'][0:y.shape[0]].str.cat(sep=' ') # Dump sample vocab for topic modeling"
   ]
  },
  {
   "cell_type": "code",
   "execution_count": 53,
   "metadata": {
    "collapsed": true
   },
   "outputs": [],
   "source": [
    "f = open('articles.txt','w',encoding='utf-8')\n",
    "f.write(dict_sample)\n",
    "f.close()"
   ]
  },
  {
   "cell_type": "code",
   "execution_count": 54,
   "metadata": {},
   "outputs": [
    {
     "ename": "ModuleNotFoundError",
     "evalue": "No module named 'gensim'",
     "output_type": "error",
     "traceback": [
      "\u001b[0;31m----------------------------------------------------------------------\u001b[0m",
      "\u001b[0;31mModuleNotFoundError\u001b[0m                  Traceback (most recent call last)",
      "\u001b[0;32m<ipython-input-54-4650700bfd3e>\u001b[0m in \u001b[0;36m<module>\u001b[0;34m()\u001b[0m\n\u001b[0;32m----> 1\u001b[0;31m \u001b[0;32mfrom\u001b[0m \u001b[0mgensim\u001b[0m\u001b[0;34m.\u001b[0m\u001b[0mcorpora\u001b[0m \u001b[0;32mimport\u001b[0m \u001b[0mDictionary\u001b[0m\u001b[0;34m,\u001b[0m \u001b[0mMmCorpus\u001b[0m\u001b[0;34m\u001b[0m\u001b[0m\n\u001b[0m\u001b[1;32m      2\u001b[0m \u001b[0;32mfrom\u001b[0m \u001b[0mgensim\u001b[0m\u001b[0;34m.\u001b[0m\u001b[0mmodels\u001b[0m\u001b[0;34m.\u001b[0m\u001b[0mldamulticore\u001b[0m \u001b[0;32mimport\u001b[0m \u001b[0mLdaMulticore\u001b[0m\u001b[0;34m\u001b[0m\u001b[0m\n\u001b[1;32m      3\u001b[0m \u001b[0;32mfrom\u001b[0m \u001b[0mgensim\u001b[0m\u001b[0;34m.\u001b[0m\u001b[0mmodels\u001b[0m \u001b[0;32mimport\u001b[0m \u001b[0mPhrases\u001b[0m\u001b[0;34m\u001b[0m\u001b[0m\n\u001b[1;32m      4\u001b[0m \u001b[0;32mfrom\u001b[0m \u001b[0mgensim\u001b[0m\u001b[0;34m.\u001b[0m\u001b[0mmodels\u001b[0m\u001b[0;34m.\u001b[0m\u001b[0mword2vec\u001b[0m \u001b[0;32mimport\u001b[0m \u001b[0mLineSentence\u001b[0m\u001b[0;34m\u001b[0m\u001b[0m\n\u001b[1;32m      5\u001b[0m \u001b[0;32mimport\u001b[0m \u001b[0mpyLDAvis\u001b[0m\u001b[0;34m\u001b[0m\u001b[0m\n",
      "\u001b[0;31mModuleNotFoundError\u001b[0m: No module named 'gensim'"
     ]
    }
   ],
   "source": [
    "from gensim.corpora import Dictionary, MmCorpus\n",
    "from gensim.models.ldamulticore import LdaMulticore\n",
    "from gensim.models import Phrases\n",
    "from gensim.models.word2vec import LineSentence\n",
    "import pyLDAvis\n",
    "import pyLDAvis.gensim\n",
    "\n",
    "pyLDAvis.enable_notebook()"
   ]
  },
  {
   "cell_type": "code",
   "execution_count": null,
   "metadata": {
    "collapsed": true
   },
   "outputs": [],
   "source": [
    "sent = LineSentence('articles.txt')\n",
    "\n",
    "# learn the dictionary \n",
    "article_dict = Dictionary(sent)\n",
    "    \n",
    "# filter tokens that are very rare or too common from\n",
    "# the dictionary (filter_extremes) and reassign integer ids (compactify)\n",
    "article_dict.filter_extremes(no_below=5, no_above=0.2)\n",
    "article_dict.compactify()\n",
    "\n",
    "article_dict.save('articles.dict')\n",
    "    \n",
    "# load the finished dictionary from disk\n",
    "article_dict = Dictionary.load('articles.dict')"
   ]
  },
  {
   "cell_type": "code",
   "execution_count": null,
   "metadata": {
    "collapsed": true
   },
   "outputs": [],
   "source": [
    "def bow(filepath,d): # output bag of words representation\n",
    "    for review in LineSentence(filepath):\n",
    "        yield d.doc2bow(review)"
   ]
  },
  {
   "cell_type": "code",
   "execution_count": null,
   "metadata": {
    "collapsed": true
   },
   "outputs": [],
   "source": [
    "# generate bag-of-words representations for all reviews and save them as a matrix\n",
    "MmCorpus.serialize('articles.mm',\n",
    "                       bow('articles.txt',article_dict))\n",
    "    \n",
    "# load the finished bag-of-words corpus from disk\n",
    "corpus = MmCorpus('articles.mm')"
   ]
  },
  {
   "cell_type": "code",
   "execution_count": null,
   "metadata": {
    "collapsed": true
   },
   "outputs": [],
   "source": [
    "# Create LDA model (Runs outside of Jupyter for some reason)\n",
    "# lda = LdaMulticore(corpus,num_topics=10,\n",
    "#                    id2word=article_dict, \n",
    "#                    workers=2)\n",
    "    \n",
    "# lda.save('./lda_model')"
   ]
  },
  {
   "cell_type": "code",
   "execution_count": null,
   "metadata": {
    "collapsed": true
   },
   "outputs": [],
   "source": [
    "lda = LdaMulticore.load('./lda_model')"
   ]
  },
  {
   "cell_type": "code",
   "execution_count": null,
   "metadata": {
    "collapsed": true
   },
   "outputs": [],
   "source": [
    "def topics (topic_number, lda_model, topn=5):\n",
    "    print(u'{:10} {}'.format(u'term', u'frequency') + u'\\n')\n",
    "\n",
    "    for term, frequency in lda_model.show_topic(topic_number, topn=25):\n",
    "        print(u'{:10} {:.3f}'.format(term, round(frequency, 3)))"
   ]
  },
  {
   "cell_type": "code",
   "execution_count": null,
   "metadata": {
    "collapsed": true
   },
   "outputs": [],
   "source": [
    "topics(2,lda)"
   ]
  },
  {
   "cell_type": "code",
   "execution_count": null,
   "metadata": {
    "collapsed": true
   },
   "outputs": [],
   "source": [
    "# Ignore warning\n",
    "# LDA is a transformation from bag-of-words counts into a topic space of lower dimensionality. It can be thought of as probability distributions over words.\n",
    "LDAvis_prepared = pyLDAvis.gensim.prepare(lda, corpus,\n",
    "                                              article_dict)"
   ]
  },
  {
   "cell_type": "code",
   "execution_count": null,
   "metadata": {
    "collapsed": true
   },
   "outputs": [],
   "source": [
    "# Visualization for general corpus\n",
    "pyLDAvis.display(LDAvis_prepared)"
   ]
  },
  {
   "cell_type": "code",
   "execution_count": null,
   "metadata": {
    "collapsed": true
   },
   "outputs": [],
   "source": [
    "fake = y.copy()\n",
    "fake = fake.loc[fake['label'] == 'fake']\n",
    "real = y.copy()\n",
    "real = real.loc[real['label'] == 'real']\n",
    "fake_text = fake['text'][0:fake.shape[0]].str.cat(sep=' ')\n",
    "real_text = real['text'][0:real.shape[0]].str.cat(sep=' ')"
   ]
  },
  {
   "cell_type": "code",
   "execution_count": null,
   "metadata": {
    "collapsed": true
   },
   "outputs": [],
   "source": [
    "f1 = open('fake.txt','w',encoding='utf-8')\n",
    "f1.write(fake_text)\n",
    "f1.close()\n",
    "f2 = open('real.txt','w',encoding='utf-8')\n",
    "f2.write(real_text)"
   ]
  },
  {
   "cell_type": "code",
   "execution_count": null,
   "metadata": {
    "collapsed": true
   },
   "outputs": [],
   "source": [
    "fake_sent = LineSentence('fake.txt')\n",
    "fake_dict = Dictionary(fake_sent)\n",
    "fake_dict.filter_extremes(no_below=5, no_above=0.2)\n",
    "fake_dict.compactify()\n",
    "fake_dict.save('fake.dict')\n",
    "fake_dict = Dictionary.load('fake.dict')\n",
    "\n",
    "real_sent = LineSentence('real.txt')\n",
    "real_dict = Dictionary(real_sent)\n",
    "real_dict.filter_extremes(no_below=5, no_above=0.2)\n",
    "real_dict.compactify()\n",
    "real_dict.save('real.dict')\n",
    "real_dict = Dictionary.load('real.dict')"
   ]
  },
  {
   "cell_type": "code",
   "execution_count": null,
   "metadata": {
    "collapsed": true
   },
   "outputs": [],
   "source": [
    "MmCorpus.serialize('fake.mm', bow('fake.txt',fake_dict))\n",
    "fake_corpus = MmCorpus('fake.mm')\n",
    "MmCorpus.serialize('real.mm', bow('real.txt',real_dict))\n",
    "real_corpus = MmCorpus('real.mm')"
   ]
  },
  {
   "cell_type": "code",
   "execution_count": null,
   "metadata": {
    "collapsed": true
   },
   "outputs": [],
   "source": [
    "# Might have to run this outside of Jupyter\n",
    "# fake_lda = LdaMulticore(fake_corpus,num_topics=10,id2word=fake_dict,workers=2)  \n",
    "# fake_lda.save('./fake_lda_model')\n",
    "\n",
    "# real_lda = LdaMulticore(real_corpus,num_topics=10,id2word=real_dict,workers=2)\n",
    "# real_lda.save('./real_lda_model')"
   ]
  },
  {
   "cell_type": "code",
   "execution_count": null,
   "metadata": {
    "collapsed": true
   },
   "outputs": [],
   "source": [
    "fake_lda = LdaMulticore.load('./fake_lda_model')\n",
    "real_lda = LdaMulticore.load('./real_lda_model')"
   ]
  },
  {
   "cell_type": "code",
   "execution_count": null,
   "metadata": {
    "collapsed": true
   },
   "outputs": [],
   "source": [
    "topics(2, fake_lda)"
   ]
  },
  {
   "cell_type": "code",
   "execution_count": null,
   "metadata": {
    "collapsed": true
   },
   "outputs": [],
   "source": [
    "topics(2, real_lda)"
   ]
  },
  {
   "cell_type": "code",
   "execution_count": null,
   "metadata": {
    "collapsed": true
   },
   "outputs": [],
   "source": [
    "fake_LDAvis = pyLDAvis.gensim.prepare(fake_lda, fake_corpus, fake_dict)\n",
    "real_LDAvis = pyLDAvis.gensim.prepare(real_lda, real_corpus, real_dict)"
   ]
  },
  {
   "cell_type": "code",
   "execution_count": null,
   "metadata": {
    "collapsed": true
   },
   "outputs": [],
   "source": [
    "pyLDAvis.display(fake_LDAvis)"
   ]
  },
  {
   "cell_type": "code",
   "execution_count": null,
   "metadata": {
    "collapsed": true
   },
   "outputs": [],
   "source": [
    "pyLDAvis.display(real_LDAvis)"
   ]
  },
  {
   "cell_type": "code",
   "execution_count": null,
   "metadata": {
    "collapsed": true
   },
   "outputs": [],
   "source": [
    "# Save HTML files\n",
    "pyLDAvis.save_html(fake_LDAvis,'fake_lda.html')\n",
    "pyLDAvis.save_html(real_LDAvis,'real_lda.html')\n",
    "pyLDAvis.save_html(LDAvis_prepared,'lda.html')"
   ]
  },
  {
   "cell_type": "code",
   "execution_count": null,
   "metadata": {
    "collapsed": true
   },
   "outputs": [],
   "source": []
  },
  {
   "cell_type": "code",
   "execution_count": null,
   "metadata": {
    "collapsed": true
   },
   "outputs": [],
   "source": []
  },
  {
   "cell_type": "code",
   "execution_count": null,
   "metadata": {
    "collapsed": true
   },
   "outputs": [],
   "source": [
    "fake_dataset = pd.read_csv('fake.csv')"
   ]
  },
  {
   "cell_type": "code",
   "execution_count": null,
   "metadata": {
    "collapsed": true
   },
   "outputs": [],
   "source": [
    "fake_dataset.head(5)"
   ]
  },
  {
   "cell_type": "code",
   "execution_count": null,
   "metadata": {
    "collapsed": true
   },
   "outputs": [],
   "source": [
    "fake_dataset.shape"
   ]
  },
  {
   "cell_type": "code",
   "execution_count": null,
   "metadata": {
    "collapsed": true
   },
   "outputs": [],
   "source": [
    "fake_dataset.type.unique()"
   ]
  },
  {
   "cell_type": "code",
   "execution_count": null,
   "metadata": {
    "collapsed": true
   },
   "outputs": [],
   "source": [
    "fake_dataset.groupby(['type']).size().plot(kind='barh')\n",
    "plt.show()"
   ]
  },
  {
   "cell_type": "code",
   "execution_count": null,
   "metadata": {
    "collapsed": true
   },
   "outputs": [],
   "source": []
  },
  {
   "cell_type": "code",
   "execution_count": null,
   "metadata": {
    "collapsed": true
   },
   "outputs": [],
   "source": []
  },
  {
   "cell_type": "code",
   "execution_count": null,
   "metadata": {
    "collapsed": true
   },
   "outputs": [],
   "source": []
  },
  {
   "cell_type": "code",
   "execution_count": null,
   "metadata": {
    "collapsed": true
   },
   "outputs": [],
   "source": [
    "# Remove all stop words from larger corpora\n",
    "# This will take a lot of time because there's a lot of data\n",
    "\n",
    "for token in headline_text:\n",
    "    if token in stop_array:\n",
    "        headline_text.remove(token)\n",
    "        \n",
    "for token in article_text:\n",
    "    if token in stop_array:\n",
    "        article_text.remove(token)"
   ]
  },
  {
   "cell_type": "code",
   "execution_count": null,
   "metadata": {
    "collapsed": true
   },
   "outputs": [],
   "source": [
    "# POS tag and then stem\n"
   ]
  },
  {
   "cell_type": "code",
   "execution_count": null,
   "metadata": {
    "collapsed": true
   },
   "outputs": [],
   "source": [
    "# Lemmatize the words\n",
    "# Might need to tag parts of speech first and lemmatize based on that\n",
    "from nltk.stem import WordNetLemmatizer\n",
    "lemmatizer = WordNetLemmatizer()\n",
    "\n",
    "headline_lemma = []\n",
    "article_lemma = []\n",
    "\n",
    "for token in headline_text:\n",
    "    headline_lemma.append(lemmatizer.lemmatize(token))\n",
    "\n",
    "for token in article_text:\n",
    "    article_lemma.append(lemmatizer.lemmatize(token))"
   ]
  },
  {
   "cell_type": "code",
   "execution_count": null,
   "metadata": {
    "collapsed": true
   },
   "outputs": [],
   "source": [
    "from nltk.probability import FreqDist\n",
    "# Parse out words that appear too often\n",
    "\n",
    "fdist1 = FreqDist(headline_text)\n",
    "fdist1"
   ]
  },
  {
   "cell_type": "code",
   "execution_count": null,
   "metadata": {
    "collapsed": true
   },
   "outputs": [],
   "source": []
  },
  {
   "cell_type": "code",
   "execution_count": null,
   "metadata": {
    "collapsed": true
   },
   "outputs": [],
   "source": []
  },
  {
   "cell_type": "code",
   "execution_count": null,
   "metadata": {
    "collapsed": true
   },
   "outputs": [],
   "source": []
  },
  {
   "cell_type": "code",
   "execution_count": null,
   "metadata": {
    "collapsed": true
   },
   "outputs": [],
   "source": []
  },
  {
   "cell_type": "code",
   "execution_count": null,
   "metadata": {
    "collapsed": true
   },
   "outputs": [],
   "source": []
  },
  {
   "cell_type": "code",
   "execution_count": null,
   "metadata": {
    "collapsed": true
   },
   "outputs": [],
   "source": [
    "from sklearn.pipeline import make_pipeline\n",
    "make_pipeline(CountVectorizer(stop_words='english'),MultinomialNB())"
   ]
  },
  {
   "cell_type": "code",
   "execution_count": null,
   "metadata": {
    "collapsed": true
   },
   "outputs": [],
   "source": [
    "# Convert into dummy variables\n",
    "copy = tfidf_df.copy()\n",
    "#copy['label'] = copy['label'].apply(lambda x: 1 if x == 'FAKE' else 0)\n",
    "\n",
    "# Import into a pickle model\n",
    "from sklearn.externals import joblib\n",
    "joblib.dump(multi_nb, 'model.pkl')\n",
    "model_columns = list(copy.columns)\n",
    "joblib.dump(model_columns, 'model_columns.pkl')"
   ]
  },
  {
   "cell_type": "code",
   "execution_count": null,
   "metadata": {
    "collapsed": true
   },
   "outputs": [],
   "source": []
  },
  {
   "cell_type": "code",
   "execution_count": null,
   "metadata": {
    "collapsed": true
   },
   "outputs": [],
   "source": []
  },
  {
   "cell_type": "code",
   "execution_count": null,
   "metadata": {
    "collapsed": true
   },
   "outputs": [],
   "source": []
  },
  {
   "cell_type": "code",
   "execution_count": null,
   "metadata": {
    "collapsed": true
   },
   "outputs": [],
   "source": []
  },
  {
   "cell_type": "code",
   "execution_count": null,
   "metadata": {
    "collapsed": true
   },
   "outputs": [],
   "source": []
  },
  {
   "cell_type": "code",
   "execution_count": null,
   "metadata": {
    "collapsed": true
   },
   "outputs": [],
   "source": []
  }
 ],
 "metadata": {
  "kernelspec": {
   "display_name": "Python 3",
   "language": "python",
   "name": "python3"
  },
  "language_info": {
   "codemirror_mode": {
    "name": "ipython",
    "version": 3
   },
   "file_extension": ".py",
   "mimetype": "text/x-python",
   "name": "python",
   "nbconvert_exporter": "python",
   "pygments_lexer": "ipython3",
   "version": "3.6.3"
  }
 },
 "nbformat": 4,
 "nbformat_minor": 2
}
