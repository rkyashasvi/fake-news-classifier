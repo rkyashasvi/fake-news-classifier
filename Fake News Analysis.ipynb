{
 "cells": [
  {
   "cell_type": "code",
   "execution_count": 1,
   "metadata": {},
   "outputs": [
    {
     "data": {
      "text/html": [
       "<div>\n",
       "<style>\n",
       "    .dataframe thead tr:only-child th {\n",
       "        text-align: right;\n",
       "    }\n",
       "\n",
       "    .dataframe thead th {\n",
       "        text-align: left;\n",
       "    }\n",
       "\n",
       "    .dataframe tbody tr th {\n",
       "        vertical-align: top;\n",
       "    }\n",
       "</style>\n",
       "<table border=\"1\" class=\"dataframe\">\n",
       "  <thead>\n",
       "    <tr style=\"text-align: right;\">\n",
       "      <th></th>\n",
       "      <th>title</th>\n",
       "      <th>text</th>\n",
       "      <th>label</th>\n",
       "    </tr>\n",
       "    <tr>\n",
       "      <th>Unnamed: 0</th>\n",
       "      <th></th>\n",
       "      <th></th>\n",
       "      <th></th>\n",
       "    </tr>\n",
       "  </thead>\n",
       "  <tbody>\n",
       "    <tr>\n",
       "      <th>8476</th>\n",
       "      <td>You Can Smell Hillary’s Fear</td>\n",
       "      <td>Daniel Greenfield, a Shillman Journalism Fello...</td>\n",
       "      <td>FAKE</td>\n",
       "    </tr>\n",
       "    <tr>\n",
       "      <th>10294</th>\n",
       "      <td>Watch The Exact Moment Paul Ryan Committed Pol...</td>\n",
       "      <td>Google Pinterest Digg Linkedin Reddit Stumbleu...</td>\n",
       "      <td>FAKE</td>\n",
       "    </tr>\n",
       "    <tr>\n",
       "      <th>3608</th>\n",
       "      <td>Kerry to go to Paris in gesture of sympathy</td>\n",
       "      <td>U.S. Secretary of State John F. Kerry said Mon...</td>\n",
       "      <td>REAL</td>\n",
       "    </tr>\n",
       "    <tr>\n",
       "      <th>10142</th>\n",
       "      <td>Bernie supporters on Twitter erupt in anger ag...</td>\n",
       "      <td>— Kaydee King (@KaydeeKing) November 9, 2016 T...</td>\n",
       "      <td>FAKE</td>\n",
       "    </tr>\n",
       "    <tr>\n",
       "      <th>875</th>\n",
       "      <td>The Battle of New York: Why This Primary Matters</td>\n",
       "      <td>It's primary day in New York and front-runners...</td>\n",
       "      <td>REAL</td>\n",
       "    </tr>\n",
       "  </tbody>\n",
       "</table>\n",
       "</div>"
      ],
      "text/plain": [
       "                                                        title  \\\n",
       "Unnamed: 0                                                      \n",
       "8476                             You Can Smell Hillary’s Fear   \n",
       "10294       Watch The Exact Moment Paul Ryan Committed Pol...   \n",
       "3608              Kerry to go to Paris in gesture of sympathy   \n",
       "10142       Bernie supporters on Twitter erupt in anger ag...   \n",
       "875          The Battle of New York: Why This Primary Matters   \n",
       "\n",
       "                                                         text label  \n",
       "Unnamed: 0                                                           \n",
       "8476        Daniel Greenfield, a Shillman Journalism Fello...  FAKE  \n",
       "10294       Google Pinterest Digg Linkedin Reddit Stumbleu...  FAKE  \n",
       "3608        U.S. Secretary of State John F. Kerry said Mon...  REAL  \n",
       "10142       — Kaydee King (@KaydeeKing) November 9, 2016 T...  FAKE  \n",
       "875         It's primary day in New York and front-runners...  REAL  "
      ]
     },
     "execution_count": 1,
     "metadata": {},
     "output_type": "execute_result"
    }
   ],
   "source": [
    "import pandas as pd\n",
    "from sklearn.model_selection import train_test_split\n",
    "import numpy as np\n",
    "import matplotlib.pyplot as plt\n",
    "\n",
    "data = pd.read_csv('fake_or_real_news.csv')\n",
    "data = data.set_index(\"Unnamed: 0\")\n",
    "data2 = data.copy() # Store for later for topic modeling\n",
    "data.head()"
   ]
  },
  {
   "cell_type": "code",
   "execution_count": 2,
   "metadata": {},
   "outputs": [
    {
     "data": {
      "text/plain": [
       "(6335, 3)"
      ]
     },
     "execution_count": 2,
     "metadata": {},
     "output_type": "execute_result"
    }
   ],
   "source": [
    "data.shape"
   ]
  },
  {
   "cell_type": "code",
   "execution_count": 3,
   "metadata": {
    "collapsed": true
   },
   "outputs": [],
   "source": [
    "y = data.copy()"
   ]
  },
  {
   "cell_type": "code",
   "execution_count": 4,
   "metadata": {},
   "outputs": [
    {
     "data": {
      "text/html": [
       "<div>\n",
       "<style>\n",
       "    .dataframe thead tr:only-child th {\n",
       "        text-align: right;\n",
       "    }\n",
       "\n",
       "    .dataframe thead th {\n",
       "        text-align: left;\n",
       "    }\n",
       "\n",
       "    .dataframe tbody tr th {\n",
       "        vertical-align: top;\n",
       "    }\n",
       "</style>\n",
       "<table border=\"1\" class=\"dataframe\">\n",
       "  <thead>\n",
       "    <tr style=\"text-align: right;\">\n",
       "      <th></th>\n",
       "      <th>title</th>\n",
       "      <th>text</th>\n",
       "      <th>label</th>\n",
       "    </tr>\n",
       "    <tr>\n",
       "      <th>Unnamed: 0</th>\n",
       "      <th></th>\n",
       "      <th></th>\n",
       "      <th></th>\n",
       "    </tr>\n",
       "  </thead>\n",
       "  <tbody>\n",
       "    <tr>\n",
       "      <th>8476</th>\n",
       "      <td>You Can Smell Hillary’s Fear</td>\n",
       "      <td>Daniel Greenfield, a Shillman Journalism Fello...</td>\n",
       "      <td>FAKE</td>\n",
       "    </tr>\n",
       "    <tr>\n",
       "      <th>10294</th>\n",
       "      <td>Watch The Exact Moment Paul Ryan Committed Pol...</td>\n",
       "      <td>Google Pinterest Digg Linkedin Reddit Stumbleu...</td>\n",
       "      <td>FAKE</td>\n",
       "    </tr>\n",
       "    <tr>\n",
       "      <th>3608</th>\n",
       "      <td>Kerry to go to Paris in gesture of sympathy</td>\n",
       "      <td>U.S. Secretary of State John F. Kerry said Mon...</td>\n",
       "      <td>REAL</td>\n",
       "    </tr>\n",
       "    <tr>\n",
       "      <th>10142</th>\n",
       "      <td>Bernie supporters on Twitter erupt in anger ag...</td>\n",
       "      <td>— Kaydee King (@KaydeeKing) November 9, 2016 T...</td>\n",
       "      <td>FAKE</td>\n",
       "    </tr>\n",
       "    <tr>\n",
       "      <th>875</th>\n",
       "      <td>The Battle of New York: Why This Primary Matters</td>\n",
       "      <td>It's primary day in New York and front-runners...</td>\n",
       "      <td>REAL</td>\n",
       "    </tr>\n",
       "  </tbody>\n",
       "</table>\n",
       "</div>"
      ],
      "text/plain": [
       "                                                        title  \\\n",
       "Unnamed: 0                                                      \n",
       "8476                             You Can Smell Hillary’s Fear   \n",
       "10294       Watch The Exact Moment Paul Ryan Committed Pol...   \n",
       "3608              Kerry to go to Paris in gesture of sympathy   \n",
       "10142       Bernie supporters on Twitter erupt in anger ag...   \n",
       "875          The Battle of New York: Why This Primary Matters   \n",
       "\n",
       "                                                         text label  \n",
       "Unnamed: 0                                                           \n",
       "8476        Daniel Greenfield, a Shillman Journalism Fello...  FAKE  \n",
       "10294       Google Pinterest Digg Linkedin Reddit Stumbleu...  FAKE  \n",
       "3608        U.S. Secretary of State John F. Kerry said Mon...  REAL  \n",
       "10142       — Kaydee King (@KaydeeKing) November 9, 2016 T...  FAKE  \n",
       "875         It's primary day in New York and front-runners...  REAL  "
      ]
     },
     "execution_count": 4,
     "metadata": {},
     "output_type": "execute_result"
    }
   ],
   "source": [
    "y.drop(\"label\",axis=1)\n",
    "y.head()"
   ]
  },
  {
   "cell_type": "code",
   "execution_count": 5,
   "metadata": {
    "collapsed": true
   },
   "outputs": [],
   "source": [
    "y['text'] = y['text'].apply(lambda x: ''.join([\" \" if ord(i) < 32 or (ord(i) > 32 and ord(i) < 65) or (ord(i) > 90 and ord(i) < 97) or ord(i) > 122 else i for i in x]))\n",
    "y['title'] = y['title'].apply(lambda x: ''.join([\" \" if ord(i) < 32 or (ord(i) > 32 and ord(i) < 65) or (ord(i) > 90 and ord(i) < 97) or ord(i) > 122 else i for i in x]))\n",
    "\n",
    "#filter out numbers and special characters"
   ]
  },
  {
   "cell_type": "code",
   "execution_count": 6,
   "metadata": {},
   "outputs": [
    {
     "data": {
      "text/html": [
       "<div>\n",
       "<style>\n",
       "    .dataframe thead tr:only-child th {\n",
       "        text-align: right;\n",
       "    }\n",
       "\n",
       "    .dataframe thead th {\n",
       "        text-align: left;\n",
       "    }\n",
       "\n",
       "    .dataframe tbody tr th {\n",
       "        vertical-align: top;\n",
       "    }\n",
       "</style>\n",
       "<table border=\"1\" class=\"dataframe\">\n",
       "  <thead>\n",
       "    <tr style=\"text-align: right;\">\n",
       "      <th></th>\n",
       "      <th>title</th>\n",
       "      <th>text</th>\n",
       "      <th>label</th>\n",
       "    </tr>\n",
       "    <tr>\n",
       "      <th>Unnamed: 0</th>\n",
       "      <th></th>\n",
       "      <th></th>\n",
       "      <th></th>\n",
       "    </tr>\n",
       "  </thead>\n",
       "  <tbody>\n",
       "    <tr>\n",
       "      <th>8476</th>\n",
       "      <td>you can smell hillary s fear</td>\n",
       "      <td>daniel greenfield  a shillman journalism fello...</td>\n",
       "      <td>fake</td>\n",
       "    </tr>\n",
       "    <tr>\n",
       "      <th>10294</th>\n",
       "      <td>watch the exact moment paul ryan committed pol...</td>\n",
       "      <td>google pinterest digg linkedin reddit stumbleu...</td>\n",
       "      <td>fake</td>\n",
       "    </tr>\n",
       "    <tr>\n",
       "      <th>3608</th>\n",
       "      <td>kerry to go to paris in gesture of sympathy</td>\n",
       "      <td>u s  secretary of state john f  kerry said mon...</td>\n",
       "      <td>real</td>\n",
       "    </tr>\n",
       "    <tr>\n",
       "      <th>10142</th>\n",
       "      <td>bernie supporters on twitter erupt in anger ag...</td>\n",
       "      <td>kaydee king   kaydeeking  november         t...</td>\n",
       "      <td>fake</td>\n",
       "    </tr>\n",
       "    <tr>\n",
       "      <th>875</th>\n",
       "      <td>the battle of new york  why this primary matters</td>\n",
       "      <td>it s primary day in new york and front runners...</td>\n",
       "      <td>real</td>\n",
       "    </tr>\n",
       "  </tbody>\n",
       "</table>\n",
       "</div>"
      ],
      "text/plain": [
       "                                                        title  \\\n",
       "Unnamed: 0                                                      \n",
       "8476                             you can smell hillary s fear   \n",
       "10294       watch the exact moment paul ryan committed pol...   \n",
       "3608              kerry to go to paris in gesture of sympathy   \n",
       "10142       bernie supporters on twitter erupt in anger ag...   \n",
       "875          the battle of new york  why this primary matters   \n",
       "\n",
       "                                                         text label  \n",
       "Unnamed: 0                                                           \n",
       "8476        daniel greenfield  a shillman journalism fello...  fake  \n",
       "10294       google pinterest digg linkedin reddit stumbleu...  fake  \n",
       "3608        u s  secretary of state john f  kerry said mon...  real  \n",
       "10142         kaydee king   kaydeeking  november         t...  fake  \n",
       "875         it s primary day in new york and front runners...  real  "
      ]
     },
     "execution_count": 6,
     "metadata": {},
     "output_type": "execute_result"
    }
   ],
   "source": [
    "y['text'] = y['text'].str.lower()\n",
    "y['title'] = y['title'].str.lower()\n",
    "y['label'] = y['label'].str.lower()\n",
    "y.head()"
   ]
  },
  {
   "cell_type": "code",
   "execution_count": 7,
   "metadata": {
    "collapsed": true
   },
   "outputs": [],
   "source": [
    "import nltk\n",
    "from nltk.corpus import stopwords\n",
    "# nltk.download('stopwords') # You may need to run this first\n",
    "stop_array = (stopwords.words('english'))\n",
    "#set(stopwords.words('english'))\n",
    "\n",
    "# Remove stop words\n",
    "y['text'] = y['text'].apply(lambda row: ' '.join([\" \" if word in stop_array else word for word in row.split()]))\n",
    "y['title'] = y['title'].apply(lambda row: ' '.join([\" \" if word in stop_array else word for word in row.split()]))"
   ]
  },
  {
   "cell_type": "code",
   "execution_count": 8,
   "metadata": {},
   "outputs": [
    {
     "data": {
      "text/html": [
       "<div>\n",
       "<style>\n",
       "    .dataframe thead tr:only-child th {\n",
       "        text-align: right;\n",
       "    }\n",
       "\n",
       "    .dataframe thead th {\n",
       "        text-align: left;\n",
       "    }\n",
       "\n",
       "    .dataframe tbody tr th {\n",
       "        vertical-align: top;\n",
       "    }\n",
       "</style>\n",
       "<table border=\"1\" class=\"dataframe\">\n",
       "  <thead>\n",
       "    <tr style=\"text-align: right;\">\n",
       "      <th></th>\n",
       "      <th>title</th>\n",
       "      <th>text</th>\n",
       "      <th>label</th>\n",
       "    </tr>\n",
       "    <tr>\n",
       "      <th>Unnamed: 0</th>\n",
       "      <th></th>\n",
       "      <th></th>\n",
       "      <th></th>\n",
       "    </tr>\n",
       "  </thead>\n",
       "  <tbody>\n",
       "    <tr>\n",
       "      <th>8476</th>\n",
       "      <td>smell   fear</td>\n",
       "      <td>journalism fellow freedom center new yor...</td>\n",
       "      <td>fake</td>\n",
       "    </tr>\n",
       "    <tr>\n",
       "      <th>10294</th>\n",
       "      <td>watch exact moment       political suicide tru...</td>\n",
       "      <td>print delicious pocket   two funda...</td>\n",
       "      <td>fake</td>\n",
       "    </tr>\n",
       "    <tr>\n",
       "      <th>3608</th>\n",
       "      <td>kerry go   gesture sympathy</td>\n",
       "      <td>u secretary state   f kerry said   stop   late...</td>\n",
       "      <td>real</td>\n",
       "    </tr>\n",
       "    <tr>\n",
       "      <th>10142</th>\n",
       "      <td>twitter erupt anger   tried warn</td>\n",
       "      <td>king     lesson tonight     time   start lis...</td>\n",
       "      <td>fake</td>\n",
       "    </tr>\n",
       "    <tr>\n",
       "      <th>875</th>\n",
       "      <td>battle new york primary</td>\n",
       "      <td>primary day new york front         trump leadi...</td>\n",
       "      <td>real</td>\n",
       "    </tr>\n",
       "  </tbody>\n",
       "</table>\n",
       "</div>"
      ],
      "text/plain": [
       "                                                        title  \\\n",
       "Unnamed: 0                                                      \n",
       "8476                                             smell   fear   \n",
       "10294       watch exact moment       political suicide tru...   \n",
       "3608                              kerry go   gesture sympathy   \n",
       "10142                        twitter erupt anger   tried warn   \n",
       "875                                 battle new york primary     \n",
       "\n",
       "                                                         text label  \n",
       "Unnamed: 0                                                           \n",
       "8476              journalism fellow freedom center new yor...  fake  \n",
       "10294                   print delicious pocket   two funda...  fake  \n",
       "3608        u secretary state   f kerry said   stop   late...  real  \n",
       "10142         king     lesson tonight     time   start lis...  fake  \n",
       "875         primary day new york front         trump leadi...  real  "
      ]
     },
     "execution_count": 8,
     "metadata": {},
     "output_type": "execute_result"
    }
   ],
   "source": [
    "# Delete all non-English words. This is a problem because it also deletes names not in the corpus\n",
    "# Could keep as an option to see if it increases accuracy\n",
    "opt = y.copy()\n",
    "words = set(nltk.corpus.words.words())\n",
    "opt['text'] = opt['text'].apply(lambda row: ' '.join([\" \" if w not in words else w for w in row.split()]))\n",
    "opt['title'] = opt['title'].apply(lambda row: ' '.join([\" \" if w not in words else w for w in row.split()]))\n",
    "opt.head()"
   ]
  },
  {
   "cell_type": "code",
   "execution_count": 9,
   "metadata": {},
   "outputs": [
    {
     "data": {
      "text/html": [
       "<div>\n",
       "<style>\n",
       "    .dataframe thead tr:only-child th {\n",
       "        text-align: right;\n",
       "    }\n",
       "\n",
       "    .dataframe thead th {\n",
       "        text-align: left;\n",
       "    }\n",
       "\n",
       "    .dataframe tbody tr th {\n",
       "        vertical-align: top;\n",
       "    }\n",
       "</style>\n",
       "<table border=\"1\" class=\"dataframe\">\n",
       "  <thead>\n",
       "    <tr style=\"text-align: right;\">\n",
       "      <th></th>\n",
       "      <th>title</th>\n",
       "      <th>text</th>\n",
       "      <th>label</th>\n",
       "    </tr>\n",
       "    <tr>\n",
       "      <th>Unnamed: 0</th>\n",
       "      <th></th>\n",
       "      <th></th>\n",
       "      <th></th>\n",
       "    </tr>\n",
       "  </thead>\n",
       "  <tbody>\n",
       "    <tr>\n",
       "      <th>8476</th>\n",
       "      <td>smell hillary   fear</td>\n",
       "      <td>daniel greenfield   shillman journalism fellow...</td>\n",
       "      <td>fake</td>\n",
       "    </tr>\n",
       "    <tr>\n",
       "      <th>10294</th>\n",
       "      <td>watch   exact moment paul ryan committed polit...</td>\n",
       "      <td>google pinterest digg linkedin reddit stumbleu...</td>\n",
       "      <td>fake</td>\n",
       "    </tr>\n",
       "    <tr>\n",
       "      <th>3608</th>\n",
       "      <td>kerry   go   paris   gesture   sympathy</td>\n",
       "      <td>u   secretary   state john f kerry said monday...</td>\n",
       "      <td>real</td>\n",
       "    </tr>\n",
       "    <tr>\n",
       "      <th>10142</th>\n",
       "      <td>bernie supporters   twitter erupt   anger     ...</td>\n",
       "      <td>kaydee king kaydeeking november   lesson   ton...</td>\n",
       "      <td>fake</td>\n",
       "    </tr>\n",
       "    <tr>\n",
       "      <th>875</th>\n",
       "      <td>battle   new york     primary matters</td>\n",
       "      <td>primary day   new york   front runners hil...</td>\n",
       "      <td>real</td>\n",
       "    </tr>\n",
       "  </tbody>\n",
       "</table>\n",
       "</div>"
      ],
      "text/plain": [
       "                                                        title  \\\n",
       "Unnamed: 0                                                      \n",
       "8476                                     smell hillary   fear   \n",
       "10294       watch   exact moment paul ryan committed polit...   \n",
       "3608                  kerry   go   paris   gesture   sympathy   \n",
       "10142       bernie supporters   twitter erupt   anger     ...   \n",
       "875                     battle   new york     primary matters   \n",
       "\n",
       "                                                         text label  \n",
       "Unnamed: 0                                                           \n",
       "8476        daniel greenfield   shillman journalism fellow...  fake  \n",
       "10294       google pinterest digg linkedin reddit stumbleu...  fake  \n",
       "3608        u   secretary   state john f kerry said monday...  real  \n",
       "10142       kaydee king kaydeeking november   lesson   ton...  fake  \n",
       "875             primary day   new york   front runners hil...  real  "
      ]
     },
     "execution_count": 9,
     "metadata": {},
     "output_type": "execute_result"
    }
   ],
   "source": [
    "y.head()\n",
    "# TODO: Might need to lemmatize words before vectorizing them"
   ]
  },
  {
   "cell_type": "code",
   "execution_count": 10,
   "metadata": {
    "collapsed": true
   },
   "outputs": [],
   "source": [
    "y2 = y.copy()\n",
    "# With text\n",
    "X_train, X_test, y_train, y_test = train_test_split(y['text'], y2, test_size=0.33, random_state=53)\n",
    "\n",
    "# With headlines\n",
    "X_train2, X_test2, y_train2, y_test2 = train_test_split(y['title'], y2, test_size=0.33, random_state=53)"
   ]
  },
  {
   "cell_type": "code",
   "execution_count": 11,
   "metadata": {
    "collapsed": true
   },
   "outputs": [],
   "source": [
    "# Use tf-idf and count vectorizer to find most relevant words in corpus\n",
    "# TfidfVectorizer should remove stop words and words that appear in more than 70% of the articles\n",
    "\n",
    "# Vectorizers have an ngram range! Check if bigrams will improve accuracy\n",
    "from sklearn.feature_extraction.text import CountVectorizer\n",
    "count_vectorizer = CountVectorizer(stop_words='english') # already gets rid of stop words\n",
    "count_train = count_vectorizer.fit_transform(X_train) \n",
    "count_test = count_vectorizer.transform(X_test)\n",
    "\n",
    "from sklearn.feature_extraction.text import TfidfVectorizer\n",
    "tfidf_vectorizer = TfidfVectorizer(stop_words='english', max_df=0.7) \n",
    "tfidf_train = tfidf_vectorizer.fit_transform(X_train)  \n",
    "tfidf_test = tfidf_vectorizer.transform(X_test)"
   ]
  },
  {
   "cell_type": "code",
   "execution_count": 12,
   "metadata": {},
   "outputs": [
    {
     "name": "stdout",
     "output_type": "stream",
     "text": [
      "['zweiter', 'zwick', 'zwicker', 'zwischenmenschlicher', 'zwvgl', 'zxua', 'zxycmwjdxj', 'zybvwqhlbctginctv', 'zyzs', 'zz']\n",
      "['aa', 'aaa', 'aaas', 'aab', 'aadmi', 'aaeeb', 'aahing', 'aaib', 'aaingr', 'aalia']\n"
     ]
    }
   ],
   "source": [
    "print(tfidf_vectorizer.get_feature_names()[-10:])\n",
    "print(count_vectorizer.get_feature_names()[:10])"
   ]
  },
  {
   "cell_type": "code",
   "execution_count": 13,
   "metadata": {},
   "outputs": [
    {
     "data": {
      "text/html": [
       "<div>\n",
       "<style>\n",
       "    .dataframe thead tr:only-child th {\n",
       "        text-align: right;\n",
       "    }\n",
       "\n",
       "    .dataframe thead th {\n",
       "        text-align: left;\n",
       "    }\n",
       "\n",
       "    .dataframe tbody tr th {\n",
       "        vertical-align: top;\n",
       "    }\n",
       "</style>\n",
       "<table border=\"1\" class=\"dataframe\">\n",
       "  <thead>\n",
       "    <tr style=\"text-align: right;\">\n",
       "      <th></th>\n",
       "      <th>aa</th>\n",
       "      <th>aaa</th>\n",
       "      <th>aaas</th>\n",
       "      <th>aab</th>\n",
       "      <th>aadmi</th>\n",
       "      <th>aaeeb</th>\n",
       "      <th>aahing</th>\n",
       "      <th>aaib</th>\n",
       "      <th>aaingr</th>\n",
       "      <th>aalia</th>\n",
       "      <th>...</th>\n",
       "      <th>zweiter</th>\n",
       "      <th>zwick</th>\n",
       "      <th>zwicker</th>\n",
       "      <th>zwischenmenschlicher</th>\n",
       "      <th>zwvgl</th>\n",
       "      <th>zxua</th>\n",
       "      <th>zxycmwjdxj</th>\n",
       "      <th>zybvwqhlbctginctv</th>\n",
       "      <th>zyzs</th>\n",
       "      <th>zz</th>\n",
       "    </tr>\n",
       "  </thead>\n",
       "  <tbody>\n",
       "    <tr>\n",
       "      <th>0</th>\n",
       "      <td>0</td>\n",
       "      <td>0</td>\n",
       "      <td>0</td>\n",
       "      <td>0</td>\n",
       "      <td>0</td>\n",
       "      <td>0</td>\n",
       "      <td>0</td>\n",
       "      <td>0</td>\n",
       "      <td>0</td>\n",
       "      <td>0</td>\n",
       "      <td>...</td>\n",
       "      <td>0</td>\n",
       "      <td>0</td>\n",
       "      <td>0</td>\n",
       "      <td>0</td>\n",
       "      <td>0</td>\n",
       "      <td>0</td>\n",
       "      <td>0</td>\n",
       "      <td>0</td>\n",
       "      <td>0</td>\n",
       "      <td>0</td>\n",
       "    </tr>\n",
       "    <tr>\n",
       "      <th>1</th>\n",
       "      <td>0</td>\n",
       "      <td>0</td>\n",
       "      <td>0</td>\n",
       "      <td>0</td>\n",
       "      <td>0</td>\n",
       "      <td>0</td>\n",
       "      <td>0</td>\n",
       "      <td>0</td>\n",
       "      <td>0</td>\n",
       "      <td>0</td>\n",
       "      <td>...</td>\n",
       "      <td>0</td>\n",
       "      <td>0</td>\n",
       "      <td>0</td>\n",
       "      <td>0</td>\n",
       "      <td>0</td>\n",
       "      <td>0</td>\n",
       "      <td>0</td>\n",
       "      <td>0</td>\n",
       "      <td>0</td>\n",
       "      <td>0</td>\n",
       "    </tr>\n",
       "    <tr>\n",
       "      <th>2</th>\n",
       "      <td>0</td>\n",
       "      <td>0</td>\n",
       "      <td>0</td>\n",
       "      <td>0</td>\n",
       "      <td>0</td>\n",
       "      <td>0</td>\n",
       "      <td>0</td>\n",
       "      <td>0</td>\n",
       "      <td>0</td>\n",
       "      <td>0</td>\n",
       "      <td>...</td>\n",
       "      <td>0</td>\n",
       "      <td>0</td>\n",
       "      <td>0</td>\n",
       "      <td>0</td>\n",
       "      <td>0</td>\n",
       "      <td>0</td>\n",
       "      <td>0</td>\n",
       "      <td>0</td>\n",
       "      <td>0</td>\n",
       "      <td>0</td>\n",
       "    </tr>\n",
       "    <tr>\n",
       "      <th>3</th>\n",
       "      <td>0</td>\n",
       "      <td>0</td>\n",
       "      <td>0</td>\n",
       "      <td>0</td>\n",
       "      <td>0</td>\n",
       "      <td>0</td>\n",
       "      <td>0</td>\n",
       "      <td>0</td>\n",
       "      <td>0</td>\n",
       "      <td>0</td>\n",
       "      <td>...</td>\n",
       "      <td>0</td>\n",
       "      <td>0</td>\n",
       "      <td>0</td>\n",
       "      <td>0</td>\n",
       "      <td>0</td>\n",
       "      <td>0</td>\n",
       "      <td>0</td>\n",
       "      <td>0</td>\n",
       "      <td>0</td>\n",
       "      <td>0</td>\n",
       "    </tr>\n",
       "    <tr>\n",
       "      <th>4</th>\n",
       "      <td>0</td>\n",
       "      <td>0</td>\n",
       "      <td>0</td>\n",
       "      <td>0</td>\n",
       "      <td>0</td>\n",
       "      <td>0</td>\n",
       "      <td>0</td>\n",
       "      <td>0</td>\n",
       "      <td>0</td>\n",
       "      <td>0</td>\n",
       "      <td>...</td>\n",
       "      <td>0</td>\n",
       "      <td>0</td>\n",
       "      <td>0</td>\n",
       "      <td>0</td>\n",
       "      <td>0</td>\n",
       "      <td>0</td>\n",
       "      <td>0</td>\n",
       "      <td>0</td>\n",
       "      <td>0</td>\n",
       "      <td>0</td>\n",
       "    </tr>\n",
       "  </tbody>\n",
       "</table>\n",
       "<p>5 rows × 55040 columns</p>\n",
       "</div>"
      ],
      "text/plain": [
       "   aa  aaa  aaas  aab  aadmi  aaeeb  aahing  aaib  aaingr  aalia ...  zweiter  \\\n",
       "0   0    0     0    0      0      0       0     0       0      0 ...        0   \n",
       "1   0    0     0    0      0      0       0     0       0      0 ...        0   \n",
       "2   0    0     0    0      0      0       0     0       0      0 ...        0   \n",
       "3   0    0     0    0      0      0       0     0       0      0 ...        0   \n",
       "4   0    0     0    0      0      0       0     0       0      0 ...        0   \n",
       "\n",
       "   zwick  zwicker  zwischenmenschlicher  zwvgl  zxua  zxycmwjdxj  \\\n",
       "0      0        0                     0      0     0           0   \n",
       "1      0        0                     0      0     0           0   \n",
       "2      0        0                     0      0     0           0   \n",
       "3      0        0                     0      0     0           0   \n",
       "4      0        0                     0      0     0           0   \n",
       "\n",
       "   zybvwqhlbctginctv  zyzs  zz  \n",
       "0                  0     0   0  \n",
       "1                  0     0   0  \n",
       "2                  0     0   0  \n",
       "3                  0     0   0  \n",
       "4                  0     0   0  \n",
       "\n",
       "[5 rows x 55040 columns]"
      ]
     },
     "execution_count": 13,
     "metadata": {},
     "output_type": "execute_result"
    }
   ],
   "source": [
    "count_df = pd.DataFrame(count_train.A, columns=count_vectorizer.get_feature_names())\n",
    "count_df.head()"
   ]
  },
  {
   "cell_type": "code",
   "execution_count": 14,
   "metadata": {},
   "outputs": [
    {
     "data": {
      "text/html": [
       "<div>\n",
       "<style>\n",
       "    .dataframe thead tr:only-child th {\n",
       "        text-align: right;\n",
       "    }\n",
       "\n",
       "    .dataframe thead th {\n",
       "        text-align: left;\n",
       "    }\n",
       "\n",
       "    .dataframe tbody tr th {\n",
       "        vertical-align: top;\n",
       "    }\n",
       "</style>\n",
       "<table border=\"1\" class=\"dataframe\">\n",
       "  <thead>\n",
       "    <tr style=\"text-align: right;\">\n",
       "      <th></th>\n",
       "      <th>aa</th>\n",
       "      <th>aaa</th>\n",
       "      <th>aaas</th>\n",
       "      <th>aab</th>\n",
       "      <th>aadmi</th>\n",
       "      <th>aaeeb</th>\n",
       "      <th>aahing</th>\n",
       "      <th>aaib</th>\n",
       "      <th>aaingr</th>\n",
       "      <th>aalia</th>\n",
       "      <th>...</th>\n",
       "      <th>zweiter</th>\n",
       "      <th>zwick</th>\n",
       "      <th>zwicker</th>\n",
       "      <th>zwischenmenschlicher</th>\n",
       "      <th>zwvgl</th>\n",
       "      <th>zxua</th>\n",
       "      <th>zxycmwjdxj</th>\n",
       "      <th>zybvwqhlbctginctv</th>\n",
       "      <th>zyzs</th>\n",
       "      <th>zz</th>\n",
       "    </tr>\n",
       "  </thead>\n",
       "  <tbody>\n",
       "    <tr>\n",
       "      <th>count</th>\n",
       "      <td>4244.000000</td>\n",
       "      <td>4244.000000</td>\n",
       "      <td>4244.000000</td>\n",
       "      <td>4244.000000</td>\n",
       "      <td>4244.000000</td>\n",
       "      <td>4244.000000</td>\n",
       "      <td>4244.000000</td>\n",
       "      <td>4244.000000</td>\n",
       "      <td>4244.000000</td>\n",
       "      <td>4244.000000</td>\n",
       "      <td>...</td>\n",
       "      <td>4244.000000</td>\n",
       "      <td>4244.000000</td>\n",
       "      <td>4244.000000</td>\n",
       "      <td>4244.000000</td>\n",
       "      <td>4244.000000</td>\n",
       "      <td>4244.000000</td>\n",
       "      <td>4244.000000</td>\n",
       "      <td>4244.000000</td>\n",
       "      <td>4244.000000</td>\n",
       "      <td>4244.000000</td>\n",
       "    </tr>\n",
       "    <tr>\n",
       "      <th>mean</th>\n",
       "      <td>0.002828</td>\n",
       "      <td>0.000707</td>\n",
       "      <td>0.000236</td>\n",
       "      <td>0.002121</td>\n",
       "      <td>0.000236</td>\n",
       "      <td>0.001178</td>\n",
       "      <td>0.000236</td>\n",
       "      <td>0.000236</td>\n",
       "      <td>0.000236</td>\n",
       "      <td>0.000236</td>\n",
       "      <td>...</td>\n",
       "      <td>0.000236</td>\n",
       "      <td>0.001414</td>\n",
       "      <td>0.000236</td>\n",
       "      <td>0.000236</td>\n",
       "      <td>0.000236</td>\n",
       "      <td>0.000236</td>\n",
       "      <td>0.000236</td>\n",
       "      <td>0.000236</td>\n",
       "      <td>0.000236</td>\n",
       "      <td>0.000236</td>\n",
       "    </tr>\n",
       "    <tr>\n",
       "      <th>std</th>\n",
       "      <td>0.086798</td>\n",
       "      <td>0.026581</td>\n",
       "      <td>0.015350</td>\n",
       "      <td>0.109614</td>\n",
       "      <td>0.015350</td>\n",
       "      <td>0.076751</td>\n",
       "      <td>0.015350</td>\n",
       "      <td>0.015350</td>\n",
       "      <td>0.015350</td>\n",
       "      <td>0.015350</td>\n",
       "      <td>...</td>\n",
       "      <td>0.015350</td>\n",
       "      <td>0.057424</td>\n",
       "      <td>0.015350</td>\n",
       "      <td>0.015350</td>\n",
       "      <td>0.015350</td>\n",
       "      <td>0.015350</td>\n",
       "      <td>0.015350</td>\n",
       "      <td>0.015350</td>\n",
       "      <td>0.015350</td>\n",
       "      <td>0.015350</td>\n",
       "    </tr>\n",
       "    <tr>\n",
       "      <th>min</th>\n",
       "      <td>0.000000</td>\n",
       "      <td>0.000000</td>\n",
       "      <td>0.000000</td>\n",
       "      <td>0.000000</td>\n",
       "      <td>0.000000</td>\n",
       "      <td>0.000000</td>\n",
       "      <td>0.000000</td>\n",
       "      <td>0.000000</td>\n",
       "      <td>0.000000</td>\n",
       "      <td>0.000000</td>\n",
       "      <td>...</td>\n",
       "      <td>0.000000</td>\n",
       "      <td>0.000000</td>\n",
       "      <td>0.000000</td>\n",
       "      <td>0.000000</td>\n",
       "      <td>0.000000</td>\n",
       "      <td>0.000000</td>\n",
       "      <td>0.000000</td>\n",
       "      <td>0.000000</td>\n",
       "      <td>0.000000</td>\n",
       "      <td>0.000000</td>\n",
       "    </tr>\n",
       "    <tr>\n",
       "      <th>25%</th>\n",
       "      <td>0.000000</td>\n",
       "      <td>0.000000</td>\n",
       "      <td>0.000000</td>\n",
       "      <td>0.000000</td>\n",
       "      <td>0.000000</td>\n",
       "      <td>0.000000</td>\n",
       "      <td>0.000000</td>\n",
       "      <td>0.000000</td>\n",
       "      <td>0.000000</td>\n",
       "      <td>0.000000</td>\n",
       "      <td>...</td>\n",
       "      <td>0.000000</td>\n",
       "      <td>0.000000</td>\n",
       "      <td>0.000000</td>\n",
       "      <td>0.000000</td>\n",
       "      <td>0.000000</td>\n",
       "      <td>0.000000</td>\n",
       "      <td>0.000000</td>\n",
       "      <td>0.000000</td>\n",
       "      <td>0.000000</td>\n",
       "      <td>0.000000</td>\n",
       "    </tr>\n",
       "    <tr>\n",
       "      <th>50%</th>\n",
       "      <td>0.000000</td>\n",
       "      <td>0.000000</td>\n",
       "      <td>0.000000</td>\n",
       "      <td>0.000000</td>\n",
       "      <td>0.000000</td>\n",
       "      <td>0.000000</td>\n",
       "      <td>0.000000</td>\n",
       "      <td>0.000000</td>\n",
       "      <td>0.000000</td>\n",
       "      <td>0.000000</td>\n",
       "      <td>...</td>\n",
       "      <td>0.000000</td>\n",
       "      <td>0.000000</td>\n",
       "      <td>0.000000</td>\n",
       "      <td>0.000000</td>\n",
       "      <td>0.000000</td>\n",
       "      <td>0.000000</td>\n",
       "      <td>0.000000</td>\n",
       "      <td>0.000000</td>\n",
       "      <td>0.000000</td>\n",
       "      <td>0.000000</td>\n",
       "    </tr>\n",
       "    <tr>\n",
       "      <th>75%</th>\n",
       "      <td>0.000000</td>\n",
       "      <td>0.000000</td>\n",
       "      <td>0.000000</td>\n",
       "      <td>0.000000</td>\n",
       "      <td>0.000000</td>\n",
       "      <td>0.000000</td>\n",
       "      <td>0.000000</td>\n",
       "      <td>0.000000</td>\n",
       "      <td>0.000000</td>\n",
       "      <td>0.000000</td>\n",
       "      <td>...</td>\n",
       "      <td>0.000000</td>\n",
       "      <td>0.000000</td>\n",
       "      <td>0.000000</td>\n",
       "      <td>0.000000</td>\n",
       "      <td>0.000000</td>\n",
       "      <td>0.000000</td>\n",
       "      <td>0.000000</td>\n",
       "      <td>0.000000</td>\n",
       "      <td>0.000000</td>\n",
       "      <td>0.000000</td>\n",
       "    </tr>\n",
       "    <tr>\n",
       "      <th>max</th>\n",
       "      <td>5.000000</td>\n",
       "      <td>1.000000</td>\n",
       "      <td>1.000000</td>\n",
       "      <td>7.000000</td>\n",
       "      <td>1.000000</td>\n",
       "      <td>5.000000</td>\n",
       "      <td>1.000000</td>\n",
       "      <td>1.000000</td>\n",
       "      <td>1.000000</td>\n",
       "      <td>1.000000</td>\n",
       "      <td>...</td>\n",
       "      <td>1.000000</td>\n",
       "      <td>3.000000</td>\n",
       "      <td>1.000000</td>\n",
       "      <td>1.000000</td>\n",
       "      <td>1.000000</td>\n",
       "      <td>1.000000</td>\n",
       "      <td>1.000000</td>\n",
       "      <td>1.000000</td>\n",
       "      <td>1.000000</td>\n",
       "      <td>1.000000</td>\n",
       "    </tr>\n",
       "  </tbody>\n",
       "</table>\n",
       "<p>8 rows × 55040 columns</p>\n",
       "</div>"
      ],
      "text/plain": [
       "                aa          aaa         aaas          aab        aadmi  \\\n",
       "count  4244.000000  4244.000000  4244.000000  4244.000000  4244.000000   \n",
       "mean      0.002828     0.000707     0.000236     0.002121     0.000236   \n",
       "std       0.086798     0.026581     0.015350     0.109614     0.015350   \n",
       "min       0.000000     0.000000     0.000000     0.000000     0.000000   \n",
       "25%       0.000000     0.000000     0.000000     0.000000     0.000000   \n",
       "50%       0.000000     0.000000     0.000000     0.000000     0.000000   \n",
       "75%       0.000000     0.000000     0.000000     0.000000     0.000000   \n",
       "max       5.000000     1.000000     1.000000     7.000000     1.000000   \n",
       "\n",
       "             aaeeb       aahing         aaib       aaingr        aalia  \\\n",
       "count  4244.000000  4244.000000  4244.000000  4244.000000  4244.000000   \n",
       "mean      0.001178     0.000236     0.000236     0.000236     0.000236   \n",
       "std       0.076751     0.015350     0.015350     0.015350     0.015350   \n",
       "min       0.000000     0.000000     0.000000     0.000000     0.000000   \n",
       "25%       0.000000     0.000000     0.000000     0.000000     0.000000   \n",
       "50%       0.000000     0.000000     0.000000     0.000000     0.000000   \n",
       "75%       0.000000     0.000000     0.000000     0.000000     0.000000   \n",
       "max       5.000000     1.000000     1.000000     1.000000     1.000000   \n",
       "\n",
       "          ...           zweiter        zwick      zwicker  \\\n",
       "count     ...       4244.000000  4244.000000  4244.000000   \n",
       "mean      ...          0.000236     0.001414     0.000236   \n",
       "std       ...          0.015350     0.057424     0.015350   \n",
       "min       ...          0.000000     0.000000     0.000000   \n",
       "25%       ...          0.000000     0.000000     0.000000   \n",
       "50%       ...          0.000000     0.000000     0.000000   \n",
       "75%       ...          0.000000     0.000000     0.000000   \n",
       "max       ...          1.000000     3.000000     1.000000   \n",
       "\n",
       "       zwischenmenschlicher        zwvgl         zxua   zxycmwjdxj  \\\n",
       "count           4244.000000  4244.000000  4244.000000  4244.000000   \n",
       "mean               0.000236     0.000236     0.000236     0.000236   \n",
       "std                0.015350     0.015350     0.015350     0.015350   \n",
       "min                0.000000     0.000000     0.000000     0.000000   \n",
       "25%                0.000000     0.000000     0.000000     0.000000   \n",
       "50%                0.000000     0.000000     0.000000     0.000000   \n",
       "75%                0.000000     0.000000     0.000000     0.000000   \n",
       "max                1.000000     1.000000     1.000000     1.000000   \n",
       "\n",
       "       zybvwqhlbctginctv         zyzs           zz  \n",
       "count        4244.000000  4244.000000  4244.000000  \n",
       "mean            0.000236     0.000236     0.000236  \n",
       "std             0.015350     0.015350     0.015350  \n",
       "min             0.000000     0.000000     0.000000  \n",
       "25%             0.000000     0.000000     0.000000  \n",
       "50%             0.000000     0.000000     0.000000  \n",
       "75%             0.000000     0.000000     0.000000  \n",
       "max             1.000000     1.000000     1.000000  \n",
       "\n",
       "[8 rows x 55040 columns]"
      ]
     },
     "execution_count": 14,
     "metadata": {},
     "output_type": "execute_result"
    }
   ],
   "source": [
    "count_df.describe()"
   ]
  },
  {
   "cell_type": "code",
   "execution_count": 15,
   "metadata": {},
   "outputs": [
    {
     "data": {
      "text/html": [
       "<div>\n",
       "<style>\n",
       "    .dataframe thead tr:only-child th {\n",
       "        text-align: right;\n",
       "    }\n",
       "\n",
       "    .dataframe thead th {\n",
       "        text-align: left;\n",
       "    }\n",
       "\n",
       "    .dataframe tbody tr th {\n",
       "        vertical-align: top;\n",
       "    }\n",
       "</style>\n",
       "<table border=\"1\" class=\"dataframe\">\n",
       "  <thead>\n",
       "    <tr style=\"text-align: right;\">\n",
       "      <th></th>\n",
       "      <th>aa</th>\n",
       "      <th>aaa</th>\n",
       "      <th>aaas</th>\n",
       "      <th>aab</th>\n",
       "      <th>aadmi</th>\n",
       "      <th>aaeeb</th>\n",
       "      <th>aahing</th>\n",
       "      <th>aaib</th>\n",
       "      <th>aaingr</th>\n",
       "      <th>aalia</th>\n",
       "      <th>...</th>\n",
       "      <th>zweiter</th>\n",
       "      <th>zwick</th>\n",
       "      <th>zwicker</th>\n",
       "      <th>zwischenmenschlicher</th>\n",
       "      <th>zwvgl</th>\n",
       "      <th>zxua</th>\n",
       "      <th>zxycmwjdxj</th>\n",
       "      <th>zybvwqhlbctginctv</th>\n",
       "      <th>zyzs</th>\n",
       "      <th>zz</th>\n",
       "    </tr>\n",
       "  </thead>\n",
       "  <tbody>\n",
       "    <tr>\n",
       "      <th>count</th>\n",
       "      <td>4244.000000</td>\n",
       "      <td>4244.000000</td>\n",
       "      <td>4244.000000</td>\n",
       "      <td>4244.000000</td>\n",
       "      <td>4244.000000</td>\n",
       "      <td>4244.000000</td>\n",
       "      <td>4244.000000</td>\n",
       "      <td>4244.000000</td>\n",
       "      <td>4244.000000</td>\n",
       "      <td>4244.000000</td>\n",
       "      <td>...</td>\n",
       "      <td>4244.000000</td>\n",
       "      <td>4244.000000</td>\n",
       "      <td>4244.000000</td>\n",
       "      <td>4244.000000</td>\n",
       "      <td>4244.000000</td>\n",
       "      <td>4244.000000</td>\n",
       "      <td>4244.000000</td>\n",
       "      <td>4244.000000</td>\n",
       "      <td>4244.000000</td>\n",
       "      <td>4244.000000</td>\n",
       "    </tr>\n",
       "    <tr>\n",
       "      <th>mean</th>\n",
       "      <td>0.000141</td>\n",
       "      <td>0.000033</td>\n",
       "      <td>0.000005</td>\n",
       "      <td>0.000128</td>\n",
       "      <td>0.000015</td>\n",
       "      <td>0.000021</td>\n",
       "      <td>0.000011</td>\n",
       "      <td>0.000013</td>\n",
       "      <td>0.000009</td>\n",
       "      <td>0.000016</td>\n",
       "      <td>...</td>\n",
       "      <td>0.000010</td>\n",
       "      <td>0.000046</td>\n",
       "      <td>0.000006</td>\n",
       "      <td>0.000010</td>\n",
       "      <td>0.000009</td>\n",
       "      <td>0.000009</td>\n",
       "      <td>0.000014</td>\n",
       "      <td>0.000009</td>\n",
       "      <td>0.000009</td>\n",
       "      <td>0.000009</td>\n",
       "    </tr>\n",
       "    <tr>\n",
       "      <th>std</th>\n",
       "      <td>0.003542</td>\n",
       "      <td>0.001356</td>\n",
       "      <td>0.000295</td>\n",
       "      <td>0.005607</td>\n",
       "      <td>0.000966</td>\n",
       "      <td>0.001377</td>\n",
       "      <td>0.000726</td>\n",
       "      <td>0.000854</td>\n",
       "      <td>0.000556</td>\n",
       "      <td>0.001073</td>\n",
       "      <td>...</td>\n",
       "      <td>0.000674</td>\n",
       "      <td>0.002005</td>\n",
       "      <td>0.000367</td>\n",
       "      <td>0.000674</td>\n",
       "      <td>0.000556</td>\n",
       "      <td>0.000556</td>\n",
       "      <td>0.000938</td>\n",
       "      <td>0.000556</td>\n",
       "      <td>0.000587</td>\n",
       "      <td>0.000556</td>\n",
       "    </tr>\n",
       "    <tr>\n",
       "      <th>min</th>\n",
       "      <td>0.000000</td>\n",
       "      <td>0.000000</td>\n",
       "      <td>0.000000</td>\n",
       "      <td>0.000000</td>\n",
       "      <td>0.000000</td>\n",
       "      <td>0.000000</td>\n",
       "      <td>0.000000</td>\n",
       "      <td>0.000000</td>\n",
       "      <td>0.000000</td>\n",
       "      <td>0.000000</td>\n",
       "      <td>...</td>\n",
       "      <td>0.000000</td>\n",
       "      <td>0.000000</td>\n",
       "      <td>0.000000</td>\n",
       "      <td>0.000000</td>\n",
       "      <td>0.000000</td>\n",
       "      <td>0.000000</td>\n",
       "      <td>0.000000</td>\n",
       "      <td>0.000000</td>\n",
       "      <td>0.000000</td>\n",
       "      <td>0.000000</td>\n",
       "    </tr>\n",
       "    <tr>\n",
       "      <th>25%</th>\n",
       "      <td>0.000000</td>\n",
       "      <td>0.000000</td>\n",
       "      <td>0.000000</td>\n",
       "      <td>0.000000</td>\n",
       "      <td>0.000000</td>\n",
       "      <td>0.000000</td>\n",
       "      <td>0.000000</td>\n",
       "      <td>0.000000</td>\n",
       "      <td>0.000000</td>\n",
       "      <td>0.000000</td>\n",
       "      <td>...</td>\n",
       "      <td>0.000000</td>\n",
       "      <td>0.000000</td>\n",
       "      <td>0.000000</td>\n",
       "      <td>0.000000</td>\n",
       "      <td>0.000000</td>\n",
       "      <td>0.000000</td>\n",
       "      <td>0.000000</td>\n",
       "      <td>0.000000</td>\n",
       "      <td>0.000000</td>\n",
       "      <td>0.000000</td>\n",
       "    </tr>\n",
       "    <tr>\n",
       "      <th>50%</th>\n",
       "      <td>0.000000</td>\n",
       "      <td>0.000000</td>\n",
       "      <td>0.000000</td>\n",
       "      <td>0.000000</td>\n",
       "      <td>0.000000</td>\n",
       "      <td>0.000000</td>\n",
       "      <td>0.000000</td>\n",
       "      <td>0.000000</td>\n",
       "      <td>0.000000</td>\n",
       "      <td>0.000000</td>\n",
       "      <td>...</td>\n",
       "      <td>0.000000</td>\n",
       "      <td>0.000000</td>\n",
       "      <td>0.000000</td>\n",
       "      <td>0.000000</td>\n",
       "      <td>0.000000</td>\n",
       "      <td>0.000000</td>\n",
       "      <td>0.000000</td>\n",
       "      <td>0.000000</td>\n",
       "      <td>0.000000</td>\n",
       "      <td>0.000000</td>\n",
       "    </tr>\n",
       "    <tr>\n",
       "      <th>75%</th>\n",
       "      <td>0.000000</td>\n",
       "      <td>0.000000</td>\n",
       "      <td>0.000000</td>\n",
       "      <td>0.000000</td>\n",
       "      <td>0.000000</td>\n",
       "      <td>0.000000</td>\n",
       "      <td>0.000000</td>\n",
       "      <td>0.000000</td>\n",
       "      <td>0.000000</td>\n",
       "      <td>0.000000</td>\n",
       "      <td>...</td>\n",
       "      <td>0.000000</td>\n",
       "      <td>0.000000</td>\n",
       "      <td>0.000000</td>\n",
       "      <td>0.000000</td>\n",
       "      <td>0.000000</td>\n",
       "      <td>0.000000</td>\n",
       "      <td>0.000000</td>\n",
       "      <td>0.000000</td>\n",
       "      <td>0.000000</td>\n",
       "      <td>0.000000</td>\n",
       "    </tr>\n",
       "    <tr>\n",
       "      <th>max</th>\n",
       "      <td>0.100145</td>\n",
       "      <td>0.068200</td>\n",
       "      <td>0.019221</td>\n",
       "      <td>0.330476</td>\n",
       "      <td>0.062928</td>\n",
       "      <td>0.089688</td>\n",
       "      <td>0.047298</td>\n",
       "      <td>0.055611</td>\n",
       "      <td>0.036212</td>\n",
       "      <td>0.069874</td>\n",
       "      <td>...</td>\n",
       "      <td>0.043893</td>\n",
       "      <td>0.112800</td>\n",
       "      <td>0.023886</td>\n",
       "      <td>0.043893</td>\n",
       "      <td>0.036212</td>\n",
       "      <td>0.036212</td>\n",
       "      <td>0.061085</td>\n",
       "      <td>0.036212</td>\n",
       "      <td>0.038261</td>\n",
       "      <td>0.036212</td>\n",
       "    </tr>\n",
       "  </tbody>\n",
       "</table>\n",
       "<p>8 rows × 55040 columns</p>\n",
       "</div>"
      ],
      "text/plain": [
       "                aa          aaa         aaas          aab        aadmi  \\\n",
       "count  4244.000000  4244.000000  4244.000000  4244.000000  4244.000000   \n",
       "mean      0.000141     0.000033     0.000005     0.000128     0.000015   \n",
       "std       0.003542     0.001356     0.000295     0.005607     0.000966   \n",
       "min       0.000000     0.000000     0.000000     0.000000     0.000000   \n",
       "25%       0.000000     0.000000     0.000000     0.000000     0.000000   \n",
       "50%       0.000000     0.000000     0.000000     0.000000     0.000000   \n",
       "75%       0.000000     0.000000     0.000000     0.000000     0.000000   \n",
       "max       0.100145     0.068200     0.019221     0.330476     0.062928   \n",
       "\n",
       "             aaeeb       aahing         aaib       aaingr        aalia  \\\n",
       "count  4244.000000  4244.000000  4244.000000  4244.000000  4244.000000   \n",
       "mean      0.000021     0.000011     0.000013     0.000009     0.000016   \n",
       "std       0.001377     0.000726     0.000854     0.000556     0.001073   \n",
       "min       0.000000     0.000000     0.000000     0.000000     0.000000   \n",
       "25%       0.000000     0.000000     0.000000     0.000000     0.000000   \n",
       "50%       0.000000     0.000000     0.000000     0.000000     0.000000   \n",
       "75%       0.000000     0.000000     0.000000     0.000000     0.000000   \n",
       "max       0.089688     0.047298     0.055611     0.036212     0.069874   \n",
       "\n",
       "          ...           zweiter        zwick      zwicker  \\\n",
       "count     ...       4244.000000  4244.000000  4244.000000   \n",
       "mean      ...          0.000010     0.000046     0.000006   \n",
       "std       ...          0.000674     0.002005     0.000367   \n",
       "min       ...          0.000000     0.000000     0.000000   \n",
       "25%       ...          0.000000     0.000000     0.000000   \n",
       "50%       ...          0.000000     0.000000     0.000000   \n",
       "75%       ...          0.000000     0.000000     0.000000   \n",
       "max       ...          0.043893     0.112800     0.023886   \n",
       "\n",
       "       zwischenmenschlicher        zwvgl         zxua   zxycmwjdxj  \\\n",
       "count           4244.000000  4244.000000  4244.000000  4244.000000   \n",
       "mean               0.000010     0.000009     0.000009     0.000014   \n",
       "std                0.000674     0.000556     0.000556     0.000938   \n",
       "min                0.000000     0.000000     0.000000     0.000000   \n",
       "25%                0.000000     0.000000     0.000000     0.000000   \n",
       "50%                0.000000     0.000000     0.000000     0.000000   \n",
       "75%                0.000000     0.000000     0.000000     0.000000   \n",
       "max                0.043893     0.036212     0.036212     0.061085   \n",
       "\n",
       "       zybvwqhlbctginctv         zyzs           zz  \n",
       "count        4244.000000  4244.000000  4244.000000  \n",
       "mean            0.000009     0.000009     0.000009  \n",
       "std             0.000556     0.000587     0.000556  \n",
       "min             0.000000     0.000000     0.000000  \n",
       "25%             0.000000     0.000000     0.000000  \n",
       "50%             0.000000     0.000000     0.000000  \n",
       "75%             0.000000     0.000000     0.000000  \n",
       "max             0.036212     0.038261     0.036212  \n",
       "\n",
       "[8 rows x 55040 columns]"
      ]
     },
     "execution_count": 15,
     "metadata": {},
     "output_type": "execute_result"
    }
   ],
   "source": [
    "tfidf_df = pd.DataFrame(tfidf_train.A, columns=tfidf_vectorizer.get_feature_names())\n",
    "tfidf_df.describe()"
   ]
  },
  {
   "cell_type": "code",
   "execution_count": 16,
   "metadata": {},
   "outputs": [
    {
     "name": "stdout",
     "output_type": "stream",
     "text": [
      "False\n"
     ]
    }
   ],
   "source": [
    "print(count_df.equals(tfidf_df)) # check if the vectorizers extracted different tokens"
   ]
  },
  {
   "cell_type": "code",
   "execution_count": 17,
   "metadata": {},
   "outputs": [
    {
     "name": "stdout",
     "output_type": "stream",
     "text": [
      "accuracy:   0.859\n"
     ]
    }
   ],
   "source": [
    "from sklearn.naive_bayes import MultinomialNB\n",
    "from sklearn.metrics import accuracy_score\n",
    "# MultinomialNB\n",
    "multi_nb = MultinomialNB()\n",
    "np.shape(tfidf_train)\n",
    "np.shape(y_train)\n",
    "multi_nb.fit(tfidf_train, y_train['label'])\n",
    "pred = multi_nb.predict(tfidf_test)\n",
    "score = accuracy_score(y_test['label'], pred)\n",
    "print(\"accuracy:   %0.3f\" % score) # Multinomial Naive Bayes accuracy: 0.857"
   ]
  },
  {
   "cell_type": "code",
   "execution_count": 18,
   "metadata": {},
   "outputs": [],
   "source": [
    "# Use a confusion matrix to compare accuracy\n",
    "from sklearn.metrics import confusion_matrix\n",
    "cm = confusion_matrix(y_test['label'], pred, labels=['fake', 'real'])"
   ]
  },
  {
   "cell_type": "code",
   "execution_count": 19,
   "metadata": {
    "collapsed": true
   },
   "outputs": [],
   "source": [
    "import itertools\n",
    "def plot_confusion_matrix(cm, classes,\n",
    "                          normalize=False,\n",
    "                          title='Confusion matrix',\n",
    "                          cmap=plt.cm.Blues):\n",
    "    \"\"\"\n",
    "    See full source and example: \n",
    "    http://scikit-learn.org/stable/auto_examples/model_selection/plot_confusion_matrix.html\n",
    "    \n",
    "    This function prints and plots the confusion matrix.\n",
    "    Normalization can be applied by setting `normalize=True`.\n",
    "    \"\"\"\n",
    "    plt.imshow(cm, interpolation='nearest', cmap=cmap)\n",
    "    plt.title(title)\n",
    "    plt.colorbar()\n",
    "    tick_marks = np.arange(len(classes))\n",
    "    plt.xticks(tick_marks, classes, rotation=45)\n",
    "    plt.yticks(tick_marks, classes)\n",
    "\n",
    "    if normalize:\n",
    "        cm = cm.astype('float') / cm.sum(axis=1)[:, np.newaxis]\n",
    "        print(\"Normalized confusion matrix\")\n",
    "    else:\n",
    "        print('Confusion matrix, without normalization')\n",
    "\n",
    "    thresh = cm.max() / 2.\n",
    "    for i, j in itertools.product(range(cm.shape[0]), range(cm.shape[1])):\n",
    "        plt.text(j, i, cm[i, j],\n",
    "                 horizontalalignment=\"center\",\n",
    "                 color=\"white\" if cm[i, j] > thresh else \"black\")\n",
    "\n",
    "    plt.tight_layout()\n",
    "    plt.ylabel('True label')\n",
    "    plt.xlabel('Predicted label')"
   ]
  },
  {
   "cell_type": "code",
   "execution_count": 20,
   "metadata": {},
   "outputs": [
    {
     "name": "stdout",
     "output_type": "stream",
     "text": [
      "Confusion matrix, without normalization\n"
     ]
    },
    {
     "data": {
      "image/png": "[encoded data removed]",
      "text/plain": [
       "<matplotlib.figure.Figure at 0x1a0d0a29e8>"
      ]
     },
     "metadata": {},
     "output_type": "display_data"
    }
   ],
   "source": [
    "plot_confusion_matrix(cm, classes=['fake', 'real'])\n",
    "plt.show()"
   ]
  },
  {
   "cell_type": "code",
   "execution_count": 21,
   "metadata": {},
   "outputs": [
    {
     "name": "stdout",
     "output_type": "stream",
     "text": [
      "accuracy:   0.859\n"
     ]
    }
   ],
   "source": [
    "count_multi_nb = MultinomialNB()\n",
    "count_multi_nb.fit(count_train,y_train['label'])\n",
    "c_pred = count_multi_nb.predict(count_test)\n",
    "c_score = accuracy_score(y_test['label'],pred)\n",
    "print(\"accuracy:   %0.3f\" % c_score)\n",
    "# this isn't outperforming tf-idf for some reason"
   ]
  },
  {
   "cell_type": "code",
   "execution_count": 22,
   "metadata": {},
   "outputs": [
    {
     "name": "stderr",
     "output_type": "stream",
     "text": [
      "/Users/victoriacabales/anaconda3/lib/python3.6/site-packages/sklearn/linear_model/stochastic_gradient.py:117: DeprecationWarning: n_iter parameter is deprecated in 0.19 and will be removed in 0.21. Use max_iter and tol instead.\n",
      "  DeprecationWarning)\n"
     ]
    },
    {
     "name": "stdout",
     "output_type": "stream",
     "text": [
      "accuracy:   0.934\n",
      "Confusion matrix, without normalization\n"
     ]
    },
    {
     "data": {
      "image/png": "[encoded data removed]",
      "text/plain": [
       "<matplotlib.figure.Figure at 0x1afddd6f98>"
      ]
     },
     "metadata": {},
     "output_type": "display_data"
    }
   ],
   "source": [
    "from sklearn.linear_model import PassiveAggressiveClassifier\n",
    "linear_clf = PassiveAggressiveClassifier(n_iter=50)\n",
    "linear_clf.fit(tfidf_train, y_train['label'])\n",
    "pred = linear_clf.predict(tfidf_test)\n",
    "linear_score = accuracy_score(y_test['label'], pred)\n",
    "print(\"accuracy:   %0.3f\" % linear_score)\n",
    "linear_cm = confusion_matrix(y_test['label'], pred, labels=['fake', 'real'])\n",
    "plot_confusion_matrix(linear_cm, classes=['fake', 'real'])\n",
    "plt.show()"
   ]
  },
  {
   "cell_type": "code",
   "execution_count": 23,
   "metadata": {},
   "outputs": [
    {
     "name": "stderr",
     "output_type": "stream",
     "text": [
      "/Users/victoriacabales/anaconda3/lib/python3.6/site-packages/sklearn/naive_bayes.py:472: UserWarning: alpha too small will result in numeric errors, setting alpha = 1.0e-10\n",
      "  'setting alpha = %.1e' % _ALPHA_MIN)\n"
     ]
    },
    {
     "name": "stdout",
     "output_type": "stream",
     "text": [
      "Alpha: 0.00 Score: 0.87661\n",
      "Alpha: 0.10 Score: 0.89718\n",
      "Alpha: 0.20 Score: 0.89240\n",
      "Alpha: 0.30 Score: 0.88905\n",
      "Alpha: 0.40 Score: 0.88666\n",
      "Alpha: 0.50 Score: 0.88140\n",
      "Alpha: 0.60 Score: 0.87709\n",
      "Alpha: 0.70 Score: 0.87040\n",
      "Alpha: 0.80 Score: 0.86514\n",
      "Alpha: 0.90 Score: 0.86131\n"
     ]
    }
   ],
   "source": [
    "clf = MultinomialNB(alpha=0.1)\n",
    "last_score = 0\n",
    "for alpha in np.arange(0,1,.1):\n",
    "    nb_classifier = MultinomialNB(alpha=alpha)\n",
    "    nb_classifier.fit(tfidf_train, y_train['label'])\n",
    "    pred = nb_classifier.predict(tfidf_test)\n",
    "    score = accuracy_score(y_test['label'], pred)\n",
    "    if score > last_score:\n",
    "        clf = nb_classifier\n",
    "    print(\"Alpha: {:.2f} Score: {:.5f}\".format(alpha, score))"
   ]
  },
  {
   "cell_type": "code",
   "execution_count": 24,
   "metadata": {
    "collapsed": true
   },
   "outputs": [],
   "source": [
    "def most_informative(vectorizer, classifier, n=100):\n",
    "    class_labels = classifier.classes_\n",
    "    feature_names = vectorizer.get_feature_names()\n",
    "    topn_class1 = sorted(zip(classifier.coef_[0], feature_names))[:n]\n",
    "    topn_class2 = sorted(zip(classifier.coef_[0], feature_names))[-n:]\n",
    "    for coef,feat in topn_class1:\n",
    "        print(class_labels[0],coef,feat)    \n",
    "    print()\n",
    "    for coef,feat in reversed(topn_class2):\n",
    "        print(class_labels[1],coef,feat)"
   ]
  },
  {
   "cell_type": "code",
   "execution_count": 25,
   "metadata": {},
   "outputs": [
    {
     "name": "stdout",
     "output_type": "stream",
     "text": [
      "fake -4.953088615831283 october\n",
      "fake -4.227898146209729 hillary\n",
      "fake -3.253562520865632 share\n",
      "fake -3.1897902003015357 november\n",
      "fake -2.8507254773499118 article\n",
      "fake -2.5948874289153627 oct\n",
      "fake -2.557862687567659 print\n",
      "fake -2.417053571096979 email\n",
      "fake -2.2863557964295236 advertisement\n",
      "fake -2.276736854147787 source\n",
      "fake -2.235389646197955 mosul\n",
      "fake -2.0929633887911607 establishment\n",
      "fake -2.08110896106324 war\n",
      "fake -2.0495137396489476 nov\n",
      "fake -1.9514667845193616 election\n",
      "fake -1.9338753910571158 pipeline\n",
      "fake -1.9250947639848939 com\n",
      "fake -1.9037368810448945 podesta\n",
      "fake -1.8947663307899714 snip\n",
      "fake -1.8458127317731292 donald\n",
      "fake -1.8086455956928522 ayotte\n",
      "fake -1.8062448982773303 th\n",
      "fake -1.7697639571197883 pm\n",
      "fake -1.7631686309408168 corporate\n",
      "fake -1.7615900302042924 wikileaks\n",
      "fake -1.7419688151452533 photo\n",
      "fake -1.7006966065317495 brexit\n",
      "fake -1.6937641257683749 daesh\n",
      "fake -1.6787523151192238 reuters\n",
      "fake -1.6633522099642635 jewish\n",
      "\n",
      "real 4.804059454001326 said\n",
      "real 2.672354133251449 says\n",
      "real 2.4358258956164707 friday\n",
      "real 2.373179044593507 conservative\n",
      "real 2.356645891751454 marriage\n",
      "real 2.350295646536533 tuesday\n",
      "real 2.2848134227917085 candidates\n",
      "real 2.2688342388020004 cruz\n",
      "real 2.263353430686848 jobs\n",
      "real 2.199258544787927 islamic\n",
      "real 2.1161333197905 sunday\n",
      "real 2.0553608863957287 presumptive\n",
      "real 2.0198982594840733 monday\n",
      "real 2.0027059368318114 march\n",
      "real 1.9814857385851847 debate\n",
      "real 1.9791921783488395 sen\n",
      "real 1.9659034225021315 continue\n",
      "real 1.9431535378411253 conservatives\n",
      "real 1.9129217234208689 attacks\n",
      "real 1.8822949335301362 say\n",
      "real 1.84967288791903 group\n",
      "real 1.8479424919015737 recounts\n",
      "real 1.8433288462664834 fox\n",
      "real 1.7955680904051319 gop\n",
      "real 1.7910883344750415 deal\n",
      "real 1.777860166713278 convention\n",
      "real 1.760061483883608 attack\n",
      "real 1.7265882069075997 paris\n",
      "real 1.6258097002552003 reform\n",
      "real 1.6140240952783438 church\n"
     ]
    }
   ],
   "source": [
    "most_informative(tfidf_vectorizer,linear_clf,n=30)"
   ]
  },
  {
   "cell_type": "code",
   "execution_count": 26,
   "metadata": {},
   "outputs": [
    {
     "data": {
      "text/plain": [
       "[(-6.217829630710521, 'trump'),\n",
       " (-6.456655526108935, 'said'),\n",
       " (-6.6130755955398675, 'clinton'),\n",
       " (-7.000155002312522, 'obama'),\n",
       " (-7.106517990098555, 'sanders'),\n",
       " (-7.174732553936943, 'president'),\n",
       " (-7.229376134911667, 'campaign'),\n",
       " (-7.247530955461162, 'republican'),\n",
       " (-7.302173890576507, 'state'),\n",
       " (-7.30328589038156, 'cruz'),\n",
       " (-7.338998469390379, 'party'),\n",
       " (-7.406591947405525, 'new'),\n",
       " (-7.437086945717752, 'people'),\n",
       " (-7.496550052461004, 'percent'),\n",
       " (-7.515244735335175, 'bush'),\n",
       " (-7.539405668232934, 'republicans'),\n",
       " (-7.545348625818594, 'house'),\n",
       " (-7.591834612522435, 'voters'),\n",
       " (-7.60908197321694, 'rubio'),\n",
       " (-7.634394742602616, 'states')]"
      ]
     },
     "execution_count": 26,
     "metadata": {},
     "output_type": "execute_result"
    }
   ],
   "source": [
    "# Most real\n",
    "feature_names = tfidf_vectorizer.get_feature_names()\n",
    "sorted(zip(clf.coef_[0], feature_names), reverse=True)[:20] # zip coefficients and sort them"
   ]
  },
  {
   "cell_type": "code",
   "execution_count": 27,
   "metadata": {},
   "outputs": [
    {
     "data": {
      "text/plain": [
       "[(-11.320426046643918, 'aa'),\n",
       " (-11.320426046643918, 'aaas'),\n",
       " (-11.320426046643918, 'aab'),\n",
       " (-11.320426046643918, 'aadmi'),\n",
       " (-11.320426046643918, 'aaeeb'),\n",
       " (-11.320426046643918, 'aaib'),\n",
       " (-11.320426046643918, 'aaingr'),\n",
       " (-11.320426046643918, 'aaluijqn'),\n",
       " (-11.320426046643918, 'aam'),\n",
       " (-11.320426046643918, 'aamon'),\n",
       " (-11.320426046643918, 'aaojejptcy'),\n",
       " (-11.320426046643918, 'aap'),\n",
       " (-11.320426046643918, 'aau'),\n",
       " (-11.320426046643918, 'ab'),\n",
       " (-11.320426046643918, 'aba'),\n",
       " (-11.320426046643918, 'abandonnig'),\n",
       " (-11.320426046643918, 'abate'),\n",
       " (-11.320426046643918, 'abay'),\n",
       " (-11.320426046643918, 'abbar'),\n",
       " (-11.320426046643918, 'abbot')]"
      ]
     },
     "execution_count": 27,
     "metadata": {},
     "output_type": "execute_result"
    }
   ],
   "source": [
    "# Most fake\n",
    "sorted(zip(clf.coef_[0], feature_names))[:20]"
   ]
  },
  {
   "cell_type": "code",
   "execution_count": 28,
   "metadata": {
    "collapsed": true
   },
   "outputs": [],
   "source": [
    "tokens_with_weights = sorted(list(zip(feature_names, clf.coef_[0])))"
   ]
  },
  {
   "cell_type": "code",
   "execution_count": 29,
   "metadata": {},
   "outputs": [
    {
     "name": "stderr",
     "output_type": "stream",
     "text": [
      "/Users/victoriacabales/anaconda3/lib/python3.6/site-packages/sklearn/feature_extraction/hashing.py:94: DeprecationWarning: the option non_negative=True has been deprecated in 0.19 and will be removed in version 0.21.\n",
      "  \" in version 0.21.\", DeprecationWarning)\n",
      "/Users/victoriacabales/anaconda3/lib/python3.6/site-packages/sklearn/feature_extraction/hashing.py:94: DeprecationWarning: the option non_negative=True has been deprecated in 0.19 and will be removed in version 0.21.\n",
      "  \" in version 0.21.\", DeprecationWarning)\n",
      "/Users/victoriacabales/anaconda3/lib/python3.6/site-packages/sklearn/feature_extraction/hashing.py:94: DeprecationWarning: the option non_negative=True has been deprecated in 0.19 and will be removed in version 0.21.\n",
      "  \" in version 0.21.\", DeprecationWarning)\n"
     ]
    }
   ],
   "source": [
    "from sklearn.feature_extraction.text import HashingVectorizer\n",
    "hash_vectorizer = HashingVectorizer(stop_words='english', non_negative=True)\n",
    "hash_train = hash_vectorizer.fit_transform(X_train)\n",
    "hash_test = hash_vectorizer.transform(X_test)"
   ]
  },
  {
   "cell_type": "code",
   "execution_count": 31,
   "metadata": {},
   "outputs": [
    {
     "name": "stdout",
     "output_type": "stream",
     "text": [
      "accuracy:   0.901\n",
      "Confusion matrix, without normalization\n"
     ]
    },
    {
     "data": {
      "image/png": "[encoded data removed]",
      "text/plain": [
       "<matplotlib.figure.Figure at 0x1afbdf1da0>"
      ]
     },
     "metadata": {},
     "output_type": "display_data"
    }
   ],
   "source": [
    "clf = MultinomialNB(alpha=.01)\n",
    "clf.fit(hash_train, y_train['label'])\n",
    "pred = clf.predict(hash_test)\n",
    "score = accuracy_score(y_test['label'], pred)\n",
    "print(\"accuracy:   %0.3f\" % score)\n",
    "cm = confusion_matrix(y_test['label'], pred, labels=['fake', 'real'])\n",
    "plot_confusion_matrix(cm, classes=['fake', 'real'])\n",
    "plt.show()"
   ]
  },
  {
   "cell_type": "code",
   "execution_count": null,
   "metadata": {
    "collapsed": true
   },
   "outputs": [],
   "source": [
    "# defining fake news with simple bag-of-words or TF-IDF vectors is an oversimplified approach"
   ]
  },
  {
   "cell_type": "code",
   "execution_count": null,
   "metadata": {
    "collapsed": true
   },
   "outputs": [],
   "source": [
    "# look up how to make an ROC curve"
   ]
  },
  {
   "cell_type": "code",
   "execution_count": null,
   "metadata": {},
   "outputs": [],
   "source": [
    "# TODO: LDA Vis"
   ]
  },
  {
   "cell_type": "code",
   "execution_count": null,
   "metadata": {
    "collapsed": true
   },
   "outputs": [],
   "source": [
    "# Visualizations of fake news categories\n",
    "# Features most associated with the different fake news categories\n",
    "# Domain names, sentiment analysis"
   ]
  },
  {
   "cell_type": "code",
   "execution_count": 37,
   "metadata": {
    "collapsed": true
   },
   "outputs": [],
   "source": [
    "dict_sample = y['text'][0:y.shape[0]].str.cat(sep=' ') # Dump sample vocab for topic modeling"
   ]
  },
  {
   "cell_type": "code",
   "execution_count": null,
   "metadata": {
    "collapsed": true
   },
   "outputs": [],
   "source": [
    "f = open('articles.txt','w',encoding='utf-8')\n",
    "f.write(dict_sample)\n",
    "f.close()"
   ]
  },
  {
   "cell_type": "code",
   "execution_count": 33,
   "metadata": {},
   "outputs": [],
   "source": [
    "from gensim.corpora import Dictionary, MmCorpus\n",
    "from gensim.models.ldamulticore import LdaMulticore\n",
    "from gensim.models import Phrases\n",
    "from gensim.models.word2vec import LineSentence\n",
    "import pyLDAvis\n",
    "import pyLDAvis.gensim\n",
    "\n",
    "pyLDAvis.enable_notebook()"
   ]
  },
  {
   "cell_type": "code",
   "execution_count": 38,
   "metadata": {},
   "outputs": [],
   "source": [
    "sent = LineSentence('articles.txt')\n",
    "\n",
    "# learn the dictionary \n",
    "article_dict = Dictionary(sent)\n",
    "    \n",
    "# filter tokens that are very rare or too common from\n",
    "# the dictionary (filter_extremes) and reassign integer ids (compactify)\n",
    "article_dict.filter_extremes(no_below=5, no_above=0.2)\n",
    "article_dict.compactify()\n",
    "\n",
    "article_dict.save('articles.dict')\n",
    "    \n",
    "# load the finished dictionary from disk\n",
    "article_dict = Dictionary.load('articles.dict')"
   ]
  },
  {
   "cell_type": "code",
   "execution_count": 39,
   "metadata": {},
   "outputs": [],
   "source": [
    "def bow(filepath,d): # output bag of words representation\n",
    "    for review in LineSentence(filepath):\n",
    "        yield d.doc2bow(review)"
   ]
  },
  {
   "cell_type": "code",
   "execution_count": 40,
   "metadata": {},
   "outputs": [],
   "source": [
    "# generate bag-of-words representations for all reviews and save them as a matrix\n",
    "MmCorpus.serialize('articles.mm',\n",
    "                       bow('articles.txt',article_dict))\n",
    "    \n",
    "# load the finished bag-of-words corpus from disk\n",
    "corpus = MmCorpus('articles.mm')"
   ]
  },
  {
   "cell_type": "code",
   "execution_count": null,
   "metadata": {
    "collapsed": true
   },
   "outputs": [],
   "source": [
    "# Create LDA model (Runs outside of Jupyter for some reason)\n",
    "# lda = LdaMulticore(corpus,num_topics=10,\n",
    "#                    id2word=article_dict, \n",
    "#                    workers=2)\n",
    "    \n",
    "# lda.save('./lda_model')"
   ]
  },
  {
   "cell_type": "code",
   "execution_count": 34,
   "metadata": {},
   "outputs": [],
   "source": [
    "lda = LdaMulticore.load('./lda_model')"
   ]
  },
  {
   "cell_type": "code",
   "execution_count": 35,
   "metadata": {
    "collapsed": true
   },
   "outputs": [],
   "source": [
    "def topics(topic_number, topn=5):\n",
    "    print(u'{:10} {}'.format(u'term', u'frequency') + u'\\n')\n",
    "\n",
    "    for term, frequency in lda.show_topic(topic_number, topn=25):\n",
    "        print(u'{:10} {:.3f}'.format(term, round(frequency, 3)))"
   ]
  },
  {
   "cell_type": "code",
   "execution_count": 36,
   "metadata": {},
   "outputs": [
    {
     "name": "stdout",
     "output_type": "stream",
     "text": [
      "term       frequency\n",
      "\n",
      "zika       0.001\n",
      "organic    0.001\n",
      "arabs      0.001\n",
      "halloween  0.001\n",
      "khan       0.001\n",
      "palestine  0.001\n",
      "lesley     0.000\n",
      "vaccine    0.000\n",
      "afghan     0.000\n",
      "tpp        0.000\n",
      "harris     0.000\n",
      "lewandowski 0.000\n",
      "egyptian   0.000\n",
      "epa        0.000\n",
      "infowars   0.000\n",
      "indigenous 0.000\n",
      "holder     0.000\n",
      "cdc        0.000\n",
      "utm        0.000\n",
      "villages   0.000\n",
      "stevens    0.000\n",
      "shirt      0.000\n",
      "wasserman  0.000\n",
      "virus      0.000\n",
      "emissions  0.000\n"
     ]
    }
   ],
   "source": [
    "topics(topic_number = 2)"
   ]
  },
  {
   "cell_type": "code",
   "execution_count": 41,
   "metadata": {},
   "outputs": [
    {
     "name": "stderr",
     "output_type": "stream",
     "text": [
      "/Users/victoriacabales/anaconda3/lib/python3.6/site-packages/pyLDAvis/_prepare.py:387: DeprecationWarning: \n",
      ".ix is deprecated. Please use\n",
      ".loc for label based indexing or\n",
      ".iloc for positional indexing\n",
      "\n",
      "See the documentation here:\n",
      "http://pandas.pydata.org/pandas-docs/stable/indexing.html#ix-indexer-is-deprecated\n",
      "  topic_term_dists = topic_term_dists.ix[topic_order]\n"
     ]
    }
   ],
   "source": [
    "# Ignore warning\n",
    "LDAvis_prepared = pyLDAvis.gensim.prepare(lda, corpus,\n",
    "                                              article_dict)"
   ]
  },
  {
   "cell_type": "code",
   "execution_count": 42,
   "metadata": {},
   "outputs": [
    {
     "data": {
      "text/html": [
       "\n",
       "<link rel=\"stylesheet\" type=\"text/css\" href=\"https://cdn.rawgit.com/bmabey/pyLDAvis/files/ldavis.v1.0.0.css\">\n",
       "\n",
       "\n",
       "<div id=\"ldavis_el55961157846697288934967747\"></div>\n",
       "<script type=\"text/javascript\">\n",
       "\n",
       "var ldavis_el55961157846697288934967747_data = {\"mdsDat\": {\"Freq\": [16.2447457746116, 13.41245586128767, 13.315761996406087, 11.921996955627874, 9.936968647218253, 8.770757199727566, 7.539225217351139, 7.281938914917663, 6.4770287579645185, 5.0991206748876134], \"cluster\": [1, 1, 1, 1, 1, 1, 1, 1, 1, 1], \"topics\": [1, 2, 3, 4, 5, 6, 7, 8, 9, 10], \"x\": [0.000279754647306596, 0.00020738152936736765, -0.0008911383833534009, -0.003719345963701204, 0.003036929625820807, 0.0017517269216679526, -0.002101430651125164, 0.004384507004815595, 0.0011155913570780175, -0.004063976087876577], \"y\": [-0.0022835372967600857, -0.002929146472201628, 0.00438047480807847, 0.002866780108678156, -0.0016402970691040846, 0.00114383034339319, -0.0018788242894676396, 0.00107529212340905, 0.0013788983084636196, -0.002113470564489048]}, \"tinfo\": {\"Category\": [\"Default\", \"Default\", \"Default\", \"Default\", \"Default\", \"Default\", \"Default\", \"Default\", \"Default\", \"Default\", \"Default\", \"Default\", \"Default\", \"Default\", \"Default\", \"Default\", \"Default\", \"Default\", \"Default\", \"Default\", \"Default\", \"Default\", \"Default\", \"Default\", \"Default\", \"Default\", \"Default\", \"Default\", \"Default\", \"Default\", \"Topic1\", \"Topic1\", \"Topic1\", \"Topic1\", \"Topic1\", \"Topic1\", \"Topic1\", \"Topic1\", \"Topic1\", \"Topic1\", \"Topic1\", \"Topic1\", \"Topic1\", \"Topic1\", \"Topic1\", \"Topic1\", \"Topic1\", \"Topic1\", \"Topic1\", \"Topic1\", \"Topic1\", \"Topic1\", \"Topic1\", \"Topic1\", \"Topic1\", \"Topic1\", \"Topic1\", \"Topic1\", \"Topic1\", \"Topic1\", \"Topic1\", \"Topic1\", \"Topic1\", \"Topic1\", \"Topic1\", \"Topic1\", \"Topic1\", \"Topic1\", \"Topic1\", \"Topic1\", \"Topic1\", \"Topic1\", \"Topic1\", \"Topic1\", \"Topic1\", \"Topic1\", \"Topic1\", \"Topic1\", \"Topic1\", \"Topic1\", \"Topic1\", \"Topic1\", \"Topic1\", \"Topic1\", \"Topic1\", \"Topic1\", \"Topic1\", \"Topic1\", \"Topic1\", \"Topic1\", \"Topic1\", \"Topic1\", \"Topic1\", \"Topic1\", \"Topic1\", \"Topic1\", \"Topic1\", \"Topic1\", \"Topic1\", \"Topic1\", \"Topic1\", \"Topic1\", \"Topic1\", \"Topic1\", \"Topic1\", \"Topic1\", \"Topic1\", \"Topic1\", \"Topic1\", \"Topic1\", \"Topic1\", \"Topic1\", \"Topic2\", \"Topic2\", \"Topic2\", \"Topic2\", \"Topic2\", \"Topic2\", \"Topic2\", \"Topic2\", \"Topic2\", \"Topic2\", \"Topic2\", \"Topic2\", \"Topic2\", \"Topic2\", \"Topic2\", \"Topic2\", \"Topic2\", \"Topic2\", \"Topic2\", \"Topic2\", \"Topic2\", \"Topic2\", \"Topic2\", \"Topic2\", \"Topic2\", \"Topic2\", \"Topic2\", \"Topic2\", \"Topic2\", \"Topic2\", \"Topic2\", \"Topic2\", \"Topic2\", \"Topic2\", \"Topic2\", \"Topic2\", \"Topic2\", \"Topic2\", \"Topic2\", \"Topic2\", \"Topic2\", \"Topic2\", \"Topic2\", \"Topic2\", \"Topic2\", \"Topic2\", \"Topic2\", \"Topic2\", \"Topic2\", \"Topic2\", \"Topic2\", \"Topic2\", \"Topic2\", \"Topic2\", \"Topic2\", \"Topic2\", \"Topic2\", \"Topic2\", \"Topic2\", \"Topic2\", \"Topic2\", \"Topic2\", \"Topic2\", \"Topic2\", \"Topic2\", \"Topic2\", \"Topic2\", \"Topic2\", \"Topic2\", \"Topic2\", \"Topic2\", \"Topic2\", \"Topic2\", \"Topic2\", \"Topic2\", \"Topic2\", \"Topic2\", \"Topic2\", \"Topic2\", \"Topic3\", \"Topic3\", \"Topic3\", \"Topic3\", \"Topic3\", \"Topic3\", \"Topic3\", \"Topic3\", \"Topic3\", \"Topic3\", \"Topic3\", \"Topic3\", \"Topic3\", \"Topic3\", \"Topic3\", \"Topic3\", \"Topic3\", \"Topic3\", \"Topic3\", \"Topic3\", \"Topic3\", \"Topic3\", \"Topic3\", \"Topic3\", \"Topic3\", \"Topic3\", \"Topic3\", \"Topic3\", \"Topic3\", \"Topic3\", \"Topic3\", \"Topic3\", \"Topic3\", \"Topic3\", \"Topic3\", \"Topic3\", \"Topic3\", \"Topic3\", \"Topic3\", \"Topic3\", \"Topic3\", \"Topic3\", \"Topic3\", \"Topic3\", \"Topic3\", \"Topic3\", \"Topic3\", \"Topic3\", \"Topic3\", \"Topic3\", \"Topic3\", \"Topic3\", \"Topic3\", \"Topic3\", \"Topic3\", \"Topic3\", \"Topic3\", \"Topic3\", \"Topic3\", \"Topic3\", \"Topic3\", \"Topic3\", \"Topic3\", \"Topic3\", \"Topic3\", \"Topic3\", \"Topic3\", \"Topic3\", \"Topic3\", \"Topic3\", \"Topic3\", \"Topic3\", \"Topic3\", \"Topic3\", \"Topic3\", \"Topic3\", \"Topic4\", \"Topic4\", \"Topic4\", \"Topic4\", \"Topic4\", \"Topic4\", \"Topic4\", \"Topic4\", \"Topic4\", \"Topic4\", \"Topic4\", \"Topic4\", \"Topic4\", \"Topic4\", \"Topic4\", \"Topic4\", \"Topic4\", \"Topic4\", \"Topic4\", \"Topic4\", \"Topic4\", \"Topic4\", \"Topic4\", \"Topic4\", \"Topic4\", \"Topic4\", \"Topic4\", \"Topic4\", \"Topic4\", \"Topic4\", \"Topic4\", \"Topic4\", \"Topic4\", \"Topic4\", \"Topic4\", \"Topic4\", \"Topic4\", \"Topic4\", \"Topic4\", \"Topic4\", \"Topic4\", \"Topic4\", \"Topic4\", \"Topic4\", \"Topic4\", \"Topic4\", \"Topic4\", \"Topic4\", \"Topic4\", \"Topic4\", \"Topic4\", \"Topic4\", \"Topic4\", \"Topic4\", \"Topic4\", \"Topic4\", \"Topic4\", \"Topic4\", \"Topic4\", \"Topic4\", \"Topic4\", \"Topic4\", \"Topic4\", \"Topic4\", \"Topic4\", \"Topic4\", \"Topic4\", \"Topic4\", \"Topic4\", \"Topic4\", \"Topic4\", \"Topic4\", \"Topic4\", \"Topic4\", \"Topic4\", \"Topic4\", \"Topic4\", \"Topic5\", \"Topic5\", \"Topic5\", \"Topic5\", \"Topic5\", \"Topic5\", \"Topic5\", \"Topic5\", \"Topic5\", \"Topic5\", \"Topic5\", \"Topic5\", \"Topic5\", \"Topic5\", \"Topic5\", \"Topic5\", \"Topic5\", \"Topic5\", \"Topic5\", \"Topic5\", \"Topic5\", \"Topic5\", \"Topic5\", \"Topic5\", \"Topic5\", \"Topic5\", \"Topic5\", \"Topic5\", \"Topic5\", \"Topic5\", \"Topic5\", \"Topic5\", \"Topic5\", \"Topic5\", \"Topic5\", \"Topic5\", \"Topic5\", \"Topic5\", \"Topic5\", \"Topic5\", \"Topic5\", \"Topic5\", \"Topic5\", \"Topic5\", \"Topic5\", \"Topic5\", \"Topic5\", \"Topic5\", \"Topic5\", \"Topic5\", \"Topic5\", \"Topic5\", \"Topic5\", \"Topic5\", \"Topic5\", \"Topic5\", \"Topic5\", \"Topic5\", \"Topic5\", \"Topic5\", \"Topic5\", \"Topic5\", \"Topic5\", \"Topic5\", \"Topic5\", \"Topic5\", \"Topic5\", \"Topic5\", \"Topic5\", \"Topic5\", \"Topic5\", \"Topic5\", \"Topic6\", \"Topic6\", \"Topic6\", \"Topic6\", \"Topic6\", \"Topic6\", \"Topic6\", \"Topic6\", \"Topic6\", \"Topic6\", \"Topic6\", \"Topic6\", \"Topic6\", \"Topic6\", \"Topic6\", \"Topic6\", \"Topic6\", \"Topic6\", \"Topic6\", \"Topic6\", \"Topic6\", \"Topic6\", \"Topic6\", \"Topic6\", \"Topic6\", \"Topic6\", \"Topic6\", \"Topic6\", \"Topic6\", \"Topic6\", \"Topic6\", \"Topic6\", \"Topic6\", \"Topic6\", \"Topic6\", \"Topic6\", \"Topic6\", \"Topic6\", \"Topic6\", \"Topic6\", \"Topic6\", \"Topic6\", \"Topic6\", \"Topic6\", \"Topic6\", \"Topic6\", \"Topic6\", \"Topic6\", \"Topic6\", \"Topic6\", \"Topic6\", \"Topic6\", \"Topic6\", \"Topic6\", \"Topic6\", \"Topic6\", \"Topic6\", \"Topic6\", \"Topic6\", \"Topic6\", \"Topic6\", \"Topic6\", \"Topic6\", \"Topic6\", \"Topic6\", \"Topic6\", \"Topic6\", \"Topic6\", \"Topic6\", \"Topic6\", \"Topic6\", \"Topic6\", \"Topic6\", \"Topic6\", \"Topic6\", \"Topic7\", \"Topic7\", \"Topic7\", \"Topic7\", \"Topic7\", \"Topic7\", \"Topic7\", \"Topic7\", \"Topic7\", \"Topic7\", \"Topic7\", \"Topic7\", \"Topic7\", \"Topic7\", \"Topic7\", \"Topic7\", \"Topic7\", \"Topic7\", \"Topic7\", \"Topic7\", \"Topic7\", \"Topic7\", \"Topic7\", \"Topic7\", \"Topic7\", \"Topic7\", \"Topic7\", \"Topic7\", \"Topic7\", \"Topic7\", \"Topic7\", \"Topic7\", \"Topic7\", \"Topic7\", \"Topic7\", \"Topic7\", \"Topic7\", \"Topic7\", \"Topic7\", \"Topic7\", \"Topic7\", \"Topic7\", \"Topic7\", \"Topic7\", \"Topic7\", \"Topic7\", \"Topic7\", \"Topic7\", \"Topic7\", \"Topic7\", \"Topic7\", \"Topic7\", \"Topic7\", \"Topic7\", \"Topic7\", \"Topic7\", \"Topic7\", \"Topic7\", \"Topic7\", \"Topic7\", \"Topic7\", \"Topic7\", \"Topic7\", \"Topic7\", \"Topic7\", \"Topic7\", \"Topic7\", \"Topic7\", \"Topic7\", \"Topic7\", \"Topic7\", \"Topic7\", \"Topic7\", \"Topic7\", \"Topic7\", \"Topic7\", \"Topic7\", \"Topic7\", \"Topic7\", \"Topic7\", \"Topic7\", \"Topic7\", \"Topic8\", \"Topic8\", \"Topic8\", \"Topic8\", \"Topic8\", \"Topic8\", \"Topic8\", \"Topic8\", \"Topic8\", \"Topic8\", \"Topic8\", \"Topic8\", \"Topic8\", \"Topic8\", \"Topic8\", \"Topic8\", \"Topic8\", \"Topic8\", \"Topic8\", \"Topic8\", \"Topic8\", \"Topic8\", \"Topic8\", \"Topic8\", \"Topic8\", \"Topic8\", \"Topic8\", \"Topic8\", \"Topic8\", \"Topic8\", \"Topic8\", \"Topic8\", \"Topic8\", \"Topic8\", \"Topic8\", \"Topic8\", \"Topic8\", \"Topic8\", \"Topic8\", \"Topic8\", \"Topic8\", \"Topic8\", \"Topic8\", \"Topic8\", \"Topic8\", \"Topic8\", \"Topic8\", \"Topic8\", \"Topic8\", \"Topic8\", \"Topic8\", \"Topic8\", \"Topic8\", \"Topic8\", \"Topic8\", \"Topic8\", \"Topic8\", \"Topic8\", \"Topic8\", \"Topic8\", \"Topic8\", \"Topic8\", \"Topic8\", \"Topic8\", \"Topic8\", \"Topic8\", \"Topic8\", \"Topic8\", \"Topic8\", \"Topic8\", \"Topic9\", \"Topic9\", \"Topic9\", \"Topic9\", \"Topic9\", \"Topic9\", \"Topic9\", \"Topic9\", \"Topic9\", \"Topic9\", \"Topic9\", \"Topic9\", \"Topic9\", \"Topic9\", \"Topic9\", \"Topic9\", \"Topic9\", \"Topic9\", \"Topic9\", \"Topic9\", \"Topic9\", \"Topic9\", \"Topic9\", \"Topic9\", \"Topic9\", \"Topic9\", \"Topic9\", \"Topic9\", \"Topic9\", \"Topic9\", \"Topic9\", \"Topic9\", \"Topic9\", \"Topic9\", \"Topic9\", \"Topic9\", \"Topic9\", \"Topic9\", \"Topic9\", \"Topic9\", \"Topic9\", \"Topic9\", \"Topic9\", \"Topic9\", \"Topic9\", \"Topic9\", \"Topic9\", \"Topic9\", \"Topic9\", \"Topic9\", \"Topic9\", \"Topic9\", \"Topic9\", \"Topic9\", \"Topic9\", \"Topic9\", \"Topic9\", \"Topic9\", \"Topic9\", \"Topic9\", \"Topic9\", \"Topic9\", \"Topic9\", \"Topic9\", \"Topic9\", \"Topic9\", \"Topic9\", \"Topic9\", \"Topic9\", \"Topic9\", \"Topic9\", \"Topic9\", \"Topic9\", \"Topic9\", \"Topic9\", \"Topic9\", \"Topic9\", \"Topic9\", \"Topic10\", \"Topic10\", \"Topic10\", \"Topic10\", \"Topic10\", \"Topic10\", \"Topic10\", \"Topic10\", \"Topic10\", \"Topic10\", \"Topic10\", \"Topic10\", \"Topic10\", \"Topic10\", \"Topic10\", \"Topic10\", \"Topic10\", \"Topic10\", \"Topic10\", \"Topic10\", \"Topic10\", \"Topic10\", \"Topic10\", \"Topic10\", \"Topic10\", \"Topic10\", \"Topic10\", \"Topic10\", \"Topic10\", \"Topic10\", \"Topic10\", \"Topic10\", \"Topic10\", \"Topic10\", \"Topic10\", \"Topic10\", \"Topic10\", \"Topic10\", \"Topic10\", \"Topic10\", \"Topic10\", \"Topic10\", \"Topic10\", \"Topic10\", \"Topic10\", \"Topic10\", \"Topic10\", \"Topic10\", \"Topic10\", \"Topic10\", \"Topic10\", \"Topic10\", \"Topic10\", \"Topic10\", \"Topic10\", \"Topic10\", \"Topic10\", \"Topic10\", \"Topic10\", \"Topic10\", \"Topic10\", \"Topic10\", \"Topic10\", \"Topic10\", \"Topic10\", \"Topic10\", \"Topic10\", \"Topic10\", \"Topic10\", \"Topic10\", \"Topic10\", \"Topic10\", \"Topic10\"], \"Freq\": [365.0, 160.0, 320.0, 130.0, 174.0, 186.0, 177.0, 285.0, 161.0, 206.0, 122.0, 144.0, 144.0, 123.0, 174.0, 89.0, 101.0, 125.0, 117.0, 84.0, 79.0, 39.0, 121.0, 125.0, 83.0, 78.0, 60.0, 126.0, 92.0, 141.0, 12.874641937723325, 2.4722328587431384, 18.64969895005109, 1.8448108113087869, 11.369222697451004, 4.565222849059055, 4.537553015485373, 2.709603636379053, 2.924199606800127, 9.115687494535566, 19.794204398897385, 2.6811759452200112, 2.0984891929212326, 8.979348890954036, 7.575224113947866, 11.017524991308509, 2.843952534139353, 16.863631212201902, 7.041138545628424, 4.936343383010849, 2.05643540938435, 32.181192671852784, 5.560640137008325, 2.559608252102402, 2.6319708247466775, 2.8336702695827767, 3.1209407306229924, 1.778235503873058, 6.179822011623938, 1.8365954528715998, 7.607671255413317, 11.456743860317355, 15.073037906563645, 18.92919279969025, 9.48516044945332, 16.762862286369195, 13.933130910259965, 13.181549085783892, 10.125996767950529, 24.12933967112029, 24.811425883093104, 18.84099649384371, 33.07973125768971, 28.29220223824514, 16.187285633580522, 20.012281335557574, 37.69921296972188, 10.442507441300304, 12.822269447253094, 30.203750669417776, 26.200344598886403, 15.748648883590105, 18.20799240932263, 14.300501715443955, 19.9036331842629, 18.844947614693677, 26.63673438864588, 20.52164218975242, 28.752456030730464, 31.266734521426205, 24.475135630245635, 23.963283268291516, 18.780041823643792, 35.73270559833815, 31.63814563538226, 26.249664560797065, 27.114820011491453, 26.298508853789865, 23.47110595375435, 23.650214481526817, 25.442398784614127, 23.65634063686409, 26.033954460607195, 24.689867540322165, 22.474253507467225, 34.41521777705666, 36.230002107801795, 25.979037716832362, 31.616124849713117, 23.525111638109895, 26.055779608253665, 23.52329910937047, 3.3438027079396186, 6.1878055460485895, 13.552877721105046, 4.381242038009162, 11.855882666925554, 9.299534037103461, 5.265796801450596, 3.4833180355326365, 7.418216968812676, 4.6738727435174905, 6.2060800198150865, 2.789161799138329, 2.481723935906897, 1.6118810166081332, 2.0381687781494082, 3.6068258283480206, 3.3875254128037713, 2.709130459693721, 5.377692371513209, 8.282520120291595, 5.809364113153035, 2.4793999869259973, 1.3024199914891985, 1.5121510423286226, 17.0568068482722, 2.1752477203883447, 3.986694886460802, 16.155437700304738, 3.6441238238319285, 2.558934864356628, 8.130843452869742, 24.612125721681714, 18.772608073574467, 4.9142050952902405, 17.35307985882725, 31.77447155276741, 5.954149301884852, 14.028615019366685, 6.144538129315277, 51.9625997219268, 16.927799570738983, 12.27383796284268, 11.333842961660148, 10.410390359833304, 21.81312989686859, 13.11790415075982, 36.300859050985835, 16.93646350591752, 18.500025881932025, 17.70381483149618, 51.07282260567327, 17.270797020599957, 24.49459487226746, 18.683219573284276, 16.970477884221257, 12.582606455124335, 50.08094376090558, 14.001568528978417, 14.173414064693787, 18.64613457346506, 26.1745178092486, 17.708782618857736, 23.264396841070784, 27.740992445689592, 21.17905209656048, 22.112356341733268, 21.579770579746704, 21.405421355214433, 23.85854547640145, 22.923120776247114, 20.500189780286554, 20.208439562433, 21.767499732687575, 19.818812689919497, 22.74691397614101, 20.314303950421504, 18.885966108293882, 20.393332468270096, 19.338587438395937, 64.80821070789209, 4.588540045195928, 2.663984859246133, 45.367469362644286, 4.499280683075681, 33.48075025088157, 1.5017525580748057, 27.651670349132562, 3.1573846089543043, 3.505658253753152, 3.7504414273175604, 1.9035231576486242, 2.826454624794916, 3.5363266535336693, 4.881687450687654, 8.830615648102263, 26.882131584152745, 3.1085949019637082, 6.58968388692426, 67.70773305948924, 4.7835459772695215, 29.505472864282623, 4.562913672308467, 9.643157069639255, 15.227623987849167, 1.8077696507403738, 3.1956410076577937, 4.466527946795798, 2.4285605648796165, 4.417375652511092, 9.318892009866019, 24.9327553818094, 18.55962081143295, 17.53377822662568, 12.232069654440918, 9.275030149162582, 9.18569885915635, 9.934036584955354, 23.459365698940122, 14.590912052323617, 22.66167365189796, 11.534643508269097, 17.10276746746644, 11.64999304057442, 13.036724949724224, 20.50424112623296, 9.477264637253496, 26.071082174939267, 14.61678250836516, 31.475007741032815, 13.611351721235641, 29.075455731876236, 18.966154078637725, 15.004960407943983, 23.505460861546144, 43.516248390418575, 19.20891344518059, 25.677672012965658, 20.889361108035978, 16.93579886813079, 17.128919346275012, 41.44432908107419, 20.844852289407225, 20.830322070340923, 20.176866266274356, 24.305956130898977, 19.484075734787343, 22.116265324039176, 20.593458432157572, 22.54048263193403, 21.923187295139144, 20.963567103460157, 20.06137916697398, 19.752125417701176, 19.768606729805917, 19.788373927849694, 4.015333726476814, 11.810012703616506, 4.639236768986194, 2.4497191387417554, 2.8066367655151896, 2.5263358533665725, 13.846183590222472, 1.5237011085081824, 17.75056528653221, 3.466503929929372, 4.933972069160254, 5.05592580037784, 3.7892349223073967, 1.6150902188307394, 3.241995750100176, 1.610138168893663, 1.3768628160901295, 9.287258570279748, 3.4596192010373197, 3.325303644195116, 2.3597770742791515, 1.144408992605677, 2.2763507631287947, 1.154390600225612, 3.691891527950208, 7.319165701619149, 9.216337839188297, 1.5443311894836091, 2.478997183843013, 14.216290906284321, 16.58538369019496, 5.8530935815824385, 5.480216045430717, 8.040171785294486, 12.333913686527465, 25.898858001813, 14.629892648442171, 16.063252100908475, 18.31925853239022, 49.11037166477687, 8.303283573281544, 8.303386330429186, 25.09093063228932, 13.522027018374926, 10.707025222797963, 27.619615119914, 21.204432902565866, 23.32952813558313, 20.3942223536795, 21.344312125518442, 18.500943022847412, 26.79166277528945, 18.357532050806682, 13.032618653900045, 12.070369755467446, 17.909012585300587, 23.96380296375165, 15.29910631444133, 14.976522067715933, 15.528898041581163, 24.902037657543392, 16.17752367961566, 18.3316668098761, 23.105997556288695, 19.31701072914941, 19.72844471778165, 21.809938544658788, 21.03075361619968, 16.358730982770783, 16.76361385133277, 17.937657899746156, 16.33848219415656, 19.853985799557687, 17.889792775794948, 18.48153881352888, 16.73643106670091, 16.6037870730481, 1.922360233991984, 4.036960509797082, 1.3023414052891777, 1.2582384326126788, 23.711403959365242, 1.7850942944160513, 11.105071646186367, 3.952782364436727, 2.7116356834531814, 1.2575792074099799, 1.6132196916569082, 1.0310322501009856, 6.098003540914116, 1.1621116654637802, 17.125710453189956, 1.154689405642646, 1.8587443419730352, 16.573364501329742, 1.5093199334138485, 1.3381294876225789, 6.346404290329271, 7.734360350625175, 18.775591425591138, 1.6708276148986, 2.4773750579853973, 7.0994849763698396, 13.531645739452447, 0.9597791717793551, 0.9383544260203569, 1.8564174749950544, 10.513930694455276, 59.047336705418566, 5.546068816521833, 13.331928807920978, 14.155744724854761, 8.492730090661325, 10.233466521766331, 46.78960913235441, 6.592201576830451, 8.719965238017855, 22.975857050484603, 25.415924801692828, 6.300516936553497, 6.077312522338455, 5.560959239943511, 25.336894039238885, 9.160990565059578, 13.861628504186093, 13.440154960709004, 9.682769586186236, 9.922454190496428, 16.335948394335535, 11.748807476469793, 17.265724899890202, 15.474931937242498, 13.973755744936698, 12.96655232271601, 18.406867630925348, 14.75950994921062, 12.245685237170047, 18.435777919191793, 10.734802668709534, 16.051753256316964, 14.100418498098852, 23.631115462686974, 18.26784106875578, 14.0489147509165, 13.918164361525287, 13.638059206254852, 14.240010571365554, 14.140994505947829, 13.920181194670452, 2.8385088919833605, 2.3715680823645826, 8.79731420236724, 3.4937192580530723, 1.9840043470444395, 5.057346705950477, 1.9165908935087892, 2.8228876564935907, 2.500877500402953, 0.8487102365015022, 2.5523776891869554, 2.5815888998928287, 1.1650132010400247, 7.284925722043524, 2.5247811828306683, 1.3990065660524222, 0.972563587441677, 1.7859480563983419, 3.262448133899405, 1.6496644980487107, 0.8264145272524434, 3.142549928385672, 13.75076942727508, 0.9728009906625478, 4.023251672801048, 7.064741871976017, 1.195992768016517, 4.042479521453249, 7.498482993221818, 2.7083130305117717, 11.072520395047752, 6.666264319666751, 13.185514688402584, 4.285518544630557, 45.941873646035916, 17.584653844981254, 9.432287303036468, 11.79849064216999, 6.045629648642785, 38.09582198181177, 21.457920790450633, 8.286688093413973, 8.066742423240907, 8.709788268984497, 13.10107577356473, 9.893669718814358, 10.24964096226661, 9.467626985982747, 7.390574038698841, 12.40679795030957, 9.82085605395467, 15.018083222997598, 14.596420929094158, 15.625372570979641, 17.923341512615263, 12.626449520091242, 15.170841451643543, 16.7599735650852, 17.722891384584454, 13.765192773230533, 11.903511406581696, 12.21001579265313, 12.640318838900933, 13.059312482421893, 13.802794129609229, 11.250420064898927, 12.13891495190389, 12.397022218989965, 15.674453162705566, 13.261881375948455, 13.145931261076248, 12.33220207850062, 14.139360960617967, 12.865111987708223, 12.198169967381416, 7.970760208521118, 10.652359006577884, 2.354305439131432, 2.6163291067244163, 4.943735319240643, 1.057753102576765, 2.210893487805729, 3.6222416576522574, 1.8803624032485415, 0.780795261384056, 0.8894063911294432, 8.632734789147666, 1.6608188353471642, 1.6158879093181049, 0.9746615664783599, 1.1404037881372155, 1.8609719895694266, 1.7329417385631998, 2.428682555131017, 0.8430125467642513, 3.638410924884314, 4.751371822668705, 0.8347299643579604, 0.8435410778231317, 7.296379946880529, 1.3329338554449732, 2.7455971218356927, 1.4556986018683917, 2.034472713363557, 9.890643160070928, 5.8929441651596814, 23.46680037807238, 5.824964166557392, 5.905660511166648, 8.761699928144779, 4.571050377742299, 4.712397163498987, 11.556676315940463, 5.195177238686358, 6.32564174990451, 4.227155802622682, 5.324731216917913, 5.076052791657115, 9.517524711834605, 9.763803717357783, 21.286115500198324, 10.510059307139459, 10.10891246740677, 10.488999069123372, 7.043742990893261, 8.213359302638128, 16.788993153960106, 11.965331634800151, 8.670719593096374, 7.645562503061668, 8.237042835021409, 8.72071440301799, 12.748272398474173, 12.340250871806353, 12.098419983674713, 8.723497035590723, 11.29528510530299, 7.800895889681781, 11.319725271623192, 11.909701237284814, 10.673943547404381, 9.659022379299891, 11.171126817199271, 20.240764295465915, 11.720347808545473, 17.002703964365377, 10.743203147517644, 12.325722610059847, 11.487191505961267, 14.605216758835537, 10.938684420988494, 11.210109487787145, 10.30236774224181, 11.093398257937903, 10.590327485956173, 10.06883223253157, 10.09343707800275, 11.784923466876062, 4.028062906429936, 1.6109563954263708, 5.087447386892642, 1.3824556366357352, 2.16603664160448, 5.358642550471882, 2.260714081564057, 5.368684777793219, 1.806694065163742, 50.628360199817905, 5.737231081367355, 4.99670666340118, 4.40615233518842, 0.7632552746375384, 2.440280369184116, 10.689730020171371, 5.268250897553404, 5.310030604174928, 1.7481003985444015, 2.8487716094222653, 0.8683216480971624, 5.660386117975846, 7.281497801758892, 2.2009316619866546, 4.488413910919349, 0.7318355914224238, 1.4578381146956012, 1.447192536944234, 0.7303676249949608, 8.915123149715605, 6.620126425886634, 5.257973950364025, 38.77930920152153, 3.3801387005801566, 12.46779578450674, 7.473238140556732, 5.567677788557595, 9.31251334388702, 14.097462706556993, 10.668615549404471, 19.362991111575035, 10.335672724715316, 17.75067884350434, 8.493562827594065, 8.747805714110394, 9.646855030207323, 12.072118271570265, 13.91361514573945, 9.895864437468086, 10.43769504801816, 11.973047572102537, 12.296492410043506, 10.865002137897902, 17.223343259530502, 10.388623119562224, 11.633497340139026, 11.69207413358104, 14.092914471751353, 9.085412843869603, 10.314505807384494, 11.602814380685553, 11.405462259548127, 12.463446158820211, 11.923217317919082, 14.01508205133257, 11.318812797932399, 11.461146753956838, 10.790233112679967, 10.451293324329313, 2.4098547354996716, 2.4012467786050156, 1.2843471647865585, 9.7086634395985, 0.9247516008975764, 4.38553226210758, 4.448508536654173, 1.9068675947068667, 1.1908150713256938, 4.202363106853734, 15.465644515608858, 0.7823211636370252, 0.6568207215549124, 1.0875683410109356, 1.0522070628627633, 2.544205892855682, 1.9652246251496097, 0.9520436842008694, 2.845190148968279, 1.816378895032151, 1.5016620378221885, 1.2267219942183876, 0.8398573849349126, 0.6428445017414618, 2.060393174879127, 4.352332436888346, 1.5596392773451724, 13.767647014264215, 4.677947372076445, 1.2473267748328642, 6.88907423847883, 3.861969114188052, 4.010900304431931, 7.123224278454187, 36.12188397971974, 6.0455193169780275, 5.346991185940927, 17.464986276238463, 6.087070145154763, 8.072359354974335, 6.4775502722250815, 4.137609185203229, 6.590393582060257, 6.5949766920166955, 6.389212032286308, 7.391774791509884, 13.263543156249003, 8.80790453021074, 9.168852161245221, 9.493866772502768, 24.753838015272578, 14.722862569219812, 13.163588074696134, 12.404162242925487, 11.125335381696505, 11.833516492113741, 7.1809004956750515, 11.533920437294055, 10.414501374826928, 10.32473956419169, 9.684714720860669, 11.141142637294633, 10.269965549921716, 17.09702823823407, 12.887665430824475, 7.1710467710315156, 8.045448783264487, 8.249506917069995, 9.286214342552547, 9.281997544905325, 10.755801206595462, 9.154688340203473, 9.700232903279499, 9.141202082222197, 10.253164892048698, 9.778587794490367, 9.364108857959348, 9.25869503472968, 5.638214867446504, 3.1384188266913626, 3.7231469404633977, 5.092546212621227, 1.1407659450610825, 3.0361105822019363, 1.0615177995878844, 0.5630070205346467, 1.3111434711537522, 1.6442280540400926, 1.4383731399328668, 0.8944397553196723, 1.1820438978313288, 1.2388047986925996, 1.1094124013440154, 3.8312048008866917, 1.8542240462412583, 0.8783470017585936, 4.518060241913794, 1.3497382949071113, 1.2957840193945007, 7.935489266201001, 3.8110480321468074, 4.860865890106543, 0.8524488200709254, 3.0333035053127575, 0.6892757734623005, 1.3625758928712852, 1.4000722690569645, 0.6711488298659802, 5.85420837132612, 3.704348104575748, 3.213007600812289, 13.298844797523499, 2.0305113346383097, 5.247340322857535, 6.360737494019382, 7.021819905339157, 7.238331777733859, 7.092703337966367, 5.712096529115668, 4.886871613694335, 7.207957550144376, 4.801239663629223, 10.435682963639318, 5.941905366695228, 9.270778264520382, 10.417222783140442, 5.464867860391549, 6.072779870538598, 8.688148911077715, 10.510842183948446, 9.131526780980275, 10.891130812624828, 12.172118752313494, 6.743516218141051, 7.90669121604763, 8.235554798168279, 7.985947413993405, 8.020517958133574, 8.630500432070841, 8.33111461909721, 9.231714591195452, 9.6239383388533, 9.315078603750315, 7.523550055403219, 8.446731869851986, 7.522294170708136, 7.652207796328421, 7.424670508583256, 7.503791244373522, 7.38533229862316, 7.487326270911804], \"Term\": [\"infowars\", \"lesley\", \"utm\", \"morris\", \"arabs\", \"tpp\", \"palestine\", \"zika\", \"bannon\", \"emissions\", \"stevens\", \"indigenous\", \"khan\", \"asylum\", \"egyptian\", \"euro\", \"widget\", \"cooper\", \"belgian\", \"kirby\", \"infowarsstore\", \"chess\", \"epa\", \"lewandowski\", \"wire\", \"haiti\", \"hindu\", \"loan\", \"detention\", \"zionist\", \"ufos\", \"petri\", \"juice\", \"satisfactory\", \"db\", \"density\", \"ornstein\", \"fuelled\", \"emmanuel\", \"kosher\", \"nazis\", \"bilingual\", \"volcanic\", \"barclays\", \"protein\", \"antarctica\", \"morgue\", \"aerial\", \"chester\", \"oligarch\", \"crawling\", \"ufo\", \"saleh\", \"weep\", \"collage\", \"zealous\", \"tn\", \"exclamation\", \"shelf\", \"gravel\", \"antarctic\", \"forests\", \"perez\", \"marines\", \"clearance\", \"opec\", \"cairo\", \"violates\", \"accumulated\", \"weld\", \"kurds\", \"tai\", \"hebdo\", \"protectors\", \"constituency\", \"flowers\", \"taliban\", \"accommodation\", \"nurse\", \"hollande\", \"jindal\", \"clinch\", \"cup\", \"cynical\", \"bergdahl\", \"alexander\", \"uranium\", \"steel\", \"dhs\", \"lesley\", \"diet\", \"garland\", \"continent\", \"emissions\", \"egyptian\", \"vitamin\", \"indigenous\", \"halloween\", \"pen\", \"premiums\", \"oligarchy\", \"koch\", \"wasserman\", \"admiral\", \"puerto\", \"utm\", \"infowars\", \"organic\", \"zika\", \"murphy\", \"tpp\", \"mateen\", \"ko\", \"fraternity\", \"buckley\", \"greenwood\", \"ki\", \"extraterrestrials\", \"hyde\", \"nutter\", \"gentlemen\", \"swastika\", \"rican\", \"crawford\", \"keane\", \"blighted\", \"visually\", \"ax\", \"craigslist\", \"tonic\", \"toilets\", \"vidal\", \"herb\", \"committeeman\", \"lagged\", \"comprehensively\", \"sec\", \"catapulted\", \"ralston\", \"kuznetsov\", \"spacecraft\", \"trophy\", \"mercury\", \"dea\", \"birthday\", \"sledgehammer\", \"rico\", \"mateen\", \"poles\", \"limbaugh\", \"smashed\", \"zika\", \"migration\", \"coulibaly\", \"loaded\", \"bail\", \"puerto\", \"surplus\", \"emissions\", \"engineering\", \"q\", \"aliens\", \"utm\", \"israelis\", \"vaccine\", \"visa\", \"pilger\", \"spying\", \"infowars\", \"hoax\", \"bonuses\", \"carrier\", \"organic\", \"ramadi\", \"khan\", \"afghan\", \"oligarchy\", \"dhs\", \"holder\", \"hollande\", \"taliban\", \"bannon\", \"murphy\", \"harris\", \"wasserman\", \"hostages\", \"tpp\", \"html\", \"ufo\", \"egyptian\", \"admiral\", \"lesley\", \"silverman\", \"jeanine\", \"arabs\", \"molotov\", \"morris\", \"nostalgic\", \"cdc\", \"smug\", \"pumpkins\", \"brigades\", \"acquiesced\", \"florist\", \"untouched\", \"tacit\", \"mosquitoes\", \"virus\", \"dabiq\", \"spraying\", \"zika\", \"mosquito\", \"brazil\", \"kirkpatrick\", \"abaaoud\", \"ivanka\", \"exposures\", \"protestants\", \"hardball\", \"mc\", \"carmel\", \"pumpkin\", \"villages\", \"rear\", \"teneo\", \"void\", \"squash\", \"marquez\", \"holt\", \"helicopter\", \"aca\", \"moderators\", \"iodine\", \"clinics\", \"blumenthal\", \"inhabitants\", \"duck\", \"acid\", \"zionist\", \"screening\", \"afghan\", \"brock\", \"palestine\", \"globalist\", \"competitors\", \"admiral\", \"utm\", \"le\", \"bannon\", \"melania\", \"cnbc\", \"payer\", \"infowars\", \"conway\", \"authorization\", \"asylum\", \"taliban\", \"belgian\", \"wasserman\", \"vitamin\", \"emissions\", \"tpp\", \"organic\", \"holder\", \"html\", \"dhs\", \"egyptian\", \"gutierrez\", \"ptsd\", \"mclaughlin\", \"persians\", \"comforts\", \"polluted\", \"enrollment\", \"exempts\", \"cubs\", \"ricketts\", \"runway\", \"slowdown\", \"fatalities\", \"prosper\", \"socioeconomic\", \"rehash\", \"chatham\", \"quake\", \"ivory\", \"watches\", \"sacked\", \"devising\", \"sellout\", \"drawback\", \"motorcade\", \"vidal\", \"championship\", \"critiquing\", \"interface\", \"slager\", \"lewinsky\", \"aluminum\", \"pontiff\", \"machado\", \"honduras\", \"halloween\", \"biological\", \"reno\", \"shirt\", \"zika\", \"lab\", \"whitewater\", \"khan\", \"hawkish\", \"rome\", \"organic\", \"lewandowski\", \"vaccine\", \"epa\", \"harris\", \"cdc\", \"arabs\", \"villages\", \"dec\", \"external\", \"virus\", \"lesley\", \"admin\", \"islands\", \"brazile\", \"palestine\", \"clerk\", \"stevens\", \"afghan\", \"holder\", \"indigenous\", \"tpp\", \"egyptian\", \"genocide\", \"walsh\", \"wasserman\", \"transgender\", \"infowars\", \"emissions\", \"utm\", \"bannon\", \"zionist\", \"salazar\", \"skeet\", \"atrocious\", \"acrobats\", \"cooper\", \"exhibition\", \"dapa\", \"lottery\", \"fomc\", \"revisionists\", \"roadmap\", \"incisive\", \"contraception\", \"vu\", \"abdullah\", \"amazement\", \"accredited\", \"farook\", \"excludes\", \"spoil\", \"wales\", \"gesture\", \"shiite\", \"modernize\", \"battleship\", \"marquez\", \"helmets\", \"peacetime\", \"reuniting\", \"nuances\", \"honduras\", \"infowars\", \"kenyan\", \"denmark\", \"euro\", \"equipped\", \"hike\", \"utm\", \"dotcom\", \"pill\", \"mateen\", \"egyptian\", \"daca\", \"hydrogen\", \"barclays\", \"afghan\", \"offenders\", \"muhammad\", \"wellness\", \"breast\", \"peshmerga\", \"premiums\", \"ims\", \"oligarchy\", \"diet\", \"placement\", \"gunmen\", \"bannon\", \"jindal\", \"miracle\", \"taliban\", \"jew\", \"indigenous\", \"belgian\", \"zika\", \"emissions\", \"asylum\", \"ufo\", \"garland\", \"vitamin\", \"tpp\", \"organic\", \"plaats\", \"huelskamp\", \"kyle\", \"fluoride\", \"royce\", \"arteries\", \"eugenics\", \"regimen\", \"elephants\", \"grainy\", \"standardized\", \"wan\", \"accumulates\", \"stamps\", \"sawyer\", \"egalitarian\", \"overflowing\", \"costello\", \"alison\", \"adjunct\", \"beit\", \"consciously\", \"farook\", \"centrality\", \"ipsos\", \"compassion\", \"cd\", \"illustration\", \"tibet\", \"susceptible\", \"infowarsstore\", \"mcmahon\", \"milk\", \"accomplishment\", \"infowars\", \"vitamin\", \"carl\", \"euro\", \"mormon\", \"utm\", \"palestine\", \"nelson\", \"hindu\", \"norway\", \"placement\", \"australian\", \"stocks\", \"pataki\", \"laughed\", \"reilly\", \"greenhouse\", \"morris\", \"authorization\", \"zionist\", \"organic\", \"sioux\", \"html\", \"bannon\", \"arabs\", \"cooper\", \"lethal\", \"spain\", \"helicopter\", \"uranium\", \"admiral\", \"mcmullin\", \"belgian\", \"lewandowski\", \"emissions\", \"khan\", \"dhs\", \"raqqa\", \"tpp\", \"afghan\", \"halloween\", \"whiteness\", \"keefe\", \"huffpo\", \"mosaic\", \"mosby\", \"unannounced\", \"steinmeier\", \"policemen\", \"computing\", \"retiree\", \"readied\", \"modi\", \"antichrist\", \"retirements\", \"analysed\", \"misrepresenting\", \"lind\", \"mair\", \"rfra\", \"posit\", \"beans\", \"incriminating\", \"respite\", \"animation\", \"legislatures\", \"malls\", \"im\", \"avowed\", \"impressions\", \"batteries\", \"pleaded\", \"tpp\", \"bless\", \"hogan\", \"lewis\", \"tsa\", \"tesla\", \"merkel\", \"chomsky\", \"tibet\", \"respectable\", \"francois\", \"righteous\", \"wire\", \"secular\", \"emissions\", \"belgium\", \"drones\", \"milk\", \"semitic\", \"grassley\", \"arabs\", \"belgian\", \"snowden\", \"eliminated\", \"recess\", \"amendments\", \"vitamin\", \"morris\", \"conway\", \"complaint\", \"stevens\", \"reset\", \"loan\", \"halloween\", \"alt\", \"mcdonald\", \"harris\", \"infowars\", \"dhs\", \"utm\", \"uranium\", \"egyptian\", \"mateen\", \"zika\", \"zionist\", \"wasserman\", \"epa\", \"palestine\", \"indigenous\", \"jindal\", \"hebdo\", \"brock\", \"ami\", \"crusaders\", \"venus\", \"tasered\", \"mps\", \"disinformation\", \"majestic\", \"redistricting\", \"dabiq\", \"infowars\", \"gerrymandering\", \"juror\", \"murdoch\", \"raking\", \"wahoo\", \"tzrwu\", \"supercharge\", \"brainforce\", \"dodgers\", \"hardy\", \"silos\", \"abdulazeez\", \"flames\", \"dannemora\", \"jacob\", \"inarguably\", \"tasers\", \"cavalry\", \"aye\", \"basement\", \"sexism\", \"taser\", \"utm\", \"maggie\", \"widget\", \"chiefs\", \"menendez\", \"infowarsstore\", \"mining\", \"brazile\", \"tpp\", \"detention\", \"palestine\", \"ayotte\", \"haiti\", \"fascism\", \"pen\", \"html\", \"wellness\", \"korean\", \"garland\", \"asylum\", \"placement\", \"emissions\", \"defence\", \"ufo\", \"lewandowski\", \"taliban\", \"prince\", \"sioux\", \"vaccine\", \"hebdo\", \"afghan\", \"egyptian\", \"zika\", \"bannon\", \"arabs\", \"zionist\", \"murphy\", \"soy\", \"yates\", \"beatles\", \"haiti\", \"immortal\", \"pagliano\", \"juror\", \"ooh\", \"scopes\", \"ttip\", \"morris\", \"aquinas\", \"glossy\", \"obedient\", \"outbreaks\", \"admittedly\", \"bracing\", \"milne\", \"kings\", \"aggravated\", \"puritan\", \"disciples\", \"congregants\", \"molestation\", \"scorched\", \"cooking\", \"rodrigo\", \"stevens\", \"factories\", \"freeloaders\", \"quoting\", \"foer\", \"ineffective\", \"array\", \"infowars\", \"emwazi\", \"spectacle\", \"palestine\", \"justified\", \"infowarsstore\", \"mega\", \"soaring\", \"logical\", \"defects\", \"cotton\", \"employer\", \"khan\", \"wellness\", \"philippines\", \"widget\", \"utm\", \"arabs\", \"wasserman\", \"indigenous\", \"authorization\", \"html\", \"duterte\", \"admiral\", \"daesh\", \"asylum\", \"cyber\", \"vaccine\", \"hostages\", \"zika\", \"tpp\", \"punish\", \"truck\", \"emanuel\", \"belgian\", \"melania\", \"organic\", \"diet\", \"zionist\", \"raqqa\", \"egyptian\", \"emissions\", \"bannon\", \"hebdo\", \"chess\", \"gorbachev\", \"hpv\", \"sprott\", \"jensen\", \"nullification\", \"vacations\", \"expertly\", \"szall\", \"russophobia\", \"costco\", \"uniformly\", \"cannons\", \"variant\", \"parkinson\", \"psaki\", \"iq\", \"nigger\", \"abdeslam\", \"irate\", \"vat\", \"kirby\", \"taxi\", \"adapt\", \"finalist\", \"clowns\", \"butcher\", \"welch\", \"supplemental\", \"roadblock\", \"checkers\", \"volumes\", \"bakraoui\", \"bannon\", \"retirees\", \"hindu\", \"migrant\", \"wire\", \"euro\", \"hannity\", \"cigarettes\", \"provocative\", \"pilger\", \"commenting\", \"dhs\", \"bullets\", \"loan\", \"indigenous\", \"gmo\", \"monica\", \"epa\", \"lesley\", \"oligarchy\", \"egyptian\", \"emissions\", \"tapper\", \"walsh\", \"conway\", \"stevens\", \"asylum\", \"khan\", \"hollande\", \"organic\", \"tpp\", \"afghan\", \"protectors\", \"wasserman\", \"daesh\", \"admiral\", \"harris\", \"taliban\", \"palestine\", \"utm\"], \"Total\": [365.0, 160.0, 320.0, 130.0, 174.0, 186.0, 177.0, 285.0, 161.0, 206.0, 122.0, 144.0, 144.0, 123.0, 174.0, 89.0, 101.0, 125.0, 117.0, 84.0, 79.0, 39.0, 121.0, 125.0, 83.0, 78.0, 60.0, 126.0, 92.0, 141.0, 44.175304185093204, 8.920388581041173, 68.22330743025562, 6.805965514503564, 42.16039919783722, 16.93310139608773, 16.847291012707707, 10.065286236270314, 10.863904255555234, 34.047503491222805, 74.0312510524555, 10.082041915662714, 7.912567770719847, 33.88037756639225, 28.63116467538005, 41.69994450863164, 10.791987704237238, 64.04843037377651, 26.77315259188009, 18.833924512243968, 7.851404779664512, 122.89724829179687, 21.239847943607415, 9.78054375801662, 10.062528236639153, 10.84253323183562, 11.944184403198275, 6.816595654711706, 23.76006156407294, 7.062546295171365, 29.37163676654555, 44.53795122604909, 59.19307138374055, 74.77525179115385, 36.956939052978726, 66.39941161165761, 55.433179412706, 52.75282778513416, 40.24265979610539, 100.01300310023507, 103.27181198912102, 77.724657509928, 142.31729382721943, 121.35914672953093, 67.66454372862998, 85.42860435854469, 170.70699119066725, 42.1563946008869, 53.02078452917323, 137.81407508563387, 118.43539636480378, 67.12057644530228, 79.76707028745682, 60.3624694734597, 89.21872009906193, 83.81372679398902, 126.9413742467887, 93.11308860409044, 143.90775337370212, 160.91456469805982, 121.43078698327649, 118.23674922414429, 85.06728546311821, 206.866299595047, 174.91990595776858, 134.87202001828615, 144.85689628911084, 138.58634675932464, 117.08712847297173, 119.83925888662701, 134.57855128667356, 120.28866732394084, 154.02202120527622, 140.7825526761637, 116.3980224047327, 320.39443615291486, 365.89703342345547, 169.02023465480232, 285.31919491909645, 131.03878636289, 186.15757015008361, 154.95645083308557, 12.678634689152608, 24.03388200875804, 53.49020642236211, 17.369513959904403, 47.077168894142325, 37.27629316433478, 21.205366634418866, 14.152682818503678, 30.57242289451299, 19.671122220340447, 26.121293358360045, 11.746530353459937, 10.651605514866757, 6.946516199331909, 8.789229204774799, 15.619226983664388, 14.720357127964023, 11.813086038743261, 23.5010749299036, 36.210894712819794, 25.437123163346055, 10.904167883504623, 5.77780854144556, 6.73466736484218, 76.03454381825254, 9.697764369973855, 17.85372322991908, 72.35059006543202, 16.33983179782696, 11.476317816695719, 36.491407628021435, 114.47011446292471, 88.37758503649114, 22.39265975981764, 82.29529148685798, 154.95645083308557, 27.34350275910938, 69.1587961137171, 28.48401595110195, 285.31919491909645, 85.54117697299411, 60.40351294809401, 55.72837446854687, 50.7992087923859, 116.3980224047327, 65.80400358139485, 206.866299595047, 87.9405604161511, 97.99676092545876, 93.2507580721059, 320.39443615291486, 92.20084680879012, 141.9241189955401, 103.29350288952861, 92.34681856466243, 63.62310100214261, 365.89703342345547, 72.83787531641619, 74.16912924862983, 106.47128428596645, 169.02023465480232, 99.805422086034, 144.78549856911215, 184.31858801891715, 134.57855128667356, 143.90775337370212, 139.09537376293412, 137.81407508563387, 170.70699119066725, 161.27387544655156, 131.03878636289, 129.1193822399919, 154.02202120527622, 126.48442035302156, 186.15757015008361, 140.23540705756378, 122.89724829179687, 174.91990595776858, 140.7825526761637, 160.91456469805982, 16.965747051680676, 10.035025499503444, 174.53178765189554, 17.457620993090174, 130.098894919906, 6.053128868380528, 112.10344977109388, 12.826760708287551, 14.31987700437894, 15.332426373749946, 7.802935382257482, 11.62540146204969, 14.548182744685654, 20.12321780181906, 36.43952613432404, 111.29417735597305, 13.000141901241701, 27.734963556840253, 285.31919491909645, 20.195251478124124, 125.00953917239714, 19.42382406106196, 41.559312685425134, 65.73342865363894, 7.821704789322152, 13.870406928261826, 19.438777447330146, 10.577424236143742, 19.32132723085456, 40.87028141999833, 111.53730199931195, 82.59385188543484, 78.6047583940088, 55.91062730685386, 41.89544773604041, 41.550354531277826, 45.239461057060375, 114.22314298064526, 68.56785996321737, 111.32134999471886, 53.53232446449697, 82.98112316319997, 54.42648026224538, 61.78568687231201, 103.01009169942111, 43.39642569820383, 141.50066660370902, 72.48302536540814, 184.31858801891715, 67.91132598419978, 177.0778350654178, 104.16630379657107, 77.76132418675766, 140.7825526761637, 320.39443615291486, 108.01026877210384, 161.27387544655156, 122.8537466740256, 92.36721278175473, 94.05909978829624, 365.89703342345547, 127.67197104224849, 128.23260455284068, 123.77011731738267, 170.70699119066725, 117.19805938545777, 154.02202120527622, 134.87202001828615, 206.866299595047, 186.15757015008361, 169.02023465480232, 139.09537376293412, 140.23540705756378, 143.90775337370212, 174.91990595776858, 14.254832659522137, 46.46752278528413, 18.720577955041477, 10.318973572708998, 12.06654811176888, 10.897616913490271, 61.13921553115407, 6.7482343531202, 78.77903943270303, 15.498418296563827, 22.190902610360762, 23.19910052249481, 17.41814569159762, 7.574971051367084, 15.353825012553463, 7.656179563266735, 6.564364381746401, 44.52496054001675, 16.626337139893426, 16.28363876382857, 11.581922707279992, 5.637365762892557, 11.242566153379967, 5.702287710415918, 18.24239636959807, 36.210894712819794, 45.751072778940056, 7.668158185031393, 12.310486826144144, 70.8707495197575, 83.61096426758063, 29.267788332480677, 27.687961028150433, 41.02765882842864, 64.01399952099464, 138.58634675932464, 76.96820850682764, 85.96827961997059, 99.34906936091151, 285.31919491909645, 43.22817439362196, 43.49477680355658, 144.78549856911215, 73.99428586789814, 57.51957263865481, 169.02023465480232, 125.19372325866303, 141.9241189955401, 121.95745291877023, 129.1193822399919, 112.10344977109388, 174.53178765189554, 111.53730199931195, 74.1984405458691, 67.67177513145815, 111.29417735597305, 160.91456469805982, 91.37580595129565, 88.98357701518158, 93.50095763222542, 177.0778350654178, 99.08714495103138, 122.64255388950602, 184.31858801891715, 139.09537376293412, 144.85689628911084, 186.15757015008361, 174.91990595776858, 109.42676660428303, 119.84955982868289, 154.02202120527622, 116.66017105943739, 365.89703342345547, 206.866299595047, 320.39443615291486, 161.27387544655156, 141.50066660370902, 9.594112878630693, 20.97009156614512, 6.843957859376394, 6.614393946945102, 125.14024660557004, 9.42608680493315, 58.91632215576396, 21.02291446334785, 14.434935338020246, 6.747561826687133, 8.697020765494694, 5.688595376048736, 33.68135350442772, 6.488973979547495, 96.05215085233878, 6.523668054137086, 10.512501965990143, 93.8256781598678, 8.563992696317005, 7.632149293667296, 36.361271445295905, 44.43430350091133, 108.27355328537779, 9.652085716301888, 14.351817376057793, 41.550354531277826, 80.06092157042191, 5.707806879129299, 5.616805377616594, 11.162274792679044, 64.01399952099464, 365.89703342345547, 33.56308970433571, 82.34952659156512, 89.31826941383511, 52.49817951122179, 64.07163868950899, 320.39443615291486, 40.433423875347955, 54.46396294603915, 154.95645083308557, 174.91990595776858, 38.607435837849366, 37.38005067314089, 33.88037756639225, 184.31858801891715, 59.367862424761874, 95.25213206460184, 92.07770172539425, 63.369141973705176, 65.19790959412586, 119.83925888662701, 82.1450080354868, 134.57855128667356, 121.43078698327649, 106.92589051212549, 96.69990219014372, 161.27387544655156, 118.43539636480378, 91.02627123525636, 170.70699119066725, 75.15340939958905, 144.85689628911084, 117.19805938545777, 285.31919491909645, 206.866299595047, 123.77011731738267, 122.89724829179687, 118.23674922414429, 134.87202001828615, 186.15757015008361, 169.02023465480232, 16.51927134125798, 13.845399803156152, 55.3946558493604, 22.123005190117418, 12.665498543861126, 32.47762938341374, 12.315868778398597, 18.15071819029812, 16.092416444639472, 5.530277958242852, 16.733303986200216, 17.07685763068033, 7.710826144905873, 48.483711934931755, 16.813965205136423, 9.318772152179532, 6.510615922883291, 12.036710397169939, 22.082930096239473, 11.18829451963323, 5.61386546336877, 21.35417529482412, 93.8256781598678, 6.656346936633981, 27.663339071887048, 48.59628482876301, 8.228919516790967, 27.853709904471017, 51.91573304400722, 18.79374045091717, 79.01786698620293, 47.20361133571125, 95.44423560007549, 30.15760833490092, 365.89703342345547, 134.87202001828615, 70.09162814667192, 89.31826941383511, 44.12212170543828, 320.39443615291486, 177.0778350654178, 62.34430547279434, 60.74744802263405, 66.89669037255443, 106.92589051212549, 77.78276667616558, 81.2600490830601, 74.24987539776501, 56.16945850749331, 103.21610046330952, 78.46417568298331, 130.098894919906, 128.23260455284068, 141.50066660370902, 169.02023465480232, 109.88078996483384, 140.23540705756378, 161.27387544655156, 174.53178765189554, 125.14024660557004, 103.04020703803407, 107.4602046811638, 114.22314298064526, 126.9413742467887, 140.7825526761637, 100.53049848923877, 117.19805938545777, 125.19372325866303, 206.866299595047, 144.78549856911215, 143.90775337370212, 124.43007544964522, 186.15757015008361, 184.31858801891715, 138.58634675932464, 51.60252101713532, 69.76945760117502, 15.660396942586534, 17.55333883375598, 33.40848084879688, 7.157808052843112, 14.973241888408468, 25.33966388047205, 13.426932998253852, 5.592208812870975, 6.510345161552008, 63.722569420411254, 12.27756743196321, 12.084140323485517, 7.2961321767116445, 8.569413128624383, 14.00935007776221, 13.200819727625438, 18.50925319746602, 6.455480181376385, 27.970735729612084, 36.542564174914325, 6.4200656140259005, 6.496888258494124, 56.26999037979078, 10.334972608640747, 21.31381655793919, 11.302293618253623, 15.797125235224035, 76.91741993218712, 45.84262197002364, 186.15757015008361, 45.66231220836583, 46.31702640857819, 69.45964085593408, 36.12457993857525, 37.3687687135193, 96.27578799704405, 41.62048034857091, 51.91573304400722, 33.866668563972055, 43.550150609453326, 41.4509839163629, 83.34207222824989, 85.9380704721811, 206.866299595047, 94.3132375892506, 90.64719882685094, 95.44423560007549, 60.9218616010039, 73.67673132278189, 174.53178765189554, 117.19805938545777, 79.25314771532983, 68.26886364398723, 75.8669583930835, 81.69032470239617, 134.87202001828615, 130.098894919906, 127.67197104224849, 83.0749574114069, 122.64255388950602, 70.86112294394634, 126.04361737100035, 138.58634675932464, 117.38604667123096, 100.41090175700342, 129.1193822399919, 365.89703342345547, 143.90775337370212, 320.39443615291486, 126.9413742467887, 174.91990595776858, 154.95645083308557, 285.31919491909645, 141.50066660370902, 154.02202120527622, 121.95745291877023, 177.0778350654178, 144.85689628911084, 118.43539636480378, 142.31729382721943, 67.91132598419978, 23.492046882458283, 10.32336674977107, 33.79367873622017, 9.201103726109388, 14.82827068291553, 37.234466881830535, 16.060383396950666, 38.20029696959796, 13.000141901241701, 365.89703342345547, 42.061907798195946, 36.74353704949218, 32.43170793390276, 5.63338097978304, 18.258999865200458, 80.3571992386955, 39.746840250500114, 40.133171337710785, 13.359781703775871, 21.797363072581565, 6.650670108393338, 43.510051293551, 56.19873845588067, 17.003792606262273, 34.693509757232455, 5.660493381897561, 11.323798765423902, 11.282157795091877, 5.699863191739614, 69.9080258348594, 51.88677136092374, 41.3423960874409, 320.39443615291486, 26.587833177994742, 101.91129505295551, 60.85077661474734, 45.461278440555624, 79.01786698620293, 126.01177839966225, 93.50095763222542, 186.15757015008361, 92.21813674459877, 177.0778350654178, 75.59921261375405, 78.66149942079966, 88.67814543849212, 117.08712847297173, 140.23540705756378, 92.07770172539425, 98.82024540030804, 118.23674922414429, 123.77011731738267, 106.92589051212549, 206.866299595047, 102.59103833546024, 122.89724829179687, 125.19372325866303, 170.70699119066725, 85.87150076514968, 109.88078996483384, 141.9241189955401, 142.31729382721943, 184.31858801891715, 174.91990595776858, 285.31919491909645, 161.27387544655156, 174.53178765189554, 141.50066660370902, 131.03878636289, 16.26601555892461, 18.46518406394548, 10.241339851232972, 78.66149942079966, 7.519733447519599, 35.88282214333001, 36.74353704949218, 15.871104357726379, 9.986012488825468, 35.27355404869092, 130.098894919906, 6.597915403048915, 5.549615717604558, 9.238519867713618, 8.99579496835502, 21.7516878069428, 16.917266195074813, 8.223041327607062, 24.758513928566842, 15.926766530278112, 13.180224380425257, 10.774710146094977, 7.400448111751173, 5.695261512070607, 18.300436099463163, 38.70421438082862, 13.873528836928328, 122.64255388950602, 41.80570378501766, 11.154938813423575, 62.51937922388954, 35.033000894816404, 36.531814123715684, 67.35197283273514, 365.89703342345547, 56.837110005431725, 50.211545041813025, 177.0778350654178, 58.203052068686915, 79.01786698620293, 62.86060830746487, 38.94132774482145, 64.5981183973065, 64.92965706678125, 63.522490204677545, 74.873376976674, 144.78549856911215, 92.07770172539425, 97.43786618891288, 101.91129505295551, 320.39443615291486, 174.53178765189554, 154.02202120527622, 144.85689628911084, 128.23260455284068, 140.23540705756378, 73.76281352788149, 140.7825526761637, 124.07279879706121, 123.77011731738267, 113.44155464529312, 141.9241189955401, 126.48442035302156, 285.31919491909645, 186.15757015008361, 74.47363648436955, 90.90199983085064, 95.19728680945093, 117.19805938545777, 122.8537466740256, 169.02023465480232, 121.43078698327649, 141.50066660370902, 124.43007544964522, 174.91990595776858, 206.866299595047, 161.27387544655156, 142.31729382721943, 39.08834101736029, 28.413466175695998, 34.608739532248606, 47.55638392016894, 10.736140030225412, 28.829970117193923, 10.29238643530274, 5.554721005883821, 12.987384441770566, 16.339498707965525, 14.441082142143129, 9.067394056054226, 12.016442561485269, 12.654872671479866, 11.419470789486441, 39.487013109333944, 19.233288979339157, 9.11129333808142, 47.078007900652196, 14.103610143557619, 13.548900554315802, 84.14640626033444, 40.463640120636356, 51.81344898415717, 9.105721455437061, 32.49250050819067, 7.40640357408736, 14.726497616038555, 15.138269061327575, 7.264523034499056, 64.28455723922815, 40.977980991032716, 35.91869358798266, 161.27387544655156, 22.347791033089575, 60.74744802263405, 74.61170553219532, 83.34207222824989, 89.31826941383511, 87.95657429964952, 69.54569630418261, 59.35303360947415, 92.34681856466243, 58.39682693407075, 143.90775337370212, 74.97420181621591, 126.04361737100035, 144.85689628911084, 68.79123798104736, 78.27426558550374, 121.95745291877023, 160.91456469805982, 134.57855128667356, 174.91990595776858, 206.866299595047, 94.21044437291204, 119.84955982868289, 127.67197104224849, 122.64255388950602, 123.77011731738267, 144.78549856911215, 137.81407508563387, 169.02023465480232, 186.15757015008361, 184.31858801891715, 121.35914672953093, 154.02202120527622, 124.07279879706121, 140.7825526761637, 129.1193822399919, 170.70699119066725, 177.0778350654178, 320.39443615291486], \"loglift\": [30.0, 29.0, 28.0, 27.0, 26.0, 25.0, 24.0, 23.0, 22.0, 21.0, 20.0, 19.0, 18.0, 17.0, 16.0, 15.0, 14.0, 13.0, 12.0, 11.0, 10.0, 9.0, 8.0, 7.0, 6.0, 5.0, 4.0, 3.0, 2.0, 1.0, 0.5845, 0.5342, 0.5204, 0.512, 0.5068, 0.5066, 0.5056, 0.5051, 0.505, 0.4996, 0.4983, 0.4929, 0.4902, 0.4895, 0.4878, 0.4864, 0.4838, 0.4829, 0.4818, 0.4784, 0.4777, 0.4774, 0.4772, 0.4769, 0.4763, 0.4755, 0.4753, 0.4737, 0.4707, 0.4705, 0.4665, 0.4596, 0.4495, 0.4436, 0.4574, 0.4409, 0.4365, 0.4306, 0.4376, 0.3955, 0.3913, 0.4003, 0.3583, 0.3612, 0.3871, 0.3661, 0.3071, 0.4219, 0.3979, 0.2995, 0.3088, 0.3677, 0.3402, 0.3773, 0.3172, 0.325, 0.256, 0.3051, 0.207, 0.1791, 0.2157, 0.2212, 0.3068, 0.0614, 0.1074, 0.1807, 0.1417, 0.1554, 0.2103, 0.1946, 0.1517, 0.1911, 0.0397, 0.0766, 0.1728, -0.4137, -0.4951, -0.0553, -0.3825, 0.1, -0.149, -0.0678, 0.6762, 0.6521, 0.6361, 0.6316, 0.63, 0.6206, 0.616, 0.6071, 0.5928, 0.5718, 0.5718, 0.5712, 0.5522, 0.5481, 0.5475, 0.5433, 0.5399, 0.5364, 0.5342, 0.5338, 0.5322, 0.5279, 0.5192, 0.5153, 0.5143, 0.5142, 0.5097, 0.5097, 0.5085, 0.5083, 0.5076, 0.4719, 0.4598, 0.4924, 0.4524, 0.4245, 0.4846, 0.4137, 0.4752, 0.3059, 0.3889, 0.4154, 0.4163, 0.4239, 0.3345, 0.3963, 0.2688, 0.3618, 0.3418, 0.3475, 0.1727, 0.334, 0.2521, 0.299, 0.3149, 0.3883, 0.0203, 0.3599, 0.354, 0.2667, 0.1438, 0.2798, 0.1807, 0.1152, 0.1599, 0.136, 0.1456, 0.1467, 0.0412, 0.058, 0.1539, 0.1543, 0.0523, 0.1555, -0.0932, 0.077, 0.1361, -0.1401, 0.0239, 1.1068, 0.7086, 0.69, 0.6689, 0.6604, 0.6589, 0.6223, 0.6165, 0.6144, 0.609, 0.6081, 0.6054, 0.6021, 0.6018, 0.5998, 0.5988, 0.5955, 0.5854, 0.579, 0.5778, 0.576, 0.5724, 0.5677, 0.5553, 0.5537, 0.5514, 0.5483, 0.5456, 0.5448, 0.5406, 0.5379, 0.518, 0.5233, 0.5159, 0.4965, 0.5084, 0.507, 0.5002, 0.4333, 0.4688, 0.4245, 0.4813, 0.4368, 0.4747, 0.4603, 0.402, 0.4947, 0.3247, 0.415, 0.2487, 0.4089, 0.2095, 0.3129, 0.371, 0.2262, 0.0198, 0.2894, 0.1787, 0.2445, 0.3199, 0.3131, -0.1618, 0.2039, 0.1988, 0.2023, 0.067, 0.222, 0.0754, 0.1369, -0.2005, -0.1228, -0.071, 0.0799, 0.0562, 0.0311, -0.163, 0.8598, 0.757, 0.7317, 0.6888, 0.6683, 0.665, 0.6416, 0.6386, 0.6366, 0.6292, 0.6232, 0.6032, 0.6014, 0.5813, 0.5716, 0.5676, 0.5649, 0.5594, 0.557, 0.5382, 0.5359, 0.5323, 0.5297, 0.5295, 0.5292, 0.5279, 0.5245, 0.5243, 0.5242, 0.5203, 0.5091, 0.5173, 0.5069, 0.497, 0.48, 0.4495, 0.4665, 0.4493, 0.4361, 0.3672, 0.4769, 0.4708, 0.374, 0.4271, 0.4456, 0.3153, 0.3511, 0.3212, 0.3384, 0.3268, 0.3252, 0.2528, 0.3225, 0.3875, 0.4029, 0.2999, 0.2225, 0.3396, 0.3448, 0.3315, 0.1651, 0.3144, 0.2261, 0.0502, 0.1526, 0.1331, -0.0174, 0.0084, 0.2263, 0.1598, -0.0234, 0.161, -0.7872, -0.3211, -0.726, -0.1387, -0.0159, 0.7013, 0.6613, 0.6497, 0.6494, 0.6454, 0.6449, 0.6402, 0.6377, 0.6368, 0.6289, 0.6242, 0.601, 0.5999, 0.589, 0.5846, 0.5773, 0.5762, 0.5753, 0.573, 0.5678, 0.5633, 0.5606, 0.5568, 0.5551, 0.5522, 0.542, 0.5312, 0.526, 0.5195, 0.515, 0.5025, 0.4849, 0.5086, 0.4881, 0.4668, 0.4873, 0.4746, 0.385, 0.4951, 0.477, 0.4002, 0.38, 0.4961, 0.4923, 0.5018, 0.3245, 0.4401, 0.3815, 0.3845, 0.4303, 0.4263, 0.3161, 0.3642, 0.2555, 0.2488, 0.274, 0.2997, 0.1385, 0.2264, 0.3029, 0.0833, 0.3629, 0.109, 0.1912, -0.1821, -0.118, 0.133, 0.1308, 0.1491, 0.0606, -0.2686, -0.1878, 0.6725, 0.6693, 0.5937, 0.5881, 0.58, 0.574, 0.5734, 0.5728, 0.572, 0.5595, 0.5534, 0.5444, 0.5439, 0.5383, 0.5377, 0.5375, 0.5325, 0.5257, 0.5214, 0.5195, 0.5178, 0.5175, 0.5134, 0.5106, 0.5057, 0.5053, 0.5051, 0.5036, 0.4988, 0.4965, 0.4685, 0.4763, 0.4543, 0.4826, 0.3588, 0.3964, 0.4281, 0.4095, 0.4461, 0.3043, 0.3233, 0.4157, 0.4148, 0.395, 0.3343, 0.3717, 0.3633, 0.3742, 0.4056, 0.3152, 0.3556, 0.2747, 0.2607, 0.2303, 0.1898, 0.2701, 0.2098, 0.1696, 0.1465, 0.2265, 0.2755, 0.2589, 0.2325, 0.1595, 0.1114, 0.2437, 0.1663, 0.1213, -0.1463, 0.0434, 0.0407, 0.1222, -0.1439, -0.2284, 0.0035, 0.7173, 0.7056, 0.6902, 0.6816, 0.6744, 0.673, 0.6722, 0.6398, 0.6193, 0.6162, 0.5945, 0.5861, 0.5846, 0.573, 0.572, 0.5682, 0.5664, 0.5546, 0.5541, 0.5493, 0.5454, 0.545, 0.545, 0.5436, 0.5423, 0.5369, 0.5357, 0.5355, 0.5355, 0.5339, 0.5336, 0.514, 0.5259, 0.5255, 0.5147, 0.5178, 0.5144, 0.4651, 0.5042, 0.48, 0.5041, 0.4835, 0.4851, 0.4152, 0.4101, 0.311, 0.3908, 0.3915, 0.3768, 0.4276, 0.3911, 0.2437, 0.3032, 0.3724, 0.3957, 0.3647, 0.3478, 0.2261, 0.2296, 0.2287, 0.3313, 0.2002, 0.3786, 0.175, 0.1309, 0.1874, 0.2437, 0.1376, -0.3096, 0.0772, -0.3511, 0.1156, -0.0676, -0.0169, -0.3872, 0.0251, -0.0352, 0.1138, -0.1852, -0.0308, 0.1201, -0.0611, 0.8684, 0.8564, 0.7622, 0.7263, 0.7243, 0.6961, 0.6812, 0.6591, 0.6575, 0.6463, 0.6419, 0.6276, 0.6246, 0.6236, 0.6209, 0.6072, 0.6026, 0.5989, 0.5972, 0.5861, 0.5849, 0.5839, 0.5803, 0.5762, 0.5752, 0.5747, 0.5741, 0.5698, 0.5662, 0.5651, 0.5603, 0.5608, 0.5576, 0.5081, 0.5572, 0.5188, 0.5227, 0.5199, 0.4815, 0.4294, 0.4491, 0.3565, 0.4312, 0.3196, 0.4336, 0.4234, 0.4014, 0.3478, 0.3093, 0.3893, 0.3719, 0.3297, 0.3107, 0.3332, 0.134, 0.3297, 0.2623, 0.2488, 0.1255, 0.3736, 0.2539, 0.1157, 0.0958, -0.0741, -0.0661, -0.3937, -0.0369, -0.1034, 0.0461, 0.091, 0.8274, 0.697, 0.6607, 0.6448, 0.6411, 0.635, 0.6255, 0.6179, 0.6104, 0.6094, 0.6072, 0.6047, 0.6028, 0.5975, 0.591, 0.591, 0.5842, 0.5808, 0.5734, 0.5658, 0.5648, 0.5641, 0.5608, 0.5554, 0.5529, 0.5517, 0.5514, 0.55, 0.5467, 0.546, 0.5314, 0.5318, 0.5277, 0.4903, 0.4215, 0.496, 0.4972, 0.4205, 0.4791, 0.4557, 0.4643, 0.495, 0.4543, 0.4499, 0.4401, 0.4215, 0.3467, 0.3899, 0.3735, 0.3635, 0.1763, 0.2642, 0.2773, 0.2792, 0.2923, 0.2645, 0.4075, 0.235, 0.2592, 0.253, 0.2762, 0.1923, 0.226, -0.0778, 0.0666, 0.3965, 0.3122, 0.2911, 0.2016, 0.154, -0.0177, 0.1518, 0.0568, 0.126, -0.0998, -0.315, -0.1093, 0.0044, 1.0398, 0.773, 0.7466, 0.742, 0.7342, 0.7253, 0.7044, 0.687, 0.683, 0.6798, 0.6695, 0.6599, 0.6571, 0.6522, 0.6446, 0.6433, 0.6369, 0.6369, 0.6324, 0.6296, 0.6289, 0.6149, 0.6136, 0.6097, 0.6076, 0.6047, 0.6016, 0.5958, 0.5954, 0.5943, 0.5799, 0.5726, 0.5621, 0.4807, 0.5777, 0.5271, 0.5139, 0.5022, 0.4633, 0.4583, 0.4767, 0.4792, 0.4257, 0.4777, 0.3522, 0.441, 0.3663, 0.3438, 0.4434, 0.4197, 0.3344, 0.2476, 0.2857, 0.1997, 0.1432, 0.3392, 0.2576, 0.2351, 0.2445, 0.2397, 0.1562, 0.1702, 0.0687, 0.0138, -0.0089, 0.1954, 0.0728, 0.1731, 0.0639, 0.1202, -0.1484, -0.201, -0.7802], \"logprob\": [30.0, 29.0, 28.0, 27.0, 26.0, 25.0, 24.0, 23.0, 22.0, 21.0, 20.0, 19.0, 18.0, 17.0, 16.0, 15.0, 14.0, 13.0, 12.0, 11.0, 10.0, 9.0, 8.0, 7.0, 6.0, 5.0, 4.0, 3.0, 2.0, 1.0, -8.54069995880127, -10.190799713134766, -8.170100212097168, -10.483599662780762, -8.664999961853027, -9.577500343322754, -9.583499908447266, -10.099100112915039, -10.022899627685547, -8.885899543762207, -8.11050033569336, -10.109700202941895, -10.354700088500977, -8.901000022888184, -9.071100234985352, -8.696399688720703, -10.050700187683105, -8.27079963684082, -9.144200325012207, -9.499300003051758, -10.375, -7.624599933624268, -9.380200386047363, -10.156100273132324, -10.128199577331543, -10.054400444030762, -9.957799911499023, -10.520299911499023, -9.2746000289917, -10.48799991607666, -9.066800117492676, -8.657400131225586, -8.383000373840332, -8.155200004577637, -8.846199989318848, -8.276800155639648, -8.461700439453125, -8.51710033416748, -8.780799865722656, -7.912499904632568, -7.8846001625061035, -8.159899711608887, -7.5970001220703125, -7.753300189971924, -8.311699867248535, -8.099599838256836, -7.466300010681152, -8.75, -8.5447998046875, -7.688000202178955, -7.8302001953125, -8.339200019836426, -8.194100379943848, -8.435600280761719, -8.104999542236328, -8.159700393676758, -7.813600063323975, -8.07450008392334, -7.737199783325195, -7.65339994430542, -7.8983001708984375, -7.919400215148926, -8.163100242614746, -7.519899845123291, -7.641600131988525, -7.8282999992370605, -7.795899868011475, -7.826399803161621, -7.940199851989746, -7.932600021362305, -7.859499931335449, -7.932300090789795, -7.83650016784668, -7.889500141143799, -7.98360013961792, -7.557400226593018, -7.50600004196167, -7.838600158691406, -7.642300128936768, -7.937900066375732, -7.835700035095215, -7.937900066375732, -9.697199821472168, -9.08180046081543, -8.297699928283691, -9.427000045776367, -8.431500434875488, -8.674400329589844, -9.2431001663208, -9.656399726867676, -8.900400161743164, -9.36240005493164, -9.078800201416016, -9.878600120544434, -9.995400428771973, -10.426899909973145, -10.192299842834473, -9.621500015258789, -9.684200286865234, -9.907699584960938, -9.222100257873535, -8.790200233459473, -9.14490032196045, -9.996299743652344, -10.64009952545166, -10.490799903869629, -8.06779956817627, -10.12720012664795, -9.521400451660156, -8.122099876403809, -9.611200332641602, -9.964799880981445, -8.808699607849121, -7.701099872589111, -7.97189998626709, -9.312199592590332, -8.050600051879883, -7.445700168609619, -9.12030029296875, -8.263199806213379, -9.088800430297852, -6.953800201416016, -8.075400352478027, -8.396900177001953, -8.47659969329834, -8.56149959564209, -7.821800231933594, -8.330400466918945, -7.3125, -8.074899673461914, -7.986599922180176, -8.030599594116211, -6.971099853515625, -8.055299758911133, -7.705900192260742, -7.9766998291015625, -8.07289981842041, -8.371999740600586, -6.990699768066406, -8.265199661254883, -8.253000259399414, -7.978700160980225, -7.639599800109863, -8.03030014038086, -7.757400035858154, -7.581399917602539, -7.85129976272583, -7.808199882507324, -7.832600116729736, -7.840700149536133, -7.7322001457214355, -7.772200107574463, -7.883900165557861, -7.898200035095215, -7.82390022277832, -7.917699813842773, -7.779900074005127, -7.89300012588501, -7.96589994430542, -7.889100074768066, -7.942200183868408, -6.7256999015808105, -9.373600006103516, -9.9173002243042, -7.082300186157227, -9.393199920654297, -7.386099815368652, -10.490500450134277, -7.577400207519531, -9.747400283813477, -9.6427001953125, -9.575200080871582, -10.253399848937988, -9.858099937438965, -9.633999824523926, -9.311599731445312, -8.718899726867676, -7.6057000160217285, -9.762900352478027, -9.01159954071045, -6.6819000244140625, -9.331899642944336, -7.512499809265137, -9.379199981689453, -8.630900382995605, -8.173999786376953, -10.305000305175781, -9.735300064086914, -9.400500297546387, -10.00979995727539, -9.411600112915039, -8.66510009765625, -7.6809000968933105, -7.976099967956543, -8.032999992370605, -8.393099784851074, -8.6697998046875, -8.679499626159668, -8.601099967956543, -7.741799831390381, -8.216699600219727, -7.776400089263916, -8.451800346374512, -8.057900428771973, -8.441800117492676, -8.329299926757812, -7.876500129699707, -8.648200035095215, -7.636300086975098, -8.214900016784668, -7.44789981842041, -8.286199569702148, -7.527200222015381, -7.954500198364258, -8.188699722290039, -7.7399001121521, -7.124000072479248, -7.941699981689453, -7.651500225067139, -7.857900142669678, -8.067700386047363, -8.056300163269043, -7.172800064086914, -7.860000133514404, -7.8607001304626465, -7.892600059509277, -7.706399917602539, -7.927499771118164, -7.80079984664917, -7.872099876403809, -7.781799793243408, -7.809599876403809, -7.854300022125244, -7.8983001708984375, -7.913899898529053, -7.913000106811523, -7.9120001792907715, -9.396400451660156, -8.31760025024414, -9.251999855041504, -9.890600204467773, -9.754599571228027, -9.859800338745117, -8.158499717712402, -10.365400314331055, -7.910099983215332, -9.543399810791016, -9.190400123596191, -9.166000366210938, -9.454400062561035, -10.30720043182373, -9.610400199890137, -10.310199737548828, -10.466699600219727, -8.557900428771973, -9.54539966583252, -9.585000038146973, -9.928000450134277, -10.651700019836426, -9.96399974822998, -10.642999649047852, -9.480400085449219, -8.796099662780762, -8.565600395202637, -10.35200023651123, -9.878700256347656, -8.132200241088867, -7.978000164031982, -9.019599914550781, -9.085399627685547, -8.702099800109863, -8.274200439453125, -7.532400131225586, -8.103500366210938, -8.010000228881836, -7.878600120544434, -6.892499923706055, -8.669899940490723, -8.669899940490723, -7.564000129699707, -8.18220043182373, -8.415599822998047, -7.4679999351501465, -7.7322998046875, -7.6367998123168945, -7.771299839019775, -7.725800037384033, -7.86870002746582, -7.498499870300293, -7.876500129699707, -8.219099998474121, -8.29580020904541, -7.901199817657471, -7.610000133514404, -8.058799743652344, -8.080100059509277, -8.043800354003906, -7.571599960327148, -8.002900123596191, -7.877900123596191, -7.646500110626221, -7.8256001472473145, -7.804500102996826, -7.70419979095459, -7.740600109100342, -7.991799831390381, -7.967299938201904, -7.899600028991699, -7.993000030517578, -7.798099994659424, -7.902299880981445, -7.869800090789795, -7.968999862670898, -7.976900100708008, -9.950900077819824, -9.208900451660156, -10.340299606323242, -10.374699592590332, -7.438499927520752, -10.024999618530273, -8.196999549865723, -9.229999542236328, -9.606900215148926, -10.375200271606445, -10.126199722290039, -10.57390022277832, -8.796500205993652, -10.45419979095459, -7.763800144195557, -10.460599899291992, -9.98449993133545, -7.796599864959717, -10.19279956817627, -10.313199996948242, -8.756500244140625, -8.558799743652344, -7.671899795532227, -10.091099739074707, -9.697199821472168, -8.644399642944336, -7.9994001388549805, -10.645500183105469, -10.668100357055664, -9.985799789428711, -8.251700401306152, -6.526100158691406, -8.891300201416016, -8.014300346374512, -7.9542999267578125, -8.465200424194336, -8.278800010681152, -6.758800029754639, -8.718500137329102, -8.438799858093262, -7.46999979019165, -7.369100093841553, -8.763799667358398, -8.79990005493164, -8.888699531555176, -7.372200012207031, -8.38949966430664, -7.975299835205078, -8.006199836730957, -8.334099769592285, -8.309599876403809, -7.811100006103516, -8.140700340270996, -7.75570011138916, -7.865200042724609, -7.967199802398682, -8.042099952697754, -7.691699981689453, -7.912499904632568, -8.099300384521484, -7.690100193023682, -8.230899810791016, -7.82859992980957, -7.958199977874756, -7.44189977645874, -7.6992998123168945, -7.961900234222412, -7.971199989318848, -7.991600036621094, -7.948400020599365, -7.9552998542785645, -7.971099853515625, -9.436300277709961, -9.616000175476074, -8.305100440979004, -9.228599548339844, -9.794500350952148, -8.858699798583984, -9.829000473022461, -9.441800117492676, -9.562899589538574, -10.643600463867188, -9.54259967803955, -9.531200408935547, -10.326899528503418, -8.493800163269043, -9.553400039672852, -10.143799781799316, -10.507399559020996, -9.8996000289917, -9.297100067138672, -9.979000091552734, -10.67020034790039, -9.334600448608398, -7.858500003814697, -10.507200241088867, -9.087499618530273, -8.524499893188477, -10.300600051879883, -9.0826997756958, -8.464900016784668, -9.48330020904541, -8.07509994506836, -8.582500457763672, -7.9004998207092285, -9.024299621582031, -6.652200222015381, -7.612599849700928, -8.235400199890137, -8.01159954071045, -8.680299758911133, -6.8394999504089355, -7.41349983215332, -8.364899635314941, -8.391799926757812, -8.315099716186523, -7.906899929046631, -8.187700271606445, -8.152299880981445, -8.23169994354248, -8.479399681091309, -7.961299896240234, -8.195099830627441, -7.770299911499023, -7.798799991607666, -7.7307000160217285, -7.593500137329102, -7.94379997253418, -7.760200023651123, -7.660600185394287, -7.604700088500977, -7.857399940490723, -8.002799987792969, -7.97730016708374, -7.942699909210205, -7.910099983215332, -7.854700088500977, -8.059200286865234, -7.9832000732421875, -7.962100028991699, -7.72760009765625, -7.894700050354004, -7.903500080108643, -7.967400074005127, -7.830599784851074, -7.925099849700928, -7.978300094604492, -8.2524995803833, -7.962500095367432, -9.472000122070312, -9.366499900817871, -8.730199813842773, -10.272100448608398, -9.534899711608887, -9.041199684143066, -9.696800231933594, -10.575699806213379, -10.445500373840332, -8.172699928283691, -9.821000099182129, -9.848400115966797, -10.353899955749512, -10.196900367736816, -9.707200050354004, -9.778499603271484, -9.440899848937988, -10.499099731445312, -9.036700248718262, -8.76990032196045, -10.508899688720703, -10.49839973449707, -8.340900421142578, -10.040900230407715, -9.318300247192383, -9.952799797058105, -9.618000030517578, -8.036700248718262, -8.554499626159668, -7.172699928283691, -8.566100120544434, -8.552399635314941, -8.157899856567383, -8.808500289916992, -8.77810001373291, -7.88100004196167, -8.6806001663208, -8.483699798583984, -8.886799812316895, -8.655900001525879, -8.703800201416016, -8.07509994506836, -8.049599647521973, -7.270199775695801, -7.97599983215332, -8.014900207519531, -7.978000164031982, -8.376099586486816, -8.22249984741211, -7.507599830627441, -7.84630012512207, -8.168299674987793, -8.29419994354248, -8.219599723815918, -8.162599563598633, -7.782899856567383, -7.815400123596191, -7.83519983291626, -8.162300109863281, -7.903900146484375, -8.27400016784668, -7.901700019836426, -7.850900173187256, -7.9604997634887695, -8.060400009155273, -7.914999961853027, -7.3206000328063965, -7.867000102996826, -7.494900226593018, -7.953999996185303, -7.8165998458862305, -7.8871002197265625, -7.646900177001953, -7.935999870300293, -7.911499977111816, -7.9959001541137695, -7.921899795532227, -7.968299865722656, -8.018799781799316, -8.016400337219238, -7.826700210571289, -8.900300025939941, -9.816699981689453, -8.666799545288086, -9.96969985961914, -9.520700454711914, -8.614899635314941, -9.477899551391602, -8.61299991607666, -9.702099800109863, -6.36899995803833, -8.546600341796875, -8.684800148010254, -8.810600280761719, -10.563699722290039, -9.401399612426758, -7.924300193786621, -8.6318998336792, -8.62399959564209, -9.734999656677246, -9.246700286865234, -10.434800148010254, -8.560099601745605, -8.308199882507324, -9.50469970703125, -8.792099952697754, -10.605799674987793, -9.916600227355957, -9.92389965057373, -10.607799530029297, -8.105799674987793, -8.403400421142578, -8.63379955291748, -6.635700225830078, -9.075599670410156, -7.770400047302246, -8.28219985961914, -8.576600074768066, -8.062199592590332, -7.647600173950195, -7.926300048828125, -7.3302001953125, -7.958000183105469, -7.417099952697754, -8.15429973602295, -8.124799728393555, -8.026900291442871, -7.802700042724609, -7.660699844360352, -8.001399993896484, -7.9481000900268555, -7.8109002113342285, -7.784200191497803, -7.9079999923706055, -7.447299957275391, -7.9527997970581055, -7.839700222015381, -7.834700107574463, -7.647900104522705, -8.086899757385254, -7.960000038146973, -7.842299938201904, -7.859499931335449, -7.7708001136779785, -7.815100193023682, -7.65339994430542, -7.867099761962891, -7.854599952697754, -7.914899826049805, -7.946800231933594, -9.296899795532227, -9.300399780273438, -9.926199913024902, -7.90339994430542, -10.25469970703125, -8.698100090026855, -8.683899879455566, -9.531000137329102, -10.001799583435059, -8.740799903869629, -7.43779993057251, -10.421899795532227, -10.596799850463867, -10.092499732971191, -10.125499725341797, -9.242600440979004, -9.500800132751465, -10.225600242614746, -9.130800247192383, -9.57960033416748, -9.76990032196045, -9.972100257873535, -10.350899696350098, -10.618300437927246, -9.453499794006348, -8.705699920654297, -9.732000350952148, -7.554100036621094, -8.633600234985352, -9.955400466918945, -8.246500015258789, -8.825200080871582, -8.787400245666504, -8.21310043334961, -6.5894999504089355, -8.377099990844727, -8.499899864196777, -7.316199779510498, -8.37030029296875, -8.088000297546387, -8.308099746704102, -8.75629997253418, -8.290800094604492, -8.29010009765625, -8.321800231933594, -8.17609977722168, -7.591400146484375, -8.000800132751465, -7.960599899291992, -7.92579984664917, -6.967400074005127, -7.486999988555908, -7.598999977111816, -7.658400058746338, -7.767199993133545, -7.70550012588501, -8.204999923706055, -7.731100082397461, -7.833199977874756, -7.841899871826172, -7.905900001525879, -7.7657999992370605, -7.8471999168396, -7.337500095367432, -7.620200157165527, -8.206399917602539, -8.091300010681152, -8.066300392150879, -7.94789981842041, -7.948299884796143, -7.801000118255615, -7.962200164794922, -7.904300212860107, -7.963600158691406, -7.848800182342529, -7.896200180053711, -7.939499855041504, -7.950900077819824, -8.2076997756958, -8.793499946594238, -8.622699737548828, -8.309499740600586, -9.805500030517578, -8.826700210571289, -9.8774995803833, -10.511699676513672, -9.666299819946289, -9.4399995803833, -9.573699951171875, -10.048800468444824, -9.770000457763672, -9.723099708557129, -9.833399772644043, -8.594099998474121, -9.31980037689209, -10.066900253295898, -8.429200172424316, -9.637299537658691, -9.678099632263184, -7.865900039672852, -8.599300384521484, -8.355999946594238, -10.09689998626709, -8.82759952545166, -10.309300422668457, -9.627900123596191, -9.600700378417969, -10.336000442504883, -8.170100212097168, -8.627699851989746, -8.770000457763672, -7.349599838256836, -9.228899955749512, -8.279500007629395, -8.0871000289917, -7.9882001876831055, -7.957799911499023, -7.9781999588012695, -8.194600105285645, -8.350700378417969, -7.961999893188477, -8.368399620056152, -7.5920000076293945, -8.155200004577637, -7.710400104522705, -7.593800067901611, -8.238900184631348, -8.133399963378906, -7.775300025939941, -7.584799766540527, -7.725500106811523, -7.549300193786621, -7.4380998611450195, -8.02869987487793, -7.869500160217285, -7.828800201416016, -7.859499931335449, -7.855199813842773, -7.781899929046631, -7.817200183868408, -7.714600086212158, -7.672999858856201, -7.705599784851074, -7.9191999435424805, -7.803500175476074, -7.919400215148926, -7.902200222015381, -7.932400226593018, -7.921800136566162, -7.937699794769287, -7.923999786376953]}, \"token.table\": {\"Topic\": [1, 2, 3, 4, 5, 6, 7, 8, 9, 10, 1, 2, 3, 4, 5, 6, 7, 8, 9, 10, 1, 2, 3, 4, 5, 6, 7, 8, 9, 10, 1, 2, 3, 4, 5, 6, 7, 8, 9, 10, 1, 2, 3, 4, 5, 6, 7, 8, 9, 10, 1, 2, 3, 4, 5, 6, 7, 8, 9, 10, 1, 2, 3, 4, 5, 6, 7, 8, 9, 10, 1, 2, 3, 4, 5, 6, 7, 8, 9, 1, 2, 3, 4, 5, 6, 7, 8, 9, 10, 1, 2, 3, 4, 5, 6, 8, 1, 2, 3, 4, 5, 6, 7, 8, 9, 10, 1, 2, 3, 4, 5, 7, 1, 2, 3, 5, 1, 2, 3, 4, 5, 6, 7, 8, 9, 10, 1, 2, 3, 4, 5, 6, 7, 8, 9, 10, 1, 2, 3, 4, 5, 6, 7, 8, 9, 10, 1, 2, 3, 4, 5, 6, 7, 8, 9, 10, 1, 2, 3, 4, 5, 6, 7, 8, 9, 10, 1, 2, 3, 4, 5, 6, 7, 8, 9, 10, 1, 2, 3, 4, 5, 6, 7, 8, 9, 10, 1, 2, 3, 4, 5, 6, 7, 8, 9, 10, 1, 2, 3, 4, 5, 6, 7, 8, 9, 10, 1, 2, 3, 4, 5, 6, 7, 8, 9, 10, 1, 2, 3, 4, 5, 6, 7, 8, 9, 10, 1, 2, 3, 4, 5, 6, 7, 8, 9, 10, 1, 2, 3, 4, 5, 6, 7, 8, 9, 10, 1, 2, 3, 4, 5, 9, 1, 2, 3, 4, 5, 6, 7, 8, 9, 10, 1, 2, 3, 4, 5, 6, 7, 8, 9, 10, 1, 2, 3, 4, 5, 6, 7, 8, 9, 1, 2, 3, 4, 5, 7, 1, 2, 3, 4, 5, 6, 7, 8, 9, 10, 1, 2, 3, 4, 5, 6, 7, 8, 9, 10, 1, 2, 3, 4, 5, 6, 7, 8, 9, 10, 1, 2, 3, 4, 5, 8, 9, 1, 2, 3, 4, 5, 6, 7, 8, 9, 10, 1, 2, 3, 4, 5, 6, 7, 8, 9, 10, 1, 2, 3, 4, 5, 6, 7, 8, 9, 10, 1, 2, 3, 4, 5, 6, 7, 8, 9, 10, 1, 2, 3, 4, 5, 1, 2, 3, 4, 5, 6, 7, 8, 9, 10, 1, 2, 3, 4, 5, 6, 7, 8, 9, 10, 1, 2, 3, 4, 5, 6, 7, 8, 9, 1, 2, 3, 4, 5, 6, 7, 8, 9, 10, 1, 2, 3, 4, 8, 1, 2, 3, 4, 5, 6, 7, 8, 9, 10, 1, 2, 3, 4, 5, 6, 7, 8, 9, 10, 1, 2, 3, 4, 5, 6, 7, 8, 9, 10, 1, 2, 3, 4, 5, 6, 7, 8, 9, 10, 1, 2, 3, 4, 5, 6, 7, 8, 9, 10, 1, 2, 3, 4, 5, 6, 7, 8, 9, 10, 1, 2, 3, 4, 5, 6, 7, 8, 9, 10, 1, 2, 3, 4, 5, 6, 7, 8, 9, 10, 1, 2, 3, 4, 5, 6, 7, 8, 9, 10, 1, 2, 3, 4, 5, 6, 7, 8, 9, 1, 2, 3, 4, 6, 1, 2, 3, 4, 5, 6, 7, 8, 9, 10, 1, 2, 3, 4, 5, 6, 7, 8, 9, 10, 1, 2, 3, 4, 5, 6, 7, 8, 9, 10, 1, 2, 3, 4, 5, 6, 7, 1, 2, 3, 4, 5, 6, 7, 8, 9, 10, 1, 2, 3, 4, 5, 6, 7, 8, 9, 10, 1, 2, 3, 4, 5, 6, 7, 8, 9, 10, 1, 2, 3, 4, 5, 6, 1, 2, 3, 4, 5, 6, 7, 8, 9, 10, 1, 2, 3, 4, 5, 6, 7, 8, 9, 10, 1, 2, 3, 4, 5, 6, 7, 8, 9, 10, 1, 2, 3, 4, 5, 6, 7, 8, 9, 10, 1, 2, 3, 4, 5, 6, 7, 8, 9, 10, 1, 2, 3, 4, 5, 6, 7, 8, 9, 10, 1, 2, 3, 4, 5, 6, 7, 8, 9, 10, 1, 2, 3, 4, 5, 6, 7, 8, 9, 10, 1, 2, 3, 4, 5, 6, 7, 8, 9, 10, 1, 2, 3, 4, 5, 6, 7, 8, 9, 10, 1, 2, 3, 4, 5, 6, 7, 8, 9, 10, 1, 2, 3, 4, 5, 6, 10, 1, 2, 3, 4, 5, 6, 7, 8, 9, 10, 1, 2, 3, 4, 5, 6, 7, 8, 9, 10, 1, 2, 3, 4, 5, 6, 7, 8, 9, 10, 1, 2, 3, 4, 5, 6, 7, 8, 9, 10, 1, 2, 3, 4, 5, 6, 7, 8, 9, 10, 1, 2, 3, 4, 5, 6, 7, 8, 1, 2, 3, 4, 5, 6, 7, 8, 9, 10, 1, 2, 3, 4, 5, 6, 7, 8, 9, 1, 2, 3, 4, 5, 6, 7, 8, 9, 10, 1, 2, 3, 4, 5, 6, 8, 1, 2, 3, 4, 5, 6, 7, 8, 9, 10, 1, 2, 3, 4, 5, 6, 7, 1, 2, 3, 4, 5, 6, 7, 8, 9, 10, 1, 2, 3, 4, 5, 6, 7, 8, 9, 10, 1, 2, 3, 4, 5, 6, 7, 8, 9, 10, 1, 2, 3, 4, 5, 6, 7, 8, 9, 10, 1, 2, 3, 4, 5, 6, 7, 8, 9, 10, 1, 2, 3, 4, 5, 6, 7, 8, 9, 10, 1, 2, 3, 4, 5, 6, 7, 8, 9, 10, 1, 2, 3, 4, 5, 6, 7, 8, 9, 10, 1, 2, 3, 4, 5, 6, 7, 8, 9, 10, 1, 2, 3, 4, 5, 6, 7, 8, 9, 10, 1, 2, 3, 4, 5, 6, 7, 8, 9, 10, 1, 2, 3, 4, 5, 6, 7, 8, 9, 10, 1, 2, 3, 4, 5, 7, 9, 1, 2, 3, 4, 5, 6, 7, 8, 9, 10, 1, 2, 3, 4, 5, 6, 7, 8, 9, 10, 1, 2, 3, 4, 5, 6, 7, 9, 1, 2, 3, 4, 5, 6, 7, 8, 9, 10, 1, 2, 3, 4, 5, 6, 7, 8, 9, 10, 1, 2, 3, 4, 5, 6, 7, 8, 9, 10, 1, 2, 3, 4, 5, 6, 9, 1, 2, 3, 4, 5, 6, 7, 8, 9, 10, 1, 2, 3, 4, 5, 6, 9, 1, 2, 3, 4, 5, 6, 7, 8, 9, 10, 1, 2, 3, 4, 5, 6, 7, 8, 9, 10, 1, 2, 3, 4, 5, 6, 7, 8, 9, 10, 1, 2, 3, 4, 5, 6, 7, 8, 9, 10, 1, 2, 3, 4, 5, 6, 7, 8, 9, 10, 1, 2, 3, 4, 5, 6, 7, 8, 9, 10, 1, 2, 3, 4, 5, 6, 7, 8, 9, 10, 1, 2, 3, 4, 5, 6, 7, 8, 9, 10, 1, 2, 3, 4, 5, 6, 7, 8, 9, 1, 2, 3, 4, 5, 6, 7, 8, 9, 10, 1, 2, 3, 4, 5, 6, 7, 8, 9, 10, 1, 2, 3, 4, 5, 6, 7, 8, 9, 10, 1, 2, 3, 4, 5, 6, 7, 8, 9, 10, 1, 2, 3, 4, 5, 6, 7, 9, 1, 2, 3, 4, 5, 6, 7, 1, 2, 3, 4, 5, 6, 7, 8, 9, 1, 2, 3, 4, 5, 6, 7, 8, 9, 10, 1, 2, 3, 4, 5, 6, 7, 8, 9, 10, 1, 2, 3, 4, 5, 6, 7, 8, 9, 10, 1, 2, 3, 4, 5, 6, 7, 8, 9, 10, 1, 2, 3, 4, 5, 6, 7, 8, 9, 10, 1, 2, 3, 4, 5, 6, 7, 8, 9, 10, 1, 2, 3, 4, 5, 6, 7, 8, 9, 10, 1, 2, 3, 4, 5, 6, 7, 8, 9, 10, 1, 2, 3, 4, 5, 6, 7, 8, 9, 10, 1, 2, 3, 4, 5, 6, 7, 8, 9, 10, 1, 2, 3, 4, 5, 6, 7, 8, 9, 10, 1, 2, 3, 4, 5, 6, 7, 8, 9, 10, 1, 2, 3, 4, 5, 6, 7, 8, 9, 10, 1, 2, 3, 4, 5, 6, 7, 8, 9, 10, 1, 2, 3, 4, 5, 6, 7, 8, 9, 10, 1, 2, 3, 4, 5, 6, 7, 8, 9, 10, 1, 2, 3, 4, 5, 6, 7, 8, 9, 10, 1, 2, 3, 4, 1, 2, 3, 4, 5, 6, 7, 8, 9, 10, 1, 2, 3, 4, 5, 6, 7, 8, 9, 10, 1, 2, 3, 4, 5, 6, 7, 8, 9, 10, 1, 2, 3, 4, 5, 6, 7, 8, 9, 10, 1, 2, 3, 4, 5, 6, 7, 8, 9, 1, 2, 3, 4, 5, 6, 7, 8, 9, 10, 1, 2, 3, 4, 5, 7, 1, 2, 3, 4, 5, 6, 7, 8, 9, 10, 1, 2, 3, 4, 5, 6, 7, 8, 9, 10, 1, 2, 3, 4, 5, 6, 7, 8, 9, 10, 1, 2, 3, 4, 5, 6, 7, 8, 9, 1, 2, 3, 4, 5, 6, 7, 8, 9, 10, 1, 2, 3, 4, 5, 6, 7, 8, 9, 10, 1, 2, 3, 4, 5, 6, 7, 8, 9, 10, 1, 2, 3, 4, 5, 6, 7, 8, 9, 10, 1, 2, 3, 4, 5, 6, 7, 8, 9, 10, 1, 2, 3, 4, 5, 6, 7, 8, 9, 10, 1, 2, 3, 4, 5, 6, 7, 8, 9, 10, 1, 2, 3, 4, 5, 6, 7, 8, 9, 10, 1, 2, 3, 4, 5, 6, 7, 8, 9, 10, 1, 2, 3, 4, 5, 6, 7, 8, 9, 10, 1, 2, 3, 4, 5, 6, 7, 8, 9, 10, 1, 2, 3, 4, 5, 6, 7, 8, 9, 10, 1, 2, 3, 4, 5, 6, 7, 8, 9, 1, 2, 3, 4, 5, 6, 7, 8, 9, 10, 1, 2, 3, 4, 5, 9, 1, 2, 3, 4, 5, 6, 7, 8, 9, 1, 2, 3, 4, 5, 1, 2, 3, 4, 5, 6, 7, 8, 9, 1, 2, 3, 4, 6, 10, 1, 2, 3, 4, 5, 6, 7, 8, 1, 2, 3, 4, 5, 6, 7, 8, 9, 10, 1, 2, 3, 4, 5, 6, 7, 8, 9, 10, 1, 2, 3, 4, 5, 6, 7, 8, 9, 10, 1, 2, 3, 4, 5, 6, 7, 8, 9, 10, 1, 2, 3, 4, 5, 6, 7, 8, 9, 10, 1, 2, 3, 4, 5, 6, 7, 8, 9, 10, 1, 2, 3, 4, 5, 6, 7, 8, 9, 10, 1, 2, 3, 4, 5, 6, 7, 8, 9, 10, 1, 2, 3, 4, 5, 6, 7, 8, 1, 2, 3, 4, 5, 6, 7, 8, 9, 10, 1, 2, 3, 4, 5, 6, 7, 8, 9, 10, 1, 2, 3, 4, 5, 6, 7, 8, 9, 10, 1, 2, 3, 4, 5, 6, 7, 8, 9, 10, 1, 2, 3, 4, 5, 6, 7, 8, 9, 10, 1, 2, 3, 4, 5, 6, 7, 8, 9, 10, 1, 2, 3, 4, 5, 6, 7, 8, 9, 10, 1, 2, 3, 4, 5, 6, 7, 8, 9, 10, 1, 2, 3, 4, 5, 6, 7, 8, 1, 2, 3, 4, 5, 6, 7, 8, 9, 10, 1, 2, 3, 4, 5, 6, 7, 8, 9, 10, 1, 2, 3, 4, 5, 6, 7, 8, 9, 10, 1, 2, 3, 4, 5, 6, 7, 8, 9, 10, 1, 2, 3, 4, 5, 6, 7, 8, 9, 10, 1, 2, 3, 4, 5, 6, 7, 8, 9, 10, 1, 2, 3, 4, 9, 1, 2, 3, 4, 5, 6, 7, 8, 9, 10, 1, 2, 3, 4, 5, 6, 7, 8, 9, 10, 1, 2, 3, 5, 6, 7, 1, 2, 3, 4, 5, 6, 7, 8, 9, 10, 1, 2, 3, 4, 5, 6, 8, 1, 2, 3, 4, 5, 6, 7, 8, 9, 10, 1, 2, 3, 4, 5, 6, 7, 8, 9, 10, 1, 2, 3, 4, 5, 6, 7, 8, 9, 10, 1, 2, 3, 4, 5, 6, 7, 8, 9, 10, 1, 2, 3, 4, 5, 6, 7, 8, 9, 10, 1, 2, 3, 4, 5, 6, 7, 8, 9, 10, 1, 2, 3, 4, 5, 6, 7, 8, 9, 10, 1, 2, 3, 4, 5, 6, 7, 8, 9, 10, 1, 2, 3, 4, 5, 6, 7, 8, 9, 1, 2, 3, 4, 5, 6, 7, 8, 9, 10, 1, 2, 3, 4, 5, 6, 7, 8, 9, 10, 1, 2, 3, 4, 5, 6, 7, 8, 9, 10, 1, 2, 3, 4, 5, 6, 7, 8, 9, 10, 1, 2, 3, 4, 5, 6, 7, 8, 9, 10, 1, 2, 3, 4, 5, 6, 7, 8, 9, 10, 1, 2, 3, 4, 5, 6, 7, 8, 9, 10, 1, 2, 3, 4, 5, 6, 7, 8, 9, 10, 1, 2, 3, 4, 5, 6, 7, 8, 9, 10, 1, 2, 3, 4, 5, 6, 7, 8, 9, 10, 1, 2, 3, 4, 5, 6, 7, 8, 9, 10, 1, 2, 3, 4, 5, 6, 7, 8, 9, 10, 1, 2, 3, 4, 5, 6, 7, 8, 9, 10, 1, 2, 3, 4, 5, 6, 7, 8, 9, 10, 1, 2, 3, 4, 5, 6, 7, 8, 9, 10, 1, 2, 3, 4, 5, 6, 7, 8, 9, 10, 1, 2, 3, 4, 5, 6, 7, 8, 9, 10, 1, 2, 3, 4, 5, 6, 7, 8, 9, 10, 1, 2, 3, 4, 5, 6, 7, 8, 9, 10, 1, 2, 3, 4, 5, 6, 7, 8, 9, 10, 1, 2, 3, 4, 5, 6, 7, 8, 9, 10, 1, 2, 3, 4, 5, 6, 7, 8, 9, 10, 1, 2, 3, 4, 5, 6, 7, 8, 9, 10, 1, 2, 3, 4, 5, 7, 9, 1, 2, 3, 4, 5, 6, 7, 8, 9, 10, 1, 2, 3, 4, 5, 6, 7, 8, 9, 10, 1, 2, 3, 4, 5, 8, 1, 2, 3, 4, 5, 1, 2, 3, 4, 5, 6, 7, 8, 9, 10, 1, 2, 3, 4, 5, 6, 7, 8, 9, 10, 1, 2, 3, 4, 5, 6, 7, 8, 9, 10, 1, 2, 3, 4, 5, 6, 7, 8, 9, 10, 1, 2, 3, 4, 5, 6, 7, 8, 9, 10, 1, 2, 3, 4, 5, 6, 7, 8, 9, 10, 1, 2, 3, 4, 5, 6, 7, 8, 9, 10, 1, 2, 3, 4, 5, 6, 7, 8, 9, 10, 1, 2, 3, 4, 5, 6, 7, 8, 9, 10, 1, 2, 3, 4, 5, 6, 7, 8, 9, 10, 1, 2, 3, 4, 5, 6, 7, 8, 9, 10, 1, 2, 3, 4, 5, 6, 7, 8, 9, 10, 1, 2, 3, 4, 5, 6, 7, 8, 9, 10, 1, 2, 3, 4, 5, 6, 7, 8, 9, 10, 1, 2, 3, 4, 5, 6, 7, 8, 9, 10, 1, 2, 3, 4, 5, 6, 7, 8, 9, 10, 1, 2, 3, 4, 5, 6, 7, 8, 9, 1, 2, 3, 4, 5, 6, 7, 8, 9, 10, 1, 2, 3, 4, 5, 6, 7, 8, 9, 10, 1, 2, 3, 4, 5, 6, 7, 8, 9, 10, 1, 2, 3, 4, 5, 6, 7, 8, 9, 10, 1, 2, 3, 4, 5, 6, 7, 8, 9, 10, 1, 2, 3, 4, 5, 6, 7, 8, 9, 10, 1, 2, 3, 4, 5, 6, 7, 8, 9, 10, 1, 2, 3, 4, 5, 6, 7, 8, 9, 10, 1, 2, 3, 4, 5, 6, 7, 8, 9, 10, 1, 2, 3, 4, 5, 6, 7, 8, 9, 10, 1, 2, 3, 4, 5, 6, 7, 8, 9, 10, 1, 2, 3, 4, 5, 6, 7, 8, 9, 10, 1, 2, 3, 4, 5, 6, 7, 8, 9, 10, 1, 2, 3, 4, 5, 6, 7, 8, 9, 10, 1, 2, 3, 4, 5, 6, 7, 8, 9, 1, 2, 3, 4, 5, 6, 7, 8, 9, 10, 1, 2, 3, 4, 5, 6, 7, 8, 9, 10, 1, 2, 3, 4, 5, 6, 7, 8, 9, 10, 1, 2, 3, 4, 5, 6, 7, 8, 9, 10, 1, 2, 3, 4, 5, 6, 7, 8, 9, 10, 1, 2, 3, 4, 5, 6, 7, 8, 9, 10, 1, 2, 3, 4, 5, 6, 7, 8, 9, 10, 1, 2, 3, 4, 1, 2, 3, 4, 5, 6, 7, 8, 9, 10, 1, 2, 3, 4, 5, 6, 7, 8, 9, 10, 1, 2, 3, 4, 5, 6, 7, 8, 9, 10, 1, 2, 3, 4, 5, 6, 7, 8, 9, 10, 1, 2, 3, 4, 5, 6, 7, 8, 9, 10, 1, 2, 3, 4, 5, 6, 7, 8, 9, 10, 1, 2, 3, 4, 5, 6, 7, 8, 9, 10, 1, 2, 3, 4, 5, 6, 7, 8, 9, 10, 1, 2, 3, 4, 5, 6, 7, 8, 9, 10, 1, 2, 3, 4, 5, 6, 7, 8, 9, 10, 1, 2, 3, 4, 5, 6, 7, 8, 9, 10, 1, 2, 3, 4, 5, 6, 7, 8, 9, 10, 1, 2, 3, 4, 5, 6, 7, 8, 9, 10, 1, 2, 3, 4, 5, 6, 7, 8, 9, 10, 1, 2, 3, 4, 5, 6, 7, 8, 9, 10, 1, 2, 3, 4, 5, 6, 7, 8, 9, 10, 1, 2, 3, 4, 5, 7, 8, 9, 10, 1, 2, 3, 4, 5, 6, 7, 8, 9, 10, 1, 2, 3, 4, 5, 6, 7, 8, 10, 1, 2, 3, 4, 5, 6, 7, 8, 9, 10, 1, 2, 3, 4, 5, 6, 7, 8, 9, 10, 1, 2, 3, 4, 5, 6, 7, 8, 9, 10, 1, 2, 3, 4, 5, 6, 7, 8, 9, 10, 1, 2, 3, 4, 5, 6, 7, 8, 9, 10, 1, 2, 3, 4, 5, 6, 7, 8, 9, 10, 1, 2, 3, 4, 5, 6, 7, 8, 9, 10, 1, 2, 3, 4, 5, 6, 7, 8, 9, 10, 1, 2, 3, 4, 5, 6, 7, 8, 9, 10, 1, 2, 3, 4, 5, 6, 7, 8, 9, 10, 1, 2, 3, 4, 5, 6, 7, 8, 9, 10, 1, 2, 3, 4, 5, 6, 7, 8, 9, 10, 1, 2, 3, 4, 5, 6, 7, 8, 9, 10, 1, 2, 3, 4, 5, 6, 7, 8, 9, 10, 1, 2, 3, 4, 5, 6, 7, 8, 9, 10, 1, 2, 3, 4, 5, 6, 7, 8, 9, 10, 1, 2, 3, 4, 5, 6, 7, 8, 9, 1, 2, 3, 4, 5, 6, 7, 8, 9, 10, 1, 2, 3, 4, 5, 6, 7, 8, 9, 10, 1, 2, 3, 4, 5, 6, 7, 1, 2, 3, 4, 5, 6, 7, 8, 9, 10, 1, 2, 3, 4, 5, 6, 7, 8, 9, 1, 2, 3, 4, 5, 6, 7, 8, 9, 10, 1, 2, 3, 4, 5, 9, 1, 2, 3, 4, 5, 6, 7, 8, 9, 10, 1, 2, 3, 4, 5, 6, 7, 8, 9, 10, 1, 2, 3, 4, 5, 6, 7, 8, 9, 10, 1, 2, 3, 4, 5, 6, 7, 8, 9, 10, 1, 2, 3, 4, 5, 6, 7, 8, 9, 10, 1, 2, 3, 4, 5, 6, 7, 8, 9, 10, 1, 2, 3, 4, 5, 6, 7, 8, 9, 10, 1, 2, 3, 4, 5, 6, 7, 8, 9, 10, 1, 2, 3, 4, 5, 6, 7, 8, 9, 10, 1, 2, 3, 4, 5, 6, 7, 8, 9, 10, 1, 2, 3, 4, 5, 6, 7, 8, 9, 10, 1, 2, 3, 4, 5, 6, 7, 8, 9, 10, 1, 2, 3, 4, 5, 6, 7, 8, 9, 10, 1, 2, 3, 4, 5, 6, 7, 8, 9, 10, 1, 2, 3, 4, 5, 6, 7, 8, 9, 10, 1, 2, 3, 4, 5, 6, 7, 8, 9, 10, 1, 2, 3, 4, 5, 6, 7, 8, 9, 10, 1, 2, 3, 4, 5, 6, 7, 8, 9, 10, 1, 2, 3, 4, 5, 1, 2, 3, 4, 5, 6, 7, 8, 9, 10, 1, 2, 3, 4, 5, 6, 7, 8, 9, 10, 1, 2, 3, 4, 5, 6, 7, 8, 9, 10, 1, 2, 3, 4, 5, 6, 7, 8, 9, 1, 2, 3, 4, 5, 6, 7, 8, 9, 10, 1, 2, 3, 4, 5, 6, 7, 8, 9, 10, 1, 2, 3, 4, 5, 6, 7, 8, 9, 10, 1, 2, 3, 4, 5, 6, 7, 8, 9, 10, 1, 2, 3, 4, 5, 6, 7, 8, 9, 10, 1, 2, 3, 4, 5, 6, 7, 8, 9, 10, 1, 2, 3, 4, 5, 6, 7, 8, 9, 10, 1, 2, 3, 4, 5, 6, 7, 8, 9, 10, 1, 2, 3, 4, 5, 6, 7, 8, 9, 10, 1, 2, 3, 4, 5, 6, 7, 1, 2, 3, 4, 5, 6, 7, 8, 9, 10, 1, 2, 3, 4, 5, 6, 7, 8, 9, 10, 1, 2, 3, 4, 5, 6, 7, 8, 9, 10, 1, 2, 3, 4, 5, 6, 7, 8, 9, 10, 1, 2, 3, 4, 5, 6, 7, 8, 9, 10, 1, 2, 3, 4, 5, 1, 2, 3, 4, 5, 6, 7, 8, 9, 10, 1, 2, 3, 4, 5, 6, 7, 8, 9, 10, 1, 2, 3, 4, 5, 6, 7, 8, 9, 10, 1, 2, 3, 4, 5, 6, 7, 8, 9, 10, 1, 2, 3, 4, 5, 6, 7, 8, 9, 1, 2, 3, 4, 5, 6, 7, 8, 9, 10, 1, 2, 3, 4, 5, 6, 7, 8, 9, 10, 1, 2, 3, 4, 5, 6, 7, 8, 9, 10, 1, 2, 3, 4, 5, 6, 7, 8, 9, 10, 1, 2, 3, 4, 5, 6, 7, 8, 9, 10, 1, 2, 3, 4, 5, 6, 7, 8, 9, 10, 1, 2, 3, 4, 5, 6, 7, 8, 9, 10, 1, 2, 3, 4, 5, 6, 7, 8, 9, 10, 1, 2, 3, 4, 5, 6, 7, 8, 1, 2, 3, 4, 5, 6, 7, 8, 9, 10, 1, 2, 3, 4, 5, 6, 7, 1, 2, 3, 4, 5, 6, 7, 8, 9, 10, 1, 2, 3, 4, 5, 6, 7, 8, 9, 10, 1, 2, 3, 4, 5, 6, 8, 9, 1, 2, 3, 4, 5, 6, 7, 8, 9, 10, 1, 2, 3, 4, 5, 6, 7, 8, 9, 10, 1, 2, 3, 4, 5, 6, 7, 8, 9, 10, 1, 2, 3, 4, 5, 6, 7, 8, 9, 10, 1, 2, 3, 4, 5, 6, 7, 8, 9, 10, 1, 2, 3, 4, 5, 6, 7, 8, 9, 10, 1, 2, 3, 4, 5, 6, 7, 8, 9, 10, 1, 2, 3, 4, 5, 6, 7, 8, 9, 10, 1, 2, 3, 4, 5, 6, 7, 8, 9, 10, 1, 2, 3, 4, 5, 6, 7, 8, 9, 10, 1, 2, 3, 4, 5, 6, 7, 8, 9, 1, 2, 3, 4, 5, 6, 7, 8, 9, 10, 1, 2, 3, 4, 5, 6, 7, 8, 9, 10, 1, 2, 3, 4, 5, 6, 7, 8, 9, 10, 1, 2, 3, 4, 5, 6, 8, 1, 2, 3, 4, 5, 6, 7, 8, 9, 10, 1, 2, 3, 4, 5, 6, 7, 8, 9, 10, 1, 2, 3, 4, 5, 6, 7, 8, 9, 10, 1, 2, 3, 4, 7, 8, 1, 2, 3, 4, 5, 6, 7, 8, 9, 10, 1, 2, 3, 4, 5, 6, 7, 8, 9, 10, 1, 2, 3, 4, 5, 6, 7, 8, 9, 10, 1, 2, 3, 4, 5, 6, 7, 8, 9, 10, 1, 2, 3, 4, 6, 7, 8, 9, 1, 2, 3, 4, 5, 6, 7, 8, 9, 10, 1, 2, 3, 4, 5, 6, 7, 8, 9, 10, 1, 2, 3, 4, 5, 6, 7, 8, 9, 10, 1, 2, 3, 4, 5, 6, 7, 8, 9, 10, 1, 2, 3, 4, 5, 6, 7, 1, 2, 3, 7, 8, 1, 2, 3, 4, 5, 6, 7, 8, 9, 10, 1, 2, 3, 4, 5, 6, 7, 8, 9, 10, 1, 2, 3, 4, 5, 1, 2, 3, 4, 5, 6, 1, 2, 3, 4, 5, 6, 7, 8, 9, 10, 1, 2, 3, 4, 5, 6, 7, 8, 9, 10, 1, 2, 3, 4, 5, 6, 7, 8, 9, 10, 1, 2, 3, 4, 5, 6, 7, 8, 9, 10, 1, 2, 3, 4, 5, 6, 7, 8, 9, 10, 1, 2, 3, 4, 5, 6, 7, 8, 10, 1, 2, 3, 4, 5, 6, 7, 8, 1, 2, 3, 4, 5, 6, 7, 8, 9, 10, 1, 2, 3, 4, 5, 6, 7, 8, 9, 10, 1, 2, 3, 4, 5, 6, 7, 8, 9, 10, 1, 2, 3, 4, 5, 6, 7, 8, 9, 10, 1, 2, 3, 4, 5, 6, 7, 8, 9, 10, 1, 2, 3, 4, 5, 6, 7, 8, 9, 10, 1, 2, 3, 4, 5, 6, 7, 8, 1, 2, 3, 4, 5, 6, 7, 8, 9, 10, 1, 2, 3, 4, 5, 6, 9, 1, 2, 3, 4, 5, 6, 7, 8, 9, 10, 1, 2, 3, 4, 5, 6, 7, 8, 9, 10, 1, 2, 3, 4, 5, 6, 7, 8, 9, 10, 1, 2, 3, 4, 5, 6, 7, 8, 9, 10, 1, 2, 3, 4, 5, 6, 7, 8, 9, 10, 1, 2, 3, 4, 5, 6, 7, 8, 9, 10, 1, 2, 3, 4, 5, 6, 7, 8, 9, 10, 1, 2, 3, 4, 5, 6, 7, 8, 9, 10, 1, 2, 3, 4, 5, 6, 7, 8, 9, 10, 1, 2, 3, 4, 5, 6, 7, 8, 9, 10, 1, 2, 3, 4, 5, 6, 7, 8, 9, 10, 1, 2, 3, 4, 5, 6, 7, 8, 9, 10, 1, 2, 3, 4, 5, 8, 1, 2, 3, 4, 5, 6, 7, 8, 9, 10, 1, 2, 3, 4, 5, 6, 7, 8, 9, 10, 1, 2, 3, 4, 5, 6, 7, 8, 9, 10, 1, 2, 3, 4, 5, 6, 7, 8, 9, 10, 1, 2, 3, 4, 5, 6, 7, 8, 9, 10, 1, 2, 3, 4, 5, 6, 7, 8, 9, 10, 1, 2, 3, 4, 5, 6, 7, 8, 9, 10, 1, 2, 3, 4, 5, 6, 7, 8, 9, 10, 1, 2, 3, 4, 5, 6, 7, 8, 9, 10, 1, 2, 3, 4, 5, 6, 7, 8, 9, 10, 1, 2, 3, 4, 5, 6, 7, 8, 9, 10, 1, 2, 3, 4, 5, 6, 7, 8, 9, 10, 1, 2, 3, 4, 5, 6, 7, 8, 9, 10, 1, 2, 3, 4, 5, 6, 7, 8, 9, 10, 1, 2, 3, 4, 5, 6, 7, 8, 9, 10, 1, 2, 3, 4, 5, 6, 7, 9, 1, 2, 3, 4, 5, 6, 7, 8, 9, 10, 1, 2, 3, 4, 5, 6, 7, 8, 9, 10, 1, 2, 3, 4, 5, 6, 7, 8, 9, 10, 1, 2, 3, 4, 5, 6, 7, 8, 9, 10, 1, 2, 3, 4, 5, 6, 7, 8, 9, 10, 1, 2, 3, 4, 5, 6, 7, 8, 9, 10, 1, 2, 3, 4, 5, 6, 7, 8, 9, 10, 1, 2, 3, 4, 5, 6, 7, 8, 9, 10, 1, 2, 3, 4, 5, 6, 7, 8, 9, 10, 1, 2, 3, 4, 5, 6, 7, 8, 9, 10, 1, 2, 3, 4, 5, 6, 7, 8, 9, 10, 1, 2, 3, 4, 5, 6, 7, 8, 9, 10, 1, 2, 3, 4, 5, 6, 7, 8, 9, 10, 1, 2, 3, 4, 5, 6, 7, 8, 9, 10, 1, 2, 3, 4, 5, 6, 7, 8, 9, 10, 1, 2, 3, 4, 5, 6, 7, 8, 9, 10, 1, 2, 3, 4, 5, 6, 7, 8, 9, 10, 1, 2, 3, 4, 5, 6, 7, 8, 9, 10, 1, 2, 3, 4, 5, 6, 7, 8, 9, 10, 1, 2, 3, 4, 5, 6, 7, 8, 9, 10, 1, 2, 3, 4, 5, 6, 7, 8, 9, 10, 1, 2, 3, 4, 5, 6, 8, 9, 10, 1, 2, 3, 4, 5, 6, 7, 8, 9, 10, 1, 2, 3, 4, 5, 6, 7, 8, 9, 10, 1, 2, 3, 4, 5, 6, 7, 8, 9, 10, 1, 2, 3, 4, 5, 6, 7, 8, 9, 10, 1, 2, 3, 4, 5, 6, 7, 8, 9, 10, 1, 2, 3, 4, 5, 6, 7, 8, 9, 1, 2, 3, 4, 5, 6, 7, 8, 9, 10, 1, 2, 3, 4, 5, 6, 7, 8, 9, 10, 1, 2, 3, 4, 5, 6, 7, 8, 9, 10, 1, 2, 3, 4, 5, 6, 7, 8, 9, 10, 1, 2, 3, 4, 5, 6, 7, 8, 9, 10, 1, 2, 3, 4, 5, 6, 7, 8, 9, 10, 1, 2, 3, 4, 5, 6, 7, 8, 9, 10, 1, 2, 3, 4, 5, 6, 7, 8, 9, 10, 1, 2, 3, 4, 5, 6, 7, 8, 9, 10, 1, 2, 3, 4, 5, 6, 7, 8, 9, 10, 1, 2, 3, 4, 5, 6, 7, 8, 9, 10, 1, 2, 3, 4, 5, 6, 7, 8, 9, 1, 2, 3, 4, 5, 6, 7, 8, 9, 10, 1, 2, 3, 4, 5, 6, 7, 8, 9, 10, 1, 2, 3, 4, 5, 6, 7, 8, 9, 10, 1, 2, 3, 4, 5, 6, 7, 8, 9, 10, 1, 2, 3, 4, 5, 6, 7, 8, 10, 1, 2, 3, 4, 5, 6, 7, 8, 9, 10, 1, 2, 3, 4, 5, 6, 7, 8, 9, 10, 1, 2, 3, 4, 5, 6, 7, 8, 9, 10, 1, 2, 3, 4, 5, 6, 7, 8, 9, 10, 1, 2, 3, 4, 5, 6, 7, 8, 9, 10, 1, 2, 3, 4, 5, 6, 7, 8, 9, 10, 1, 2, 3, 4, 5, 6, 7, 8, 9, 10, 1, 2, 3, 4, 5, 6, 7, 8, 9, 10, 1, 2, 3, 4, 5, 6, 7, 8, 9, 10, 1, 2, 3, 4, 5, 6, 7, 8, 1, 2, 3, 4, 5, 6, 7, 8, 9, 10, 1, 2, 3, 4, 5, 6, 7, 8, 9, 10, 1, 2, 3, 4, 5, 6, 7, 8, 1, 2, 3, 4, 5, 6, 7, 8, 9, 10, 1, 2, 3, 4, 5, 6, 7, 10, 1, 2, 3, 4, 5, 6, 7, 8, 9, 10, 1, 2, 3, 4, 5, 6, 7, 8, 9, 10, 1, 2, 3, 4, 5, 6, 7, 8, 9, 10, 1, 2, 3, 4, 5, 6, 7, 8, 9, 10, 1, 2, 3, 4, 5, 6, 7, 8, 9, 10, 1, 2, 3, 4, 5, 6, 7, 8, 9, 10, 1, 2, 3, 4, 5, 6, 7, 8, 9, 10, 1, 2, 3, 4, 5, 6, 7, 8, 9, 10, 1, 2, 3, 4, 5, 6, 7, 8, 9, 10, 1, 2, 3, 4, 5, 6, 7, 8, 9, 10, 1, 2, 3, 4, 5, 6, 7, 8, 9, 10, 1, 2, 3, 4, 5, 6, 7, 8, 9, 10, 1, 2, 3, 4, 5, 6, 7, 8, 9, 10, 1, 2, 3, 4, 5, 6, 7, 8, 9, 10, 1, 2, 3, 4, 5, 6, 7, 8, 9, 10, 1, 2, 3, 4, 5, 6, 7, 8, 9, 10, 1, 2, 3, 4, 5, 6, 7, 8, 9, 10, 1, 2, 3, 4, 5, 6, 7, 8, 9, 10], \"Freq\": [0.16843396937252292, 0.09624798249858452, 0.2406199562464613, 0.09624798249858452, 0.07218598687393839, 0.07218598687393839, 0.09624798249858452, 0.07218598687393839, 0.02406199562464613, 0.07218598687393839, 0.12744804352515687, 0.10620670293763072, 0.16993072470020915, 0.10620670293763072, 0.148689384112683, 0.06372402176257844, 0.06372402176257844, 0.06372402176257844, 0.06372402176257844, 0.10620670293763072, 0.18386556122460257, 0.09193278061230128, 0.18386556122460257, 0.11491597576537661, 0.06894958545922597, 0.11491597576537661, 0.02298319515307532, 0.13789917091845194, 0.04596639030615064, 0.04596639030615064, 0.14575415413156376, 0.15616516514096115, 0.12493213211276893, 0.11452112110337152, 0.17698718715975598, 0.07287707706578188, 0.07287707706578188, 0.052055055046987056, 0.052055055046987056, 0.031233033028192234, 0.13125683089464904, 0.1020886462513937, 0.2187613848244151, 0.13125683089464904, 0.07292046160813836, 0.07292046160813836, 0.07292046160813836, 0.05833636928651069, 0.07292046160813836, 0.07292046160813836, 0.23721193652053008, 0.09488477460821203, 0.14232716191231806, 0.14232716191231806, 0.07116358095615903, 0.07116358095615903, 0.09488477460821203, 0.07116358095615903, 0.07116358095615903, 0.047442387304106014, 0.09947738450227658, 0.09947738450227658, 0.09947738450227658, 0.1326365126697021, 0.1326365126697021, 0.1326365126697021, 0.06631825633485106, 0.09947738450227658, 0.06631825633485106, 0.06631825633485106, 0.09512483357769463, 0.09512483357769463, 0.09512483357769463, 0.09512483357769463, 0.19024966715538927, 0.09512483357769463, 0.09512483357769463, 0.09512483357769463, 0.09512483357769463, 0.24849252138567096, 0.14909551283140257, 0.12424626069283548, 0.09939700855426838, 0.09939700855426838, 0.04969850427713419, 0.07454775641570129, 0.04969850427713419, 0.04969850427713419, 0.04969850427713419, 0.12968778976564607, 0.12968778976564607, 0.12968778976564607, 0.12968778976564607, 0.12968778976564607, 0.12968778976564607, 0.12968778976564607, 0.16130360709153355, 0.11521686220823825, 0.20739035197482886, 0.16130360709153355, 0.06913011732494295, 0.09217348976659061, 0.06913011732494295, 0.046086744883295304, 0.046086744883295304, 0.023043372441647652, 0.12815689878373543, 0.12815689878373543, 0.25631379756747086, 0.12815689878373543, 0.12815689878373543, 0.12815689878373543, 0.15118543104948506, 0.15118543104948506, 0.15118543104948506, 0.15118543104948506, 0.15440006710315954, 0.11580005032736965, 0.0965000419394747, 0.11580005032736965, 0.0965000419394747, 0.11580005032736965, 0.07720003355157977, 0.07720003355157977, 0.07720003355157977, 0.0965000419394747, 0.17875825457493974, 0.08937912728746987, 0.08937912728746987, 0.08937912728746987, 0.08937912728746987, 0.17875825457493974, 0.08937912728746987, 0.08937912728746987, 0.08937912728746987, 0.08937912728746987, 0.18604487066369838, 0.17510105474230436, 0.1422696069781223, 0.16415723882091035, 0.08755052737115218, 0.04377526368557609, 0.04377526368557609, 0.05471907960697012, 0.06566289552836414, 0.04377526368557609, 0.17757882297749258, 0.13495990546289438, 0.1704756700583929, 0.08523783502919645, 0.07103152919099703, 0.09944414086739585, 0.07103152919099703, 0.056825223352797626, 0.08523783502919645, 0.056825223352797626, 0.13792033182098387, 0.13792033182098387, 0.09194688788065591, 0.13792033182098387, 0.09194688788065591, 0.09194688788065591, 0.04597344394032796, 0.04597344394032796, 0.13792033182098387, 0.04597344394032796, 0.2654241470211009, 0.12490548095110629, 0.17174503630777116, 0.09367911071332972, 0.09367911071332972, 0.10929229583221801, 0.04683955535666486, 0.04683955535666486, 0.031226370237776573, 0.031226370237776573, 0.1247839420169573, 0.15191088593368715, 0.16818705228372507, 0.1247839420169573, 0.13563471958364925, 0.07053005418349761, 0.0542538878334597, 0.06510466540015164, 0.04882849905011373, 0.04882849905011373, 0.18836215086701683, 0.1255747672446779, 0.1255747672446779, 0.1255747672446779, 0.1255747672446779, 0.06278738362233895, 0.06278738362233895, 0.06278738362233895, 0.1255747672446779, 0.06278738362233895, 0.22669317696254318, 0.13124341824147237, 0.09544975872107081, 0.16703707776187393, 0.10738097856120467, 0.059656099200669256, 0.059656099200669256, 0.059656099200669256, 0.047724879360535405, 0.047724879360535405, 0.18230414799260716, 0.193027921403937, 0.128685280935958, 0.08579018729063867, 0.07506641387930883, 0.0965139607019685, 0.053618867056649165, 0.064342640467979, 0.07506641387930883, 0.042895093645319335, 0.13585153722471247, 0.09056769148314164, 0.09056769148314164, 0.13585153722471247, 0.09056769148314164, 0.13585153722471247, 0.09056769148314164, 0.09056769148314164, 0.09056769148314164, 0.04528384574157082, 0.1448213010155522, 0.1533402010752906, 0.11074570077659876, 0.13630240095581386, 0.10222680071686038, 0.09370790065712202, 0.09370790065712202, 0.04259450029869183, 0.0766701005376453, 0.04259450029869183, 0.2050035326154572, 0.1025017663077286, 0.1025017663077286, 0.2050035326154572, 0.06833451087181906, 0.06833451087181906, 0.06833451087181906, 0.06833451087181906, 0.06833451087181906, 0.03416725543590953, 0.153287995603307, 0.153287995603307, 0.153287995603307, 0.153287995603307, 0.153287995603307, 0.153287995603307, 0.11017216583221646, 0.18362027638702744, 0.09793081407308131, 0.1346548693504868, 0.11017216583221646, 0.07344811055481097, 0.11017216583221646, 0.07344811055481097, 0.06120675879567582, 0.036724055277405486, 0.08513519532831418, 0.17027039065662836, 0.12770279299247125, 0.08513519532831418, 0.12770279299247125, 0.08513519532831418, 0.08513519532831418, 0.17027039065662836, 0.04256759766415709, 0.04256759766415709, 0.13705892050474042, 0.13705892050474042, 0.13705892050474042, 0.13705892050474042, 0.13705892050474042, 0.13705892050474042, 0.13705892050474042, 0.13705892050474042, 0.13705892050474042, 0.15391983980832452, 0.15391983980832452, 0.15391983980832452, 0.15391983980832452, 0.15391983980832452, 0.15391983980832452, 0.2723716101893253, 0.13618580509466266, 0.102139353820997, 0.102139353820997, 0.13618580509466266, 0.102139353820997, 0.06809290254733133, 0.06809290254733133, 0.034046451273665665, 0.034046451273665665, 0.2637893198568422, 0.0959233890388517, 0.07194254177913877, 0.11990423629856461, 0.11990423629856461, 0.07194254177913877, 0.04796169451942585, 0.07194254177913877, 0.07194254177913877, 0.023980847259712924, 0.1628987184214712, 0.0814493592107356, 0.1628987184214712, 0.1628987184214712, 0.0814493592107356, 0.0814493592107356, 0.1628987184214712, 0.0814493592107356, 0.0814493592107356, 0.0814493592107356, 0.15156302239611882, 0.15156302239611882, 0.15156302239611882, 0.15156302239611882, 0.15156302239611882, 0.15156302239611882, 0.15156302239611882, 0.07448499883544744, 0.05156653765530977, 0.25783268827654887, 0.1546996129659293, 0.07448499883544744, 0.10313307531061953, 0.09740346001558511, 0.0630257682453786, 0.08594422942551629, 0.03437769177020651, 0.10393162524554564, 0.13362637531570154, 0.08908425021046769, 0.16332112538585744, 0.10393162524554564, 0.059389500140311795, 0.08908425021046769, 0.07423687517538974, 0.10393162524554564, 0.059389500140311795, 0.12316169855804783, 0.15395212319755977, 0.12316169855804783, 0.09237127391853588, 0.15395212319755977, 0.15395212319755977, 0.061580849279023915, 0.061580849279023915, 0.061580849279023915, 0.030790424639511958, 0.1211924196656906, 0.0888744410881731, 0.16158989288758746, 0.12927191431006999, 0.11311292502131122, 0.0888744410881731, 0.04847696786627624, 0.09695393573255248, 0.08079494644379373, 0.06463595715503499, 0.1461142836567842, 0.1461142836567842, 0.1461142836567842, 0.1461142836567842, 0.1461142836567842, 0.1671321367896714, 0.10285054571672086, 0.1414195003604912, 0.10285054571672086, 0.12856318214590107, 0.12856318214590107, 0.06428159107295053, 0.07713790928754065, 0.06428159107295053, 0.038568954643770324, 0.1793615600353997, 0.14036991654944322, 0.1637649026410171, 0.09357994436629548, 0.0779832869719129, 0.11697493045786936, 0.04678997218314774, 0.05458830088033903, 0.0857816156691042, 0.04678997218314774, 0.08847761647113493, 0.17695523294226986, 0.08847761647113493, 0.08847761647113493, 0.08847761647113493, 0.08847761647113493, 0.08847761647113493, 0.08847761647113493, 0.08847761647113493, 0.12804731002960204, 0.2560946200592041, 0.12804731002960204, 0.12804731002960204, 0.06402365501480102, 0.06402365501480102, 0.06402365501480102, 0.06402365501480102, 0.06402365501480102, 0.06402365501480102, 0.17544280737285506, 0.17544280737285506, 0.17544280737285506, 0.17544280737285506, 0.17544280737285506, 0.1455041609520511, 0.1455041609520511, 0.13227650995641008, 0.13227650995641008, 0.09259355696948705, 0.07936590597384605, 0.06613825497820504, 0.10582120796512806, 0.05291060398256403, 0.03968295298692302, 0.13779742177892354, 0.19685345968417647, 0.13779742177892354, 0.13779742177892354, 0.07874138387367059, 0.07874138387367059, 0.05905603790525294, 0.05905603790525294, 0.07874138387367059, 0.039370691936835296, 0.11136262487392588, 0.11136262487392588, 0.16704393731088885, 0.13920328109240737, 0.08352196865544442, 0.08352196865544442, 0.08352196865544442, 0.05568131243696294, 0.05568131243696294, 0.08352196865544442, 0.10541074896928387, 0.14261454272314877, 0.16121643960008122, 0.10541074896928387, 0.11161138126159469, 0.10541074896928387, 0.06200632292310816, 0.06820695521541897, 0.05580569063079734, 0.08060821980004061, 0.26564048710388577, 0.05903121935641906, 0.08854682903462859, 0.08854682903462859, 0.17709365806925717, 0.08854682903462859, 0.05903121935641906, 0.05903121935641906, 0.05903121935641906, 0.05903121935641906, 0.17165411062167688, 0.11443607374778458, 0.12874058296625765, 0.08582705531083844, 0.11443607374778458, 0.08582705531083844, 0.05721803687389229, 0.12874058296625765, 0.07152254609236536, 0.04291352765541922, 0.16901242932304827, 0.16901242932304827, 0.10400764881418356, 0.10400764881418356, 0.10400764881418356, 0.06500478050886473, 0.13000956101772945, 0.05200382440709178, 0.039002868305318836, 0.06500478050886473, 0.13935517346649565, 0.13935517346649565, 0.20903276019974346, 0.06967758673324782, 0.13935517346649565, 0.13935517346649565, 0.06967758673324782, 0.06967758673324782, 0.06967758673324782, 0.06967758673324782, 0.1430066065714988, 0.10725495492862411, 0.1430066065714988, 0.10725495492862411, 0.10725495492862411, 0.10725495492862411, 0.1430066065714988, 0.0715033032857494, 0.0357516516428747, 0.0715033032857494, 0.19528694770921176, 0.09764347385460588, 0.09764347385460588, 0.09764347385460588, 0.09764347385460588, 0.09764347385460588, 0.09764347385460588, 0.09764347385460588, 0.09764347385460588, 0.17813038209147244, 0.17813038209147244, 0.17813038209147244, 0.17813038209147244, 0.17813038209147244, 0.10239077389952918, 0.15358616084929377, 0.1621187253409212, 0.08532564491627431, 0.11945590288278404, 0.10239077389952918, 0.10239077389952918, 0.042662822458137156, 0.07679308042464689, 0.05119538694976459, 0.15904448180781816, 0.15904448180781816, 0.13783855090010907, 0.07422075817698182, 0.10602965453854545, 0.07422075817698182, 0.11663261999239999, 0.05301482726927272, 0.06361779272312726, 0.05301482726927272, 0.22416820122271947, 0.11208410061135973, 0.14570933079476767, 0.11208410061135973, 0.10087569055022376, 0.08966728048908779, 0.056042050305679866, 0.056042050305679866, 0.056042050305679866, 0.04483364024454389, 0.2975587708417897, 0.09918625694726324, 0.09918625694726324, 0.09918625694726324, 0.09918625694726324, 0.09918625694726324, 0.09918625694726324, 0.15590852681643894, 0.10393901787762595, 0.14291614958173568, 0.19488565852054868, 0.11693139511232921, 0.07795426340821947, 0.06496188617351623, 0.038977131704109734, 0.051969508938812976, 0.051969508938812976, 0.16972629421596544, 0.21498663934022288, 0.1470961216538367, 0.10183577652957926, 0.07920560396745054, 0.06789051768638618, 0.06789051768638618, 0.04526034512425745, 0.05657543140532181, 0.05657543140532181, 0.15329928909551635, 0.10949949221108311, 0.10949949221108311, 0.15329928909551635, 0.08759959376886649, 0.06569969532664988, 0.13139939065329975, 0.08759959376886649, 0.06569969532664988, 0.06569969532664988, 0.14395705290317704, 0.28791410580635407, 0.14395705290317704, 0.14395705290317704, 0.14395705290317704, 0.14395705290317704, 0.1286138652779237, 0.11024045595250602, 0.22048091190501204, 0.1286138652779237, 0.07349363730167069, 0.05512022797625301, 0.09186704662708835, 0.07349363730167069, 0.07349363730167069, 0.05512022797625301, 0.13482698396630746, 0.18875777755283046, 0.1483096823629382, 0.1483096823629382, 0.08089619037978447, 0.08089619037978447, 0.08089619037978447, 0.05393079358652299, 0.05393079358652299, 0.026965396793261494, 0.17733361675619913, 0.11822241117079942, 0.11822241117079942, 0.11822241117079942, 0.11822241117079942, 0.05911120558539971, 0.05911120558539971, 0.05911120558539971, 0.11822241117079942, 0.05911120558539971, 0.12458522048821478, 0.14950226458585775, 0.12458522048821478, 0.04983408819528591, 0.14950226458585775, 0.12458522048821478, 0.04983408819528591, 0.12458522048821478, 0.07475113229292887, 0.024917044097642956, 0.15998779079105765, 0.11999084309329323, 0.23998168618658647, 0.10399206401418748, 0.10399206401418748, 0.055995726776870175, 0.055995726776870175, 0.055995726776870175, 0.06399511631642306, 0.039996947697764414, 0.14973108676669694, 0.11764585388811903, 0.13903600914050432, 0.17112124201908221, 0.08556062100954111, 0.08556062100954111, 0.042780310504770554, 0.11764585388811903, 0.0534753881309632, 0.042780310504770554, 0.14202496230317466, 0.07890275683509702, 0.18936661640423286, 0.07890275683509702, 0.15780551367019405, 0.09468330820211643, 0.07890275683509702, 0.06312220546807762, 0.047341654101058214, 0.06312220546807762, 0.1304424982222072, 0.0652212491111036, 0.2608849964444144, 0.0652212491111036, 0.0652212491111036, 0.1304424982222072, 0.0652212491111036, 0.0652212491111036, 0.0652212491111036, 0.0652212491111036, 0.16197592729317722, 0.08835050579627848, 0.20615118019131645, 0.10307559009565823, 0.07362542149689874, 0.07362542149689874, 0.05890033719751899, 0.17670101159255697, 0.04417525289813924, 0.029450168598759496, 0.14956008838013235, 0.26173015466523164, 0.13086507733261582, 0.14956008838013235, 0.05608503314254963, 0.07478004419006617, 0.05608503314254963, 0.05608503314254963, 0.05608503314254963, 0.03739002209503309, 0.1600550550630145, 0.1333792125525121, 0.10670337004200968, 0.12004129129726088, 0.09336544878675847, 0.08002752753150726, 0.09336544878675847, 0.06668960627625604, 0.06668960627625604, 0.08002752753150726, 0.13501829734186785, 0.13501829734186785, 0.13501829734186785, 0.13501829734186785, 0.13501829734186785, 0.13501829734186785, 0.13501829734186785, 0.25255632363730196, 0.09019868701332213, 0.12627816181865098, 0.09019868701332213, 0.10823842441598655, 0.0721589496106577, 0.0721589496106577, 0.0721589496106577, 0.054119212207993275, 0.054119212207993275, 0.16643861024312956, 0.16643861024312956, 0.16643861024312956, 0.08321930512156478, 0.08321930512156478, 0.08321930512156478, 0.08321930512156478, 0.08321930512156478, 0.08321930512156478, 0.08321930512156478, 0.14267039109256044, 0.14267039109256044, 0.14267039109256044, 0.09986927376479231, 0.09986927376479231, 0.12840335198330438, 0.057068156437024176, 0.07133519554628022, 0.07133519554628022, 0.04280111732776813, 0.10351255770908768, 0.10351255770908768, 0.20702511541817537, 0.10351255770908768, 0.10351255770908768, 0.10351255770908768, 0.05175627885454384, 0.05175627885454384, 0.05175627885454384, 0.05175627885454384, 0.1784518720462576, 0.1784518720462576, 0.13149085308671613, 0.07513763033526635, 0.08452983412717464, 0.09392203791908293, 0.07513763033526635, 0.06574542654335806, 0.07513763033526635, 0.04696101895954147, 0.10311654953137368, 0.20623309906274737, 0.10311654953137368, 0.10311654953137368, 0.10311654953137368, 0.10311654953137368, 0.10311654953137368, 0.10311654953137368, 0.17727105366936707, 0.08863552683468354, 0.08863552683468354, 0.17727105366936707, 0.08863552683468354, 0.08863552683468354, 0.08863552683468354, 0.08863552683468354, 0.08863552683468354, 0.08863552683468354, 0.12152263708005862, 0.12152263708005862, 0.12152263708005862, 0.12152263708005862, 0.12152263708005862, 0.12152263708005862, 0.12152263708005862, 0.12152263708005862, 0.12152263708005862, 0.14272531338393865, 0.11596431712445016, 0.24976929842189266, 0.16948630964342715, 0.053521992518977, 0.0802829887784655, 0.053521992518977, 0.053521992518977, 0.053521992518977, 0.03568132834598466, 0.15023255390977044, 0.15023255390977044, 0.15023255390977044, 0.15023255390977044, 0.15023255390977044, 0.15023255390977044, 0.15023255390977044, 0.10928705484478998, 0.13114446581374797, 0.08742964387583199, 0.19671669872062197, 0.10928705484478998, 0.08742964387583199, 0.06557223290687399, 0.06557223290687399, 0.043714821937915996, 0.06557223290687399, 0.15233767381663194, 0.15233767381663194, 0.15233767381663194, 0.15233767381663194, 0.15233767381663194, 0.15233767381663194, 0.15233767381663194, 0.12444668429820323, 0.14000251983547862, 0.09333501322365241, 0.14000251983547862, 0.07777917768637702, 0.10889084876092782, 0.062223342149101614, 0.07777917768637702, 0.07777917768637702, 0.09333501322365241, 0.10233230410631859, 0.10233230410631859, 0.051166152053159296, 0.17908153218605752, 0.07674922807973894, 0.12791538013289824, 0.07674922807973894, 0.051166152053159296, 0.051166152053159296, 0.15349845615947788, 0.26145594830408575, 0.18675424878863267, 0.1120525492731796, 0.07470169951545307, 0.07470169951545307, 0.07470169951545307, 0.03735084975772653, 0.03735084975772653, 0.03735084975772653, 0.07470169951545307, 0.13146915199864811, 0.09860186399898609, 0.13146915199864811, 0.1150355079988171, 0.08216821999915506, 0.08216821999915506, 0.09860186399898609, 0.1150355079988171, 0.06573457599932406, 0.06573457599932406, 0.1681864298868034, 0.14415979704583148, 0.09610653136388767, 0.12013316420485957, 0.07207989852291574, 0.07207989852291574, 0.12013316420485957, 0.09610653136388767, 0.04805326568194383, 0.04805326568194383, 0.15816938480114748, 0.10065324487345749, 0.11503227985537999, 0.11503227985537999, 0.057516139927689995, 0.10065324487345749, 0.08627420989153499, 0.08627420989153499, 0.08627420989153499, 0.08627420989153499, 0.24352666185633684, 0.10823407193614971, 0.16235110790422458, 0.10823407193614971, 0.08117555395211229, 0.05411703596807486, 0.05411703596807486, 0.05411703596807486, 0.05411703596807486, 0.05411703596807486, 0.14128977080648317, 0.14128977080648317, 0.1311976443203058, 0.1614740237788379, 0.08073701188941895, 0.08073701188941895, 0.09082913837559632, 0.07064488540324158, 0.06055275891706422, 0.040368505944709476, 0.23837697539797917, 0.11918848769898958, 0.13408704866136328, 0.05959424384949479, 0.08939136577424218, 0.07449280481186848, 0.07449280481186848, 0.08939136577424218, 0.05959424384949479, 0.05959424384949479, 0.1687130695069773, 0.12050933536212664, 0.2048658701156153, 0.09640746828970131, 0.09640746828970131, 0.08435653475348864, 0.08435653475348864, 0.06025466768106332, 0.03615280060863799, 0.04820373414485066, 0.21543432763001566, 0.09232899755572099, 0.09232899755572099, 0.12310533007429467, 0.09232899755572099, 0.09232899755572099, 0.06155266503714733, 0.06155266503714733, 0.06155266503714733, 0.09232899755572099, 0.14074258179378438, 0.15156893423946008, 0.18404799157648724, 0.1082635244567572, 0.09743717201108149, 0.09743717201108149, 0.0541317622283786, 0.07578446711973004, 0.0541317622283786, 0.043305409782702885, 0.29813580935619705, 0.09937860311873234, 0.09937860311873234, 0.09937860311873234, 0.09937860311873234, 0.09937860311873234, 0.09937860311873234, 0.16574748482122553, 0.08287374241061277, 0.08287374241061277, 0.2486212272318383, 0.08287374241061277, 0.08287374241061277, 0.08287374241061277, 0.08287374241061277, 0.08287374241061277, 0.08287374241061277, 0.15411796278179432, 0.13699374469492828, 0.11986952660806224, 0.15411796278179432, 0.08562109043433018, 0.08562109043433018, 0.06849687234746414, 0.06849687234746414, 0.0513726542605981, 0.08562109043433018, 0.1834161048662427, 0.1834161048662427, 0.09170805243312136, 0.09170805243312136, 0.09170805243312136, 0.09170805243312136, 0.09170805243312136, 0.09170805243312136, 0.14404393308389005, 0.12346622835762004, 0.14404393308389005, 0.10288852363135002, 0.08231081890508002, 0.14404393308389005, 0.06173311417881002, 0.08231081890508002, 0.06173311417881002, 0.04115540945254001, 0.1414584964317421, 0.12859863311976555, 0.19289794967964832, 0.09001904318383588, 0.115738769807789, 0.09001904318383588, 0.06429931655988277, 0.06429931655988277, 0.05143945324790622, 0.05143945324790622, 0.15648518404434342, 0.12037321849564879, 0.14444786219477854, 0.10833589664608391, 0.09629857479651903, 0.08426125294695415, 0.10833589664608391, 0.07222393109738927, 0.060186609247824395, 0.060186609247824395, 0.1484854330327321, 0.2969708660654642, 0.1484854330327321, 0.1484854330327321, 0.1484854330327321, 0.1484854330327321, 0.1484854330327321, 0.22343151637013042, 0.14895434424675363, 0.14895434424675363, 0.07447717212337682, 0.07447717212337682, 0.07447717212337682, 0.14895434424675363, 0.07447717212337682, 0.07447717212337682, 0.07447717212337682, 0.13512695243577208, 0.13512695243577208, 0.13512695243577208, 0.13512695243577208, 0.13512695243577208, 0.13512695243577208, 0.13512695243577208, 0.14048774811393197, 0.14048774811393197, 0.14048774811393197, 0.14048774811393197, 0.09365849874262132, 0.14048774811393197, 0.04682924937131066, 0.09365849874262132, 0.04682924937131066, 0.09365849874262132, 0.2364606205602793, 0.14778788785017458, 0.08867273271010474, 0.1034515214951222, 0.08867273271010474, 0.1034515214951222, 0.059115155140069826, 0.07389394392508729, 0.059115155140069826, 0.059115155140069826, 0.22335260725155787, 0.14106480457993129, 0.11755400381660941, 0.08228780267162658, 0.11755400381660941, 0.08228780267162658, 0.08228780267162658, 0.058777001908304705, 0.07053240228996564, 0.04702160152664376, 0.14845009121568423, 0.11876007297254737, 0.08907005472941053, 0.11876007297254737, 0.17814010945882106, 0.08907005472941053, 0.08907005472941053, 0.059380036486273685, 0.059380036486273685, 0.029690018243136843, 0.1253211638340366, 0.14098630931329117, 0.16448402753217303, 0.1253211638340366, 0.07832572739627287, 0.09399087287552746, 0.09399087287552746, 0.0626605819170183, 0.04699543643776373, 0.0626605819170183, 0.1033479186695835, 0.12918489833697938, 0.18085885767177112, 0.1033479186695835, 0.07751093900218763, 0.1033479186695835, 0.05167395933479175, 0.07751093900218763, 0.1033479186695835, 0.05167395933479175, 0.14383861697775185, 0.11986551414812655, 0.09589241131850124, 0.11187447987158478, 0.19178482263700247, 0.11187447987158478, 0.0799103427654177, 0.06392827421233416, 0.05593723993579239, 0.04794620565925062, 0.06924688815955969, 0.06924688815955969, 0.13849377631911938, 0.13849377631911938, 0.06924688815955969, 0.13849377631911938, 0.06924688815955969, 0.06924688815955969, 0.06924688815955969, 0.06924688815955969, 0.16615835506603518, 0.08307917753301759, 0.08307917753301759, 0.16615835506603518, 0.08307917753301759, 0.16615835506603518, 0.08307917753301759, 0.08307917753301759, 0.08307917753301759, 0.14168210300006903, 0.1101971912222759, 0.17316701477786214, 0.12593964711117248, 0.06296982355558624, 0.09445473533337935, 0.047227367666689675, 0.09445473533337935, 0.09445473533337935, 0.047227367666689675, 0.23177459913681658, 0.19866394211727137, 0.1324426280781809, 0.06622131403909046, 0.06622131403909046, 0.06622131403909046, 0.08277664254886306, 0.06622131403909046, 0.04966598552931784, 0.03311065701954523, 0.13586626891005466, 0.203799403365082, 0.13586626891005466, 0.13586626891005466, 0.06793313445502733, 0.06793313445502733, 0.06793313445502733, 0.06793313445502733, 0.06793313445502733, 0.06793313445502733, 0.17026304277253246, 0.2553945641587987, 0.08513152138626623, 0.08513152138626623, 0.08513152138626623, 0.08513152138626623, 0.08513152138626623, 0.08513152138626623, 0.08513152138626623, 0.08513152138626623, 0.254731485145192, 0.127365742572596, 0.127365742572596, 0.127365742572596, 0.127365742572596, 0.127365742572596, 0.127365742572596, 0.127365742572596, 0.13040941199570547, 0.13040941199570547, 0.13040941199570547, 0.26081882399141093, 0.13040941199570547, 0.13040941199570547, 0.13040941199570547, 0.19373524630851188, 0.09686762315425594, 0.09686762315425594, 0.09686762315425594, 0.09686762315425594, 0.09686762315425594, 0.09686762315425594, 0.19373524630851188, 0.09686762315425594, 0.10154985460103252, 0.11424358642616159, 0.11424358642616159, 0.22848717285232317, 0.08885612277590345, 0.07616239095077439, 0.07616239095077439, 0.07616239095077439, 0.07616239095077439, 0.05077492730051626, 0.22565702783283062, 0.1253650154626837, 0.11282851391641531, 0.08775551082387857, 0.11282851391641531, 0.08775551082387857, 0.0752190092776102, 0.06268250773134185, 0.06268250773134185, 0.05014600618507347, 0.15867201446843757, 0.14104179063861116, 0.13222667872369795, 0.12341156680878476, 0.09696623106404517, 0.08815111914913197, 0.08815111914913197, 0.06170578340439238, 0.08815111914913197, 0.03526044765965279, 0.23193219432739662, 0.09939951185459854, 0.13253268247279806, 0.11596609716369831, 0.09939951185459854, 0.08283292654549879, 0.06626634123639903, 0.06626634123639903, 0.04969975592729927, 0.04969975592729927, 0.07692223727992427, 0.07692223727992427, 0.23076671183977282, 0.07692223727992427, 0.07692223727992427, 0.07692223727992427, 0.07692223727992427, 0.15384447455984854, 0.07692223727992427, 0.07692223727992427, 0.15541047649991332, 0.12950873041659444, 0.07770523824995666, 0.12950873041659444, 0.15541047649991332, 0.05180349216663777, 0.10360698433327555, 0.05180349216663777, 0.07770523824995666, 0.05180349216663777, 0.1611956866767619, 0.10477719633989524, 0.13701633367524763, 0.12895654934140952, 0.09671741200605714, 0.09671741200605714, 0.07253805900454285, 0.05641849033686667, 0.08059784333838095, 0.06447827467070476, 0.11762081826753323, 0.11762081826753323, 0.11762081826753323, 0.11762081826753323, 0.05881040913376662, 0.11762081826753323, 0.11762081826753323, 0.11762081826753323, 0.05881040913376662, 0.05881040913376662, 0.13578580106968433, 0.15275902620339488, 0.10183935080226325, 0.11881257593597379, 0.18670547647081595, 0.06789290053484216, 0.06789290053484216, 0.03394645026742108, 0.050919675401131625, 0.06789290053484216, 0.2609083454922383, 0.11859470249647194, 0.09487576199717757, 0.09487576199717757, 0.07115682149788317, 0.07115682149788317, 0.07115682149788317, 0.11859470249647194, 0.04743788099858878, 0.04743788099858878, 0.1834539966918755, 0.21839761510937558, 0.09609495064812526, 0.13977447367000037, 0.07862314143937521, 0.07862314143937521, 0.05241542762625014, 0.05241542762625014, 0.05241542762625014, 0.05241542762625014, 0.14825109421538119, 0.14825109421538119, 0.12129634981258461, 0.17520583861817776, 0.09434160540978803, 0.06738686100699144, 0.06738686100699144, 0.06738686100699144, 0.08086423320838974, 0.05390948880559316, 0.1540128263686166, 0.12321026109489328, 0.18481539164233993, 0.10780897845803163, 0.10780897845803163, 0.06160513054744664, 0.04620384791058498, 0.0770064131843083, 0.10780897845803163, 0.04620384791058498, 0.14621160135792582, 0.16570648153898263, 0.10722184099581228, 0.10722184099581228, 0.0877269608147555, 0.06823208063369872, 0.0877269608147555, 0.09747440090528389, 0.05848464054317033, 0.05848464054317033, 0.1821504096119044, 0.12143360640793625, 0.12143360640793625, 0.10929024576714264, 0.15786368833031714, 0.07286016384476175, 0.07286016384476175, 0.07286016384476175, 0.0485734425631745, 0.0485734425631745, 0.29527963502038757, 0.11811185400815503, 0.11811185400815503, 0.11811185400815503, 0.11811185400815503, 0.05905592700407752, 0.05905592700407752, 0.05905592700407752, 0.05905592700407752, 0.05905592700407752, 0.11928239268664548, 0.15181395432845787, 0.11928239268664548, 0.0975946849254372, 0.0975946849254372, 0.0975946849254372, 0.07590697716422894, 0.10843853880604135, 0.08675083104483307, 0.05421926940302067, 0.17738781588067395, 0.17738781588067395, 0.17738781588067395, 0.17738781588067395, 0.20151798162460574, 0.15287571019797677, 0.13897791836179707, 0.09033564693516809, 0.07643785509898839, 0.09033564693516809, 0.08338675101707824, 0.05559116734471883, 0.04169337550853912, 0.06948895918089854, 0.1976434526715642, 0.0988217263357821, 0.14823258950367313, 0.08235143861315175, 0.12352715791972761, 0.08235143861315175, 0.07411629475183656, 0.06588115089052139, 0.07411629475183656, 0.04941086316789105, 0.09280992123601811, 0.09280992123601811, 0.09280992123601811, 0.09280992123601811, 0.09280992123601811, 0.09280992123601811, 0.09280992123601811, 0.09280992123601811, 0.09280992123601811, 0.09280992123601811, 0.13428418394892802, 0.10742734715914241, 0.13428418394892802, 0.08057051036935681, 0.13428418394892802, 0.08057051036935681, 0.08057051036935681, 0.13428418394892802, 0.05371367357957121, 0.05371367357957121, 0.14970304488094596, 0.14970304488094596, 0.14970304488094596, 0.07485152244047298, 0.07485152244047298, 0.07485152244047298, 0.07485152244047298, 0.14970304488094596, 0.07485152244047298, 0.09892805547043418, 0.12366006933804272, 0.1731240970732598, 0.12366006933804272, 0.1731240970732598, 0.07419604160282563, 0.07419604160282563, 0.04946402773521709, 0.04946402773521709, 0.04946402773521709, 0.17536821198505628, 0.17536821198505628, 0.17536821198505628, 0.17536821198505628, 0.17536821198505628, 0.17536821198505628, 0.1544449269385808, 0.1654767074341937, 0.09928602446051622, 0.13238136594735497, 0.0882542439649033, 0.0882542439649033, 0.11031780495612914, 0.05515890247806457, 0.04412712198245165, 0.05515890247806457, 0.12620122733152617, 0.12620122733152617, 0.2038635210740038, 0.13590901404933586, 0.08737008046028734, 0.09707786717809705, 0.08737008046028734, 0.06795450702466793, 0.03883114687123882, 0.048538933589048525, 0.16268359931070334, 0.09489876626457694, 0.10845573287380222, 0.08134179965535167, 0.13556966609225277, 0.08134179965535167, 0.05422786643690111, 0.10845573287380222, 0.09489876626457694, 0.05422786643690111, 0.10731027475182059, 0.10731027475182059, 0.10731027475182059, 0.10731027475182059, 0.10731027475182059, 0.10731027475182059, 0.10731027475182059, 0.10731027475182059, 0.10731027475182059, 0.18294087127925768, 0.11433804454953606, 0.11433804454953606, 0.12005494677701285, 0.14292255568692006, 0.06288592450224482, 0.06860282672972164, 0.06860282672972164, 0.05716902227476803, 0.06288592450224482, 0.12428214288887719, 0.12428214288887719, 0.12428214288887719, 0.12428214288887719, 0.12428214288887719, 0.1864232143333158, 0.062141071444438596, 0.062141071444438596, 0.062141071444438596, 0.062141071444438596, 0.14647966094980913, 0.14647966094980913, 0.1171837287598473, 0.08788779656988548, 0.10253576266486639, 0.07323983047490457, 0.1171837287598473, 0.08788779656988548, 0.05859186437992365, 0.05859186437992365, 0.1155495116370055, 0.16807201692655344, 0.14706301481073428, 0.13655851375282468, 0.1050450105790959, 0.08403600846327672, 0.06302700634745755, 0.05252250528954795, 0.08403600846327672, 0.04201800423163836, 0.17402544576120965, 0.17402544576120965, 0.11118292368077284, 0.08701272288060483, 0.08701272288060483, 0.07734464256053764, 0.10151484336070564, 0.08217868272057123, 0.048340401600336015, 0.05800848192040322, 0.2761438180446, 0.09204793934819999, 0.09204793934819999, 0.09204793934819999, 0.09204793934819999, 0.09204793934819999, 0.09204793934819999, 0.09204793934819999, 0.09204793934819999, 0.09204793934819999, 0.1469147037861927, 0.12020293946143039, 0.13355882162381155, 0.10684705729904924, 0.09349117513666808, 0.10684705729904924, 0.06677941081190578, 0.06677941081190578, 0.09349117513666808, 0.06677941081190578, 0.19353552633039872, 0.10556483254385385, 0.10556483254385385, 0.08797069378654487, 0.10556483254385385, 0.08797069378654487, 0.0703765550292359, 0.08797069378654487, 0.10556483254385385, 0.052782416271926924, 0.1250844882946612, 0.19331239100084005, 0.1364558054123577, 0.11371317117696475, 0.10234185405926827, 0.06822790270617884, 0.07959921982387531, 0.0909705369415718, 0.0454852684707859, 0.0454852684707859, 0.16356114341873432, 0.0981366860512406, 0.1472050290768609, 0.22898560078622804, 0.11449280039311402, 0.06542445736749374, 0.03271222868374687, 0.0490683430256203, 0.0490683430256203, 0.06542445736749374, 0.13119329419463033, 0.11479413242030154, 0.11479413242030154, 0.1639916177432879, 0.09839497064597275, 0.08199580887164395, 0.08199580887164395, 0.07379622798447956, 0.04919748532298637, 0.07379622798447956, 0.17143451608786162, 0.09524139782658979, 0.15238623652254366, 0.09524139782658979, 0.15238623652254366, 0.07619311826127183, 0.07619311826127183, 0.057144838695953874, 0.07619311826127183, 0.057144838695953874, 0.08119605835310204, 0.16239211670620407, 0.08119605835310204, 0.08119605835310204, 0.16239211670620407, 0.16239211670620407, 0.08119605835310204, 0.08119605835310204, 0.08119605835310204, 0.19033060214405312, 0.11195917773179596, 0.08956734218543677, 0.08956734218543677, 0.15674284882451434, 0.13435101327815516, 0.07837142441225717, 0.03358775331953879, 0.044783671092718386, 0.07837142441225717, 0.2934015894895538, 0.1467007947447769, 0.1467007947447769, 0.1467007947447769, 0.1467007947447769, 0.1467007947447769, 0.11676796506728174, 0.11676796506728174, 0.11676796506728174, 0.11676796506728174, 0.23353593013456347, 0.11676796506728174, 0.11676796506728174, 0.11676796506728174, 0.11676796506728174, 0.14818691048238822, 0.14818691048238822, 0.14818691048238822, 0.29637382096477644, 0.14818691048238822, 0.10608856259170553, 0.10608856259170553, 0.10608856259170553, 0.10608856259170553, 0.21217712518341106, 0.10608856259170553, 0.10608856259170553, 0.10608856259170553, 0.10608856259170553, 0.1800270434718059, 0.1800270434718059, 0.1800270434718059, 0.1800270434718059, 0.1800270434718059, 0.1800270434718059, 0.12784936621043996, 0.12784936621043996, 0.2556987324208799, 0.12784936621043996, 0.12784936621043996, 0.12784936621043996, 0.12784936621043996, 0.12784936621043996, 0.1477720952431668, 0.13299488571885013, 0.11821767619453344, 0.17732651429180016, 0.08866325714590008, 0.05910883809726672, 0.08866325714590008, 0.04433162857295004, 0.0738860476215834, 0.05910883809726672, 0.2146136142006266, 0.24144031597570495, 0.08048010532523499, 0.05365340355015665, 0.08048010532523499, 0.08048010532523499, 0.05365340355015665, 0.05365340355015665, 0.05365340355015665, 0.05365340355015665, 0.1674412667706042, 0.11960090483614585, 0.11960090483614585, 0.14352108580337503, 0.09568072386891668, 0.07176054290168751, 0.07176054290168751, 0.07176054290168751, 0.11960090483614585, 0.04784036193445834, 0.1492128836643809, 0.09592256806995916, 0.1492128836643809, 0.09592256806995916, 0.18118707302103396, 0.1492128836643809, 0.031974189356653054, 0.06394837871330611, 0.042632252475537404, 0.042632252475537404, 0.14659756285743375, 0.12404409164859778, 0.14659756285743375, 0.10149062043976181, 0.1127673560441798, 0.06766041362650788, 0.07893714923092586, 0.1127673560441798, 0.06766041362650788, 0.04510694241767192, 0.17223417768558322, 0.11482278512372214, 0.11482278512372214, 0.22964557024744428, 0.11482278512372214, 0.05741139256186107, 0.05741139256186107, 0.05741139256186107, 0.05741139256186107, 0.05741139256186107, 0.10982106194374046, 0.10982106194374046, 0.10982106194374046, 0.10982106194374046, 0.10982106194374046, 0.10982106194374046, 0.10982106194374046, 0.10982106194374046, 0.10982106194374046, 0.10982106194374046, 0.14235194988016453, 0.1067639624101234, 0.12455795614514395, 0.1067639624101234, 0.08896996867510283, 0.08896996867510283, 0.07117597494008226, 0.12455795614514395, 0.07117597494008226, 0.0533819812050617, 0.17203706956089734, 0.08601853478044867, 0.258055604341346, 0.08601853478044867, 0.08601853478044867, 0.08601853478044867, 0.08601853478044867, 0.08601853478044867, 0.23411362213129228, 0.10535112995908152, 0.14046817327877537, 0.12876249217221075, 0.05852840553282307, 0.07023408663938768, 0.05852840553282307, 0.09364544885251691, 0.05852840553282307, 0.046822724426258455, 0.18080726219721915, 0.04520181554930479, 0.09040363109860958, 0.09040363109860958, 0.09040363109860958, 0.13560544664791435, 0.09040363109860958, 0.13560544664791435, 0.04520181554930479, 0.04520181554930479, 0.19981160109626073, 0.1427225722116148, 0.1427225722116148, 0.11417805776929184, 0.05708902888464592, 0.08563354332696888, 0.08563354332696888, 0.05708902888464592, 0.11417805776929184, 0.02854451444232296, 0.13855275088986305, 0.13855275088986305, 0.13855275088986305, 0.06927637544493152, 0.20782912633479456, 0.06927637544493152, 0.06927637544493152, 0.06927637544493152, 0.06927637544493152, 0.06927637544493152, 0.24698037734538597, 0.1571693310379729, 0.13471656946111962, 0.06735828473055981, 0.04490552315370654, 0.04490552315370654, 0.06735828473055981, 0.06735828473055981, 0.08981104630741309, 0.04490552315370654, 0.13777219862696857, 0.1148101655224738, 0.13777219862696857, 0.16073423173146334, 0.09184813241797905, 0.06888609931348429, 0.1148101655224738, 0.06888609931348429, 0.04592406620898953, 0.04592406620898953, 0.08321585332203894, 0.24964755996611684, 0.12482377998305842, 0.12482377998305842, 0.08321585332203894, 0.08321585332203894, 0.08321585332203894, 0.04160792666101947, 0.04160792666101947, 0.08321585332203894, 0.17929278084369676, 0.08964639042184838, 0.08964639042184838, 0.08964639042184838, 0.08964639042184838, 0.08964639042184838, 0.08964639042184838, 0.08964639042184838, 0.08964639042184838, 0.08964639042184838, 0.29805411685059524, 0.09935137228353175, 0.09935137228353175, 0.09935137228353175, 0.09935137228353175, 0.09935137228353175, 0.09935137228353175, 0.09935137228353175, 0.20298257654650684, 0.10149128827325342, 0.15223693240988012, 0.09303368091714896, 0.11840650298546232, 0.05920325149273116, 0.0676608588488356, 0.10149128827325342, 0.0676608588488356, 0.05074564413662671, 0.14621651079082282, 0.10052385116869068, 0.14621651079082282, 0.14621651079082282, 0.10966238309311711, 0.09138531924426427, 0.09138531924426427, 0.05483119154655856, 0.05483119154655856, 0.05483119154655856, 0.09812764956023251, 0.22896451564054254, 0.09812764956023251, 0.09812764956023251, 0.09812764956023251, 0.09812764956023251, 0.06541843304015502, 0.06541843304015502, 0.06541843304015502, 0.06541843304015502, 0.16642136237815236, 0.1426468820384163, 0.11887240169868026, 0.0950979213589442, 0.07132344101920815, 0.07132344101920815, 0.0950979213589442, 0.1426468820384163, 0.0475489606794721, 0.0475489606794721, 0.13503081014597074, 0.11252567512164227, 0.11252567512164227, 0.09002054009731382, 0.18004108019462764, 0.09002054009731382, 0.09002054009731382, 0.06751540507298537, 0.06751540507298537, 0.04501027004865691, 0.1152004013066941, 0.15360053507559213, 0.18240063540226564, 0.1344004681911431, 0.08640030098002056, 0.08640030098002056, 0.07680026753779606, 0.05760020065334705, 0.06720023409557155, 0.03840013376889803, 0.1801926567325712, 0.1801926567325712, 0.1801926567325712, 0.1801926567325712, 0.1801926567325712, 0.1599040855033108, 0.1453673504575553, 0.13083061541179977, 0.11629388036604424, 0.08722041027453317, 0.07268367522877765, 0.08722041027453317, 0.05814694018302212, 0.05814694018302212, 0.07268367522877765, 0.17597289852221007, 0.07038915940888403, 0.14077831881776806, 0.14077831881776806, 0.10558373911332604, 0.07038915940888403, 0.07038915940888403, 0.035194579704442015, 0.035194579704442015, 0.10558373911332604, 0.18082273758220505, 0.18082273758220505, 0.18082273758220505, 0.18082273758220505, 0.18082273758220505, 0.18082273758220505, 0.1764464813598512, 0.14930086884295102, 0.12215525632605083, 0.10858245006760074, 0.09500964380915065, 0.05429122503380037, 0.10858245006760074, 0.06786403129225047, 0.06786403129225047, 0.040718418775350276, 0.2831839844175453, 0.14159199220877264, 0.14159199220877264, 0.14159199220877264, 0.14159199220877264, 0.14159199220877264, 0.14159199220877264, 0.1529360360387048, 0.12744669669892067, 0.14019136636881274, 0.10195735735913652, 0.10195735735913652, 0.12744669669892067, 0.0764680180193524, 0.0764680180193524, 0.05097867867956826, 0.06372334834946033, 0.2302885394049342, 0.2302885394049342, 0.1151442697024671, 0.05757213485123355, 0.05757213485123355, 0.05757213485123355, 0.05757213485123355, 0.05757213485123355, 0.05757213485123355, 0.05757213485123355, 0.134436537220459, 0.134436537220459, 0.134436537220459, 0.134436537220459, 0.134436537220459, 0.07238890465717022, 0.07238890465717022, 0.09307144884493315, 0.04136508837552584, 0.051706360469407305, 0.140303295574923, 0.0701516477874615, 0.0701516477874615, 0.280606591149846, 0.0701516477874615, 0.0701516477874615, 0.0701516477874615, 0.0701516477874615, 0.0701516477874615, 0.0701516477874615, 0.15255239333547413, 0.1398396938908513, 0.15255239333547413, 0.06356349722311422, 0.08898889611235991, 0.06356349722311422, 0.07627619666773706, 0.1144142950016056, 0.12712699444622844, 0.03813809833386853, 0.18760866858805927, 0.10823577033926497, 0.10823577033926497, 0.18760866858805927, 0.07215718022617665, 0.08658861627141197, 0.08658861627141197, 0.06494146220355898, 0.05051002615832365, 0.043294308135705985, 0.15916945505750316, 0.13643096147785982, 0.15916945505750316, 0.06821548073892991, 0.11369246789821653, 0.06821548073892991, 0.07958472752875158, 0.09095397431857323, 0.05684623394910827, 0.07958472752875158, 0.10288712885463348, 0.1543306932819502, 0.20577425770926697, 0.10288712885463348, 0.10288712885463348, 0.05144356442731674, 0.10288712885463348, 0.05144356442731674, 0.05144356442731674, 0.05144356442731674, 0.13763132678069834, 0.09175421785379889, 0.18350843570759778, 0.09175421785379889, 0.13763132678069834, 0.13763132678069834, 0.045877108926899446, 0.13763132678069834, 0.09175421785379889, 0.15489541270284546, 0.15489541270284546, 0.11617155952713411, 0.16264018333798774, 0.08519247698656501, 0.06195816508113819, 0.08519247698656501, 0.05421339444599591, 0.06195816508113819, 0.05421339444599591, 0.13514557080600764, 0.12163101372540688, 0.14866012788660843, 0.1892037991284107, 0.09460189956420535, 0.0810873424836046, 0.09460189956420535, 0.05405822832240306, 0.05405822832240306, 0.05405822832240306, 0.23187624716967783, 0.12647795300164247, 0.09837174122349969, 0.11242484711257107, 0.091345188278964, 0.07026552944535693, 0.07026552944535693, 0.07729208238989262, 0.06323897650082123, 0.049185870611749845, 0.1663410715569216, 0.1225671053577317, 0.20136024451627352, 0.0787931391585418, 0.09630272563821776, 0.11381231211789372, 0.0787931391585418, 0.04377396619918989, 0.06128355267886585, 0.04377396619918989, 0.1373953707280818, 0.0999239059840595, 0.1373953707280818, 0.12490488248007436, 0.17486683547210413, 0.08743341773605207, 0.04996195299202975, 0.06245244124003718, 0.06245244124003718, 0.07494292948804462, 0.1572504867910476, 0.23587573018657143, 0.11793786509328572, 0.0786252433955238, 0.0786252433955238, 0.0786252433955238, 0.0786252433955238, 0.0786252433955238, 0.0786252433955238, 0.0393126216977619, 0.09364517784656619, 0.17168282605203802, 0.12486023712875492, 0.09364517784656619, 0.15607529641094364, 0.09364517784656619, 0.07803764820547182, 0.046822588923283094, 0.07803764820547182, 0.06243011856437746, 0.13169277492972642, 0.0987695811972948, 0.1152311780635106, 0.08230798433107901, 0.08230798433107901, 0.13169277492972642, 0.1152311780635106, 0.08230798433107901, 0.08230798433107901, 0.08230798433107901, 0.15102033045602611, 0.1922076933076696, 0.12356208855493045, 0.12356208855493045, 0.0961038466538348, 0.08237472570328697, 0.06864560475273913, 0.054916483802191315, 0.054916483802191315, 0.054916483802191315, 0.10795166243819941, 0.1295419949258393, 0.10795166243819941, 0.15113232741347918, 0.08636132995055953, 0.06477099746291964, 0.1295419949258393, 0.06477099746291964, 0.08636132995055953, 0.06477099746291964, 0.16535416942909859, 0.15816485771478994, 0.14378623428617268, 0.13659692257186404, 0.09346105228601223, 0.05751449371446907, 0.0647038054287777, 0.07189311714308634, 0.05751449371446907, 0.05032518200016044, 0.21768458687081726, 0.1523792108095721, 0.11609844633110254, 0.11609844633110254, 0.09432998764402081, 0.05804922316555127, 0.06530537606124517, 0.07256152895693908, 0.05079307026985736, 0.05804922316555127, 0.132627574683797, 0.11052297890316415, 0.2210459578063283, 0.11052297890316415, 0.132627574683797, 0.08841838312253132, 0.0663137873418985, 0.08841838312253132, 0.04420919156126566, 0.04420919156126566, 0.093729497373964, 0.12497266316528532, 0.10935108026962466, 0.187458994747928, 0.17183741185226734, 0.06248633158264266, 0.06248633158264266, 0.07810791447830333, 0.046864748686982, 0.046864748686982, 0.18184057716994992, 0.15812224101734773, 0.12649779281387818, 0.10277945666127604, 0.10277945666127604, 0.07115500845780648, 0.07115500845780648, 0.07906112050867387, 0.07906112050867387, 0.03953056025433693, 0.11557774290718617, 0.11557774290718617, 0.1444721786339827, 0.1444721786339827, 0.08668330718038963, 0.08668330718038963, 0.11557774290718617, 0.057788871453593085, 0.057788871453593085, 0.11557774290718617, 0.1568790682867234, 0.1426173348061122, 0.1426173348061122, 0.09270126762397292, 0.08557040088366731, 0.10696300110458414, 0.05704693392244487, 0.09983213436427853, 0.08557040088366731, 0.03565433370152805, 0.1444523111238786, 0.1444523111238786, 0.0722261555619393, 0.1444523111238786, 0.0722261555619393, 0.1444523111238786, 0.0722261555619393, 0.0722261555619393, 0.0722261555619393, 0.0722261555619393, 0.1277106836648083, 0.1277106836648083, 0.1277106836648083, 0.1277106836648083, 0.1277106836648083, 0.06385534183240416, 0.1277106836648083, 0.06385534183240416, 0.06385534183240416, 0.06385534183240416, 0.14147362088664095, 0.2357893681444016, 0.09431574725776064, 0.09431574725776064, 0.09431574725776064, 0.04715787362888032, 0.09431574725776064, 0.04715787362888032, 0.04715787362888032, 0.04715787362888032, 0.16051342606422006, 0.13376118838685006, 0.13376118838685006, 0.08025671303211003, 0.16051342606422006, 0.10700895070948004, 0.05350447535474002, 0.08025671303211003, 0.05350447535474002, 0.02675223767737001, 0.10770558070321708, 0.14360744093762276, 0.10770558070321708, 0.10770558070321708, 0.14360744093762276, 0.14360744093762276, 0.07180372046881138, 0.10770558070321708, 0.07180372046881138, 0.03590186023440569, 0.14075376842269616, 0.14075376842269616, 0.09383584561513078, 0.09383584561513078, 0.09383584561513078, 0.09383584561513078, 0.14075376842269616, 0.09383584561513078, 0.04691792280756539, 0.04691792280756539, 0.13298343710970928, 0.13298343710970928, 0.13298343710970928, 0.13298343710970928, 0.13298343710970928, 0.13298343710970928, 0.13298343710970928, 0.12660531395550692, 0.06330265697775346, 0.12660531395550692, 0.12660531395550692, 0.12660531395550692, 0.06330265697775346, 0.12660531395550692, 0.06330265697775346, 0.06330265697775346, 0.06330265697775346, 0.13390953708651387, 0.15825672564769822, 0.13390953708651387, 0.04869437712236868, 0.14608313136710604, 0.1217359428059217, 0.04869437712236868, 0.10956234852532953, 0.07304156568355302, 0.02434718856118434, 0.17666304552144377, 0.17666304552144377, 0.17666304552144377, 0.17666304552144377, 0.17666304552144377, 0.17666304552144377, 0.17579031973523732, 0.17579031973523732, 0.17579031973523732, 0.17579031973523732, 0.17579031973523732, 0.13682674198961634, 0.10946139359169307, 0.10946139359169307, 0.13682674198961634, 0.13682674198961634, 0.08209604519376981, 0.13682674198961634, 0.05473069679584654, 0.05473069679584654, 0.05473069679584654, 0.18639084980885126, 0.12426056653923417, 0.06903364807735232, 0.13806729615470464, 0.1104538369237637, 0.08284037769282278, 0.07593701288508754, 0.05522691846188185, 0.08284037769282278, 0.06903364807735232, 0.13686700537420357, 0.10949360429936285, 0.16424040644904428, 0.10949360429936285, 0.10949360429936285, 0.10949360429936285, 0.054746802149681424, 0.054746802149681424, 0.10949360429936285, 0.054746802149681424, 0.09838833527337436, 0.1366504656574644, 0.1120533818391208, 0.05466018626298576, 0.16124754947580797, 0.12571842840486724, 0.05466018626298576, 0.13938347497061368, 0.09838833527337436, 0.016398055878895725, 0.12655365655144893, 0.12655365655144893, 0.1392090222065938, 0.06327682827572446, 0.11389829089630403, 0.1392090222065938, 0.037966096965434674, 0.11389829089630403, 0.10124292524115913, 0.025310731310289783, 0.12947982623439985, 0.06473991311719993, 0.21040471763089977, 0.09710986967579989, 0.08092489139649992, 0.09710986967579989, 0.08092489139649992, 0.09710986967579989, 0.09710986967579989, 0.03236995655859996, 0.16246311199915678, 0.08123155599957839, 0.16246311199915678, 0.16246311199915678, 0.08123155599957839, 0.08123155599957839, 0.08123155599957839, 0.08123155599957839, 0.08123155599957839, 0.08123155599957839, 0.07472120891467789, 0.14944241782935577, 0.22416362674403364, 0.09340151114334735, 0.09340151114334735, 0.07472120891467789, 0.07472120891467789, 0.09340151114334735, 0.07472120891467789, 0.07472120891467789, 0.21689355664578894, 0.10844677832289447, 0.10844677832289447, 0.10844677832289447, 0.07229785221526298, 0.14459570443052597, 0.07229785221526298, 0.07229785221526298, 0.07229785221526298, 0.03614892610763149, 0.1559795624774665, 0.10398637498497766, 0.10398637498497766, 0.20797274996995532, 0.10398637498497766, 0.10398637498497766, 0.05199318749248883, 0.05199318749248883, 0.05199318749248883, 0.10398637498497766, 0.21271149510399423, 0.07090383170133141, 0.14180766340266282, 0.14180766340266282, 0.07090383170133141, 0.07090383170133141, 0.07090383170133141, 0.07090383170133141, 0.07090383170133141, 0.07090383170133141, 0.20228451815247886, 0.11238028786248826, 0.11238028786248826, 0.16857043179373238, 0.0899042302899906, 0.06742817271749296, 0.07866620150374179, 0.07866620150374179, 0.0449521151449953, 0.0449521151449953, 0.1193047610811238, 0.18438008530719133, 0.1409965358231463, 0.13015064845213506, 0.10845887371011254, 0.06507532422606753, 0.07592121159707878, 0.07592121159707878, 0.05422943685505627, 0.04338354948404501, 0.1521295968401674, 0.16734255652418414, 0.22819439526025112, 0.12170367747213393, 0.045638879052050225, 0.0760647984200837, 0.06085183873606696, 0.06085183873606696, 0.06085183873606696, 0.045638879052050225, 0.12029107693246378, 0.12029107693246378, 0.12029107693246378, 0.18043661539869568, 0.06014553846623189, 0.12029107693246378, 0.06014553846623189, 0.06014553846623189, 0.06014553846623189, 0.06014553846623189, 0.17294300985933536, 0.11529533990622358, 0.11529533990622358, 0.11529533990622358, 0.08647150492966768, 0.08647150492966768, 0.05764766995311179, 0.11529533990622358, 0.05764766995311179, 0.05764766995311179, 0.09965096750870063, 0.09965096750870063, 0.2989529025261019, 0.09965096750870063, 0.09965096750870063, 0.09965096750870063, 0.09965096750870063, 0.09965096750870063, 0.09965096750870063, 0.18628669096802092, 0.09314334548401046, 0.09314334548401046, 0.09314334548401046, 0.09314334548401046, 0.09314334548401046, 0.09314334548401046, 0.09314334548401046, 0.09314334548401046, 0.09314334548401046, 0.11975504600393037, 0.11975504600393037, 0.14636727844924824, 0.1729795108945661, 0.14636727844924824, 0.06653058111329466, 0.09314281355861251, 0.06653058111329466, 0.03991834866797679, 0.03991834866797679, 0.21952896514075068, 0.10976448257037534, 0.10976448257037534, 0.10132106083419262, 0.1266513260427408, 0.10132106083419262, 0.08443421736182719, 0.06754737388946175, 0.04221710868091359, 0.05066053041709631, 0.27849719862121336, 0.11726197836682668, 0.10260423107097334, 0.08794648377512002, 0.10260423107097334, 0.05863098918341334, 0.05863098918341334, 0.05863098918341334, 0.07328873647926668, 0.05863098918341334, 0.08164701171689354, 0.08164701171689354, 0.13607835286148923, 0.13607835286148923, 0.08164701171689354, 0.10886268228919138, 0.027215670572297845, 0.13607835286148923, 0.10886268228919138, 0.05443134114459569, 0.12026860707818415, 0.15463106624337963, 0.1374498366607819, 0.10308737749558641, 0.10308737749558641, 0.06872491833039095, 0.08590614791298869, 0.06872491833039095, 0.10308737749558641, 0.06872491833039095, 0.18776512115554236, 0.18776512115554236, 0.09388256057777118, 0.09388256057777118, 0.09388256057777118, 0.09388256057777118, 0.09388256057777118, 0.09388256057777118, 0.09388256057777118, 0.09388256057777118, 0.1433291922256765, 0.12899627300310884, 0.10033043455797354, 0.1146633537805412, 0.10033043455797354, 0.07166459611283825, 0.15766211144824413, 0.07166459611283825, 0.0573316768902706, 0.07166459611283825, 0.14897317392546539, 0.1191785391403723, 0.14897317392546539, 0.1191785391403723, 0.17876780871055845, 0.05958926957018615, 0.05958926957018615, 0.05958926957018615, 0.05958926957018615, 0.05958926957018615, 0.09669476666074549, 0.15885568808551045, 0.13122861189672602, 0.17266922617990266, 0.07597445951915717, 0.08978799761354939, 0.05525415237756885, 0.06906769047196107, 0.08978799761354939, 0.06216092142476496, 0.14869203404606154, 0.25490062979324835, 0.10620859574718682, 0.12745031489662417, 0.10620859574718682, 0.06372515744831209, 0.08496687659774946, 0.04248343829887473, 0.04248343829887473, 0.021241719149437364, 0.16156058524113293, 0.1211704389308497, 0.16156058524113293, 0.1211704389308497, 0.08078029262056646, 0.08078029262056646, 0.08078029262056646, 0.04039014631028323, 0.1211704389308497, 0.04039014631028323, 0.19014478111517638, 0.10695643937728672, 0.14260858583638228, 0.09507239055758819, 0.059420244098492614, 0.09507239055758819, 0.07130429291819114, 0.059420244098492614, 0.07130429291819114, 0.09507239055758819, 0.10296633627408659, 0.15444950441112987, 0.25741584068521645, 0.10296633627408659, 0.10296633627408659, 0.10296633627408659, 0.051483168137043296, 0.051483168137043296, 0.051483168137043296, 0.051483168137043296, 0.07887284589527331, 0.23661853768581992, 0.07887284589527331, 0.07887284589527331, 0.07887284589527331, 0.07887284589527331, 0.07887284589527331, 0.07887284589527331, 0.07887284589527331, 0.19952004236082613, 0.11638669137714858, 0.15795336686898737, 0.1330133615738841, 0.06650668078694205, 0.0748200158853098, 0.0748200158853098, 0.08313335098367756, 0.06650668078694205, 0.04156667549183878, 0.1619101423517627, 0.10119383896985171, 0.13155199066080722, 0.12143260676382205, 0.11131322286683687, 0.08095507117588135, 0.07083568727889619, 0.10119383896985171, 0.07083568727889619, 0.050596919484925854, 0.2643365614844605, 0.17622437432297366, 0.08811218716148683, 0.08811218716148683, 0.058741458107657886, 0.058741458107657886, 0.058741458107657886, 0.08811218716148683, 0.058741458107657886, 0.058741458107657886, 0.24207961028739944, 0.09683184411495976, 0.11619821293795173, 0.10651502852645575, 0.10651502852645575, 0.07746547529196782, 0.06778229088047184, 0.07746547529196782, 0.07746547529196782, 0.03873273764598391, 0.13821587344286007, 0.2211453975085761, 0.08292952406571603, 0.12439428609857406, 0.12439428609857406, 0.04146476203285802, 0.06910793672143004, 0.06910793672143004, 0.06910793672143004, 0.05528634937714402, 0.12636598048439404, 0.12636598048439404, 0.12636598048439404, 0.09026141463171003, 0.09026141463171003, 0.16247054633707805, 0.09026141463171003, 0.09026141463171003, 0.05415684877902602, 0.03610456585268401, 0.1387983666709104, 0.0693991833354552, 0.16193142778272876, 0.18506448889454716, 0.09253224444727358, 0.0693991833354552, 0.09253224444727358, 0.04626612222363679, 0.0693991833354552, 0.04626612222363679, 0.17307600153704786, 0.17307600153704786, 0.17307600153704786, 0.17307600153704786, 0.16022942430180898, 0.12462288556807366, 0.14242615493494132, 0.14242615493494132, 0.07121307746747066, 0.12462288556807366, 0.053409808100602994, 0.053409808100602994, 0.053409808100602994, 0.053409808100602994, 0.17590920026399556, 0.13887568441894385, 0.17590920026399556, 0.10184216857389217, 0.08332541065136631, 0.05555027376757754, 0.0740670316901034, 0.08332541065136631, 0.05555027376757754, 0.04629189480631462, 0.15994315867578907, 0.15994315867578907, 0.08885731037543837, 0.10662877245052604, 0.10662877245052604, 0.0710858483003507, 0.12440023452561372, 0.08885731037543837, 0.05331438622526302, 0.03554292415017535, 0.19264881372403062, 0.07457373434478605, 0.40394106103425775, 0.1491474686895721, 0.012428955724131007, 0.018643433586196512, 0.03107238931032752, 0.03107238931032752, 0.018643433586196512, 0.06835925648272054, 0.1358692922155362, 0.14557424165950306, 0.17468908999140367, 0.1358692922155362, 0.08734454499570184, 0.11645939332760245, 0.04852474721983435, 0.05822969666380123, 0.0679346461077681, 0.029114848331900613, 0.14377717613534155, 0.06390096717126291, 0.15176479703174942, 0.16774003882456515, 0.09585145075689437, 0.09585145075689437, 0.07188858806767078, 0.09585145075689437, 0.06390096717126291, 0.047925725378447186, 0.1554820006428347, 0.08372107726921868, 0.1196015389560267, 0.20332261622524536, 0.10764138506042402, 0.08372107726921868, 0.07176092337361602, 0.05980076947801335, 0.07176092337361602, 0.05980076947801335, 0.15836534517670556, 0.14396849561518685, 0.12957164605366817, 0.07198424780759342, 0.08638109736911212, 0.05758739824607474, 0.12957164605366817, 0.1007779469306308, 0.07198424780759342, 0.05758739824607474, 0.13013529016903927, 0.2024326735962833, 0.11567581348359046, 0.08675686011269285, 0.13013529016903927, 0.07229738342724404, 0.08675686011269285, 0.07229738342724404, 0.05783790674179523, 0.04337843005634642, 0.21414269636691144, 0.14276179757794094, 0.07138089878897047, 0.14276179757794094, 0.07138089878897047, 0.07138089878897047, 0.14276179757794094, 0.07138089878897047, 0.07138089878897047, 0.07138089878897047, 0.16149762281474056, 0.19738598344023847, 0.12560926218924265, 0.1076650818764937, 0.05383254093824685, 0.08972090156374475, 0.08972090156374475, 0.05383254093824685, 0.07177672125099581, 0.035888360625497905, 0.17454275320617446, 0.13487394565931662, 0.15074146867805976, 0.07933761509371567, 0.0952051381124588, 0.08727137660308723, 0.08727137660308723, 0.06347009207497253, 0.0476025690562294, 0.0714038535843441, 0.13932294350504282, 0.10836228939281109, 0.13932294350504282, 0.1548032705611587, 0.07740163528057935, 0.07740163528057935, 0.07740163528057935, 0.06192130822446348, 0.10836228939281109, 0.06192130822446348, 0.1427014320602557, 0.1427014320602557, 0.1427014320602557, 0.09513428804017046, 0.19026857608034092, 0.09513428804017046, 0.04756714402008523, 0.04756714402008523, 0.09513428804017046, 0.04756714402008523, 0.12186900600176166, 0.09749520480140933, 0.12186900600176166, 0.19499040960281866, 0.12186900600176166, 0.073121403601057, 0.073121403601057, 0.073121403601057, 0.048747602400704665, 0.048747602400704665, 0.11283356488346451, 0.15044475317795267, 0.18805594147244084, 0.11283356488346451, 0.07522237658897633, 0.07522237658897633, 0.07522237658897633, 0.11283356488346451, 0.07522237658897633, 0.03761118829448817, 0.07575287146049678, 0.15150574292099356, 0.15150574292099356, 0.15150574292099356, 0.07575287146049678, 0.15150574292099356, 0.07575287146049678, 0.07575287146049678, 0.07575287146049678, 0.18679504254983106, 0.12453002836655404, 0.12453002836655404, 0.12453002836655404, 0.12453002836655404, 0.06226501418327702, 0.06226501418327702, 0.12453002836655404, 0.06226501418327702, 0.06226501418327702, 0.09675884376935177, 0.09675884376935177, 0.09675884376935177, 0.09675884376935177, 0.09675884376935177, 0.09675884376935177, 0.09675884376935177, 0.09675884376935177, 0.09675884376935177, 0.25409476457620916, 0.09361386063334022, 0.09361386063334022, 0.1471074952809632, 0.09361386063334022, 0.08024045197143448, 0.05349363464762298, 0.08024045197143448, 0.06686704330952872, 0.04012022598571724, 0.1203359166583321, 0.14440309998999853, 0.2166046499849978, 0.09626873332666568, 0.16847028332166494, 0.07220154999499927, 0.02406718333166642, 0.04813436666333284, 0.02406718333166642, 0.02406718333166642, 0.15488222575420288, 0.20650963433893718, 0.12261509538874396, 0.10325481716946859, 0.1484287996811111, 0.07098768680400966, 0.07098768680400966, 0.05808083465782608, 0.03872055643855072, 0.03226713036545894, 0.09454097497412796, 0.09454097497412796, 0.18908194994825592, 0.09454097497412796, 0.09454097497412796, 0.09454097497412796, 0.09454097497412796, 0.09454097497412796, 0.09454097497412796, 0.09454097497412796, 0.1493861696043755, 0.16930432555162558, 0.11950893568350042, 0.09959077973625034, 0.07967262378900028, 0.09959077973625034, 0.09959077973625034, 0.06971354581537524, 0.05975446784175021, 0.04979538986812517, 0.10683430847077012, 0.10683430847077012, 0.16025146270615517, 0.2670857711769253, 0.10683430847077012, 0.05341715423538506, 0.05341715423538506, 0.10683430847077012, 0.10683430847077012, 0.05341715423538506, 0.10592409899403857, 0.10592409899403857, 0.148293738591654, 0.10592409899403857, 0.12710891879284628, 0.148293738591654, 0.08473927919523086, 0.10592409899403857, 0.04236963959761543, 0.04236963959761543, 0.1094195310408959, 0.1392612213247766, 0.1492084514194035, 0.1392612213247766, 0.09947230094626901, 0.1094195310408959, 0.0596833805677614, 0.0895250708516421, 0.0696306106623883, 0.0397889203785076, 0.14317392469349083, 0.1272657108386585, 0.1113574969838262, 0.1272657108386585, 0.1113574969838262, 0.06363285541932925, 0.07954106927416157, 0.06363285541932925, 0.0954492831289939, 0.06363285541932925, 0.17093495777316764, 0.11395663851544509, 0.17093495777316764, 0.12209639840940545, 0.08139759893960363, 0.07325783904564327, 0.08139759893960363, 0.07325783904564327, 0.07325783904564327, 0.048838559363762184, 0.13198045030443867, 0.13198045030443867, 0.10998370858703221, 0.10998370858703221, 0.06599022515221933, 0.10998370858703221, 0.06599022515221933, 0.13198045030443867, 0.06599022515221933, 0.06599022515221933, 0.1644222678708796, 0.21922969049450616, 0.0822111339354398, 0.10961484524725308, 0.10961484524725308, 0.0822111339354398, 0.05480742262362654, 0.05480742262362654, 0.05480742262362654, 0.05480742262362654, 0.1142551022312872, 0.12464192970685875, 0.15580241213357343, 0.13502875718243032, 0.10386827475571563, 0.0830946198045725, 0.12464192970685875, 0.04154730990228625, 0.07270779232900094, 0.04154730990228625, 0.1340272270774584, 0.17423539520069592, 0.1340272270774584, 0.08041633624647504, 0.1072217816619667, 0.05361089083098335, 0.08041633624647504, 0.0670136135387292, 0.0670136135387292, 0.08041633624647504, 0.1753541455799187, 0.1987346983239079, 0.11690276371994582, 0.09352221097595666, 0.08183193460396207, 0.09352221097595666, 0.07014165823196748, 0.07014165823196748, 0.04676110548797833, 0.04676110548797833, 0.12572786532946478, 0.12572786532946478, 0.14668250955104226, 0.08381857688630986, 0.11525054321867606, 0.13620518744025353, 0.10477322110788732, 0.05238661055394366, 0.05238661055394366, 0.04190928844315493, 0.12160950677004612, 0.12160950677004612, 0.12160950677004612, 0.12160950677004612, 0.12160950677004612, 0.12160950677004612, 0.12160950677004612, 0.12160950677004612, 0.12160950677004612, 0.1825226204415003, 0.11110072548613062, 0.126972257698435, 0.11903649159228281, 0.10316495937997844, 0.07142189495536969, 0.05555036274306531, 0.11110072548613062, 0.07142189495536969, 0.04761459663691312, 0.13183007319926504, 0.13183007319926504, 0.12084423376599296, 0.1538017520658092, 0.13183007319926504, 0.06591503659963252, 0.0769008760329046, 0.06591503659963252, 0.06591503659963252, 0.05492919716636044, 0.23338821106890115, 0.11669410553445057, 0.11669410553445057, 0.11669410553445057, 0.11669410553445057, 0.11669410553445057, 0.11669410553445057, 0.1437280449865102, 0.1347450421748533, 0.20660906466810844, 0.10779603373988265, 0.09881303092822577, 0.08983002811656889, 0.06288101968159822, 0.05389801686994133, 0.06288101968159822, 0.03593201124662755, 0.20720910058041656, 0.10360455029020828, 0.10360455029020828, 0.10360455029020828, 0.20720910058041656, 0.10360455029020828, 0.10360455029020828, 0.10360455029020828, 0.10360455029020828, 0.12554421569569485, 0.14123724265765672, 0.10985118873373301, 0.10985118873373301, 0.10985118873373301, 0.10985118873373301, 0.14123724265765672, 0.06277210784784742, 0.047079080885885576, 0.06277210784784742, 0.17558456233846115, 0.17558456233846115, 0.17558456233846115, 0.17558456233846115, 0.17558456233846115, 0.17558456233846115, 0.11456314699417586, 0.11456314699417586, 0.22912629398835171, 0.11456314699417586, 0.05728157349708793, 0.11456314699417586, 0.05728157349708793, 0.05728157349708793, 0.05728157349708793, 0.05728157349708793, 0.1660826825107584, 0.0894291367365622, 0.1277559096236603, 0.1660826825107584, 0.06387795481183015, 0.10220472769892824, 0.07665354577419618, 0.0894291367365622, 0.05110236384946412, 0.07665354577419618, 0.27798400834186604, 0.09266133611395534, 0.09266133611395534, 0.09266133611395534, 0.09266133611395534, 0.09266133611395534, 0.09266133611395534, 0.09266133611395534, 0.09266133611395534, 0.09266133611395534, 0.1359862075549388, 0.11332183962911566, 0.1359862075549388, 0.11332183962911566, 0.09065747170329252, 0.1359862075549388, 0.0679931037774694, 0.09065747170329252, 0.0679931037774694, 0.04532873585164626, 0.09223752444160016, 0.05380522259093342, 0.2536531922144004, 0.12298336592213353, 0.038432301850666734, 0.11529690555200019, 0.09223752444160016, 0.06149168296106677, 0.11529690555200019, 0.04611876222080008, 0.11393843752129347, 0.17090765628194018, 0.11393843752129347, 0.11393843752129347, 0.11393843752129347, 0.11393843752129347, 0.17090765628194018, 0.056969218760646735, 0.056969218760646735, 0.056969218760646735, 0.1496625968307105, 0.1496625968307105, 0.1197300774645684, 0.0897975580984263, 0.0897975580984263, 0.0897975580984263, 0.1496625968307105, 0.0897975580984263, 0.0598650387322842, 0.0598650387322842, 0.09903318124889099, 0.14854977187333648, 0.24758295312222747, 0.14854977187333648, 0.09903318124889099, 0.049516590624445495, 0.049516590624445495, 0.049516590624445495, 0.049516590624445495, 0.049516590624445495, 0.1372136394301317, 0.1372136394301317, 0.24698455097423708, 0.1372136394301317, 0.08232818365807902, 0.054885455772052685, 0.054885455772052685, 0.08232818365807902, 0.054885455772052685, 0.027442727886026343, 0.16445207851089458, 0.10963471900726306, 0.10963471900726306, 0.2192694380145261, 0.05481735950363153, 0.10963471900726306, 0.05481735950363153, 0.05481735950363153, 0.05481735950363153, 0.05481735950363153, 0.1348774946699827, 0.1348774946699827, 0.06743874733499135, 0.06743874733499135, 0.1348774946699827, 0.06743874733499135, 0.1348774946699827, 0.1348774946699827, 0.06743874733499135, 0.06743874733499135, 0.15747679001900672, 0.12598143201520537, 0.14697833735107294, 0.11548297934727159, 0.14697833735107294, 0.08398762134347025, 0.07348916867553647, 0.06299071600760268, 0.0524922633396689, 0.041993810671735125, 0.12333608850178891, 0.12333608850178891, 0.12333608850178891, 0.12333608850178891, 0.09250206637634169, 0.09250206637634169, 0.09250206637634169, 0.12333608850178891, 0.061668044250894456, 0.030834022125447228, 0.1831518794255009, 0.16025789449731329, 0.1297325812597298, 0.11446992464093807, 0.08394461140335457, 0.09157593971275045, 0.06868195478456283, 0.07631328309395871, 0.053419298165771095, 0.045787969856375225, 0.27015618020326065, 0.0810468540609782, 0.12157028109146731, 0.09455466307114123, 0.10806247208130428, 0.0810468540609782, 0.0810468540609782, 0.06753904505081516, 0.05403123604065214, 0.0405234270304891, 0.1603995733718419, 0.12831965869747353, 0.11227970136028934, 0.1603995733718419, 0.06415982934873676, 0.12831965869747353, 0.08019978668592095, 0.08019978668592095, 0.06415982934873676, 0.03207991467436838, 0.10975390242573088, 0.10975390242573088, 0.10975390242573088, 0.10975390242573088, 0.10975390242573088, 0.10975390242573088, 0.10975390242573088, 0.10975390242573088, 0.10975390242573088, 0.10975390242573088, 0.19432949414390585, 0.11958738101163438, 0.11958738101163438, 0.10463895838518007, 0.08969053575872578, 0.13453580363808867, 0.05979369050581719, 0.08969053575872578, 0.05979369050581719, 0.029896845252908595, 0.16520381801611023, 0.16520381801611023, 0.33040763603222045, 0.16520381801611023, 0.16520381801611023, 0.08958747375184366, 0.08958747375184366, 0.08958747375184366, 0.08958747375184366, 0.17917494750368732, 0.08958747375184366, 0.08958747375184366, 0.08958747375184366, 0.08958747375184366, 0.08958747375184366, 0.10405838049103035, 0.1387445073213738, 0.1387445073213738, 0.10405838049103035, 0.0693722536606869, 0.0693722536606869, 0.0693722536606869, 0.0693722536606869, 0.0693722536606869, 0.10405838049103035, 0.24518686615900803, 0.13202369716254278, 0.13202369716254278, 0.09430264083038771, 0.11316316899646525, 0.07544211266431017, 0.056581584498232626, 0.056581584498232626, 0.056581584498232626, 0.056581584498232626, 0.14131596289186493, 0.2119739443377974, 0.14131596289186493, 0.07065798144593247, 0.14131596289186493, 0.07065798144593247, 0.07065798144593247, 0.07065798144593247, 0.07065798144593247, 0.1082424473096342, 0.1082424473096342, 0.1082424473096342, 0.1082424473096342, 0.1082424473096342, 0.1082424473096342, 0.1082424473096342, 0.1082424473096342, 0.1082424473096342, 0.1082424473096342, 0.16844130126250054, 0.11790891088375037, 0.11790891088375037, 0.10106478075750032, 0.15159717113625049, 0.11790891088375037, 0.06737652050500022, 0.05053239037875016, 0.06737652050500022, 0.03368826025250011, 0.2654783922888451, 0.10619135691553805, 0.10619135691553805, 0.10619135691553805, 0.053095678457769024, 0.10619135691553805, 0.053095678457769024, 0.053095678457769024, 0.053095678457769024, 0.053095678457769024, 0.18576511458163977, 0.15604269624857742, 0.11145906874898387, 0.09659785958245269, 0.12632027791551506, 0.0891672549991871, 0.05944483666612473, 0.05201423208285914, 0.05201423208285914, 0.06687544124939032, 0.18902276315381536, 0.1260151754358769, 0.1260151754358769, 0.1260151754358769, 0.06300758771793845, 0.1260151754358769, 0.06300758771793845, 0.06300758771793845, 0.1260151754358769, 0.06300758771793845, 0.25602636510434595, 0.10542262092531893, 0.12048299534322163, 0.13554336976112433, 0.09036224650741621, 0.09036224650741621, 0.060241497671610814, 0.07530187208951351, 0.060241497671610814, 0.030120748835805407, 0.15382773579211376, 0.15382773579211376, 0.12424547890901495, 0.16566063854535326, 0.08283031927267663, 0.10649612477915567, 0.041415159636338315, 0.053248062389577834, 0.06508096514281736, 0.053248062389577834, 0.29678361917227886, 0.11871344766891154, 0.11871344766891154, 0.11871344766891154, 0.11871344766891154, 0.11871344766891154, 0.05935672383445577, 0.05935672383445577, 0.05935672383445577, 0.05935672383445577, 0.11116304934891831, 0.11116304934891831, 0.11116304934891831, 0.11116304934891831, 0.11116304934891831, 0.11116304934891831, 0.11116304934891831, 0.11116304934891831, 0.11116304934891831, 0.11116304934891831, 0.15359529909992603, 0.15359529909992603, 0.15359529909992603, 0.15359529909992603, 0.15359529909992603, 0.15359529909992603, 0.15359529909992603, 0.2229479043773334, 0.1114739521886667, 0.08360546414150002, 0.1114739521886667, 0.1114739521886667, 0.05573697609433335, 0.08360546414150002, 0.05573697609433335, 0.1114739521886667, 0.027868488047166674, 0.11294468329484268, 0.08470851247113201, 0.16376979077752188, 0.14118085411855336, 0.07341404414164775, 0.11859191745958482, 0.06211957581216347, 0.10165021496535841, 0.09600298080061628, 0.039530639153194935, 0.17513946459246948, 0.17513946459246948, 0.17513946459246948, 0.08756973229623474, 0.08756973229623474, 0.08756973229623474, 0.08756973229623474, 0.08756973229623474, 0.08756973229623474, 0.08756973229623474, 0.13468036069325187, 0.12121232462392668, 0.1077442885546015, 0.14814839676257707, 0.08080821641595112, 0.12121232462392668, 0.1077442885546015, 0.09427625248527631, 0.04040410820797556, 0.04040410820797556, 0.1275793626242334, 0.09568452196817505, 0.18073743038433063, 0.1488425897282723, 0.10631613552019449, 0.0637896813121167, 0.07442129486413615, 0.07442129486413615, 0.0637896813121167, 0.053158067760097245, 0.17519863954341525, 0.17519863954341525, 0.17519863954341525, 0.17519863954341525, 0.17519863954341525, 0.19643491389669956, 0.13665037488466056, 0.15373167174524313, 0.06832518744233028, 0.09394713273320414, 0.06832518744233028, 0.06832518744233028, 0.10248778116349543, 0.05978453901203899, 0.05124389058174771, 0.253408036605451, 0.1520448219632706, 0.08446934553515033, 0.13515095285624054, 0.06757547642812027, 0.08446934553515033, 0.08446934553515033, 0.0506816073210902, 0.06757547642812027, 0.0506816073210902, 0.19381772672521227, 0.09690886336260614, 0.09690886336260614, 0.19381772672521227, 0.09690886336260614, 0.09690886336260614, 0.09690886336260614, 0.09690886336260614, 0.09690886336260614, 0.09690886336260614, 0.1533791506852387, 0.10736540547966708, 0.13804123561671483, 0.13804123561671483, 0.1533791506852387, 0.06135166027409548, 0.06135166027409548, 0.07668957534261935, 0.06135166027409548, 0.04601374520557161, 0.22420547959655848, 0.11210273979827924, 0.11210273979827924, 0.11210273979827924, 0.11210273979827924, 0.11210273979827924, 0.11210273979827924, 0.11210273979827924, 0.11210273979827924, 0.14368130735597956, 0.12315540630512534, 0.14368130735597956, 0.092366554728844, 0.12315540630512534, 0.08210360420341689, 0.07184065367798978, 0.092366554728844, 0.092366554728844, 0.041051802101708446, 0.1299449205345114, 0.18408863742389114, 0.1299449205345114, 0.10828743377875949, 0.0866299470230076, 0.10828743377875949, 0.0649724602672557, 0.0649724602672557, 0.054143716889379745, 0.07580120364513164, 0.1652468809314677, 0.11016458728764512, 0.12852535183558597, 0.09180382273970428, 0.1652468809314677, 0.07344305819176342, 0.07344305819176342, 0.09180382273970428, 0.07344305819176342, 0.03672152909588171, 0.18160607317511035, 0.12107071545007357, 0.12107071545007357, 0.12107071545007357, 0.12107071545007357, 0.18160607317511035, 0.060535357725036786, 0.060535357725036786, 0.060535357725036786, 0.060535357725036786, 0.13093180644039049, 0.12157953455179116, 0.14963635021758911, 0.08417044699739389, 0.13093180644039049, 0.12157953455179116, 0.0467613594429966, 0.10287499077459253, 0.07481817510879456, 0.02805681566579796, 0.15269632711185846, 0.15269632711185846, 0.10906880507989891, 0.08725504406391912, 0.10906880507989891, 0.06544128304793935, 0.1308825660958787, 0.08725504406391912, 0.06544128304793935, 0.04362752203195956, 0.10971527775462352, 0.21943055550924703, 0.1462870370061647, 0.1462870370061647, 0.07314351850308234, 0.07314351850308234, 0.07314351850308234, 0.07314351850308234, 0.07314351850308234, 0.03657175925154117, 0.11839146778548798, 0.15785529038065063, 0.11839146778548798, 0.11839146778548798, 0.07892764519032532, 0.07892764519032532, 0.15785529038065063, 0.07892764519032532, 0.07892764519032532, 0.07892764519032532, 0.18352636322939372, 0.09176318161469686, 0.09176318161469686, 0.2752895448440906, 0.09176318161469686, 0.09176318161469686, 0.09176318161469686, 0.09176318161469686, 0.10835034031396862, 0.10835034031396862, 0.14446712041862483, 0.18058390052328105, 0.07223356020931242, 0.10835034031396862, 0.10835034031396862, 0.07223356020931242, 0.07223356020931242, 0.03611678010465621, 0.15490714430274777, 0.15490714430274777, 0.15490714430274777, 0.15490714430274777, 0.15490714430274777, 0.15490714430274777, 0.15490714430274777, 0.20026826119397995, 0.10847864148007247, 0.13351217412931995, 0.13351217412931995, 0.13351217412931995, 0.09178961971390748, 0.04172255441541249, 0.05841157618157748, 0.05841157618157748, 0.03337804353232999, 0.10480776415698309, 0.08151714989987574, 0.1513889926711978, 0.12809837841409044, 0.12809837841409044, 0.10480776415698309, 0.06987184277132205, 0.10480776415698309, 0.05822653564276838, 0.034935921385661026, 0.1320137058239353, 0.1320137058239353, 0.1320137058239353, 0.2640274116478706, 0.1320137058239353, 0.1320137058239353, 0.1320137058239353, 0.1320137058239353, 0.23072014557256787, 0.14832009358236506, 0.14008008838334476, 0.09064005718922309, 0.05768003639314197, 0.07416004679118253, 0.07416004679118253, 0.049440031194121686, 0.07416004679118253, 0.06592004159216225, 0.2794158075895251, 0.13970790379476256, 0.06985395189738128, 0.10478092784607192, 0.10478092784607192, 0.06985395189738128, 0.06985395189738128, 0.06985395189738128, 0.06985395189738128, 0.03492697594869064, 0.21628781444669165, 0.07209593814889721, 0.21628781444669165, 0.07209593814889721, 0.07209593814889721, 0.07209593814889721, 0.07209593814889721, 0.07209593814889721, 0.07209593814889721, 0.07209593814889721, 0.13478670783093738, 0.13478670783093738, 0.11793836935207022, 0.08424169239433588, 0.11793836935207022, 0.08424169239433588, 0.08424169239433588, 0.08424169239433588, 0.06739335391546869, 0.08424169239433588, 0.12662391014878002, 0.12662391014878002, 0.10129912811902402, 0.15194869217853602, 0.10129912811902402, 0.10129912811902402, 0.07597434608926801, 0.05064956405951201, 0.05064956405951201, 0.10129912811902402, 0.17216325554874493, 0.08608162777437246, 0.10760203471796559, 0.2582448833231174, 0.10760203471796559, 0.08608162777437246, 0.04304081388718623, 0.06456122083077935, 0.06456122083077935, 0.04304081388718623, 0.1890066475829188, 0.1890066475829188, 0.1374593800603046, 0.08591211253769036, 0.07732090128392133, 0.0687296900301523, 0.07732090128392133, 0.04295605626884518, 0.0687296900301523, 0.05154726752261422, 0.09787062533028586, 0.1468059379954288, 0.2202089069931432, 0.09787062533028586, 0.04893531266514293, 0.09787062533028586, 0.09787062533028586, 0.04893531266514293, 0.0734029689977144, 0.04893531266514293, 0.06983300203585587, 0.13966600407171173, 0.27933200814342346, 0.06983300203585587, 0.06983300203585587, 0.06983300203585587, 0.06983300203585587, 0.06983300203585587, 0.06983300203585587, 0.06983300203585587, 0.18798598619443413, 0.12084813398213623, 0.1342757044245958, 0.09399299309721706, 0.08056542265475748, 0.09399299309721706, 0.0671378522122979, 0.0671378522122979, 0.09399299309721706, 0.053710281769838324, 0.15174248497395235, 0.07587124248697617, 0.15174248497395235, 0.15174248497395235, 0.07587124248697617, 0.07587124248697617, 0.07587124248697617, 0.07587124248697617, 0.15174248497395235, 0.1428618646962128, 0.19388395923057447, 0.13265744578934044, 0.11224860797559576, 0.10204418906872341, 0.0714309323481064, 0.0714309323481064, 0.061226513441234046, 0.08163535125497873, 0.030613256720617023, 0.11229656218350281, 0.11229656218350281, 0.1347558746202034, 0.20213381193030508, 0.11229656218350281, 0.0673779373101017, 0.0673779373101017, 0.0673779373101017, 0.0673779373101017, 0.044918624873401126, 0.19194048547773537, 0.11196528319534563, 0.12796032365182358, 0.07997520228238973, 0.09597024273886769, 0.07997520228238973, 0.07997520228238973, 0.06398016182591179, 0.11196528319534563, 0.06398016182591179, 0.17751329150092618, 0.17751329150092618, 0.17751329150092618, 0.17751329150092618, 0.17751329150092618, 0.17751329150092618, 0.17751329150092618, 0.168032178014983, 0.22404290401997734, 0.11202145200998867, 0.11202145200998867, 0.11202145200998867, 0.056010726004994335, 0.056010726004994335, 0.056010726004994335, 0.056010726004994335, 0.056010726004994335, 0.11021445298350434, 0.1803509230639162, 0.12023394870927746, 0.13025344443505057, 0.10019495725773121, 0.07013647008041185, 0.0901754615319581, 0.0901754615319581, 0.050097478628865606, 0.06011697435463873, 0.17680612922960923, 0.1366229180410617, 0.12858627580335216, 0.12054963356564266, 0.10447634909022364, 0.09643970685251413, 0.05625649566396657, 0.0723297801393856, 0.0723297801393856, 0.040183211188547556, 0.15360168703583896, 0.15360168703583896, 0.15360168703583896, 0.15360168703583896, 0.15360168703583896, 0.15360168703583896, 0.14528926458890776, 0.0968595097259385, 0.23004133559910392, 0.06053719357871156, 0.0968595097259385, 0.10896694844168081, 0.07264463229445388, 0.04842975486296925, 0.07264463229445388, 0.07264463229445388, 0.17135259242428205, 0.10544774918417357, 0.10544774918417357, 0.11862871783219527, 0.09226678053615188, 0.10544774918417357, 0.10544774918417357, 0.07908581188813017, 0.052723874592086786, 0.039542905944065086, 0.18324464874110827, 0.13088903481507733, 0.10471122785206187, 0.0785334208890464, 0.10471122785206187, 0.0785334208890464, 0.10471122785206187, 0.13088903481507733, 0.052355613926030935, 0.052355613926030935, 0.16528271600864547, 0.11018847733909698, 0.11018847733909698, 0.11018847733909698, 0.11018847733909698, 0.16528271600864547, 0.05509423866954849, 0.05509423866954849, 0.05509423866954849, 0.05509423866954849, 0.13061344652858697, 0.13061344652858697, 0.13061344652858697, 0.26122689305717395, 0.13061344652858697, 0.13061344652858697, 0.13061344652858697, 0.13061344652858697, 0.13563775357873178, 0.1453261645486412, 0.11626093163891296, 0.08719569872918471, 0.11626093163891296, 0.11626093163891296, 0.06781887678936589, 0.08719569872918471, 0.06781887678936589, 0.05813046581945648, 0.18611515864606382, 0.10468977673841089, 0.11632197415378988, 0.18611515864606382, 0.10468977673841089, 0.08142538190765292, 0.09305757932303191, 0.046528789661515954, 0.046528789661515954, 0.03489659224613696, 0.12700899486336562, 0.12700899486336562, 0.0987847737826177, 0.12700899486336562, 0.11289688432299165, 0.0987847737826177, 0.11289688432299165, 0.08467266324224375, 0.056448442161495825, 0.056448442161495825, 0.11811022960360704, 0.1476377870045088, 0.11811022960360704, 0.11811022960360704, 0.08858267220270527, 0.08858267220270527, 0.11811022960360704, 0.08858267220270527, 0.05905511480180352, 0.05905511480180352, 0.15576164795189984, 0.15576164795189984, 0.15576164795189984, 0.15576164795189984, 0.15576164795189984, 0.15576164795189984, 0.15576164795189984, 0.17882021817540314, 0.17882021817540314, 0.17882021817540314, 0.17882021817540314, 0.17882021817540314, 0.1789886076023059, 0.1342414557017294, 0.1342414557017294, 0.08949430380115295, 0.08949430380115295, 0.04474715190057647, 0.08949430380115295, 0.08949430380115295, 0.04474715190057647, 0.08949430380115295, 0.08275309399184158, 0.16550618798368316, 0.08275309399184158, 0.08275309399184158, 0.16550618798368316, 0.08275309399184158, 0.16550618798368316, 0.08275309399184158, 0.08275309399184158, 0.08275309399184158, 0.1780371461658753, 0.1780371461658753, 0.1780371461658753, 0.1780371461658753, 0.1780371461658753, 0.14820168020468105, 0.14820168020468105, 0.14820168020468105, 0.14820168020468105, 0.14820168020468105, 0.14820168020468105, 0.05402703120063771, 0.10805406240127542, 0.21610812480255084, 0.16208109360191314, 0.05402703120063771, 0.05402703120063771, 0.10805406240127542, 0.05402703120063771, 0.10805406240127542, 0.05402703120063771, 0.1914147179239792, 0.22969766150877508, 0.11484883075438754, 0.07656588716959169, 0.07656588716959169, 0.07656588716959169, 0.11484883075438754, 0.038282943584795844, 0.038282943584795844, 0.038282943584795844, 0.12904542655449056, 0.12904542655449056, 0.12904542655449056, 0.19356813983173585, 0.06452271327724528, 0.06452271327724528, 0.06452271327724528, 0.06452271327724528, 0.06452271327724528, 0.06452271327724528, 0.19442181576761408, 0.20657317925308996, 0.09721090788380704, 0.09721090788380704, 0.09721090788380704, 0.06075681742737939, 0.07290818091285528, 0.03645409045642764, 0.07290818091285528, 0.06075681742737939, 0.1688741578275716, 0.12062439844826542, 0.1447492781379185, 0.12062439844826542, 0.09649951875861233, 0.07237463906895925, 0.12062439844826542, 0.048249759379306166, 0.07237463906895925, 0.024124879689653083, 0.13765528655508733, 0.13765528655508733, 0.13765528655508733, 0.13765528655508733, 0.13765528655508733, 0.13765528655508733, 0.13765528655508733, 0.13765528655508733, 0.13765528655508733, 0.11498190322454854, 0.11498190322454854, 0.11498190322454854, 0.11498190322454854, 0.22996380644909709, 0.11498190322454854, 0.11498190322454854, 0.11498190322454854, 0.07207971466770709, 0.07207971466770709, 0.21623914400312125, 0.14415942933541417, 0.07207971466770709, 0.07207971466770709, 0.07207971466770709, 0.07207971466770709, 0.14415942933541417, 0.07207971466770709, 0.13908309177220435, 0.0869269323576277, 0.1738538647152554, 0.19123925118678095, 0.10431231882915325, 0.0869269323576277, 0.06954154588610217, 0.06954154588610217, 0.052156159414576624, 0.03477077294305109, 0.15790929927265954, 0.07895464963632977, 0.07895464963632977, 0.07895464963632977, 0.07895464963632977, 0.15790929927265954, 0.07895464963632977, 0.07895464963632977, 0.07895464963632977, 0.07895464963632977, 0.13519053517901172, 0.13519053517901172, 0.0901270234526745, 0.22531755863168623, 0.0901270234526745, 0.0901270234526745, 0.0901270234526745, 0.04506351172633725, 0.04506351172633725, 0.04506351172633725, 0.18360416397214785, 0.06120138799071594, 0.12240277598143189, 0.12240277598143189, 0.06120138799071594, 0.12240277598143189, 0.06120138799071594, 0.12240277598143189, 0.06120138799071594, 0.12240277598143189, 0.172682899942241, 0.0863414499711205, 0.0863414499711205, 0.172682899942241, 0.0863414499711205, 0.0863414499711205, 0.0863414499711205, 0.0863414499711205, 0.0863414499711205, 0.0863414499711205, 0.10423058521933126, 0.10423058521933126, 0.10423058521933126, 0.10423058521933126, 0.20846117043866252, 0.10423058521933126, 0.10423058521933126, 0.10423058521933126, 0.2824878980268702, 0.1412439490134351, 0.0941626326756234, 0.0941626326756234, 0.0941626326756234, 0.0941626326756234, 0.0470813163378117, 0.0470813163378117, 0.0470813163378117, 0.0470813163378117, 0.29385984923637726, 0.14692992461818863, 0.14692992461818863, 0.14692992461818863, 0.14692992461818863, 0.14692992461818863, 0.14692992461818863, 0.17842311218079263, 0.11894874145386175, 0.11894874145386175, 0.11894874145386175, 0.059474370726930875, 0.17842311218079263, 0.059474370726930875, 0.059474370726930875, 0.059474370726930875, 0.059474370726930875, 0.20028014207252764, 0.10014007103626382, 0.10014007103626382, 0.10014007103626382, 0.10014007103626382, 0.10014007103626382, 0.10014007103626382, 0.10014007103626382, 0.10014007103626382, 0.10014007103626382, 0.1639305196714959, 0.10928701311433062, 0.1639305196714959, 0.10928701311433062, 0.10928701311433062, 0.10928701311433062, 0.05464350655716531, 0.05464350655716531, 0.10928701311433062, 0.05464350655716531, 0.1379633362375132, 0.09657433536625923, 0.20694500435626978, 0.09657433536625923, 0.11037066899001055, 0.09657433536625923, 0.0689816681187566, 0.0689816681187566, 0.055185334495005275, 0.055185334495005275, 0.14467108563567635, 0.22358258689149982, 0.1315191687597058, 0.07891150125582347, 0.1183672518837352, 0.0657595843798529, 0.0657595843798529, 0.05260766750388231, 0.039455750627911734, 0.0657595843798529, 0.1629080094896001, 0.12799915031325723, 0.11636286392114292, 0.06981771835268576, 0.09309029113691435, 0.09309029113691435, 0.11636286392114292, 0.09309029113691435, 0.06981771835268576, 0.04654514556845717, 0.17789532858552223, 0.08894766429276112, 0.08894766429276112, 0.17789532858552223, 0.08894766429276112, 0.08894766429276112, 0.08894766429276112, 0.08894766429276112, 0.08894766429276112, 0.08894766429276112, 0.16414468857654238, 0.09848681314592543, 0.18055915743419662, 0.09848681314592543, 0.11490128200357966, 0.06565787543061695, 0.11490128200357966, 0.06565787543061695, 0.049243406572962715, 0.032828937715308475, 0.11563641064239813, 0.13490914574946447, 0.11563641064239813, 0.09636367553533177, 0.11563641064239813, 0.07709094042826542, 0.07709094042826542, 0.13490914574946447, 0.07709094042826542, 0.03854547021413271, 0.25252459821368756, 0.08417486607122918, 0.12626229910684378, 0.08417486607122918, 0.12626229910684378, 0.08417486607122918, 0.08417486607122918, 0.08417486607122918, 0.04208743303561459, 0.04208743303561459, 0.12006625445953323, 0.12930212018718965, 0.13853798591484603, 0.12930212018718965, 0.17548144882547165, 0.09235865727656403, 0.07388692582125123, 0.08312279154890763, 0.046179328638282016, 0.027707597182969206, 0.14091727371034884, 0.13085175415960965, 0.11072071505813123, 0.18117935191330567, 0.08052415640591362, 0.08052415640591362, 0.060393117304435216, 0.060393117304435216, 0.08052415640591362, 0.060393117304435216, 0.15036078826672986, 0.15036078826672986, 0.15036078826672986, 0.15036078826672986, 0.15036078826672986, 0.15036078826672986, 0.11788458202917002, 0.11788458202917002, 0.29471145507292507, 0.11788458202917002, 0.11788458202917002, 0.05894229101458501, 0.05894229101458501, 0.05894229101458501, 0.05894229101458501, 0.05894229101458501, 0.15471312142405116, 0.11831003403015677, 0.14561234957557756, 0.10920926218168317, 0.09100771848473597, 0.11831003403015677, 0.07280617478778878, 0.09100771848473597, 0.054604631090841585, 0.054604631090841585, 0.1907478556964313, 0.14306089177232348, 0.09537392784821565, 0.09537392784821565, 0.1907478556964313, 0.09537392784821565, 0.047686963924107824, 0.047686963924107824, 0.047686963924107824, 0.047686963924107824, 0.12699174286975703, 0.16932232382634269, 0.08466116191317134, 0.19754271113073316, 0.04233058095658567, 0.09877135556536658, 0.0564407746087809, 0.09877135556536658, 0.08466116191317134, 0.02822038730439045, 0.13397247277357066, 0.22328745462261776, 0.13397247277357066, 0.0893149818490471, 0.0893149818490471, 0.0893149818490471, 0.0893149818490471, 0.04465749092452355, 0.04465749092452355, 0.04465749092452355, 0.1724204779457477, 0.08621023897287385, 0.12931535845931078, 0.2155255974321846, 0.08621023897287385, 0.04310511948643692, 0.08621023897287385, 0.04310511948643692, 0.04310511948643692, 0.04310511948643692, 0.14042963628677696, 0.21064445443016544, 0.14042963628677696, 0.14042963628677696, 0.03510740907169424, 0.07021481814338848, 0.07021481814338848, 0.07021481814338848, 0.07021481814338848, 0.07021481814338848, 0.15592401273283066, 0.07796200636641533, 0.23388601909924597, 0.15592401273283066, 0.07796200636641533, 0.07796200636641533, 0.07796200636641533, 0.07796200636641533, 0.07796200636641533, 0.07796200636641533, 0.16403133976072257, 0.1387957490283037, 0.10094236292967541, 0.10094236292967541, 0.10094236292967541, 0.07570677219725656, 0.11356015829588484, 0.07570677219725656, 0.07570677219725656, 0.06308897683104714, 0.12839829275376768, 0.10271863420301414, 0.12839829275376768, 0.1540779513045212, 0.10271863420301414, 0.05135931710150707, 0.10271863420301414, 0.0770389756522606, 0.10271863420301414, 0.05135931710150707, 0.13026070040297952, 0.13026070040297952, 0.13026070040297952, 0.1953910506044693, 0.06513035020148976, 0.13026070040297952, 0.06513035020148976, 0.06513035020148976, 0.06513035020148976, 0.06513035020148976, 0.1229557412357612, 0.1229557412357612, 0.1229557412357612, 0.1229557412357612, 0.1229557412357612, 0.0614778706178806, 0.0614778706178806, 0.0614778706178806, 0.1229557412357612, 0.0614778706178806, 0.12240028078293809, 0.24480056156587618, 0.12240028078293809, 0.061200140391469045, 0.12240028078293809, 0.061200140391469045, 0.061200140391469045, 0.061200140391469045, 0.061200140391469045, 0.061200140391469045, 0.16750386855679547, 0.14889232760604043, 0.14889232760604043, 0.10236347522915279, 0.09305770475377527, 0.11166924570453032, 0.05583462285226516, 0.06514039332764268, 0.06514039332764268, 0.03722308190151011, 0.139410169397712, 0.09957869242693715, 0.11949443091232458, 0.11949443091232458, 0.11949443091232458, 0.07966295394154972, 0.07966295394154972, 0.05974721545616229, 0.09957869242693715, 0.05974721545616229, 0.1310246906241392, 0.1310246906241392, 0.1310246906241392, 0.1310246906241392, 0.1310246906241392, 0.1310246906241392, 0.1310246906241392, 0.1310246906241392, 0.14422229154195096, 0.10816671865646321, 0.2523890101984142, 0.1802778644274387, 0.07211114577097548, 0.03605557288548774, 0.03605557288548774, 0.07211114577097548, 0.03605557288548774, 0.03605557288548774, 0.1682213688372373, 0.1682213688372373, 0.12616602662792797, 0.08411068441861864, 0.04205534220930932, 0.06308301331396399, 0.08411068441861864, 0.08411068441861864, 0.04205534220930932, 0.1051383555232733, 0.11002293018952759, 0.2043282989234084, 0.1257404916451744, 0.1257404916451744, 0.11002293018952759, 0.078587807278234, 0.078587807278234, 0.078587807278234, 0.0471526843669404, 0.0471526843669404, 0.09547576684707475, 0.14321365027061214, 0.2148204754059182, 0.16708259198238082, 0.047737883423537374, 0.07160682513530607, 0.047737883423537374, 0.07160682513530607, 0.047737883423537374, 0.047737883423537374, 0.14437838442309137, 0.12375290093407831, 0.12375290093407831, 0.12375290093407831, 0.10312741744506526, 0.14437838442309137, 0.06187645046703916, 0.06187645046703916, 0.08250193395605221, 0.020625483489013052, 0.11952212197001737, 0.11952212197001737, 0.11952212197001737, 0.11952212197001737, 0.11952212197001737, 0.17928318295502604, 0.059761060985008684, 0.11952212197001737, 0.059761060985008684, 0.059761060985008684, 0.22553220298910237, 0.12887554456520137, 0.12887554456520137, 0.07517740099636747, 0.0536981435688339, 0.09665665842390102, 0.08591702971013424, 0.07517740099636747, 0.07517740099636747, 0.06443777228260068, 0.1335716082666306, 0.1335716082666306, 0.1335716082666306, 0.0667858041333153, 0.0667858041333153, 0.0667858041333153, 0.1335716082666306, 0.0667858041333153, 0.0667858041333153, 0.0667858041333153, 0.14676798084469914, 0.09784532056313275, 0.14676798084469914, 0.14676798084469914, 0.08969154384953835, 0.057076436995160774, 0.08969154384953835, 0.04076888356797198, 0.11415287399032155, 0.06523021370875517, 0.15998021348365207, 0.12306170267973236, 0.12306170267973236, 0.12306170267973236, 0.12306170267973236, 0.12306170267973236, 0.07383702160783942, 0.04922468107189294, 0.04922468107189294, 0.04922468107189294, 0.12579616312864234, 0.12579616312864234, 0.10063693050291388, 0.0754776978771854, 0.1509553957543708, 0.10063693050291388, 0.05031846525145694, 0.12579616312864234, 0.10063693050291388, 0.02515923262572847, 0.19817325137018738, 0.13211550091345825, 0.13211550091345825, 0.13211550091345825, 0.06605775045672913, 0.06605775045672913, 0.06605775045672913, 0.06605775045672913, 0.06605775045672913, 0.06605775045672913, 0.1975563687993532, 0.1975563687993532, 0.0911798625227784, 0.1063765062765748, 0.075983218768982, 0.0911798625227784, 0.0455899312613892, 0.0911798625227784, 0.0607865750151856, 0.0455899312613892, 0.159627616856526, 0.10641841123768399, 0.10641841123768399, 0.10641841123768399, 0.10641841123768399, 0.159627616856526, 0.10641841123768399, 0.053209205618841994, 0.053209205618841994, 0.053209205618841994, 0.15250782168888782, 0.25417970281481306, 0.10167188112592522, 0.10167188112592522, 0.05083594056296261, 0.05083594056296261, 0.05083594056296261, 0.10167188112592522, 0.05083594056296261, 0.05083594056296261, 0.15399559541546462, 0.15399559541546462, 0.15399559541546462, 0.15399559541546462, 0.07699779770773231, 0.07699779770773231, 0.07699779770773231, 0.07699779770773231, 0.07699779770773231, 0.07699779770773231, 0.09938768340614033, 0.1490815251092105, 0.24846920851535084, 0.09938768340614033, 0.09938768340614033, 0.04969384170307017, 0.09938768340614033, 0.04969384170307017, 0.09938768340614033, 0.04969384170307017, 0.2444526693163373, 0.11579336967615977, 0.10292743971214202, 0.16725708953223078, 0.10292743971214202, 0.07719557978410652, 0.06432964982008876, 0.05146371985607101, 0.05146371985607101, 0.03859778989205326, 0.22260365398600912, 0.14059178146484785, 0.14059178146484785, 0.08786986341552991, 0.1054438360986359, 0.07029589073242393, 0.05272191804931795, 0.08201187252116125, 0.05272191804931795, 0.04686392715494929, 0.18044708432442066, 0.14860348120834643, 0.10614534372024745, 0.10614534372024745, 0.08491627497619796, 0.09553080934822271, 0.053072671860123724, 0.08491627497619796, 0.07430174060417322, 0.07430174060417322, 0.12094122434086282, 0.16931771407720797, 0.09675297947269026, 0.14512946920903538, 0.07256473460451769, 0.07256473460451769, 0.07256473460451769, 0.12094122434086282, 0.07256473460451769, 0.04837648973634513, 0.10868261349585306, 0.21736522699170613, 0.10868261349585306, 0.10868261349585306, 0.10868261349585306, 0.10868261349585306, 0.10868261349585306, 0.10868261349585306, 0.10868261349585306, 0.0883095876847795, 0.176619175369559, 0.176619175369559, 0.0883095876847795, 0.0883095876847795, 0.0883095876847795, 0.0883095876847795, 0.0883095876847795, 0.0883095876847795, 0.0883095876847795, 0.09885418089115541, 0.09885418089115541, 0.14828127133673313, 0.09885418089115541, 0.12356772611394427, 0.12356772611394427, 0.07414063566836657, 0.07414063566836657, 0.04942709044557771, 0.09885418089115541, 0.1653843897698546, 0.11449688522528395, 0.2289937704505679, 0.07633125681685596, 0.0636093806807133, 0.10177500908914128, 0.07633125681685596, 0.05088750454457064, 0.03816562840842798, 0.0636093806807133, 0.13380157206493926, 0.13380157206493926, 0.13380157206493926, 0.13380157206493926, 0.08028094323896355, 0.0535206288259757, 0.13380157206493926, 0.0535206288259757, 0.08028094323896355, 0.0535206288259757, 0.07704793451744839, 0.17335785266425888, 0.11557190177617259, 0.1348338854055347, 0.09630991814681049, 0.1348338854055347, 0.11557190177617259, 0.057785950888086295, 0.057785950888086295, 0.019261983629362097, 0.2511682588554724, 0.08372275295182412, 0.08372275295182412, 0.08372275295182412, 0.08372275295182412, 0.08372275295182412, 0.08372275295182412, 0.08372275295182412, 0.08372275295182412, 0.08510249024631335, 0.21275622561578336, 0.08510249024631335, 0.12765373536947, 0.12765373536947, 0.08510249024631335, 0.042551245123156674, 0.042551245123156674, 0.08510249024631335, 0.08510249024631335, 0.16930376985663356, 0.2539556547849503, 0.16930376985663356, 0.08465188492831678, 0.08465188492831678, 0.08465188492831678, 0.08465188492831678, 0.08465188492831678, 0.08465188492831678, 0.08465188492831678, 0.13966662746531516, 0.1235512473731634, 0.11817945400911282, 0.11817945400911282, 0.07520510709670816, 0.07520510709670816, 0.1235512473731634, 0.10206407391696107, 0.06983331373265758, 0.053717933640505824, 0.18858192817830846, 0.1457223990468747, 0.09429096408915423, 0.13715049322058798, 0.11143477574172772, 0.06857524661029399, 0.06857524661029399, 0.07714715243658073, 0.060003340784007236, 0.04285952913143374, 0.17427192518931506, 0.2614078877839726, 0.08713596259465753, 0.08713596259465753, 0.08713596259465753, 0.08713596259465753, 0.08713596259465753, 0.08713596259465753, 0.08713596259465753, 0.08713596259465753, 0.1430111551361933, 0.11000858087399486, 0.15401201322359281, 0.12100943896139435, 0.08800686469919589, 0.09900772278659538, 0.06600514852439691, 0.07700600661179641, 0.08800686469919589, 0.04400343234959794, 0.11072793114276859, 0.13840991392846075, 0.11072793114276859, 0.13840991392846075, 0.11072793114276859, 0.11072793114276859, 0.13840991392846075, 0.055363965571384295, 0.055363965571384295, 0.027681982785692148, 0.19844895669819201, 0.08504955287065373, 0.08504955287065373, 0.1133994038275383, 0.1133994038275383, 0.08504955287065373, 0.08504955287065373, 0.05669970191376915, 0.1133994038275383, 0.05669970191376915, 0.1493332285556, 0.1493332285556, 0.09955548570373332, 0.0746666142778, 0.12444435712966666, 0.11199992141669998, 0.04977774285186666, 0.1368887928426333, 0.0746666142778, 0.02488887142593333, 0.26038011790159776, 0.15460069500407367, 0.09764254421309915, 0.06509502947539944, 0.11391630158194901, 0.07323190815982436, 0.048821272106549574, 0.09764254421309915, 0.05695815079097451, 0.03254751473769972, 0.29428207094014314, 0.11318541190005506, 0.09054832952004405, 0.06791124714003303, 0.13582249428006607, 0.06791124714003303, 0.04527416476002202, 0.09054832952004405, 0.06791124714003303, 0.02263708238001101, 0.1397075742486271, 0.1397075742486271, 0.1397075742486271, 0.1397075742486271, 0.1397075742486271, 0.1397075742486271, 0.1397075742486271, 0.1397075742486271, 0.1397075742486271, 0.11028526981600717, 0.11028526981600717, 0.11028526981600717, 0.11028526981600717, 0.11028526981600717, 0.11028526981600717, 0.11028526981600717, 0.11028526981600717, 0.11028526981600717, 0.11028526981600717, 0.13747421482800562, 0.13747421482800562, 0.27494842965601124, 0.06873710741400281, 0.06873710741400281, 0.06873710741400281, 0.06873710741400281, 0.06873710741400281, 0.06873710741400281, 0.06873710741400281, 0.21269661022818992, 0.1339200879214529, 0.0945318267680844, 0.1102871312294318, 0.0708988700760633, 0.1024094789987581, 0.0866541745374107, 0.078776522306737, 0.0630212178453896, 0.0551435656147159, 0.1061191961016851, 0.15917879415252767, 0.1373307243668866, 0.056180750877362705, 0.14669418284644706, 0.1186038074077657, 0.05305959805084255, 0.12172496023428586, 0.07802882066300375, 0.02184806978564105, 0.09715919687683064, 0.09715919687683064, 0.19431839375366128, 0.09715919687683064, 0.09715919687683064, 0.09715919687683064, 0.09715919687683064, 0.09715919687683064, 0.09715919687683064, 0.1479663932291869, 0.169104449404785, 0.11978231832838938, 0.16205843067958564, 0.09159824342759187, 0.04932213107639563, 0.056368149801595005, 0.0845522247023925, 0.07750620597719313, 0.04227611235119625, 0.07902094520900932, 0.07902094520900932, 0.07902094520900932, 0.15804189041801864, 0.07902094520900932, 0.07902094520900932, 0.07902094520900932, 0.07902094520900932, 0.07902094520900932, 0.07902094520900932, 0.14761345335603113, 0.14761345335603113, 0.07380672667801556, 0.14761345335603113, 0.07380672667801556, 0.07380672667801556, 0.07380672667801556, 0.07380672667801556, 0.07380672667801556, 0.07380672667801556, 0.2071393308387399, 0.1479566648848142, 0.11836533190785137, 0.059182665953925684, 0.08877399893088853, 0.08877399893088853, 0.059182665953925684, 0.1479566648848142, 0.029591332976962842, 0.029591332976962842, 0.11046399244545245, 0.2209279848909049, 0.1656959886681787, 0.1933119867795418, 0.055231996222726225, 0.055231996222726225, 0.055231996222726225, 0.027615998111363112, 0.055231996222726225, 0.055231996222726225, 0.13448415670026276, 0.09862171491352603, 0.22414026116710462, 0.1613809880403153, 0.07172488357347348, 0.06275927312678929, 0.06275927312678929, 0.06275927312678929, 0.07172488357347348, 0.03586244178673674, 0.24643228706051323, 0.11373797864331381, 0.09478164886942816, 0.13269430841719945, 0.09478164886942816, 0.07582531909554253, 0.09478164886942816, 0.056868989321656904, 0.056868989321656904, 0.03791265954777127, 0.11680754832680654, 0.13477794037708446, 0.24260029267875205, 0.16173352845250136, 0.08086676422625068, 0.04492598012569483, 0.05391117615083379, 0.07188156820111172, 0.06289637217597276, 0.03594078410055586, 0.12585496315197456, 0.18394186922211664, 0.1548984161870456, 0.10649266112859385, 0.0968115101169035, 0.0968115101169035, 0.04840575505845175, 0.0774492080935228, 0.06776805708183245, 0.04840575505845175, 0.11377561976159915, 0.2275512395231983, 0.11377561976159915, 0.11377561976159915, 0.11377561976159915, 0.11377561976159915, 0.11377561976159915, 0.11377561976159915, 0.19277534359220602, 0.08155879921208715, 0.1557031621321664, 0.09638767179610301, 0.10380210808811093, 0.13345985325614262, 0.09638767179610301, 0.04448661775204754, 0.05931549033606339, 0.03707218146003962, 0.1073141241479951, 0.1073141241479951, 0.2146282482959902, 0.16097118622199263, 0.08942843678999592, 0.07154274943199673, 0.07154274943199673, 0.05365706207399755, 0.05365706207399755, 0.05365706207399755, 0.25276244803879255, 0.12638122401939628, 0.12638122401939628, 0.12638122401939628, 0.12638122401939628, 0.12638122401939628, 0.12638122401939628, 0.12638122401939628, 0.17082344787879672, 0.1220167484848548, 0.14642009818182578, 0.1220167484848548, 0.07321004909091289, 0.07321004909091289, 0.07321004909091289, 0.07321004909091289, 0.07321004909091289, 0.09761339878788385, 0.1541075681844134, 0.1541075681844134, 0.1541075681844134, 0.1541075681844134, 0.1541075681844134, 0.1541075681844134, 0.1541075681844134, 0.1541075681844134, 0.2190700492650497, 0.10953502463252485, 0.10953502463252485, 0.10953502463252485, 0.10953502463252485, 0.10953502463252485, 0.05476751231626242, 0.10953502463252485, 0.05476751231626242, 0.05476751231626242, 0.16501073151489662, 0.13750894292908053, 0.11000715434326443, 0.11000715434326443, 0.16501073151489662, 0.08250536575744831, 0.08250536575744831, 0.08250536575744831, 0.05500357717163221, 0.05500357717163221, 0.15018828626262645, 0.15018828626262645, 0.12515690521885536, 0.1418444925813694, 0.10846931785634133, 0.08343793681257025, 0.07509414313131323, 0.041718968406285126, 0.058406555768799176, 0.0667503494500562, 0.11711756596288503, 0.11711756596288503, 0.11711756596288503, 0.11711756596288503, 0.11711756596288503, 0.17567634894432754, 0.058558782981442514, 0.11711756596288503, 0.058558782981442514, 0.058558782981442514, 0.16880703029697247, 0.1428367179435921, 0.1428367179435921, 0.11686640559021172, 0.08440351514848624, 0.07141835897179605, 0.07141835897179605, 0.05843320279510586, 0.08440351514848624, 0.051940624706760766, 0.12282267059637011, 0.12282267059637011, 0.12282267059637011, 0.1842340058945552, 0.12282267059637011, 0.12282267059637011, 0.06141133529818506, 0.06141133529818506, 0.06141133529818506, 0.06141133529818506, 0.30673141230425466, 0.10224380410141821, 0.10224380410141821, 0.10224380410141821, 0.10224380410141821, 0.10224380410141821, 0.10224380410141821, 0.10224380410141821, 0.10224380410141821, 0.10224380410141821, 0.1358096169330724, 0.1358096169330724, 0.1358096169330724, 0.0679048084665362, 0.0679048084665362, 0.0679048084665362, 0.0679048084665362, 0.0679048084665362, 0.0679048084665362, 0.0679048084665362, 0.23996879661684303, 0.13998179802649177, 0.13998179802649177, 0.10998569844938638, 0.06999089901324589, 0.06999089901324589, 0.05999219915421076, 0.05999219915421076, 0.06999089901324589, 0.0399947994361405, 0.14118510514923843, 0.14118510514923843, 0.11946431974166329, 0.09774353433408814, 0.14118510514923843, 0.06516235622272543, 0.05430196351893786, 0.10860392703787572, 0.09774353433408814, 0.03258117811136271, 0.23254677801526863, 0.11627338900763431, 0.0775155926717562, 0.09689449083969526, 0.0387577963358781, 0.11627338900763431, 0.1550311853435124, 0.0387577963358781, 0.0775155926717562, 0.05813669450381716, 0.16093886471967384, 0.09196506555409933, 0.11495633194262415, 0.18393013110819867, 0.09196506555409933, 0.0689737991655745, 0.09196506555409933, 0.0689737991655745, 0.0689737991655745, 0.0689737991655745, 0.1668117355506708, 0.1373743704534936, 0.098124550323924, 0.0784996402591392, 0.1275619154211012, 0.1079370053563164, 0.049062275161962, 0.1177494603887088, 0.0883120952915316, 0.0392498201295696, 0.20397860942840376, 0.09598993384866059, 0.10798867557974316, 0.10798867557974316, 0.09598993384866059, 0.05999370865541287, 0.11998741731082574, 0.07199245038649545, 0.05999370865541287, 0.08399119211757802, 0.1624679174391607, 0.10831194495944046, 0.10831194495944046, 0.10831194495944046, 0.10831194495944046, 0.10831194495944046, 0.10831194495944046, 0.05415597247972023, 0.10831194495944046, 0.05415597247972023, 0.2766881074610371, 0.09222936915367903, 0.09222936915367903, 0.09222936915367903, 0.09222936915367903, 0.09222936915367903, 0.09222936915367903, 0.09222936915367903, 0.09222936915367903, 0.09222936915367903, 0.11215509005299747, 0.1822520213361209, 0.23832956636261962, 0.17173748164365238, 0.0841163175397481, 0.031543619077405535, 0.05257269846234256, 0.049067851898186396, 0.059582391590654905, 0.021029079384937026, 0.15547629935634052, 0.08480525419436756, 0.18374471742112972, 0.12014077677535404, 0.07067104516197296, 0.11307367225915675, 0.07773814967817026, 0.07773814967817026, 0.07067104516197296, 0.04946973161338108], \"Term\": [\"abaaoud\", \"abaaoud\", \"abaaoud\", \"abaaoud\", \"abaaoud\", \"abaaoud\", \"abaaoud\", \"abaaoud\", \"abaaoud\", \"abaaoud\", \"abdeslam\", \"abdeslam\", \"abdeslam\", \"abdeslam\", \"abdeslam\", \"abdeslam\", \"abdeslam\", \"abdeslam\", \"abdeslam\", \"abdeslam\", \"abdulazeez\", \"abdulazeez\", \"abdulazeez\", \"abdulazeez\", \"abdulazeez\", \"abdulazeez\", \"abdulazeez\", \"abdulazeez\", \"abdulazeez\", \"abdulazeez\", \"abdullah\", \"abdullah\", \"abdullah\", \"abdullah\", \"abdullah\", \"abdullah\", \"abdullah\", \"abdullah\", \"abdullah\", \"abdullah\", \"aca\", \"aca\", \"aca\", \"aca\", \"aca\", \"aca\", \"aca\", \"aca\", \"aca\", \"aca\", \"accommodation\", \"accommodation\", \"accommodation\", \"accommodation\", \"accommodation\", \"accommodation\", \"accommodation\", \"accommodation\", \"accommodation\", \"accommodation\", \"accomplishment\", \"accomplishment\", \"accomplishment\", \"accomplishment\", \"accomplishment\", \"accomplishment\", \"accomplishment\", \"accomplishment\", \"accomplishment\", \"accomplishment\", \"accredited\", \"accredited\", \"accredited\", \"accredited\", \"accredited\", \"accredited\", \"accredited\", \"accredited\", \"accredited\", \"accumulated\", \"accumulated\", \"accumulated\", \"accumulated\", \"accumulated\", \"accumulated\", \"accumulated\", \"accumulated\", \"accumulated\", \"accumulated\", \"accumulates\", \"accumulates\", \"accumulates\", \"accumulates\", \"accumulates\", \"accumulates\", \"accumulates\", \"acid\", \"acid\", \"acid\", \"acid\", \"acid\", \"acid\", \"acid\", \"acid\", \"acid\", \"acid\", \"acquiesced\", \"acquiesced\", \"acquiesced\", \"acquiesced\", \"acquiesced\", \"acquiesced\", \"acrobats\", \"acrobats\", \"acrobats\", \"acrobats\", \"adapt\", \"adapt\", \"adapt\", \"adapt\", \"adapt\", \"adapt\", \"adapt\", \"adapt\", \"adapt\", \"adapt\", \"adjunct\", \"adjunct\", \"adjunct\", \"adjunct\", \"adjunct\", \"adjunct\", \"adjunct\", \"adjunct\", \"adjunct\", \"adjunct\", \"admin\", \"admin\", \"admin\", \"admin\", \"admin\", \"admin\", \"admin\", \"admin\", \"admin\", \"admin\", \"admiral\", \"admiral\", \"admiral\", \"admiral\", \"admiral\", \"admiral\", \"admiral\", \"admiral\", \"admiral\", \"admiral\", \"admittedly\", \"admittedly\", \"admittedly\", \"admittedly\", \"admittedly\", \"admittedly\", \"admittedly\", \"admittedly\", \"admittedly\", \"admittedly\", \"aerial\", \"aerial\", \"aerial\", \"aerial\", \"aerial\", \"aerial\", \"aerial\", \"aerial\", \"aerial\", \"aerial\", \"afghan\", \"afghan\", \"afghan\", \"afghan\", \"afghan\", \"afghan\", \"afghan\", \"afghan\", \"afghan\", \"afghan\", \"aggravated\", \"aggravated\", \"aggravated\", \"aggravated\", \"aggravated\", \"aggravated\", \"aggravated\", \"aggravated\", \"aggravated\", \"aggravated\", \"alexander\", \"alexander\", \"alexander\", \"alexander\", \"alexander\", \"alexander\", \"alexander\", \"alexander\", \"alexander\", \"alexander\", \"aliens\", \"aliens\", \"aliens\", \"aliens\", \"aliens\", \"aliens\", \"aliens\", \"aliens\", \"aliens\", \"aliens\", \"alison\", \"alison\", \"alison\", \"alison\", \"alison\", \"alison\", \"alison\", \"alison\", \"alison\", \"alison\", \"alt\", \"alt\", \"alt\", \"alt\", \"alt\", \"alt\", \"alt\", \"alt\", \"alt\", \"alt\", \"aluminum\", \"aluminum\", \"aluminum\", \"aluminum\", \"aluminum\", \"aluminum\", \"aluminum\", \"aluminum\", \"aluminum\", \"aluminum\", \"amazement\", \"amazement\", \"amazement\", \"amazement\", \"amazement\", \"amazement\", \"amendments\", \"amendments\", \"amendments\", \"amendments\", \"amendments\", \"amendments\", \"amendments\", \"amendments\", \"amendments\", \"amendments\", \"ami\", \"ami\", \"ami\", \"ami\", \"ami\", \"ami\", \"ami\", \"ami\", \"ami\", \"ami\", \"analysed\", \"analysed\", \"analysed\", \"analysed\", \"analysed\", \"analysed\", \"analysed\", \"analysed\", \"analysed\", \"animation\", \"animation\", \"animation\", \"animation\", \"animation\", \"animation\", \"antarctic\", \"antarctic\", \"antarctic\", \"antarctic\", \"antarctic\", \"antarctic\", \"antarctic\", \"antarctic\", \"antarctic\", \"antarctic\", \"antarctica\", \"antarctica\", \"antarctica\", \"antarctica\", \"antarctica\", \"antarctica\", \"antarctica\", \"antarctica\", \"antarctica\", \"antarctica\", \"antichrist\", \"antichrist\", \"antichrist\", \"antichrist\", \"antichrist\", \"antichrist\", \"antichrist\", \"antichrist\", \"antichrist\", \"antichrist\", \"aquinas\", \"aquinas\", \"aquinas\", \"aquinas\", \"aquinas\", \"aquinas\", \"aquinas\", \"arabs\", \"arabs\", \"arabs\", \"arabs\", \"arabs\", \"arabs\", \"arabs\", \"arabs\", \"arabs\", \"arabs\", \"array\", \"array\", \"array\", \"array\", \"array\", \"array\", \"array\", \"array\", \"array\", \"array\", \"arteries\", \"arteries\", \"arteries\", \"arteries\", \"arteries\", \"arteries\", \"arteries\", \"arteries\", \"arteries\", \"arteries\", \"asylum\", \"asylum\", \"asylum\", \"asylum\", \"asylum\", \"asylum\", \"asylum\", \"asylum\", \"asylum\", \"asylum\", \"atrocious\", \"atrocious\", \"atrocious\", \"atrocious\", \"atrocious\", \"australian\", \"australian\", \"australian\", \"australian\", \"australian\", \"australian\", \"australian\", \"australian\", \"australian\", \"australian\", \"authorization\", \"authorization\", \"authorization\", \"authorization\", \"authorization\", \"authorization\", \"authorization\", \"authorization\", \"authorization\", \"authorization\", \"avowed\", \"avowed\", \"avowed\", \"avowed\", \"avowed\", \"avowed\", \"avowed\", \"avowed\", \"avowed\", \"ax\", \"ax\", \"ax\", \"ax\", \"ax\", \"ax\", \"ax\", \"ax\", \"ax\", \"ax\", \"aye\", \"aye\", \"aye\", \"aye\", \"aye\", \"ayotte\", \"ayotte\", \"ayotte\", \"ayotte\", \"ayotte\", \"ayotte\", \"ayotte\", \"ayotte\", \"ayotte\", \"ayotte\", \"bail\", \"bail\", \"bail\", \"bail\", \"bail\", \"bail\", \"bail\", \"bail\", \"bail\", \"bail\", \"bakraoui\", \"bakraoui\", \"bakraoui\", \"bakraoui\", \"bakraoui\", \"bakraoui\", \"bakraoui\", \"bakraoui\", \"bakraoui\", \"bakraoui\", \"bannon\", \"bannon\", \"bannon\", \"bannon\", \"bannon\", \"bannon\", \"bannon\", \"bannon\", \"bannon\", \"bannon\", \"barclays\", \"barclays\", \"barclays\", \"barclays\", \"barclays\", \"barclays\", \"barclays\", \"barclays\", \"barclays\", \"barclays\", \"basement\", \"basement\", \"basement\", \"basement\", \"basement\", \"basement\", \"basement\", \"basement\", \"basement\", \"basement\", \"batteries\", \"batteries\", \"batteries\", \"batteries\", \"batteries\", \"batteries\", \"batteries\", \"batteries\", \"batteries\", \"batteries\", \"battleship\", \"battleship\", \"battleship\", \"battleship\", \"battleship\", \"battleship\", \"battleship\", \"battleship\", \"battleship\", \"battleship\", \"beans\", \"beans\", \"beans\", \"beans\", \"beans\", \"beans\", \"beans\", \"beans\", \"beans\", \"beans\", \"beatles\", \"beatles\", \"beatles\", \"beatles\", \"beatles\", \"beatles\", \"beatles\", \"beatles\", \"beatles\", \"beit\", \"beit\", \"beit\", \"beit\", \"beit\", \"belgian\", \"belgian\", \"belgian\", \"belgian\", \"belgian\", \"belgian\", \"belgian\", \"belgian\", \"belgian\", \"belgian\", \"belgium\", \"belgium\", \"belgium\", \"belgium\", \"belgium\", \"belgium\", \"belgium\", \"belgium\", \"belgium\", \"belgium\", \"bergdahl\", \"bergdahl\", \"bergdahl\", \"bergdahl\", \"bergdahl\", \"bergdahl\", \"bergdahl\", \"bergdahl\", \"bergdahl\", \"bergdahl\", \"bilingual\", \"bilingual\", \"bilingual\", \"bilingual\", \"bilingual\", \"bilingual\", \"bilingual\", \"biological\", \"biological\", \"biological\", \"biological\", \"biological\", \"biological\", \"biological\", \"biological\", \"biological\", \"biological\", \"birthday\", \"birthday\", \"birthday\", \"birthday\", \"birthday\", \"birthday\", \"birthday\", \"birthday\", \"birthday\", \"birthday\", \"bless\", \"bless\", \"bless\", \"bless\", \"bless\", \"bless\", \"bless\", \"bless\", \"bless\", \"bless\", \"blighted\", \"blighted\", \"blighted\", \"blighted\", \"blighted\", \"blighted\", \"blumenthal\", \"blumenthal\", \"blumenthal\", \"blumenthal\", \"blumenthal\", \"blumenthal\", \"blumenthal\", \"blumenthal\", \"blumenthal\", \"blumenthal\", \"bonuses\", \"bonuses\", \"bonuses\", \"bonuses\", \"bonuses\", \"bonuses\", \"bonuses\", \"bonuses\", \"bonuses\", \"bonuses\", \"bracing\", \"bracing\", \"bracing\", \"bracing\", \"bracing\", \"bracing\", \"bracing\", \"bracing\", \"bracing\", \"bracing\", \"brainforce\", \"brainforce\", \"brainforce\", \"brainforce\", \"brainforce\", \"brainforce\", \"brainforce\", \"brainforce\", \"brainforce\", \"brainforce\", \"brazil\", \"brazil\", \"brazil\", \"brazil\", \"brazil\", \"brazil\", \"brazil\", \"brazil\", \"brazil\", \"brazil\", \"brazile\", \"brazile\", \"brazile\", \"brazile\", \"brazile\", \"brazile\", \"brazile\", \"brazile\", \"brazile\", \"brazile\", \"breast\", \"breast\", \"breast\", \"breast\", \"breast\", \"breast\", \"breast\", \"breast\", \"breast\", \"breast\", \"brigades\", \"brigades\", \"brigades\", \"brigades\", \"brigades\", \"brigades\", \"brigades\", \"brigades\", \"brigades\", \"brigades\", \"brock\", \"brock\", \"brock\", \"brock\", \"brock\", \"brock\", \"brock\", \"brock\", \"brock\", \"brock\", \"buckley\", \"buckley\", \"buckley\", \"buckley\", \"buckley\", \"buckley\", \"buckley\", \"buckley\", \"buckley\", \"buckley\", \"bullets\", \"bullets\", \"bullets\", \"bullets\", \"bullets\", \"bullets\", \"bullets\", \"bullets\", \"bullets\", \"bullets\", \"butcher\", \"butcher\", \"butcher\", \"butcher\", \"butcher\", \"butcher\", \"butcher\", \"cairo\", \"cairo\", \"cairo\", \"cairo\", \"cairo\", \"cairo\", \"cairo\", \"cairo\", \"cairo\", \"cairo\", \"cannons\", \"cannons\", \"cannons\", \"cannons\", \"cannons\", \"cannons\", \"cannons\", \"cannons\", \"cannons\", \"cannons\", \"carl\", \"carl\", \"carl\", \"carl\", \"carl\", \"carl\", \"carl\", \"carl\", \"carl\", \"carl\", \"carmel\", \"carmel\", \"carmel\", \"carmel\", \"carmel\", \"carmel\", \"carmel\", \"carmel\", \"carmel\", \"carmel\", \"carrier\", \"carrier\", \"carrier\", \"carrier\", \"carrier\", \"carrier\", \"carrier\", \"carrier\", \"carrier\", \"carrier\", \"catapulted\", \"catapulted\", \"catapulted\", \"catapulted\", \"catapulted\", \"catapulted\", \"catapulted\", \"catapulted\", \"cavalry\", \"cavalry\", \"cavalry\", \"cavalry\", \"cavalry\", \"cavalry\", \"cavalry\", \"cavalry\", \"cavalry\", \"cavalry\", \"cd\", \"cd\", \"cd\", \"cd\", \"cd\", \"cd\", \"cd\", \"cd\", \"cd\", \"cdc\", \"cdc\", \"cdc\", \"cdc\", \"cdc\", \"cdc\", \"cdc\", \"cdc\", \"cdc\", \"cdc\", \"centrality\", \"centrality\", \"centrality\", \"centrality\", \"centrality\", \"centrality\", \"centrality\", \"championship\", \"championship\", \"championship\", \"championship\", \"championship\", \"championship\", \"championship\", \"championship\", \"championship\", \"championship\", \"chatham\", \"chatham\", \"chatham\", \"chatham\", \"chatham\", \"chatham\", \"chatham\", \"checkers\", \"checkers\", \"checkers\", \"checkers\", \"checkers\", \"checkers\", \"checkers\", \"checkers\", \"checkers\", \"checkers\", \"chess\", \"chess\", \"chess\", \"chess\", \"chess\", \"chess\", \"chess\", \"chess\", \"chess\", \"chess\", \"chester\", \"chester\", \"chester\", \"chester\", \"chester\", \"chester\", \"chester\", \"chester\", \"chester\", \"chester\", \"chiefs\", \"chiefs\", \"chiefs\", \"chiefs\", \"chiefs\", \"chiefs\", \"chiefs\", \"chiefs\", \"chiefs\", \"chiefs\", \"chomsky\", \"chomsky\", \"chomsky\", \"chomsky\", \"chomsky\", \"chomsky\", \"chomsky\", \"chomsky\", \"chomsky\", \"chomsky\", \"cigarettes\", \"cigarettes\", \"cigarettes\", \"cigarettes\", \"cigarettes\", \"cigarettes\", \"cigarettes\", \"cigarettes\", \"cigarettes\", \"cigarettes\", \"clearance\", \"clearance\", \"clearance\", \"clearance\", \"clearance\", \"clearance\", \"clearance\", \"clearance\", \"clearance\", \"clearance\", \"clerk\", \"clerk\", \"clerk\", \"clerk\", \"clerk\", \"clerk\", \"clerk\", \"clerk\", \"clerk\", \"clerk\", \"clinch\", \"clinch\", \"clinch\", \"clinch\", \"clinch\", \"clinch\", \"clinch\", \"clinch\", \"clinch\", \"clinch\", \"clinics\", \"clinics\", \"clinics\", \"clinics\", \"clinics\", \"clinics\", \"clinics\", \"clinics\", \"clinics\", \"clinics\", \"clowns\", \"clowns\", \"clowns\", \"clowns\", \"clowns\", \"clowns\", \"clowns\", \"clowns\", \"clowns\", \"clowns\", \"cnbc\", \"cnbc\", \"cnbc\", \"cnbc\", \"cnbc\", \"cnbc\", \"cnbc\", \"cnbc\", \"cnbc\", \"cnbc\", \"collage\", \"collage\", \"collage\", \"collage\", \"collage\", \"collage\", \"collage\", \"comforts\", \"comforts\", \"comforts\", \"comforts\", \"comforts\", \"comforts\", \"comforts\", \"comforts\", \"comforts\", \"comforts\", \"commenting\", \"commenting\", \"commenting\", \"commenting\", \"commenting\", \"commenting\", \"commenting\", \"commenting\", \"commenting\", \"commenting\", \"committeeman\", \"committeeman\", \"committeeman\", \"committeeman\", \"committeeman\", \"committeeman\", \"committeeman\", \"committeeman\", \"compassion\", \"compassion\", \"compassion\", \"compassion\", \"compassion\", \"compassion\", \"compassion\", \"compassion\", \"compassion\", \"compassion\", \"competitors\", \"competitors\", \"competitors\", \"competitors\", \"competitors\", \"competitors\", \"competitors\", \"competitors\", \"competitors\", \"competitors\", \"complaint\", \"complaint\", \"complaint\", \"complaint\", \"complaint\", \"complaint\", \"complaint\", \"complaint\", \"complaint\", \"complaint\", \"comprehensively\", \"comprehensively\", \"comprehensively\", \"comprehensively\", \"comprehensively\", \"comprehensively\", \"comprehensively\", \"computing\", \"computing\", \"computing\", \"computing\", \"computing\", \"computing\", \"computing\", \"computing\", \"computing\", \"computing\", \"congregants\", \"congregants\", \"congregants\", \"congregants\", \"congregants\", \"congregants\", \"congregants\", \"consciously\", \"consciously\", \"consciously\", \"consciously\", \"consciously\", \"consciously\", \"consciously\", \"consciously\", \"consciously\", \"consciously\", \"constituency\", \"constituency\", \"constituency\", \"constituency\", \"constituency\", \"constituency\", \"constituency\", \"constituency\", \"constituency\", \"constituency\", \"continent\", \"continent\", \"continent\", \"continent\", \"continent\", \"continent\", \"continent\", \"continent\", \"continent\", \"continent\", \"contraception\", \"contraception\", \"contraception\", \"contraception\", \"contraception\", \"contraception\", \"contraception\", \"contraception\", \"contraception\", \"contraception\", \"conway\", \"conway\", \"conway\", \"conway\", \"conway\", \"conway\", \"conway\", \"conway\", \"conway\", \"conway\", \"cooking\", \"cooking\", \"cooking\", \"cooking\", \"cooking\", \"cooking\", \"cooking\", \"cooking\", \"cooking\", \"cooking\", \"cooper\", \"cooper\", \"cooper\", \"cooper\", \"cooper\", \"cooper\", \"cooper\", \"cooper\", \"cooper\", \"cooper\", \"costco\", \"costco\", \"costco\", \"costco\", \"costco\", \"costco\", \"costco\", \"costco\", \"costco\", \"costco\", \"costello\", \"costello\", \"costello\", \"costello\", \"costello\", \"costello\", \"costello\", \"costello\", \"costello\", \"cotton\", \"cotton\", \"cotton\", \"cotton\", \"cotton\", \"cotton\", \"cotton\", \"cotton\", \"cotton\", \"cotton\", \"coulibaly\", \"coulibaly\", \"coulibaly\", \"coulibaly\", \"coulibaly\", \"coulibaly\", \"coulibaly\", \"coulibaly\", \"coulibaly\", \"coulibaly\", \"craigslist\", \"craigslist\", \"craigslist\", \"craigslist\", \"craigslist\", \"craigslist\", \"craigslist\", \"craigslist\", \"craigslist\", \"craigslist\", \"crawford\", \"crawford\", \"crawford\", \"crawford\", \"crawford\", \"crawford\", \"crawford\", \"crawford\", \"crawford\", \"crawford\", \"crawling\", \"crawling\", \"crawling\", \"crawling\", \"crawling\", \"crawling\", \"crawling\", \"crawling\", \"critiquing\", \"critiquing\", \"critiquing\", \"critiquing\", \"critiquing\", \"critiquing\", \"critiquing\", \"crusaders\", \"crusaders\", \"crusaders\", \"crusaders\", \"crusaders\", \"crusaders\", \"crusaders\", \"crusaders\", \"crusaders\", \"cubs\", \"cubs\", \"cubs\", \"cubs\", \"cubs\", \"cubs\", \"cubs\", \"cubs\", \"cubs\", \"cubs\", \"cup\", \"cup\", \"cup\", \"cup\", \"cup\", \"cup\", \"cup\", \"cup\", \"cup\", \"cup\", \"cyber\", \"cyber\", \"cyber\", \"cyber\", \"cyber\", \"cyber\", \"cyber\", \"cyber\", \"cyber\", \"cyber\", \"cynical\", \"cynical\", \"cynical\", \"cynical\", \"cynical\", \"cynical\", \"cynical\", \"cynical\", \"cynical\", \"cynical\", \"dabiq\", \"dabiq\", \"dabiq\", \"dabiq\", \"dabiq\", \"dabiq\", \"dabiq\", \"dabiq\", \"dabiq\", \"dabiq\", \"daca\", \"daca\", \"daca\", \"daca\", \"daca\", \"daca\", \"daca\", \"daca\", \"daca\", \"daca\", \"daesh\", \"daesh\", \"daesh\", \"daesh\", \"daesh\", \"daesh\", \"daesh\", \"daesh\", \"daesh\", \"daesh\", \"dannemora\", \"dannemora\", \"dannemora\", \"dannemora\", \"dannemora\", \"dannemora\", \"dannemora\", \"dannemora\", \"dannemora\", \"dannemora\", \"dapa\", \"dapa\", \"dapa\", \"dapa\", \"dapa\", \"dapa\", \"dapa\", \"dapa\", \"dapa\", \"dapa\", \"db\", \"db\", \"db\", \"db\", \"db\", \"db\", \"db\", \"db\", \"db\", \"db\", \"dea\", \"dea\", \"dea\", \"dea\", \"dea\", \"dea\", \"dea\", \"dea\", \"dea\", \"dea\", \"dec\", \"dec\", \"dec\", \"dec\", \"dec\", \"dec\", \"dec\", \"dec\", \"dec\", \"dec\", \"defects\", \"defects\", \"defects\", \"defects\", \"defects\", \"defects\", \"defects\", \"defects\", \"defects\", \"defects\", \"defence\", \"defence\", \"defence\", \"defence\", \"defence\", \"defence\", \"defence\", \"defence\", \"defence\", \"defence\", \"denmark\", \"denmark\", \"denmark\", \"denmark\", \"denmark\", \"denmark\", \"denmark\", \"denmark\", \"denmark\", \"denmark\", \"density\", \"density\", \"density\", \"density\", \"density\", \"density\", \"density\", \"density\", \"density\", \"density\", \"detention\", \"detention\", \"detention\", \"detention\", \"detention\", \"detention\", \"detention\", \"detention\", \"detention\", \"detention\", \"devising\", \"devising\", \"devising\", \"devising\", \"dhs\", \"dhs\", \"dhs\", \"dhs\", \"dhs\", \"dhs\", \"dhs\", \"dhs\", \"dhs\", \"dhs\", \"diet\", \"diet\", \"diet\", \"diet\", \"diet\", \"diet\", \"diet\", \"diet\", \"diet\", \"diet\", \"disciples\", \"disciples\", \"disciples\", \"disciples\", \"disciples\", \"disciples\", \"disciples\", \"disciples\", \"disciples\", \"disciples\", \"disinformation\", \"disinformation\", \"disinformation\", \"disinformation\", \"disinformation\", \"disinformation\", \"disinformation\", \"disinformation\", \"disinformation\", \"disinformation\", \"dodgers\", \"dodgers\", \"dodgers\", \"dodgers\", \"dodgers\", \"dodgers\", \"dodgers\", \"dodgers\", \"dodgers\", \"dotcom\", \"dotcom\", \"dotcom\", \"dotcom\", \"dotcom\", \"dotcom\", \"dotcom\", \"dotcom\", \"dotcom\", \"dotcom\", \"drawback\", \"drawback\", \"drawback\", \"drawback\", \"drawback\", \"drawback\", \"drones\", \"drones\", \"drones\", \"drones\", \"drones\", \"drones\", \"drones\", \"drones\", \"drones\", \"drones\", \"duck\", \"duck\", \"duck\", \"duck\", \"duck\", \"duck\", \"duck\", \"duck\", \"duck\", \"duck\", \"duterte\", \"duterte\", \"duterte\", \"duterte\", \"duterte\", \"duterte\", \"duterte\", \"duterte\", \"duterte\", \"duterte\", \"egalitarian\", \"egalitarian\", \"egalitarian\", \"egalitarian\", \"egalitarian\", \"egalitarian\", \"egalitarian\", \"egalitarian\", \"egalitarian\", \"egyptian\", \"egyptian\", \"egyptian\", \"egyptian\", \"egyptian\", \"egyptian\", \"egyptian\", \"egyptian\", \"egyptian\", \"egyptian\", \"elephants\", \"elephants\", \"elephants\", \"elephants\", \"elephants\", \"elephants\", \"elephants\", \"elephants\", \"elephants\", \"elephants\", \"eliminated\", \"eliminated\", \"eliminated\", \"eliminated\", \"eliminated\", \"eliminated\", \"eliminated\", \"eliminated\", \"eliminated\", \"eliminated\", \"emanuel\", \"emanuel\", \"emanuel\", \"emanuel\", \"emanuel\", \"emanuel\", \"emanuel\", \"emanuel\", \"emanuel\", \"emanuel\", \"emissions\", \"emissions\", \"emissions\", \"emissions\", \"emissions\", \"emissions\", \"emissions\", \"emissions\", \"emissions\", \"emissions\", \"emmanuel\", \"emmanuel\", \"emmanuel\", \"emmanuel\", \"emmanuel\", \"emmanuel\", \"emmanuel\", \"emmanuel\", \"emmanuel\", \"emmanuel\", \"employer\", \"employer\", \"employer\", \"employer\", \"employer\", \"employer\", \"employer\", \"employer\", \"employer\", \"employer\", \"emwazi\", \"emwazi\", \"emwazi\", \"emwazi\", \"emwazi\", \"emwazi\", \"emwazi\", \"emwazi\", \"emwazi\", \"emwazi\", \"engineering\", \"engineering\", \"engineering\", \"engineering\", \"engineering\", \"engineering\", \"engineering\", \"engineering\", \"engineering\", \"engineering\", \"enrollment\", \"enrollment\", \"enrollment\", \"enrollment\", \"enrollment\", \"enrollment\", \"enrollment\", \"enrollment\", \"enrollment\", \"enrollment\", \"epa\", \"epa\", \"epa\", \"epa\", \"epa\", \"epa\", \"epa\", \"epa\", \"epa\", \"epa\", \"equipped\", \"equipped\", \"equipped\", \"equipped\", \"equipped\", \"equipped\", \"equipped\", \"equipped\", \"equipped\", \"equipped\", \"eugenics\", \"eugenics\", \"eugenics\", \"eugenics\", \"eugenics\", \"eugenics\", \"eugenics\", \"eugenics\", \"eugenics\", \"euro\", \"euro\", \"euro\", \"euro\", \"euro\", \"euro\", \"euro\", \"euro\", \"euro\", \"euro\", \"exclamation\", \"exclamation\", \"exclamation\", \"exclamation\", \"exclamation\", \"exclamation\", \"excludes\", \"excludes\", \"excludes\", \"excludes\", \"excludes\", \"excludes\", \"excludes\", \"excludes\", \"excludes\", \"exempts\", \"exempts\", \"exempts\", \"exempts\", \"exempts\", \"exhibition\", \"exhibition\", \"exhibition\", \"exhibition\", \"exhibition\", \"exhibition\", \"exhibition\", \"exhibition\", \"exhibition\", \"expertly\", \"expertly\", \"expertly\", \"expertly\", \"expertly\", \"expertly\", \"exposures\", \"exposures\", \"exposures\", \"exposures\", \"exposures\", \"exposures\", \"exposures\", \"exposures\", \"external\", \"external\", \"external\", \"external\", \"external\", \"external\", \"external\", \"external\", \"external\", \"external\", \"extraterrestrials\", \"extraterrestrials\", \"extraterrestrials\", \"extraterrestrials\", \"extraterrestrials\", \"extraterrestrials\", \"extraterrestrials\", \"extraterrestrials\", \"extraterrestrials\", \"extraterrestrials\", \"factories\", \"factories\", \"factories\", \"factories\", \"factories\", \"factories\", \"factories\", \"factories\", \"factories\", \"factories\", \"farook\", \"farook\", \"farook\", \"farook\", \"farook\", \"farook\", \"farook\", \"farook\", \"farook\", \"farook\", \"fascism\", \"fascism\", \"fascism\", \"fascism\", \"fascism\", \"fascism\", \"fascism\", \"fascism\", \"fascism\", \"fascism\", \"fatalities\", \"fatalities\", \"fatalities\", \"fatalities\", \"fatalities\", \"fatalities\", \"fatalities\", \"fatalities\", \"fatalities\", \"fatalities\", \"finalist\", \"finalist\", \"finalist\", \"finalist\", \"finalist\", \"finalist\", \"finalist\", \"finalist\", \"finalist\", \"finalist\", \"flames\", \"flames\", \"flames\", \"flames\", \"flames\", \"flames\", \"flames\", \"flames\", \"flames\", \"flames\", \"florist\", \"florist\", \"florist\", \"florist\", \"florist\", \"florist\", \"florist\", \"florist\", \"flowers\", \"flowers\", \"flowers\", \"flowers\", \"flowers\", \"flowers\", \"flowers\", \"flowers\", \"flowers\", \"flowers\", \"fluoride\", \"fluoride\", \"fluoride\", \"fluoride\", \"fluoride\", \"fluoride\", \"fluoride\", \"fluoride\", \"fluoride\", \"fluoride\", \"foer\", \"foer\", \"foer\", \"foer\", \"foer\", \"foer\", \"foer\", \"foer\", \"foer\", \"foer\", \"fomc\", \"fomc\", \"fomc\", \"fomc\", \"fomc\", \"fomc\", \"fomc\", \"fomc\", \"fomc\", \"fomc\", \"forests\", \"forests\", \"forests\", \"forests\", \"forests\", \"forests\", \"forests\", \"forests\", \"forests\", \"forests\", \"francois\", \"francois\", \"francois\", \"francois\", \"francois\", \"francois\", \"francois\", \"francois\", \"francois\", \"francois\", \"fraternity\", \"fraternity\", \"fraternity\", \"fraternity\", \"fraternity\", \"fraternity\", \"fraternity\", \"fraternity\", \"fraternity\", \"fraternity\", \"freeloaders\", \"freeloaders\", \"freeloaders\", \"freeloaders\", \"freeloaders\", \"freeloaders\", \"freeloaders\", \"freeloaders\", \"freeloaders\", \"freeloaders\", \"fuelled\", \"fuelled\", \"fuelled\", \"fuelled\", \"fuelled\", \"fuelled\", \"fuelled\", \"fuelled\", \"garland\", \"garland\", \"garland\", \"garland\", \"garland\", \"garland\", \"garland\", \"garland\", \"garland\", \"garland\", \"genocide\", \"genocide\", \"genocide\", \"genocide\", \"genocide\", \"genocide\", \"genocide\", \"genocide\", \"genocide\", \"genocide\", \"gentlemen\", \"gentlemen\", \"gentlemen\", \"gentlemen\", \"gentlemen\", \"gentlemen\", \"gentlemen\", \"gentlemen\", \"gentlemen\", \"gentlemen\", \"gerrymandering\", \"gerrymandering\", \"gerrymandering\", \"gerrymandering\", \"gerrymandering\", \"gerrymandering\", \"gerrymandering\", \"gerrymandering\", \"gerrymandering\", \"gerrymandering\", \"gesture\", \"gesture\", \"gesture\", \"gesture\", \"gesture\", \"gesture\", \"gesture\", \"gesture\", \"gesture\", \"gesture\", \"globalist\", \"globalist\", \"globalist\", \"globalist\", \"globalist\", \"globalist\", \"globalist\", \"globalist\", \"globalist\", \"globalist\", \"glossy\", \"glossy\", \"glossy\", \"glossy\", \"glossy\", \"gmo\", \"gmo\", \"gmo\", \"gmo\", \"gmo\", \"gmo\", \"gmo\", \"gmo\", \"gmo\", \"gmo\", \"gorbachev\", \"gorbachev\", \"gorbachev\", \"gorbachev\", \"gorbachev\", \"gorbachev\", \"gorbachev\", \"gorbachev\", \"gorbachev\", \"gorbachev\", \"grainy\", \"grainy\", \"grainy\", \"grainy\", \"grainy\", \"grainy\", \"grassley\", \"grassley\", \"grassley\", \"grassley\", \"grassley\", \"grassley\", \"grassley\", \"grassley\", \"grassley\", \"grassley\", \"gravel\", \"gravel\", \"gravel\", \"gravel\", \"gravel\", \"gravel\", \"gravel\", \"greenhouse\", \"greenhouse\", \"greenhouse\", \"greenhouse\", \"greenhouse\", \"greenhouse\", \"greenhouse\", \"greenhouse\", \"greenhouse\", \"greenhouse\", \"greenwood\", \"greenwood\", \"greenwood\", \"greenwood\", \"greenwood\", \"greenwood\", \"greenwood\", \"greenwood\", \"greenwood\", \"greenwood\", \"gunmen\", \"gunmen\", \"gunmen\", \"gunmen\", \"gunmen\", \"gunmen\", \"gunmen\", \"gunmen\", \"gunmen\", \"gunmen\", \"gutierrez\", \"gutierrez\", \"gutierrez\", \"gutierrez\", \"gutierrez\", \"gutierrez\", \"gutierrez\", \"gutierrez\", \"gutierrez\", \"gutierrez\", \"haiti\", \"haiti\", \"haiti\", \"haiti\", \"haiti\", \"haiti\", \"haiti\", \"haiti\", \"haiti\", \"haiti\", \"halloween\", \"halloween\", \"halloween\", \"halloween\", \"halloween\", \"halloween\", \"halloween\", \"halloween\", \"halloween\", \"halloween\", \"hannity\", \"hannity\", \"hannity\", \"hannity\", \"hannity\", \"hannity\", \"hannity\", \"hannity\", \"hannity\", \"hannity\", \"hardball\", \"hardball\", \"hardball\", \"hardball\", \"hardball\", \"hardball\", \"hardball\", \"hardball\", \"hardball\", \"hardball\", \"hardy\", \"hardy\", \"hardy\", \"hardy\", \"hardy\", \"hardy\", \"hardy\", \"hardy\", \"hardy\", \"harris\", \"harris\", \"harris\", \"harris\", \"harris\", \"harris\", \"harris\", \"harris\", \"harris\", \"harris\", \"hawkish\", \"hawkish\", \"hawkish\", \"hawkish\", \"hawkish\", \"hawkish\", \"hawkish\", \"hawkish\", \"hawkish\", \"hawkish\", \"hebdo\", \"hebdo\", \"hebdo\", \"hebdo\", \"hebdo\", \"hebdo\", \"hebdo\", \"hebdo\", \"hebdo\", \"hebdo\", \"helicopter\", \"helicopter\", \"helicopter\", \"helicopter\", \"helicopter\", \"helicopter\", \"helicopter\", \"helicopter\", \"helicopter\", \"helicopter\", \"helmets\", \"helmets\", \"helmets\", \"helmets\", \"helmets\", \"helmets\", \"helmets\", \"helmets\", \"helmets\", \"helmets\", \"herb\", \"herb\", \"herb\", \"herb\", \"herb\", \"herb\", \"herb\", \"herb\", \"herb\", \"herb\", \"hike\", \"hike\", \"hike\", \"hike\", \"hike\", \"hike\", \"hike\", \"hike\", \"hike\", \"hike\", \"hindu\", \"hindu\", \"hindu\", \"hindu\", \"hindu\", \"hindu\", \"hindu\", \"hindu\", \"hindu\", \"hindu\", \"hoax\", \"hoax\", \"hoax\", \"hoax\", \"hoax\", \"hoax\", \"hoax\", \"hoax\", \"hoax\", \"hoax\", \"hogan\", \"hogan\", \"hogan\", \"hogan\", \"hogan\", \"hogan\", \"hogan\", \"hogan\", \"hogan\", \"hogan\", \"holder\", \"holder\", \"holder\", \"holder\", \"holder\", \"holder\", \"holder\", \"holder\", \"holder\", \"holder\", \"hollande\", \"hollande\", \"hollande\", \"hollande\", \"hollande\", \"hollande\", \"hollande\", \"hollande\", \"hollande\", \"hollande\", \"holt\", \"holt\", \"holt\", \"holt\", \"holt\", \"holt\", \"holt\", \"holt\", \"holt\", \"holt\", \"honduras\", \"honduras\", \"honduras\", \"honduras\", \"honduras\", \"honduras\", \"honduras\", \"honduras\", \"honduras\", \"honduras\", \"hostages\", \"hostages\", \"hostages\", \"hostages\", \"hostages\", \"hostages\", \"hostages\", \"hostages\", \"hostages\", \"hostages\", \"hpv\", \"hpv\", \"hpv\", \"hpv\", \"hpv\", \"hpv\", \"hpv\", \"hpv\", \"hpv\", \"hpv\", \"html\", \"html\", \"html\", \"html\", \"html\", \"html\", \"html\", \"html\", \"html\", \"html\", \"huelskamp\", \"huelskamp\", \"huelskamp\", \"huelskamp\", \"huelskamp\", \"huelskamp\", \"huelskamp\", \"huelskamp\", \"huelskamp\", \"huelskamp\", \"huffpo\", \"huffpo\", \"huffpo\", \"huffpo\", \"huffpo\", \"huffpo\", \"huffpo\", \"huffpo\", \"huffpo\", \"huffpo\", \"hyde\", \"hyde\", \"hyde\", \"hyde\", \"hyde\", \"hyde\", \"hyde\", \"hyde\", \"hyde\", \"hyde\", \"hydrogen\", \"hydrogen\", \"hydrogen\", \"hydrogen\", \"hydrogen\", \"hydrogen\", \"hydrogen\", \"hydrogen\", \"hydrogen\", \"hydrogen\", \"illustration\", \"illustration\", \"illustration\", \"illustration\", \"illustration\", \"illustration\", \"illustration\", \"illustration\", \"illustration\", \"illustration\", \"im\", \"im\", \"im\", \"im\", \"im\", \"im\", \"im\", \"im\", \"im\", \"im\", \"immortal\", \"immortal\", \"immortal\", \"immortal\", \"immortal\", \"immortal\", \"immortal\", \"impressions\", \"impressions\", \"impressions\", \"impressions\", \"impressions\", \"impressions\", \"impressions\", \"impressions\", \"impressions\", \"impressions\", \"ims\", \"ims\", \"ims\", \"ims\", \"ims\", \"ims\", \"ims\", \"ims\", \"ims\", \"ims\", \"inarguably\", \"inarguably\", \"inarguably\", \"inarguably\", \"inarguably\", \"inarguably\", \"incisive\", \"incisive\", \"incisive\", \"incisive\", \"incisive\", \"incriminating\", \"incriminating\", \"incriminating\", \"incriminating\", \"incriminating\", \"incriminating\", \"incriminating\", \"incriminating\", \"incriminating\", \"incriminating\", \"indigenous\", \"indigenous\", \"indigenous\", \"indigenous\", \"indigenous\", \"indigenous\", \"indigenous\", \"indigenous\", \"indigenous\", \"indigenous\", \"ineffective\", \"ineffective\", \"ineffective\", \"ineffective\", \"ineffective\", \"ineffective\", \"ineffective\", \"ineffective\", \"ineffective\", \"ineffective\", \"infowars\", \"infowars\", \"infowars\", \"infowars\", \"infowars\", \"infowars\", \"infowars\", \"infowars\", \"infowars\", \"infowars\", \"infowarsstore\", \"infowarsstore\", \"infowarsstore\", \"infowarsstore\", \"infowarsstore\", \"infowarsstore\", \"infowarsstore\", \"infowarsstore\", \"infowarsstore\", \"infowarsstore\", \"inhabitants\", \"inhabitants\", \"inhabitants\", \"inhabitants\", \"inhabitants\", \"inhabitants\", \"inhabitants\", \"inhabitants\", \"inhabitants\", \"inhabitants\", \"interface\", \"interface\", \"interface\", \"interface\", \"interface\", \"interface\", \"interface\", \"interface\", \"interface\", \"interface\", \"iodine\", \"iodine\", \"iodine\", \"iodine\", \"iodine\", \"iodine\", \"iodine\", \"iodine\", \"iodine\", \"iodine\", \"ipsos\", \"ipsos\", \"ipsos\", \"ipsos\", \"ipsos\", \"ipsos\", \"ipsos\", \"ipsos\", \"ipsos\", \"ipsos\", \"iq\", \"iq\", \"iq\", \"iq\", \"iq\", \"iq\", \"iq\", \"iq\", \"iq\", \"iq\", \"irate\", \"irate\", \"irate\", \"irate\", \"irate\", \"irate\", \"irate\", \"irate\", \"irate\", \"irate\", \"islands\", \"islands\", \"islands\", \"islands\", \"islands\", \"islands\", \"islands\", \"islands\", \"islands\", \"islands\", \"israelis\", \"israelis\", \"israelis\", \"israelis\", \"israelis\", \"israelis\", \"israelis\", \"israelis\", \"israelis\", \"israelis\", \"ivanka\", \"ivanka\", \"ivanka\", \"ivanka\", \"ivanka\", \"ivanka\", \"ivanka\", \"ivanka\", \"ivanka\", \"ivanka\", \"ivory\", \"ivory\", \"ivory\", \"ivory\", \"ivory\", \"ivory\", \"ivory\", \"ivory\", \"ivory\", \"ivory\", \"jacob\", \"jacob\", \"jacob\", \"jacob\", \"jacob\", \"jacob\", \"jacob\", \"jacob\", \"jacob\", \"jacob\", \"jeanine\", \"jeanine\", \"jeanine\", \"jeanine\", \"jeanine\", \"jeanine\", \"jeanine\", \"jeanine\", \"jeanine\", \"jensen\", \"jensen\", \"jensen\", \"jensen\", \"jensen\", \"jensen\", \"jensen\", \"jensen\", \"jensen\", \"jensen\", \"jew\", \"jew\", \"jew\", \"jew\", \"jew\", \"jew\", \"jew\", \"jew\", \"jew\", \"jew\", \"jindal\", \"jindal\", \"jindal\", \"jindal\", \"jindal\", \"jindal\", \"jindal\", \"jindal\", \"jindal\", \"jindal\", \"juice\", \"juice\", \"juice\", \"juice\", \"juice\", \"juice\", \"juice\", \"juice\", \"juice\", \"juice\", \"juror\", \"juror\", \"juror\", \"juror\", \"juror\", \"juror\", \"juror\", \"juror\", \"juror\", \"juror\", \"justified\", \"justified\", \"justified\", \"justified\", \"justified\", \"justified\", \"justified\", \"justified\", \"justified\", \"justified\", \"keane\", \"keane\", \"keane\", \"keane\", \"keane\", \"keane\", \"keane\", \"keane\", \"keane\", \"keane\", \"keefe\", \"keefe\", \"keefe\", \"keefe\", \"keefe\", \"keefe\", \"keefe\", \"keefe\", \"keefe\", \"keefe\", \"kenyan\", \"kenyan\", \"kenyan\", \"kenyan\", \"kenyan\", \"kenyan\", \"kenyan\", \"kenyan\", \"kenyan\", \"kenyan\", \"khan\", \"khan\", \"khan\", \"khan\", \"khan\", \"khan\", \"khan\", \"khan\", \"khan\", \"khan\", \"ki\", \"ki\", \"ki\", \"ki\", \"ki\", \"ki\", \"ki\", \"ki\", \"ki\", \"ki\", \"kings\", \"kings\", \"kings\", \"kings\", \"kings\", \"kings\", \"kings\", \"kings\", \"kings\", \"kings\", \"kirby\", \"kirby\", \"kirby\", \"kirby\", \"kirby\", \"kirby\", \"kirby\", \"kirby\", \"kirby\", \"kirby\", \"kirkpatrick\", \"kirkpatrick\", \"kirkpatrick\", \"kirkpatrick\", \"kirkpatrick\", \"kirkpatrick\", \"kirkpatrick\", \"kirkpatrick\", \"kirkpatrick\", \"kirkpatrick\", \"ko\", \"ko\", \"ko\", \"ko\", \"ko\", \"ko\", \"ko\", \"ko\", \"ko\", \"koch\", \"koch\", \"koch\", \"koch\", \"koch\", \"koch\", \"koch\", \"koch\", \"koch\", \"koch\", \"korean\", \"korean\", \"korean\", \"korean\", \"korean\", \"korean\", \"korean\", \"korean\", \"korean\", \"korean\", \"kosher\", \"kosher\", \"kosher\", \"kosher\", \"kosher\", \"kosher\", \"kosher\", \"kosher\", \"kosher\", \"kosher\", \"kurds\", \"kurds\", \"kurds\", \"kurds\", \"kurds\", \"kurds\", \"kurds\", \"kurds\", \"kurds\", \"kurds\", \"kuznetsov\", \"kuznetsov\", \"kuznetsov\", \"kuznetsov\", \"kuznetsov\", \"kuznetsov\", \"kuznetsov\", \"kuznetsov\", \"kuznetsov\", \"kuznetsov\", \"kyle\", \"kyle\", \"kyle\", \"kyle\", \"kyle\", \"kyle\", \"kyle\", \"kyle\", \"kyle\", \"kyle\", \"lab\", \"lab\", \"lab\", \"lab\", \"lab\", \"lab\", \"lab\", \"lab\", \"lab\", \"lab\", \"lagged\", \"lagged\", \"lagged\", \"lagged\", \"laughed\", \"laughed\", \"laughed\", \"laughed\", \"laughed\", \"laughed\", \"laughed\", \"laughed\", \"laughed\", \"laughed\", \"le\", \"le\", \"le\", \"le\", \"le\", \"le\", \"le\", \"le\", \"le\", \"le\", \"legislatures\", \"legislatures\", \"legislatures\", \"legislatures\", \"legislatures\", \"legislatures\", \"legislatures\", \"legislatures\", \"legislatures\", \"legislatures\", \"lesley\", \"lesley\", \"lesley\", \"lesley\", \"lesley\", \"lesley\", \"lesley\", \"lesley\", \"lesley\", \"lesley\", \"lethal\", \"lethal\", \"lethal\", \"lethal\", \"lethal\", \"lethal\", \"lethal\", \"lethal\", \"lethal\", \"lethal\", \"lewandowski\", \"lewandowski\", \"lewandowski\", \"lewandowski\", \"lewandowski\", \"lewandowski\", \"lewandowski\", \"lewandowski\", \"lewandowski\", \"lewandowski\", \"lewinsky\", \"lewinsky\", \"lewinsky\", \"lewinsky\", \"lewinsky\", \"lewinsky\", \"lewinsky\", \"lewinsky\", \"lewinsky\", \"lewinsky\", \"lewis\", \"lewis\", \"lewis\", \"lewis\", \"lewis\", \"lewis\", \"lewis\", \"lewis\", \"lewis\", \"lewis\", \"limbaugh\", \"limbaugh\", \"limbaugh\", \"limbaugh\", \"limbaugh\", \"limbaugh\", \"limbaugh\", \"limbaugh\", \"limbaugh\", \"limbaugh\", \"lind\", \"lind\", \"lind\", \"lind\", \"lind\", \"lind\", \"lind\", \"lind\", \"lind\", \"lind\", \"loaded\", \"loaded\", \"loaded\", \"loaded\", \"loaded\", \"loaded\", \"loaded\", \"loaded\", \"loaded\", \"loaded\", \"loan\", \"loan\", \"loan\", \"loan\", \"loan\", \"loan\", \"loan\", \"loan\", \"loan\", \"loan\", \"logical\", \"logical\", \"logical\", \"logical\", \"logical\", \"logical\", \"logical\", \"logical\", \"logical\", \"logical\", \"lottery\", \"lottery\", \"lottery\", \"lottery\", \"lottery\", \"lottery\", \"lottery\", \"lottery\", \"lottery\", \"lottery\", \"machado\", \"machado\", \"machado\", \"machado\", \"machado\", \"machado\", \"machado\", \"machado\", \"machado\", \"machado\", \"maggie\", \"maggie\", \"maggie\", \"maggie\", \"maggie\", \"maggie\", \"maggie\", \"maggie\", \"maggie\", \"maggie\", \"mair\", \"mair\", \"mair\", \"mair\", \"mair\", \"mair\", \"mair\", \"mair\", \"mair\", \"majestic\", \"majestic\", \"majestic\", \"majestic\", \"majestic\", \"majestic\", \"majestic\", \"majestic\", \"majestic\", \"majestic\", \"malls\", \"malls\", \"malls\", \"malls\", \"malls\", \"malls\", \"malls\", \"malls\", \"malls\", \"marines\", \"marines\", \"marines\", \"marines\", \"marines\", \"marines\", \"marines\", \"marines\", \"marines\", \"marines\", \"marquez\", \"marquez\", \"marquez\", \"marquez\", \"marquez\", \"marquez\", \"marquez\", \"marquez\", \"marquez\", \"marquez\", \"mateen\", \"mateen\", \"mateen\", \"mateen\", \"mateen\", \"mateen\", \"mateen\", \"mateen\", \"mateen\", \"mateen\", \"mc\", \"mc\", \"mc\", \"mc\", \"mc\", \"mc\", \"mc\", \"mc\", \"mc\", \"mc\", \"mcdonald\", \"mcdonald\", \"mcdonald\", \"mcdonald\", \"mcdonald\", \"mcdonald\", \"mcdonald\", \"mcdonald\", \"mcdonald\", \"mcdonald\", \"mclaughlin\", \"mclaughlin\", \"mclaughlin\", \"mclaughlin\", \"mclaughlin\", \"mclaughlin\", \"mclaughlin\", \"mclaughlin\", \"mclaughlin\", \"mclaughlin\", \"mcmahon\", \"mcmahon\", \"mcmahon\", \"mcmahon\", \"mcmahon\", \"mcmahon\", \"mcmahon\", \"mcmahon\", \"mcmahon\", \"mcmahon\", \"mcmullin\", \"mcmullin\", \"mcmullin\", \"mcmullin\", \"mcmullin\", \"mcmullin\", \"mcmullin\", \"mcmullin\", \"mcmullin\", \"mcmullin\", \"mega\", \"mega\", \"mega\", \"mega\", \"mega\", \"mega\", \"mega\", \"mega\", \"mega\", \"mega\", \"melania\", \"melania\", \"melania\", \"melania\", \"melania\", \"melania\", \"melania\", \"melania\", \"melania\", \"melania\", \"menendez\", \"menendez\", \"menendez\", \"menendez\", \"menendez\", \"menendez\", \"menendez\", \"menendez\", \"menendez\", \"menendez\", \"mercury\", \"mercury\", \"mercury\", \"mercury\", \"mercury\", \"mercury\", \"mercury\", \"mercury\", \"mercury\", \"mercury\", \"merkel\", \"merkel\", \"merkel\", \"merkel\", \"merkel\", \"merkel\", \"merkel\", \"merkel\", \"merkel\", \"merkel\", \"migrant\", \"migrant\", \"migrant\", \"migrant\", \"migrant\", \"migrant\", \"migrant\", \"migrant\", \"migrant\", \"migrant\", \"migration\", \"migration\", \"migration\", \"migration\", \"migration\", \"migration\", \"migration\", \"migration\", \"migration\", \"migration\", \"milk\", \"milk\", \"milk\", \"milk\", \"milk\", \"milk\", \"milk\", \"milk\", \"milk\", \"milk\", \"milne\", \"milne\", \"milne\", \"milne\", \"milne\", \"milne\", \"milne\", \"milne\", \"milne\", \"mining\", \"mining\", \"mining\", \"mining\", \"mining\", \"mining\", \"mining\", \"mining\", \"mining\", \"mining\", \"miracle\", \"miracle\", \"miracle\", \"miracle\", \"miracle\", \"miracle\", \"miracle\", \"miracle\", \"miracle\", \"miracle\", \"misrepresenting\", \"misrepresenting\", \"misrepresenting\", \"misrepresenting\", \"misrepresenting\", \"misrepresenting\", \"misrepresenting\", \"moderators\", \"moderators\", \"moderators\", \"moderators\", \"moderators\", \"moderators\", \"moderators\", \"moderators\", \"moderators\", \"moderators\", \"modernize\", \"modernize\", \"modernize\", \"modernize\", \"modernize\", \"modernize\", \"modernize\", \"modernize\", \"modernize\", \"modi\", \"modi\", \"modi\", \"modi\", \"modi\", \"modi\", \"modi\", \"modi\", \"modi\", \"modi\", \"molestation\", \"molestation\", \"molestation\", \"molestation\", \"molestation\", \"molestation\", \"molotov\", \"molotov\", \"molotov\", \"molotov\", \"molotov\", \"molotov\", \"molotov\", \"molotov\", \"molotov\", \"molotov\", \"monica\", \"monica\", \"monica\", \"monica\", \"monica\", \"monica\", \"monica\", \"monica\", \"monica\", \"monica\", \"morgue\", \"morgue\", \"morgue\", \"morgue\", \"morgue\", \"morgue\", \"morgue\", \"morgue\", \"morgue\", \"morgue\", \"mormon\", \"mormon\", \"mormon\", \"mormon\", \"mormon\", \"mormon\", \"mormon\", \"mormon\", \"mormon\", \"mormon\", \"morris\", \"morris\", \"morris\", \"morris\", \"morris\", \"morris\", \"morris\", \"morris\", \"morris\", \"morris\", \"mosaic\", \"mosaic\", \"mosaic\", \"mosaic\", \"mosaic\", \"mosaic\", \"mosaic\", \"mosaic\", \"mosaic\", \"mosaic\", \"mosby\", \"mosby\", \"mosby\", \"mosby\", \"mosby\", \"mosby\", \"mosby\", \"mosby\", \"mosby\", \"mosby\", \"mosquito\", \"mosquito\", \"mosquito\", \"mosquito\", \"mosquito\", \"mosquito\", \"mosquito\", \"mosquito\", \"mosquito\", \"mosquito\", \"mosquitoes\", \"mosquitoes\", \"mosquitoes\", \"mosquitoes\", \"mosquitoes\", \"mosquitoes\", \"mosquitoes\", \"mosquitoes\", \"mosquitoes\", \"mosquitoes\", \"motorcade\", \"motorcade\", \"motorcade\", \"motorcade\", \"motorcade\", \"motorcade\", \"motorcade\", \"motorcade\", \"motorcade\", \"motorcade\", \"mps\", \"mps\", \"mps\", \"mps\", \"mps\", \"mps\", \"mps\", \"mps\", \"mps\", \"mps\", \"muhammad\", \"muhammad\", \"muhammad\", \"muhammad\", \"muhammad\", \"muhammad\", \"muhammad\", \"muhammad\", \"muhammad\", \"muhammad\", \"murdoch\", \"murdoch\", \"murdoch\", \"murdoch\", \"murdoch\", \"murdoch\", \"murdoch\", \"murdoch\", \"murdoch\", \"murdoch\", \"murphy\", \"murphy\", \"murphy\", \"murphy\", \"murphy\", \"murphy\", \"murphy\", \"murphy\", \"murphy\", \"murphy\", \"nazis\", \"nazis\", \"nazis\", \"nazis\", \"nazis\", \"nazis\", \"nazis\", \"nazis\", \"nazis\", \"nazis\", \"nelson\", \"nelson\", \"nelson\", \"nelson\", \"nelson\", \"nelson\", \"nelson\", \"nelson\", \"nelson\", \"nelson\", \"nigger\", \"nigger\", \"nigger\", \"nigger\", \"nigger\", \"nigger\", \"nigger\", \"nigger\", \"nigger\", \"nigger\", \"norway\", \"norway\", \"norway\", \"norway\", \"norway\", \"norway\", \"norway\", \"norway\", \"norway\", \"norway\", \"nostalgic\", \"nostalgic\", \"nostalgic\", \"nostalgic\", \"nostalgic\", \"nuances\", \"nuances\", \"nuances\", \"nuances\", \"nuances\", \"nuances\", \"nuances\", \"nuances\", \"nuances\", \"nuances\", \"nullification\", \"nullification\", \"nullification\", \"nullification\", \"nullification\", \"nullification\", \"nullification\", \"nullification\", \"nullification\", \"nullification\", \"nurse\", \"nurse\", \"nurse\", \"nurse\", \"nurse\", \"nurse\", \"nurse\", \"nurse\", \"nurse\", \"nurse\", \"nutter\", \"nutter\", \"nutter\", \"nutter\", \"nutter\", \"nutter\", \"nutter\", \"nutter\", \"nutter\", \"obedient\", \"obedient\", \"obedient\", \"obedient\", \"obedient\", \"obedient\", \"obedient\", \"obedient\", \"obedient\", \"obedient\", \"offenders\", \"offenders\", \"offenders\", \"offenders\", \"offenders\", \"offenders\", \"offenders\", \"offenders\", \"offenders\", \"offenders\", \"oligarch\", \"oligarch\", \"oligarch\", \"oligarch\", \"oligarch\", \"oligarch\", \"oligarch\", \"oligarch\", \"oligarch\", \"oligarch\", \"oligarchy\", \"oligarchy\", \"oligarchy\", \"oligarchy\", \"oligarchy\", \"oligarchy\", \"oligarchy\", \"oligarchy\", \"oligarchy\", \"oligarchy\", \"ooh\", \"ooh\", \"ooh\", \"ooh\", \"ooh\", \"ooh\", \"ooh\", \"ooh\", \"ooh\", \"ooh\", \"opec\", \"opec\", \"opec\", \"opec\", \"opec\", \"opec\", \"opec\", \"opec\", \"opec\", \"opec\", \"organic\", \"organic\", \"organic\", \"organic\", \"organic\", \"organic\", \"organic\", \"organic\", \"organic\", \"organic\", \"ornstein\", \"ornstein\", \"ornstein\", \"ornstein\", \"ornstein\", \"ornstein\", \"ornstein\", \"ornstein\", \"ornstein\", \"ornstein\", \"outbreaks\", \"outbreaks\", \"outbreaks\", \"outbreaks\", \"outbreaks\", \"outbreaks\", \"outbreaks\", \"outbreaks\", \"outbreaks\", \"outbreaks\", \"overflowing\", \"overflowing\", \"overflowing\", \"overflowing\", \"overflowing\", \"overflowing\", \"overflowing\", \"pagliano\", \"pagliano\", \"pagliano\", \"pagliano\", \"pagliano\", \"pagliano\", \"pagliano\", \"pagliano\", \"pagliano\", \"pagliano\", \"palestine\", \"palestine\", \"palestine\", \"palestine\", \"palestine\", \"palestine\", \"palestine\", \"palestine\", \"palestine\", \"palestine\", \"parkinson\", \"parkinson\", \"parkinson\", \"parkinson\", \"parkinson\", \"parkinson\", \"parkinson\", \"parkinson\", \"parkinson\", \"parkinson\", \"pataki\", \"pataki\", \"pataki\", \"pataki\", \"pataki\", \"pataki\", \"pataki\", \"pataki\", \"pataki\", \"pataki\", \"payer\", \"payer\", \"payer\", \"payer\", \"payer\", \"payer\", \"payer\", \"payer\", \"payer\", \"payer\", \"peacetime\", \"peacetime\", \"peacetime\", \"peacetime\", \"peacetime\", \"pen\", \"pen\", \"pen\", \"pen\", \"pen\", \"pen\", \"pen\", \"pen\", \"pen\", \"pen\", \"perez\", \"perez\", \"perez\", \"perez\", \"perez\", \"perez\", \"perez\", \"perez\", \"perez\", \"perez\", \"persians\", \"persians\", \"persians\", \"persians\", \"persians\", \"persians\", \"persians\", \"persians\", \"persians\", \"persians\", \"peshmerga\", \"peshmerga\", \"peshmerga\", \"peshmerga\", \"peshmerga\", \"peshmerga\", \"peshmerga\", \"peshmerga\", \"peshmerga\", \"peshmerga\", \"petri\", \"petri\", \"petri\", \"petri\", \"petri\", \"petri\", \"petri\", \"petri\", \"petri\", \"philippines\", \"philippines\", \"philippines\", \"philippines\", \"philippines\", \"philippines\", \"philippines\", \"philippines\", \"philippines\", \"philippines\", \"pilger\", \"pilger\", \"pilger\", \"pilger\", \"pilger\", \"pilger\", \"pilger\", \"pilger\", \"pilger\", \"pilger\", \"pill\", \"pill\", \"pill\", \"pill\", \"pill\", \"pill\", \"pill\", \"pill\", \"pill\", \"pill\", \"plaats\", \"plaats\", \"plaats\", \"plaats\", \"plaats\", \"plaats\", \"plaats\", \"plaats\", \"plaats\", \"plaats\", \"placement\", \"placement\", \"placement\", \"placement\", \"placement\", \"placement\", \"placement\", \"placement\", \"placement\", \"placement\", \"pleaded\", \"pleaded\", \"pleaded\", \"pleaded\", \"pleaded\", \"pleaded\", \"pleaded\", \"pleaded\", \"pleaded\", \"pleaded\", \"poles\", \"poles\", \"poles\", \"poles\", \"poles\", \"poles\", \"poles\", \"poles\", \"poles\", \"poles\", \"policemen\", \"policemen\", \"policemen\", \"policemen\", \"policemen\", \"policemen\", \"policemen\", \"policemen\", \"policemen\", \"policemen\", \"polluted\", \"polluted\", \"polluted\", \"polluted\", \"polluted\", \"polluted\", \"polluted\", \"polluted\", \"pontiff\", \"pontiff\", \"pontiff\", \"pontiff\", \"pontiff\", \"pontiff\", \"pontiff\", \"pontiff\", \"pontiff\", \"pontiff\", \"posit\", \"posit\", \"posit\", \"posit\", \"posit\", \"posit\", \"posit\", \"premiums\", \"premiums\", \"premiums\", \"premiums\", \"premiums\", \"premiums\", \"premiums\", \"premiums\", \"premiums\", \"premiums\", \"prince\", \"prince\", \"prince\", \"prince\", \"prince\", \"prince\", \"prince\", \"prince\", \"prince\", \"prince\", \"prosper\", \"prosper\", \"prosper\", \"prosper\", \"prosper\", \"prosper\", \"prosper\", \"prosper\", \"protectors\", \"protectors\", \"protectors\", \"protectors\", \"protectors\", \"protectors\", \"protectors\", \"protectors\", \"protectors\", \"protectors\", \"protein\", \"protein\", \"protein\", \"protein\", \"protein\", \"protein\", \"protein\", \"protein\", \"protein\", \"protein\", \"protestants\", \"protestants\", \"protestants\", \"protestants\", \"protestants\", \"protestants\", \"protestants\", \"protestants\", \"protestants\", \"protestants\", \"provocative\", \"provocative\", \"provocative\", \"provocative\", \"provocative\", \"provocative\", \"provocative\", \"provocative\", \"provocative\", \"provocative\", \"psaki\", \"psaki\", \"psaki\", \"psaki\", \"psaki\", \"psaki\", \"psaki\", \"psaki\", \"psaki\", \"psaki\", \"ptsd\", \"ptsd\", \"ptsd\", \"ptsd\", \"ptsd\", \"ptsd\", \"ptsd\", \"ptsd\", \"ptsd\", \"ptsd\", \"puerto\", \"puerto\", \"puerto\", \"puerto\", \"puerto\", \"puerto\", \"puerto\", \"puerto\", \"puerto\", \"puerto\", \"pumpkin\", \"pumpkin\", \"pumpkin\", \"pumpkin\", \"pumpkin\", \"pumpkin\", \"pumpkin\", \"pumpkin\", \"pumpkin\", \"pumpkin\", \"pumpkins\", \"pumpkins\", \"pumpkins\", \"pumpkins\", \"pumpkins\", \"pumpkins\", \"pumpkins\", \"pumpkins\", \"pumpkins\", \"pumpkins\", \"punish\", \"punish\", \"punish\", \"punish\", \"punish\", \"punish\", \"punish\", \"punish\", \"punish\", \"punish\", \"puritan\", \"puritan\", \"puritan\", \"puritan\", \"puritan\", \"puritan\", \"puritan\", \"puritan\", \"puritan\", \"q\", \"q\", \"q\", \"q\", \"q\", \"q\", \"q\", \"q\", \"q\", \"q\", \"quake\", \"quake\", \"quake\", \"quake\", \"quake\", \"quake\", \"quake\", \"quake\", \"quake\", \"quake\", \"quoting\", \"quoting\", \"quoting\", \"quoting\", \"quoting\", \"quoting\", \"quoting\", \"quoting\", \"quoting\", \"quoting\", \"raking\", \"raking\", \"raking\", \"raking\", \"raking\", \"raking\", \"raking\", \"ralston\", \"ralston\", \"ralston\", \"ralston\", \"ralston\", \"ralston\", \"ralston\", \"ralston\", \"ralston\", \"ralston\", \"ramadi\", \"ramadi\", \"ramadi\", \"ramadi\", \"ramadi\", \"ramadi\", \"ramadi\", \"ramadi\", \"ramadi\", \"ramadi\", \"raqqa\", \"raqqa\", \"raqqa\", \"raqqa\", \"raqqa\", \"raqqa\", \"raqqa\", \"raqqa\", \"raqqa\", \"raqqa\", \"readied\", \"readied\", \"readied\", \"readied\", \"readied\", \"readied\", \"rear\", \"rear\", \"rear\", \"rear\", \"rear\", \"rear\", \"rear\", \"rear\", \"rear\", \"rear\", \"recess\", \"recess\", \"recess\", \"recess\", \"recess\", \"recess\", \"recess\", \"recess\", \"recess\", \"recess\", \"redistricting\", \"redistricting\", \"redistricting\", \"redistricting\", \"redistricting\", \"redistricting\", \"redistricting\", \"redistricting\", \"redistricting\", \"redistricting\", \"regimen\", \"regimen\", \"regimen\", \"regimen\", \"regimen\", \"regimen\", \"regimen\", \"regimen\", \"regimen\", \"regimen\", \"rehash\", \"rehash\", \"rehash\", \"rehash\", \"rehash\", \"rehash\", \"rehash\", \"rehash\", \"reilly\", \"reilly\", \"reilly\", \"reilly\", \"reilly\", \"reilly\", \"reilly\", \"reilly\", \"reilly\", \"reilly\", \"reno\", \"reno\", \"reno\", \"reno\", \"reno\", \"reno\", \"reno\", \"reno\", \"reno\", \"reno\", \"reset\", \"reset\", \"reset\", \"reset\", \"reset\", \"reset\", \"reset\", \"reset\", \"reset\", \"reset\", \"respectable\", \"respectable\", \"respectable\", \"respectable\", \"respectable\", \"respectable\", \"respectable\", \"respectable\", \"respectable\", \"respectable\", \"respite\", \"respite\", \"respite\", \"respite\", \"respite\", \"respite\", \"respite\", \"retiree\", \"retiree\", \"retiree\", \"retiree\", \"retiree\", \"retirees\", \"retirees\", \"retirees\", \"retirees\", \"retirees\", \"retirees\", \"retirees\", \"retirees\", \"retirees\", \"retirees\", \"retirements\", \"retirements\", \"retirements\", \"retirements\", \"retirements\", \"retirements\", \"retirements\", \"retirements\", \"retirements\", \"retirements\", \"reuniting\", \"reuniting\", \"reuniting\", \"reuniting\", \"reuniting\", \"revisionists\", \"revisionists\", \"revisionists\", \"revisionists\", \"revisionists\", \"revisionists\", \"rfra\", \"rfra\", \"rfra\", \"rfra\", \"rfra\", \"rfra\", \"rfra\", \"rfra\", \"rfra\", \"rfra\", \"rican\", \"rican\", \"rican\", \"rican\", \"rican\", \"rican\", \"rican\", \"rican\", \"rican\", \"rican\", \"ricketts\", \"ricketts\", \"ricketts\", \"ricketts\", \"ricketts\", \"ricketts\", \"ricketts\", \"ricketts\", \"ricketts\", \"ricketts\", \"rico\", \"rico\", \"rico\", \"rico\", \"rico\", \"rico\", \"rico\", \"rico\", \"rico\", \"rico\", \"righteous\", \"righteous\", \"righteous\", \"righteous\", \"righteous\", \"righteous\", \"righteous\", \"righteous\", \"righteous\", \"righteous\", \"roadblock\", \"roadblock\", \"roadblock\", \"roadblock\", \"roadblock\", \"roadblock\", \"roadblock\", \"roadblock\", \"roadblock\", \"roadmap\", \"roadmap\", \"roadmap\", \"roadmap\", \"roadmap\", \"roadmap\", \"roadmap\", \"roadmap\", \"rodrigo\", \"rodrigo\", \"rodrigo\", \"rodrigo\", \"rodrigo\", \"rodrigo\", \"rodrigo\", \"rodrigo\", \"rodrigo\", \"rodrigo\", \"rome\", \"rome\", \"rome\", \"rome\", \"rome\", \"rome\", \"rome\", \"rome\", \"rome\", \"rome\", \"royce\", \"royce\", \"royce\", \"royce\", \"royce\", \"royce\", \"royce\", \"royce\", \"royce\", \"royce\", \"runway\", \"runway\", \"runway\", \"runway\", \"runway\", \"runway\", \"runway\", \"runway\", \"runway\", \"runway\", \"russophobia\", \"russophobia\", \"russophobia\", \"russophobia\", \"russophobia\", \"russophobia\", \"russophobia\", \"russophobia\", \"russophobia\", \"russophobia\", \"sacked\", \"sacked\", \"sacked\", \"sacked\", \"sacked\", \"sacked\", \"sacked\", \"sacked\", \"sacked\", \"sacked\", \"salazar\", \"salazar\", \"salazar\", \"salazar\", \"salazar\", \"salazar\", \"salazar\", \"salazar\", \"saleh\", \"saleh\", \"saleh\", \"saleh\", \"saleh\", \"saleh\", \"saleh\", \"saleh\", \"saleh\", \"saleh\", \"satisfactory\", \"satisfactory\", \"satisfactory\", \"satisfactory\", \"satisfactory\", \"satisfactory\", \"satisfactory\", \"sawyer\", \"sawyer\", \"sawyer\", \"sawyer\", \"sawyer\", \"sawyer\", \"sawyer\", \"sawyer\", \"sawyer\", \"sawyer\", \"scopes\", \"scopes\", \"scopes\", \"scopes\", \"scopes\", \"scopes\", \"scopes\", \"scopes\", \"scopes\", \"scopes\", \"scorched\", \"scorched\", \"scorched\", \"scorched\", \"scorched\", \"scorched\", \"scorched\", \"scorched\", \"scorched\", \"scorched\", \"screening\", \"screening\", \"screening\", \"screening\", \"screening\", \"screening\", \"screening\", \"screening\", \"screening\", \"screening\", \"sec\", \"sec\", \"sec\", \"sec\", \"sec\", \"sec\", \"sec\", \"sec\", \"sec\", \"sec\", \"secular\", \"secular\", \"secular\", \"secular\", \"secular\", \"secular\", \"secular\", \"secular\", \"secular\", \"secular\", \"sellout\", \"sellout\", \"sellout\", \"sellout\", \"sellout\", \"sellout\", \"sellout\", \"sellout\", \"sellout\", \"sellout\", \"semitic\", \"semitic\", \"semitic\", \"semitic\", \"semitic\", \"semitic\", \"semitic\", \"semitic\", \"semitic\", \"semitic\", \"sexism\", \"sexism\", \"sexism\", \"sexism\", \"sexism\", \"sexism\", \"sexism\", \"sexism\", \"sexism\", \"sexism\", \"shelf\", \"shelf\", \"shelf\", \"shelf\", \"shelf\", \"shelf\", \"shelf\", \"shelf\", \"shelf\", \"shelf\", \"shiite\", \"shiite\", \"shiite\", \"shiite\", \"shiite\", \"shiite\", \"shiite\", \"shiite\", \"shiite\", \"shiite\", \"shirt\", \"shirt\", \"shirt\", \"shirt\", \"shirt\", \"shirt\", \"shirt\", \"shirt\", \"shirt\", \"shirt\", \"silos\", \"silos\", \"silos\", \"silos\", \"silos\", \"silos\", \"silverman\", \"silverman\", \"silverman\", \"silverman\", \"silverman\", \"silverman\", \"silverman\", \"silverman\", \"silverman\", \"silverman\", \"sioux\", \"sioux\", \"sioux\", \"sioux\", \"sioux\", \"sioux\", \"sioux\", \"sioux\", \"sioux\", \"sioux\", \"skeet\", \"skeet\", \"skeet\", \"skeet\", \"skeet\", \"skeet\", \"skeet\", \"skeet\", \"skeet\", \"skeet\", \"slager\", \"slager\", \"slager\", \"slager\", \"slager\", \"slager\", \"slager\", \"slager\", \"slager\", \"slager\", \"sledgehammer\", \"sledgehammer\", \"sledgehammer\", \"sledgehammer\", \"sledgehammer\", \"sledgehammer\", \"sledgehammer\", \"sledgehammer\", \"sledgehammer\", \"sledgehammer\", \"slowdown\", \"slowdown\", \"slowdown\", \"slowdown\", \"slowdown\", \"slowdown\", \"slowdown\", \"slowdown\", \"slowdown\", \"slowdown\", \"smashed\", \"smashed\", \"smashed\", \"smashed\", \"smashed\", \"smashed\", \"smashed\", \"smashed\", \"smashed\", \"smashed\", \"smug\", \"smug\", \"smug\", \"smug\", \"smug\", \"smug\", \"smug\", \"smug\", \"smug\", \"smug\", \"snowden\", \"snowden\", \"snowden\", \"snowden\", \"snowden\", \"snowden\", \"snowden\", \"snowden\", \"snowden\", \"snowden\", \"soaring\", \"soaring\", \"soaring\", \"soaring\", \"soaring\", \"soaring\", \"soaring\", \"soaring\", \"soaring\", \"soaring\", \"socioeconomic\", \"socioeconomic\", \"socioeconomic\", \"socioeconomic\", \"socioeconomic\", \"socioeconomic\", \"socioeconomic\", \"socioeconomic\", \"socioeconomic\", \"socioeconomic\", \"soy\", \"soy\", \"soy\", \"soy\", \"soy\", \"soy\", \"soy\", \"soy\", \"soy\", \"soy\", \"spacecraft\", \"spacecraft\", \"spacecraft\", \"spacecraft\", \"spacecraft\", \"spacecraft\", \"spacecraft\", \"spacecraft\", \"spacecraft\", \"spacecraft\", \"spain\", \"spain\", \"spain\", \"spain\", \"spain\", \"spain\", \"spain\", \"spain\", \"spain\", \"spain\", \"spectacle\", \"spectacle\", \"spectacle\", \"spectacle\", \"spectacle\", \"spectacle\", \"spectacle\", \"spectacle\", \"spectacle\", \"spectacle\", \"spoil\", \"spoil\", \"spoil\", \"spoil\", \"spoil\", \"spoil\", \"spoil\", \"spoil\", \"spraying\", \"spraying\", \"spraying\", \"spraying\", \"spraying\", \"spraying\", \"spraying\", \"spraying\", \"spraying\", \"spraying\", \"sprott\", \"sprott\", \"sprott\", \"sprott\", \"sprott\", \"sprott\", \"sprott\", \"sprott\", \"sprott\", \"sprott\", \"spying\", \"spying\", \"spying\", \"spying\", \"spying\", \"spying\", \"spying\", \"spying\", \"spying\", \"spying\", \"squash\", \"squash\", \"squash\", \"squash\", \"squash\", \"squash\", \"squash\", \"squash\", \"squash\", \"squash\", \"stamps\", \"stamps\", \"stamps\", \"stamps\", \"stamps\", \"stamps\", \"stamps\", \"stamps\", \"stamps\", \"stamps\", \"standardized\", \"standardized\", \"standardized\", \"standardized\", \"standardized\", \"standardized\", \"standardized\", \"standardized\", \"standardized\", \"standardized\", \"steel\", \"steel\", \"steel\", \"steel\", \"steel\", \"steel\", \"steel\", \"steel\", \"steel\", \"steel\", \"steinmeier\", \"steinmeier\", \"steinmeier\", \"steinmeier\", \"steinmeier\", \"steinmeier\", \"steinmeier\", \"steinmeier\", \"steinmeier\", \"steinmeier\", \"stevens\", \"stevens\", \"stevens\", \"stevens\", \"stevens\", \"stevens\", \"stevens\", \"stevens\", \"stevens\", \"stevens\", \"stocks\", \"stocks\", \"stocks\", \"stocks\", \"stocks\", \"stocks\", \"stocks\", \"stocks\", \"stocks\", \"stocks\", \"supercharge\", \"supercharge\", \"supercharge\", \"supercharge\", \"supercharge\", \"supercharge\", \"supercharge\", \"supercharge\", \"supercharge\", \"supercharge\", \"supplemental\", \"supplemental\", \"supplemental\", \"supplemental\", \"supplemental\", \"supplemental\", \"supplemental\", \"supplemental\", \"supplemental\", \"supplemental\", \"surplus\", \"surplus\", \"surplus\", \"surplus\", \"surplus\", \"surplus\", \"surplus\", \"surplus\", \"surplus\", \"surplus\", \"susceptible\", \"susceptible\", \"susceptible\", \"susceptible\", \"susceptible\", \"susceptible\", \"susceptible\", \"susceptible\", \"susceptible\", \"susceptible\", \"swastika\", \"swastika\", \"swastika\", \"swastika\", \"swastika\", \"swastika\", \"swastika\", \"swastika\", \"swastika\", \"swastika\", \"szall\", \"szall\", \"szall\", \"szall\", \"szall\", \"szall\", \"szall\", \"szall\", \"szall\", \"szall\", \"tacit\", \"tacit\", \"tacit\", \"tacit\", \"tacit\", \"tacit\", \"tacit\", \"tacit\", \"tacit\", \"tacit\", \"tai\", \"tai\", \"tai\", \"tai\", \"tai\", \"tai\", \"tai\", \"tai\", \"tai\", \"tai\", \"taliban\", \"taliban\", \"taliban\", \"taliban\", \"taliban\", \"taliban\", \"taliban\", \"taliban\", \"taliban\", \"taliban\", \"tapper\", \"tapper\", \"tapper\", \"tapper\", \"tapper\", \"tapper\", \"tapper\", \"tapper\", \"tapper\", \"tapper\", \"taser\", \"taser\", \"taser\", \"taser\", \"taser\", \"taser\", \"taser\", \"taser\", \"taser\", \"taser\", \"tasered\", \"tasered\", \"tasered\", \"tasered\", \"tasered\", \"tasered\", \"tasered\", \"tasered\", \"tasered\", \"tasers\", \"tasers\", \"tasers\", \"tasers\", \"tasers\", \"tasers\", \"tasers\", \"tasers\", \"tasers\", \"tasers\", \"taxi\", \"taxi\", \"taxi\", \"taxi\", \"taxi\", \"taxi\", \"taxi\", \"taxi\", \"taxi\", \"taxi\", \"teneo\", \"teneo\", \"teneo\", \"teneo\", \"teneo\", \"teneo\", \"teneo\", \"teneo\", \"teneo\", \"teneo\", \"tesla\", \"tesla\", \"tesla\", \"tesla\", \"tesla\", \"tesla\", \"tesla\", \"tesla\", \"tesla\", \"tesla\", \"tibet\", \"tibet\", \"tibet\", \"tibet\", \"tibet\", \"tibet\", \"tibet\", \"tibet\", \"tibet\", \"tibet\", \"tn\", \"tn\", \"tn\", \"tn\", \"tn\", \"tn\", \"tn\", \"tn\", \"tn\", \"toilets\", \"toilets\", \"toilets\", \"toilets\", \"toilets\", \"toilets\", \"toilets\", \"toilets\", \"toilets\", \"toilets\", \"tonic\", \"tonic\", \"tonic\", \"tonic\", \"tonic\", \"tonic\", \"tonic\", \"tonic\", \"tonic\", \"tonic\", \"tpp\", \"tpp\", \"tpp\", \"tpp\", \"tpp\", \"tpp\", \"tpp\", \"tpp\", \"tpp\", \"tpp\", \"transgender\", \"transgender\", \"transgender\", \"transgender\", \"transgender\", \"transgender\", \"transgender\", \"transgender\", \"transgender\", \"transgender\", \"trophy\", \"trophy\", \"trophy\", \"trophy\", \"trophy\", \"trophy\", \"trophy\", \"trophy\", \"trophy\", \"trophy\", \"truck\", \"truck\", \"truck\", \"truck\", \"truck\", \"truck\", \"truck\", \"truck\", \"truck\", \"truck\", \"tsa\", \"tsa\", \"tsa\", \"tsa\", \"tsa\", \"tsa\", \"tsa\", \"tsa\", \"tsa\", \"tsa\", \"ttip\", \"ttip\", \"ttip\", \"ttip\", \"ttip\", \"ttip\", \"ttip\", \"ttip\", \"ttip\", \"ttip\", \"tzrwu\", \"tzrwu\", \"tzrwu\", \"tzrwu\", \"tzrwu\", \"tzrwu\", \"tzrwu\", \"tzrwu\", \"tzrwu\", \"tzrwu\", \"ufo\", \"ufo\", \"ufo\", \"ufo\", \"ufo\", \"ufo\", \"ufo\", \"ufo\", \"ufo\", \"ufo\", \"ufos\", \"ufos\", \"ufos\", \"ufos\", \"ufos\", \"ufos\", \"ufos\", \"ufos\", \"ufos\", \"ufos\", \"unannounced\", \"unannounced\", \"unannounced\", \"unannounced\", \"unannounced\", \"unannounced\", \"unannounced\", \"unannounced\", \"unannounced\", \"uniformly\", \"uniformly\", \"uniformly\", \"uniformly\", \"uniformly\", \"uniformly\", \"uniformly\", \"uniformly\", \"uniformly\", \"uniformly\", \"untouched\", \"untouched\", \"untouched\", \"untouched\", \"untouched\", \"untouched\", \"untouched\", \"untouched\", \"untouched\", \"untouched\", \"uranium\", \"uranium\", \"uranium\", \"uranium\", \"uranium\", \"uranium\", \"uranium\", \"uranium\", \"uranium\", \"uranium\", \"utm\", \"utm\", \"utm\", \"utm\", \"utm\", \"utm\", \"utm\", \"utm\", \"utm\", \"utm\", \"vacations\", \"vacations\", \"vacations\", \"vacations\", \"vacations\", \"vacations\", \"vacations\", \"vacations\", \"vacations\", \"vaccine\", \"vaccine\", \"vaccine\", \"vaccine\", \"vaccine\", \"vaccine\", \"vaccine\", \"vaccine\", \"vaccine\", \"vaccine\", \"variant\", \"variant\", \"variant\", \"variant\", \"variant\", \"variant\", \"variant\", \"variant\", \"variant\", \"variant\", \"vat\", \"vat\", \"vat\", \"vat\", \"vat\", \"vat\", \"vat\", \"vat\", \"vat\", \"vat\", \"venus\", \"venus\", \"venus\", \"venus\", \"venus\", \"venus\", \"venus\", \"venus\", \"venus\", \"venus\", \"vidal\", \"vidal\", \"vidal\", \"vidal\", \"vidal\", \"vidal\", \"vidal\", \"vidal\", \"vidal\", \"vidal\", \"villages\", \"villages\", \"villages\", \"villages\", \"villages\", \"villages\", \"villages\", \"villages\", \"villages\", \"villages\", \"violates\", \"violates\", \"violates\", \"violates\", \"violates\", \"violates\", \"violates\", \"violates\", \"violates\", \"violates\", \"virus\", \"virus\", \"virus\", \"virus\", \"virus\", \"virus\", \"virus\", \"virus\", \"virus\", \"virus\", \"visa\", \"visa\", \"visa\", \"visa\", \"visa\", \"visa\", \"visa\", \"visa\", \"visa\", \"visa\", \"visually\", \"visually\", \"visually\", \"visually\", \"visually\", \"visually\", \"visually\", \"visually\", \"vitamin\", \"vitamin\", \"vitamin\", \"vitamin\", \"vitamin\", \"vitamin\", \"vitamin\", \"vitamin\", \"vitamin\", \"vitamin\", \"void\", \"void\", \"void\", \"void\", \"void\", \"void\", \"void\", \"void\", \"void\", \"void\", \"volcanic\", \"volcanic\", \"volcanic\", \"volcanic\", \"volcanic\", \"volcanic\", \"volcanic\", \"volcanic\", \"volumes\", \"volumes\", \"volumes\", \"volumes\", \"volumes\", \"volumes\", \"volumes\", \"volumes\", \"volumes\", \"volumes\", \"vu\", \"vu\", \"vu\", \"vu\", \"vu\", \"vu\", \"vu\", \"vu\", \"wahoo\", \"wahoo\", \"wahoo\", \"wahoo\", \"wahoo\", \"wahoo\", \"wahoo\", \"wahoo\", \"wahoo\", \"wahoo\", \"wales\", \"wales\", \"wales\", \"wales\", \"wales\", \"wales\", \"wales\", \"wales\", \"wales\", \"wales\", \"walsh\", \"walsh\", \"walsh\", \"walsh\", \"walsh\", \"walsh\", \"walsh\", \"walsh\", \"walsh\", \"walsh\", \"wan\", \"wan\", \"wan\", \"wan\", \"wan\", \"wan\", \"wan\", \"wan\", \"wan\", \"wan\", \"wasserman\", \"wasserman\", \"wasserman\", \"wasserman\", \"wasserman\", \"wasserman\", \"wasserman\", \"wasserman\", \"wasserman\", \"wasserman\", \"watches\", \"watches\", \"watches\", \"watches\", \"watches\", \"watches\", \"watches\", \"watches\", \"watches\", \"watches\", \"weep\", \"weep\", \"weep\", \"weep\", \"weep\", \"weep\", \"weep\", \"weep\", \"weep\", \"weep\", \"welch\", \"welch\", \"welch\", \"welch\", \"welch\", \"welch\", \"welch\", \"welch\", \"welch\", \"welch\", \"weld\", \"weld\", \"weld\", \"weld\", \"weld\", \"weld\", \"weld\", \"weld\", \"weld\", \"weld\", \"wellness\", \"wellness\", \"wellness\", \"wellness\", \"wellness\", \"wellness\", \"wellness\", \"wellness\", \"wellness\", \"wellness\", \"whiteness\", \"whiteness\", \"whiteness\", \"whiteness\", \"whiteness\", \"whiteness\", \"whiteness\", \"whiteness\", \"whiteness\", \"whiteness\", \"whitewater\", \"whitewater\", \"whitewater\", \"whitewater\", \"whitewater\", \"whitewater\", \"whitewater\", \"whitewater\", \"whitewater\", \"whitewater\", \"widget\", \"widget\", \"widget\", \"widget\", \"widget\", \"widget\", \"widget\", \"widget\", \"widget\", \"widget\", \"wire\", \"wire\", \"wire\", \"wire\", \"wire\", \"wire\", \"wire\", \"wire\", \"wire\", \"wire\", \"yates\", \"yates\", \"yates\", \"yates\", \"yates\", \"yates\", \"yates\", \"yates\", \"yates\", \"yates\", \"zealous\", \"zealous\", \"zealous\", \"zealous\", \"zealous\", \"zealous\", \"zealous\", \"zealous\", \"zealous\", \"zealous\", \"zika\", \"zika\", \"zika\", \"zika\", \"zika\", \"zika\", \"zika\", \"zika\", \"zika\", \"zika\", \"zionist\", \"zionist\", \"zionist\", \"zionist\", \"zionist\", \"zionist\", \"zionist\", \"zionist\", \"zionist\", \"zionist\"]}, \"R\": 30, \"lambda.step\": 0.01, \"plot.opts\": {\"xlab\": \"PC1\", \"ylab\": \"PC2\"}, \"topic.order\": [10, 9, 5, 3, 4, 6, 7, 8, 1, 2]};\n",
       "\n",
       "function LDAvis_load_lib(url, callback){\n",
       "  var s = document.createElement('script');\n",
       "  s.src = url;\n",
       "  s.async = true;\n",
       "  s.onreadystatechange = s.onload = callback;\n",
       "  s.onerror = function(){console.warn(\"failed to load library \" + url);};\n",
       "  document.getElementsByTagName(\"head\")[0].appendChild(s);\n",
       "}\n",
       "\n",
       "if(typeof(LDAvis) !== \"undefined\"){\n",
       "   // already loaded: just create the visualization\n",
       "   !function(LDAvis){\n",
       "       new LDAvis(\"#\" + \"ldavis_el55961157846697288934967747\", ldavis_el55961157846697288934967747_data);\n",
       "   }(LDAvis);\n",
       "}else if(typeof define === \"function\" && define.amd){\n",
       "   // require.js is available: use it to load d3/LDAvis\n",
       "   require.config({paths: {d3: \"https://cdnjs.cloudflare.com/ajax/libs/d3/3.5.5/d3.min\"}});\n",
       "   require([\"d3\"], function(d3){\n",
       "      window.d3 = d3;\n",
       "      LDAvis_load_lib(\"https://cdn.rawgit.com/bmabey/pyLDAvis/files/ldavis.v1.0.0.js\", function(){\n",
       "        new LDAvis(\"#\" + \"ldavis_el55961157846697288934967747\", ldavis_el55961157846697288934967747_data);\n",
       "      });\n",
       "    });\n",
       "}else{\n",
       "    // require.js not available: dynamically load d3 & LDAvis\n",
       "    LDAvis_load_lib(\"https://cdnjs.cloudflare.com/ajax/libs/d3/3.5.5/d3.min.js\", function(){\n",
       "         LDAvis_load_lib(\"https://cdn.rawgit.com/bmabey/pyLDAvis/files/ldavis.v1.0.0.js\", function(){\n",
       "                 new LDAvis(\"#\" + \"ldavis_el55961157846697288934967747\", ldavis_el55961157846697288934967747_data);\n",
       "            })\n",
       "         });\n",
       "}\n",
       "</script>"
      ],
      "text/plain": [
       "<IPython.core.display.HTML object>"
      ]
     },
     "execution_count": 42,
     "metadata": {},
     "output_type": "execute_result"
    }
   ],
   "source": [
    "# Visualization for general corpus\n",
    "pyLDAvis.display(LDAvis_prepared)"
   ]
  },
  {
   "cell_type": "code",
   "execution_count": null,
   "metadata": {
    "collapsed": true
   },
   "outputs": [],
   "source": []
  },
  {
   "cell_type": "code",
   "execution_count": null,
   "metadata": {
    "collapsed": true
   },
   "outputs": [],
   "source": [
    "fake_dataset = pd.read_csv('fake.csv')"
   ]
  },
  {
   "cell_type": "code",
   "execution_count": null,
   "metadata": {},
   "outputs": [],
   "source": [
    "fake_dataset.head(5)"
   ]
  },
  {
   "cell_type": "code",
   "execution_count": null,
   "metadata": {},
   "outputs": [],
   "source": [
    "fake_dataset.shape"
   ]
  },
  {
   "cell_type": "code",
   "execution_count": null,
   "metadata": {},
   "outputs": [],
   "source": [
    "fake_dataset.type.unique()"
   ]
  },
  {
   "cell_type": "code",
   "execution_count": null,
   "metadata": {},
   "outputs": [],
   "source": [
    "fake_dataset.groupby(['type']).size().plot(kind='barh')\n",
    "plt.show()"
   ]
  },
  {
   "cell_type": "code",
   "execution_count": null,
   "metadata": {},
   "outputs": [],
   "source": []
  },
  {
   "cell_type": "code",
   "execution_count": null,
   "metadata": {
    "collapsed": true
   },
   "outputs": [],
   "source": []
  },
  {
   "cell_type": "code",
   "execution_count": null,
   "metadata": {
    "collapsed": true
   },
   "outputs": [],
   "source": []
  },
  {
   "cell_type": "code",
   "execution_count": null,
   "metadata": {
    "collapsed": true
   },
   "outputs": [],
   "source": [
    "# Remove all stop words from larger corpora\n",
    "# This will take a lot of time because there's a lot of data\n",
    "\n",
    "for token in headline_text:\n",
    "    if token in stop_array:\n",
    "        headline_text.remove(token)\n",
    "        \n",
    "for token in article_text:\n",
    "    if token in stop_array:\n",
    "        article_text.remove(token)"
   ]
  },
  {
   "cell_type": "code",
   "execution_count": null,
   "metadata": {
    "collapsed": true
   },
   "outputs": [],
   "source": [
    "# POS tag and then stem\n"
   ]
  },
  {
   "cell_type": "code",
   "execution_count": null,
   "metadata": {
    "collapsed": true
   },
   "outputs": [],
   "source": [
    "# Lemmatize the words\n",
    "# Might need to tag parts of speech first and lemmatize based on that\n",
    "from nltk.stem import WordNetLemmatizer\n",
    "lemmatizer = WordNetLemmatizer()\n",
    "\n",
    "headline_lemma = []\n",
    "article_lemma = []\n",
    "\n",
    "for token in headline_text:\n",
    "    headline_lemma.append(lemmatizer.lemmatize(token))\n",
    "\n",
    "for token in article_text:\n",
    "    article_lemma.append(lemmatizer.lemmatize(token))"
   ]
  },
  {
   "cell_type": "code",
   "execution_count": null,
   "metadata": {
    "collapsed": true
   },
   "outputs": [],
   "source": [
    "from nltk.probability import FreqDist\n",
    "# Parse out words that appear too often\n",
    "\n",
    "fdist1 = FreqDist(headline_text)\n",
    "fdist1"
   ]
  },
  {
   "cell_type": "code",
   "execution_count": null,
   "metadata": {
    "collapsed": true
   },
   "outputs": [],
   "source": [
    "# Save separate file with bigrams and see if they enhance text classification"
   ]
  },
  {
   "cell_type": "code",
   "execution_count": null,
   "metadata": {
    "collapsed": true
   },
   "outputs": [],
   "source": []
  },
  {
   "cell_type": "code",
   "execution_count": null,
   "metadata": {
    "collapsed": true
   },
   "outputs": [],
   "source": []
  },
  {
   "cell_type": "code",
   "execution_count": null,
   "metadata": {},
   "outputs": [],
   "source": [
    "# Tokenize within the dataframe\n",
    "# Maybe put them in a dictionary instead? It takes a while to keep them in a dataframe\n",
    "# d = data2.to_dict()\n",
    "# d = data.to_dict() # {{id: title}, {id: text}, {id: class}}, could possibly use to make things faster\n",
    "data2['text'] = data2.apply(lambda row: word_tokenize(row['text']),axis=1)\n",
    "data2['title'] = data2.apply(lambda row: word_tokenize(row['title']),axis=1)\n",
    "data2.head"
   ]
  },
  {
   "cell_type": "code",
   "execution_count": null,
   "metadata": {
    "collapsed": true
   },
   "outputs": [],
   "source": []
  },
  {
   "cell_type": "code",
   "execution_count": null,
   "metadata": {},
   "outputs": [],
   "source": []
  },
  {
   "cell_type": "code",
   "execution_count": null,
   "metadata": {
    "collapsed": true
   },
   "outputs": [],
   "source": [
    "# Convert into dummy variables\n",
    "copy = tfidf_df.copy()\n",
    "#copy['label'] = copy['label'].apply(lambda x: 1 if x == 'FAKE' else 0)\n",
    "\n",
    "# Import into a pickle model\n",
    "from sklearn.externals import joblib\n",
    "joblib.dump(multi_nb, 'model.pkl')\n",
    "model_columns = list(copy.columns)\n",
    "joblib.dump(model_columns, 'model_columns.pkl')"
   ]
  },
  {
   "cell_type": "code",
   "execution_count": null,
   "metadata": {
    "collapsed": true
   },
   "outputs": [],
   "source": []
  },
  {
   "cell_type": "code",
   "execution_count": null,
   "metadata": {
    "collapsed": true
   },
   "outputs": [],
   "source": []
  },
  {
   "cell_type": "code",
   "execution_count": null,
   "metadata": {
    "collapsed": true
   },
   "outputs": [],
   "source": []
  },
  {
   "cell_type": "code",
   "execution_count": null,
   "metadata": {
    "collapsed": true
   },
   "outputs": [],
   "source": []
  },
  {
   "cell_type": "code",
   "execution_count": null,
   "metadata": {
    "collapsed": true
   },
   "outputs": [],
   "source": []
  },
  {
   "cell_type": "code",
   "execution_count": null,
   "metadata": {
    "collapsed": true
   },
   "outputs": [],
   "source": []
  }
 ],
 "metadata": {
  "kernelspec": {
   "display_name": "Python 3",
   "language": "python",
   "name": "python3"
  },
  "language_info": {
   "codemirror_mode": {
    "name": "ipython",
    "version": 3
   },
   "file_extension": ".py",
   "mimetype": "text/x-python",
   "name": "python",
   "nbconvert_exporter": "python",
   "pygments_lexer": "ipython3",
   "version": "3.6.3"
  }
 },
 "nbformat": 4,
 "nbformat_minor": 2
}
